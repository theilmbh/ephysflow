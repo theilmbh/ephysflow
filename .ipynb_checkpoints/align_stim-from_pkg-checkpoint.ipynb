{
 "cells": [
  {
   "cell_type": "code",
   "execution_count": 1,
   "metadata": {
    "collapsed": false
   },
   "outputs": [
    {
     "name": "stdout",
     "output_type": "stream",
     "text": [
      "Computer: passaro\n"
     ]
    }
   ],
   "source": [
    "# Definitions and functions\n",
    "import sys\n",
    "import pandas as pd\n",
    "import socket\n",
    "import os\n",
    "import logging\n",
    "from IPython.display import display\n",
    "\n",
    "\n",
    "logger = logging.getLogger()\n",
    "handler = logging.StreamHandler()\n",
    "formatter = logging.Formatter(\n",
    "        '%(asctime)s %(name)-12s %(levelname)-8s %(message)s')\n",
    "handler.setFormatter(formatter)\n",
    "logger.addHandler(handler)\n",
    "logger.setLevel(logging.DEBUG)\n",
    "\n",
    "# Check wich computer to decide where the things are mounted\n",
    "comp_name=socket.gethostname()\n",
    "print 'Computer: ' + comp_name\n",
    "\n",
    "if 'txori' in comp_name or 'passaro' in comp_name or 'lintu' in comp_name:\n",
    "    repos_folder = os.path.abspath('/mnt/cube/earneodo/repos')\n",
    "    experiment_folder = os.path.join('/mnt/cube/earneodo/bci_zf/')\n",
    "\n",
    "sys.path.append(os.path.join(repos_folder, 'soundflow', 'sound_tools'))\n",
    "sys.path.append(os.path.join(repos_folder, 'ephysflow'))\n",
    "sys.path.append(os.path.join(repos_folder, 'analysis-tools'))\n",
    "sys.path.append(os.path.join(repos_folder, 'swissknife'))\n",
    "\n",
    "from bci import stimalign"
   ]
  },
  {
   "cell_type": "code",
   "execution_count": null,
   "metadata": {
    "collapsed": false
   },
   "outputs": [
    {
     "name": "stderr",
     "output_type": "stream",
     "text": [
      "2016-11-16 19:08:58,896 root         DEBUG    H5 file: <HDF5 file \"experiment.raw.kwd\" (mode r)>\n",
      "2016-11-16 19:08:58,898 root         DEBUG    H5 file: <HDF5 file \"experiment.raw.kwd\" (mode r)>\n",
      "2016-11-16 19:08:58,899 root         DEBUG    Getting group of rec 0\n",
      "2016-11-16 19:08:58,919 stimalign    DEBUG    Rec origin: {'rec': 0, 'sess': 'anesth_microwire_2016-11-14_14-19-53_100', 'base': 'experiment1_100', 'bird': 'z023'}\n",
      "2016-11-16 19:08:58,988 stimalign    INFO     Getting starts of stim bos_rev_tag\n",
      "2016-11-16 19:08:59,011 root         DEBUG    H5 file: <HDF5 file \"experiment1_100.raw.kwd\" (mode r)>\n",
      "2016-11-16 19:08:59,012 root         DEBUG    Getting dataset from rec 0\n",
      "2016-11-16 19:09:22,149 stimalign    INFO     Found 75 starts\n",
      "2016-11-16 19:09:22,177 stimalign    INFO     Stored in /mnt/cube/earneodo/bci_zf/ss_data/z023/day-anesth_microwire_2016-11-14_100/experiment.sng.kwe\n",
      "2016-11-16 19:09:22,187 stimalign    INFO     Getting starts of stim bos_tag\n",
      "2016-11-16 19:09:22,191 root         DEBUG    H5 file: <HDF5 file \"experiment1_100.raw.kwd\" (mode r)>\n",
      "2016-11-16 19:09:22,192 root         DEBUG    Getting dataset from rec 0\n"
     ]
    }
   ],
   "source": [
    "# get all the song presentation events for a supersession\n",
    "bird_id = 'z023'\n",
    "super_sess_id = 'day-anesth_microwire_2016-11-14_100'\n",
    "\n",
    "stimalign.align_stim(bird_id, super_sess_id)"
   ]
  },
  {
   "cell_type": "code",
   "execution_count": 8,
   "metadata": {
    "collapsed": true
   },
   "outputs": [],
   "source": [
    "par_file_path = et.file_path(et.file_names(bird_id, rec_origin['sess']), 'rw', 'par')"
   ]
  },
  {
   "cell_type": "code",
   "execution_count": 10,
   "metadata": {
    "collapsed": false
   },
   "outputs": [
    {
     "data": {
      "text/plain": [
       "'anesth_surface_2016-11-04_16-19-47_5'"
      ]
     },
     "execution_count": 10,
     "metadata": {},
     "output_type": "execute_result"
    }
   ],
   "source": [
    "rec_origin['sess']"
   ]
  },
  {
   "cell_type": "code",
   "execution_count": 12,
   "metadata": {
    "collapsed": false
   },
   "outputs": [],
   "source": [
    "pars = et.get_parameters(bird_id, rec_origin['sess'], location='rw')"
   ]
  },
  {
   "cell_type": "code",
   "execution_count": 3,
   "metadata": {
    "collapsed": false
   },
   "outputs": [
    {
     "data": {
      "text/plain": [
       "<module 'bci.stimalign' from '/mnt/cube/earneodo/repos/swissknife/bci/stimalign.py'>"
      ]
     },
     "execution_count": 3,
     "metadata": {},
     "output_type": "execute_result"
    }
   ],
   "source": [
    "reload(stimalign)"
   ]
  },
  {
   "cell_type": "code",
   "execution_count": 7,
   "metadata": {
    "collapsed": false
   },
   "outputs": [
    {
     "data": {
      "text/plain": [
       "'/mnt/cube/earneodo/bci_zf/raw_data/z009/anesth_surface_2016-11-04_16-19-47_5/experiment.par.yml'"
      ]
     },
     "execution_count": 7,
     "metadata": {},
     "output_type": "execute_result"
    }
   ],
   "source": [
    "os.path.join(fn['folders']['rw'], fn['files']['par'])"
   ]
  },
  {
   "cell_type": "code",
   "execution_count": 6,
   "metadata": {
    "collapsed": false
   },
   "outputs": [
    {
     "data": {
      "text/plain": [
       "{'files': {'base': 'experiment',\n",
       "  'cand': 'experiment.mot.h5',\n",
       "  'evt': 'experiment.kwe',\n",
       "  'kk_par': 'params.prm',\n",
       "  'kk_prb': '*.prb',\n",
       "  'ks_cfg': 'config.m',\n",
       "  'ks_map': 'chanMap.mat',\n",
       "  'ks_mas': 'master.m',\n",
       "  'ks_par': 'params.py',\n",
       "  'mic': 'experiment-rec_000.mic.wav',\n",
       "  'par': 'experiment.par.yml',\n",
       "  'sng': 'experiment.sng.kwe',\n",
       "  'ss_bin': 'experiment.dat',\n",
       "  'ss_par': 'experiment.par.yml',\n",
       "  'ss_raw': 'experiment.raw.kwd',\n",
       "  'stm': 'experiment.stm.kwe',\n",
       "  'sts': 'experiment-rec_000.sts.wav'},\n",
       " 'folders': {'kai': '/mnt/cube/kai/results/z009/anesth_surface_2016-11-04_16-19-47_5',\n",
       "  'prb': '/mnt/cube/earneodo/bci_zf/probes',\n",
       "  'raw': '/usr/local/experiment/raw_data/z009/anesth_surface_2016-11-04_16-19-47_5',\n",
       "  'rw': '/mnt/cube/earneodo/bci_zf/raw_data/z009/anesth_surface_2016-11-04_16-19-47_5',\n",
       "  'ss': '/mnt/cube/earneodo/bci_zf/ss_data/z009/anesth_surface_2016-11-04_16-19-47_5',\n",
       "  'stim': '/mnt/cube/earneodo/bci_zf/stim_data/z009/anesth_surface_2016-11-04_16-19-47_5',\n",
       "  'templ': '/mnt/cube/earneodo/bci_zf/templates',\n",
       "  'tmp': '/usr/local/experiment/tmp_data/z009/anesth_surface_2016-11-04_16-19-47_5'}}"
      ]
     },
     "execution_count": 6,
     "metadata": {},
     "output_type": "execute_result"
    }
   ],
   "source": [
    "fn"
   ]
  },
  {
   "cell_type": "code",
   "execution_count": 47,
   "metadata": {
    "collapsed": false
   },
   "outputs": [
    {
     "data": {
      "text/plain": [
       "<module 'file_tools.experiment' from 'file_tools/experiment.py'>"
      ]
     },
     "execution_count": 47,
     "metadata": {},
     "output_type": "execute_result"
    }
   ],
   "source": [
    "reload(h5)\n",
    "reload(et)"
   ]
  }
 ],
 "metadata": {
  "kernelspec": {
   "display_name": "Python 2",
   "language": "python",
   "name": "python2"
  },
  "language_info": {
   "codemirror_mode": {
    "name": "ipython",
    "version": 2
   },
   "file_extension": ".py",
   "mimetype": "text/x-python",
   "name": "python",
   "nbconvert_exporter": "python",
   "pygments_lexer": "ipython2",
   "version": "2.7.12"
  }
 },
 "nbformat": 4,
 "nbformat_minor": 0
}
