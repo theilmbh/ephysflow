{
 "cells": [
  {
   "cell_type": "code",
   "execution_count": 1,
   "metadata": {
    "collapsed": false
   },
   "outputs": [
    {
     "name": "stdout",
     "output_type": "stream",
     "text": [
      "Computer: passaro\n"
     ]
    }
   ],
   "source": [
    "# Newer attempt to make it quicker\n",
    "# Get the envelope only on the segments where rms is significant.\n",
    "\n",
    "# viewing neural data\n",
    "%matplotlib inline\n",
    "import pdb\n",
    "import sys\n",
    "import pandas as pd\n",
    "import numpy as np\n",
    "import scipy.io as sio\n",
    "import matplotlib.pyplot as plt\n",
    "import matplotlib\n",
    "import scipy.signal as sg\n",
    "import math\n",
    "import scipy as sp\n",
    "import socket\n",
    "import os\n",
    "import wave\n",
    "import struct\n",
    "import h5py\n",
    "from scipy.signal import hilbert\n",
    "from scipy.stats import pearsonr\n",
    "from scipy.io import wavfile\n",
    "from scipy.signal import spectrogram\n",
    "from basic_viewing import h5_functions as h5\n",
    "import logging\n",
    "\n",
    "matplotlib.style.use('ggplot')\n",
    "\n",
    "\n",
    "# Check wihic computer to decide where the things are mounted\n",
    "comp_name=socket.gethostname()\n",
    "print 'Computer: ' + comp_name\n",
    "if  comp_name == 'chim':\n",
    "    #sys.path.append('/Users/zeke/experiment/ephysDataManagement/ephysScripts')\n",
    "    experiment_folder = os.path.join(os.path.abspath('W:') , \"earneodo\", \"bci_zf\")\n",
    "elif  'lookfar' in comp_name:\n",
    "    repos_folder = os.path.abspath('/Users/zeke/reposs')\n",
    "    experiment_folder = os.path.join(os.path.abspath('/Volumes') , 'gentner', 'earneodo', 'bci_zf')\n",
    "\n",
    "elif 'lintu' in comp_name:\n",
    "    repos_folder = os.path.abspath('/mnt/cube/earneodo/repos')\n",
    "    experiment_folder = os.path.join('/mnt/cube/earneodo/bci_zf/')\n",
    "\n",
    "elif 'passaro' in comp_name:\n",
    "    repos_folder = os.path.abspath('/mnt/cube/earneodo/repos')\n",
    "    experiment_folder = os.path.join('/mnt/cube/earneodo/bci_zf/')\n",
    "\n",
    "sys.path.append(os.path.join(repos_folder, 'soundflow', 'sound_tools'))\n",
    "sys.path.append(os.path.join(repos_folder, 'ephysflow'))\n",
    "sys.path.append(os.path.join(repos_folder, 'analysis-tools'))\n",
    "\n",
    "import soundtools as st\n",
    "import Kwik as oe\n",
    "\n",
    "\n",
    "raw_data_folder = os.path.join(experiment_folder, 'raw_data')\n",
    "ss_data_folder = os.path.join(experiment_folder, 'ss_data')\n",
    "\n",
    "\n",
    "#given a chunk that contains a sine wave, find its onset\n",
    "def peaks(signal, min_height=0):\n",
    "    np.where(signal[1:-1]>min_height)\n",
    "    peak_ind = [i for i in np.where(signal[1:-1]>min_height)[0] if signal[i]>signal[i-1] & signal[i]>signal[i+1]]\n",
    "    return peak_ind\n",
    "\n",
    "def find_onset_sine(chunk, freq=1000, f_s=30000):\n",
    "    roof = int(max(chunk)*0.25)\n",
    "    first_peak = peaks(chunk, min_height=roof)[0]\n",
    "    \n",
    "    onset = first_peak - int(f_s/(4.*freq))\n",
    "    return onset\n",
    "\n",
    "def envelope(x, window=200):\n",
    "    analytic_signal = hilbert(x)\n",
    "    amplitude_envelope = np.abs(analytic_signal)\n",
    "    w=np.ones(window, 'd')\n",
    "    return np.convolve(w/w.sum(),amplitude_envelope,mode='valid')\n",
    "\n",
    "def correlation_with_pattern(data, pattern, window, filter_func, *args, **kwargs):\n",
    "    segment = envelope(filter_func(data, *args, **kwargs), window=window)\n",
    "    return pearsonr(segment, pattern)[0]\n",
    "\n",
    "def apply_repeated(s, starts, window, scalar_func, *args, **kwargs):\n",
    "    # starts, window in sample units\n",
    "    y = np.empty_like(starts)\n",
    "    for i_s, start in enumerate(starts):\n",
    "        a_chunk = st.Chunk(s, segment=[start, start + window])\n",
    "        y[i_s] = scalar_func(a_chunk.data, *args, **kwargs)\n",
    "\n",
    "    return y\n",
    "\n",
    "def band_pass_filter(x, hp_b, hp_a, lp_b, lp_a):    \n",
    "    x_hi = sg.filtfilt(hp_b, hp_a, x, axis=0)\n",
    "    x_filt = sg.filtfilt(lp_b, lp_a, x_hi, axis=0)\n",
    "    return x_filt\n",
    "\n",
    "def compare_spectrogram(sxx, pattern_sxx):\n",
    "    return np.sum(np.abs(pattern_sxx-sxx)/np.sum(np.abs(sxx)))\n",
    "\n",
    "def spectral_score(chunk, pattern_sxx):\n",
    "    f, t, Sxx = spectrogram(chunk.data, chunk.sound.s_f, nperseg = n_window, noverlap=n_overlap, \n",
    "                        window = sg.gaussian(n_window, sigma), scaling='spectrum')\n",
    "    assert(Sxx.shape == pattern_sxx.shape)\n",
    "    return compare_spectrogram(Sxx, pattern_sxx)\n",
    "\n"
   ]
  },
  {
   "cell_type": "code",
   "execution_count": 2,
   "metadata": {
    "collapsed": false
   },
   "outputs": [],
   "source": [
    "#file structure\n",
    "bird_id = 'z020'\n",
    "sess = 'day-2016-06-02'\n",
    "rec = 0\n",
    "run = 1\n",
    "processor = ''\n",
    "\n",
    "raw_file_folder = os.path.join(ss_data_folder, bird_id, sess)\n",
    "raw_file_base_name = 'experiment'\n",
    "\n",
    "raw_file_name = raw_file_base_name + processor + '.raw.kwd'\n",
    "evt_file_name = raw_file_base_name + '.kwe'\n",
    "\n",
    "raw_file_path = os.path.join(raw_file_folder, raw_file_name)\n",
    "#evt_file_path = os.path.join(raw_file_folder, evt_file_name)\n",
    "\n",
    "# open the file in read mode\n",
    "raw_file = h5py.File(raw_file_path, 'r')\n",
    "#evt_file = h5py.File(evt_file_path, 'r')\n",
    "\n",
    "# load it with the open-ephys api for version 2 of kiwk format\n",
    "\n",
    "oe_file = oe.load(raw_file_path)\n"
   ]
  },
  {
   "cell_type": "code",
   "execution_count": 3,
   "metadata": {
    "collapsed": false
   },
   "outputs": [
    {
     "data": {
      "text/plain": [
       "[u'0', u'1', u'2', u'3', u'4', u'5']"
      ]
     },
     "execution_count": 3,
     "metadata": {},
     "output_type": "execute_result"
    }
   ],
   "source": [
    "# list records\n",
    "raw_file['recordings'].keys()"
   ]
  },
  {
   "cell_type": "code",
   "execution_count": 4,
   "metadata": {
    "collapsed": false
   },
   "outputs": [
    {
     "data": {
      "text/plain": [
       "<matplotlib.figure.Figure at 0x7fbbf00abb50>"
      ]
     },
     "execution_count": 4,
     "metadata": {},
     "output_type": "execute_result"
    },
    {
     "data": {
      "image/png": "[encoded data removed]",
      "text/plain": [
       "<matplotlib.figure.Figure at 0x7fbc2e4beb50>"
      ]
     },
     "metadata": {},
     "output_type": "display_data"
    },
    {
     "data": {
      "image/png": "[encoded data removed]",
      "text/plain": [
       "<matplotlib.figure.Figure at 0x7fbc4c434110>"
      ]
     },
     "metadata": {},
     "output_type": "display_data"
    },
    {
     "data": {
      "text/plain": [
       "<matplotlib.figure.Figure at 0x7fbbf00abb50>"
      ]
     },
     "metadata": {},
     "output_type": "display_data"
    }
   ],
   "source": [
    "# get the sound and the pattern\n",
    "chan_name = \"CH17\"\n",
    "chan_number = 16\n",
    "data_table = raw_file['/recordings'][str(rec)]['data']\n",
    "chan_sf = oe.get_sample_rate(raw_file)\n",
    "pattern = 1\n",
    "#filter parameters\n",
    "filt_lo = 7000 #Hz\n",
    "filt_hi = 500 #Hz\n",
    "\n",
    "# sonogram parameters\n",
    "n_window = 256;\n",
    "n_overlap = 192;\n",
    "f_cut = 10000;\n",
    "sigma = 1./1000.*chan_sf\n",
    "\n",
    "#template match parameters\n",
    "window_env = 1000\n",
    "\n",
    "audio_slice = h5.load_table_slice(data_table, np.arange(0, data_table.shape[0]), [chan_number])\n",
    "chan_sound = st.DatSoundCompat(st.bandpass_filter(audio_slice[int(3674.214226*30000.) - 16000:int(3674.214226*30000.)+16000,0], chan_sf, filt_hi, filt_lo), \n",
    "                                                  chan_sf, data_type=np.float)\n",
    "chan_whole_sound = st.DatSoundCompat(st.bandpass_filter(audio_slice[:,0], chan_sf, filt_hi, filt_lo),\n",
    "                                     chan_sf, data_type=np.float)\n",
    "                               \n",
    "# # Now try to save a channel as a wav file\n",
    "# from scipy.io import wavfile\n",
    "out_file_name = raw_file_base_name +  '_' + chan_name + 'song.wav'\n",
    "# wavfile.write(os.path.join(raw_file_folder, out_file_name),chan_sf, np.array(chan_sound.stream, dtype='int16'))\n",
    "\n",
    "#make the filter for the data file\n",
    "s_f = chan_sf\n",
    "#The band where we expect most of the energy of zf song to be in\n",
    "hp_b, hp_a = sg.butter(4, filt_hi/(s_f/2.), btype='high')\n",
    "lp_b, lp_a = sg.butter(4, filt_lo/(s_f/2.), btype='low')\n",
    "\n",
    "# read a bout from a wave file and prepare the templates \n",
    "pattern_name = 'motiff_' + str(pattern) + '.wav'\n",
    "pattern_path = os.path.join(raw_file_folder, pattern_name)\n",
    "\n",
    "pattern_sound = st.WavData2(pattern_path)\n",
    "pattern_chunk = st.Chunk(pattern_sound)\n",
    "pattern_chunk.apply_filter(st.bandpass_filter, s_f)\n",
    "plt.plot((pattern_chunk.data))\n",
    "pattern_envelope = st.envelope(pattern_chunk.data[:,0], window=window_env)\n",
    "plt.figure()\n",
    "plt.plot(pattern_envelope)\n",
    "pattern_spectrogram = spectrogram(pattern_chunk.data[:,0], s_f, nperseg = n_window, noverlap=n_overlap, \n",
    "                        window = sg.gaussian(n_window, sigma), scaling='spectrum')\n",
    "plt.figure()\n"
   ]
  },
  {
   "cell_type": "code",
   "execution_count": 5,
   "metadata": {
    "collapsed": false
   },
   "outputs": [],
   "source": [
    "# try to get the template matches from soundtools functions\n",
    "import threading\n",
    "from IPython.display import display\n",
    "\n",
    "class chunkFunction():\n",
    "    def __init__(self, chunk, function, *args, **kwargs):\n",
    "        print args\n",
    "        self.chunk = chunk\n",
    "        self.func = function\n",
    "        self.args = args\n",
    "        self.kwargs = kwargs\n",
    "\n",
    "    def start(self):\n",
    "        display('Starting function {0}'.format(self.func.func_name))\n",
    "        for arg in self.args:\n",
    "            print arg\n",
    "        for key, arg in self.kwargs.iteritems():\n",
    "            print key\n",
    "            print arg\n",
    "        self.chunk.apply_filter(self.func, *self.args, **self.kwargs)\n",
    "        print \"done\"\n",
    "\n",
    "class threadFunction():\n",
    "    def __init__(self, function, *args, **kwargs):\n",
    "        self.func = function\n",
    "        self.args = args\n",
    "        self.kwargs = kwargs\n",
    "        self.out = None\n",
    "\n",
    "    def run(self):\n",
    "        display('Starting function {0}'.format(self.func.func_name))\n",
    "        for arg in self.args:\n",
    "            print arg\n",
    "        for key, arg in self.kwargs.iteritems():\n",
    "            print key\n",
    "            print arg\n",
    "        self.out = self.func(*self.args, **self.kwargs)\n",
    "        print \"done\""
   ]
  },
  {
   "cell_type": "code",
   "execution_count": 6,
   "metadata": {
    "collapsed": false
   },
   "outputs": [],
   "source": [
    "# create logger with 'spam_application'\n",
    "logger = logging.getLogger('searching_motiff')\n",
    "logger.setLevel(logging.DEBUG)\n",
    "# create file handler which logs even debug messages\n",
    "fh = logging.FileHandler('search_motiff-v2.log')\n",
    "fh.setLevel(logging.DEBUG)\n",
    "# create console handler with a higher log level\n",
    "ch = logging.StreamHandler()\n",
    "ch.setLevel(logging.INFO)\n",
    "# create formatter and add it to the handlers\n",
    "formatter = logging.Formatter('%(asctime)s - %(name)s - %(levelname)s - %(message)s')\n",
    "fh.setFormatter(formatter)\n",
    "ch.setFormatter(formatter)\n",
    "# add the handlers to the logger\n",
    "logger.addHandler(fh)\n",
    "logger.addHandler(ch)\n",
    "import scipy.stats as ss\n",
    "envelope = st.envelope\n",
    "find_peaks = st.find_peaks\n",
    "Chunk = st.Chunk\n",
    "\n",
    "def rms(x):\n",
    "    return np.linalg.norm(x)\n",
    "\n",
    "def get_rms_threshold(full_sound, window_size_samples, rms_threshold_factor):\n",
    "    all_starts = np.arange(0, full_sound.n_samples - window_size_samples, window_size_samples)\n",
    "    all_rms = full_sound.apply_repeated(all_starts, window_size_samples, rms)\n",
    "    thresh_rms = np.mean(all_rms) + rms_threshold_factor * np.std(all_rms)\n",
    "    return thresh_rms\n",
    "    \n",
    "def envelope_correlation(x, template_env, window=200, rms_thresh=None):\n",
    "    if (rms_thresh is not None) and rms(x) < rms_thresh:\n",
    "        scalar_corr = 0\n",
    "    else:\n",
    "        scalar_corr = ss.pearsonr(envelope(x, window=window), template_env)[0]\n",
    "    return scalar_corr\n",
    "\n",
    "def match_by_envelope(full_sound, pattern, window_size=500, corr_thresh=0.85, rms_threshold=None):\n",
    "    \"\"\"\n",
    "    :param full_sound: Sound with the full sound\n",
    "    :param pattern: Chunk with the pattern to find\n",
    "    :param window_size: size of window for the envelope\n",
    "    :param corr_thresh: threshold for peaks of correlation\n",
    "    :param rms_threshold: threshold for rms (in standard deviations)\n",
    "    :return:\n",
    "    \"\"\"\n",
    "    logger.info('Matching envelope across sound with {0} samples'.format(full_sound.n_samples))\n",
    "    s_f = full_sound.s_f\n",
    "    full_chunk = Chunk(full_sound)\n",
    "    \n",
    "    if rms_threshold is not None:\n",
    "        logger.info('Getting rms threshold with {} std'.format(rms_threshold))\n",
    "        min_rms = get_rms_threshold(full_sound, pattern.samples, rms_threshold)\n",
    "        logger.info('Correlation threshold set to {}'.format(min_rms))\n",
    "    else:\n",
    "        min_rms = None\n",
    "        \n",
    "    match_points = find_envelope(full_chunk.data[0,:], (pattern.data[:,0]),\n",
    "                                 corr_thresh=corr_thresh, window_size=window_size, min_rms=min_rms)\n",
    "    \n",
    "    logger.debug('Returning match_points')\n",
    "    return match_points\n",
    "\n",
    "def find_envelope(stream, pattern, corr_thresh=0., window_size=200, min_rms=0):\n",
    "    \"\"\"\n",
    "    :param stream: 0xN array\n",
    "    :param pattern: 0xN array\n",
    "    :param corr_thresh:\n",
    "    :param window_size:\n",
    "    :param min_rms: minimum value of rms for the window to compute envelope\n",
    "    :return:\n",
    "    \"\"\"\n",
    "    logger.info('Env has {} samples'.format(pattern.size))\n",
    "    logger.info('Rolling correlation with envelope...')\n",
    "    stream_df = pd.DataFrame(stream)\n",
    "    pattern_env = envelope(pattern, window=window_size)\n",
    "    logger.info(pattern_env.shape)\n",
    "    rc = stream_df.rolling(pattern.size).apply(envelope_correlation, args=(pattern_env, ),\n",
    "                                               kwargs={'window': window_size,\n",
    "                                                      'rms_thresh': min_rms})\n",
    "    logger.info('Found {} segments above correlation threshold'.format(len(rc.index)))\n",
    "    # find the peaks semi-naively\n",
    "    max_pos = find_peaks(rc.values[:,0],\n",
    "                         threshold=corr_thresh,\n",
    "                         min_peak_distance=pattern.size,\n",
    "                         filter_method='ranked')\n",
    "\n",
    "    logger.info('Found {0} peaks'.format(max_pos.shape[0]))\n",
    "    return {'corr': rc.values[:,0], 'peaks': max_pos}\n",
    "\n",
    "#pk = match_by_envelope(chan_sound, pattern_chunk, rms_threshold=1.)"
   ]
  },
  {
   "cell_type": "code",
   "execution_count": 31,
   "metadata": {
    "collapsed": false
   },
   "outputs": [
    {
     "data": {
      "text/plain": [
       "165309.73113606311"
      ]
     },
     "execution_count": 31,
     "metadata": {},
     "output_type": "execute_result"
    }
   ],
   "source": [
    "rms(chan_sound.stream[0,pk['peaks'][0]-8000:pk['peaks'][0]])"
   ]
  },
  {
   "cell_type": "code",
   "execution_count": 23,
   "metadata": {
    "collapsed": false
   },
   "outputs": [
    {
     "data": {
      "text/plain": [
       "1"
      ]
     },
     "execution_count": 23,
     "metadata": {},
     "output_type": "execute_result"
    }
   ],
   "source": [
    "len(chan_sound.stream)"
   ]
  },
  {
   "cell_type": "code",
   "execution_count": 30,
   "metadata": {
    "collapsed": false
   },
   "outputs": [
    {
     "data": {
      "text/plain": [
       "[<matplotlib.lines.Line2D at 0x7f3f1a4b7890>]"
      ]
     },
     "execution_count": 30,
     "metadata": {},
     "output_type": "execute_result"
    },
    {
     "data": {
      "image/png": "[encoded data removed]",
      "text/plain": [
       "<matplotlib.figure.Figure at 0x7f3f1a94c350>"
      ]
     },
     "metadata": {},
     "output_type": "display_data"
    }
   ],
   "source": [
    "plt.plot(pk['corr'])"
   ]
  },
  {
   "cell_type": "code",
   "execution_count": 16,
   "metadata": {
    "collapsed": false
   },
   "outputs": [
    {
     "data": {
      "text/plain": [
       "'Starting function find_happy_song'"
      ]
     },
     "metadata": {},
     "output_type": "display_data"
    },
    {
     "name": "stdout",
     "output_type": "stream",
     "text": [
      "<soundtools.DatSoundCompat instance at 0x7fbc4c4d0a28>\n",
      "<soundtools.Chunk instance at 0x7fbc4c4d0b90>\n"
     ]
    },
    {
     "name": "stderr",
     "output_type": "stream",
     "text": [
      "2016-07-07 13:05:15,221 - searching_motiff - INFO - Begin to search\n",
      "2016-07-07 13:05:15,225 - searching_motiff - INFO - Matching envelope across sound with 215928000 samples\n",
      "2016-07-07 13:05:16,903 - searching_motiff - INFO - Getting rms threshold with 1.0 std\n",
      "2016-07-07 13:05:17,697 - searching_motiff - INFO - Correlation threshold set to 37350.2466185\n",
      "2016-07-07 13:05:17,697 - searching_motiff - INFO - Env has 8000 samples\n",
      "2016-07-07 13:05:17,698 - searching_motiff - INFO - Rolling correlation with envelope...\n",
      "2016-07-07 13:05:17,700 - searching_motiff - INFO - (7501,)\n"
     ]
    }
   ],
   "source": [
    "def spectrogram_diff(data, pattern_sxx, s_f, spectrogram_kwargs):\n",
    "    f, t, Sxx = spectrogram(data[0,:], s_f, **spectrogram_kwargs)\n",
    "    assert(Sxx.shape == pattern_sxx.shape)\n",
    "    return compare_spectrogram(np.log(Sxx), np.log(pattern_sxx))\n",
    "\n",
    "def spectrogram_scores(pattern_chunk, chan_sound, candidates):\n",
    "    s_f = chan_sound.s_f\n",
    "    n_window = 256\n",
    "    n_overlap = 192\n",
    "    f_cut = 10000\n",
    "    sigma = 1. / 1000. * s_f\n",
    "\n",
    "    spectrogram_kwargs = {'nperseg': n_window,\n",
    "                        'noverlap': n_overlap,\n",
    "                        'window': sg.gaussian(n_window, sigma),\n",
    "                        'scaling': 'spectrum'}\n",
    "\n",
    "    pattern_spectrogram = spectrogram(pattern_chunk.data[:,0], s_f, **spectrogram_kwargs)\n",
    "\n",
    "    logger.info('Getting spectrogram difference score for {} candidates'.format(len(candidates.index)))\n",
    "    for (i, start) in enumerate(candidates['start'][:]):\n",
    "        logger.debug('Start {0}: {1}'.format(i, start))\n",
    "        motif_start = start\n",
    "        series = chan_sound.get_chunk(motif_start, motif_start + pattern_chunk.samples)\n",
    "        #f, t, sxx = spectrogram(bandpass_filter(series[:, 0], s_f), s_f, **spectrogram_kwargs)\n",
    "\n",
    "        candidates.set_value(i, 'spectral_diff',\n",
    "                             spectrogram_diff(series,\n",
    "                                              pattern_spectrogram[2],\n",
    "                                              s_f,\n",
    "                                              spectrogram_kwargs)\n",
    "                             )\n",
    "        #plt.figure()\n",
    "        #plt.pcolormesh(t, f[f < f_cut], np.log(sxx[f < f_cut, :]))\n",
    "        \n",
    "def find_happy_song(chan_sound, pattern_chunk):\n",
    "    window_env = 500\n",
    "    rms_thresh = 1.\n",
    "    logger.info('Begin to search')\n",
    "    envelope_matches = match_by_envelope(chan_sound, pattern_chunk, window_size=window_env, rms_threshold=rms_thresh)\n",
    "    candidates = pd.DataFrame({'start' : envelope_matches['peaks'] - pattern_chunk.samples,\n",
    "                           'env_corr': envelope_matches['corr'][envelope_matches['peaks']],\n",
    "                           'spectral_diff': np.zeros_like(envelope_matches['peaks'], dtype=np.float)})\n",
    "    \n",
    "    n_candidates = len(candidates.index)\n",
    "    logger.info('Found {0} candidates'.format(n_candidates))\n",
    "    \n",
    "    if n_candidates > 0:\n",
    "        logger.info('Getting spectrogram scores')\n",
    "        spectrogram_scores(pattern_chunk, chan_sound, candidates)\n",
    "        if n_candidates > 2:\n",
    "            logger.info('Clustering candidates')\n",
    "            st.cluster_spectrograms(candidates)\n",
    "    else:\n",
    "        pass\n",
    "    logger.debug('Returning clustered candidates')\n",
    "    return candidates\n",
    "\n",
    "task_find_happy_song = threadFunction(find_happy_song, chan_whole_sound, pattern_chunk)\n",
    "\n",
    "threads = []\n",
    "t = threading.Thread(name= 'task_find_happy_song', \n",
    "                     target=task_find_happy_song.run)\n",
    "threads.append(t)\n",
    "t.start()"
   ]
  },
  {
   "cell_type": "code",
   "execution_count": 17,
   "metadata": {
    "collapsed": false
   },
   "outputs": [
    {
     "data": {
      "text/plain": [
       "True"
      ]
     },
     "execution_count": 17,
     "metadata": {},
     "output_type": "execute_result"
    }
   ],
   "source": [
    "t."
   ]
  },
  {
   "cell_type": "code",
   "execution_count": 15,
   "metadata": {
    "collapsed": false
   },
   "outputs": [
    {
     "data": {
      "text/html": [
       "<div>\n",
       "<table border=\"1\" class=\"dataframe\">\n",
       "  <thead>\n",
       "    <tr style=\"text-align: right;\">\n",
       "      <th></th>\n",
       "      <th>env_corr</th>\n",
       "      <th>spectral_diff</th>\n",
       "      <th>start</th>\n",
       "    </tr>\n",
       "  </thead>\n",
       "  <tbody>\n",
       "    <tr>\n",
       "      <th>0</th>\n",
       "      <td>0.999886</td>\n",
       "      <td>0.075722</td>\n",
       "      <td>16038</td>\n",
       "    </tr>\n",
       "  </tbody>\n",
       "</table>\n",
       "</div>"
      ],
      "text/plain": [
       "   env_corr  spectral_diff  start\n",
       "0  0.999886       0.075722  16038"
      ]
     },
     "execution_count": 15,
     "metadata": {},
     "output_type": "execute_result"
    }
   ],
   "source": [
    "task_find_happy_song.out"
   ]
  },
  {
   "cell_type": "code",
   "execution_count": 70,
   "metadata": {
    "collapsed": false
   },
   "outputs": [
    {
     "ename": "ValueError",
     "evalue": "noverlap must be less than nperseg.",
     "output_type": "error",
     "traceback": [
      "\u001b[1;31m---------------------------------------------------------------------------\u001b[0m",
      "\u001b[1;31mValueError\u001b[0m                                Traceback (most recent call last)",
      "\u001b[1;32m<ipython-input-70-2d2def9dca20>\u001b[0m in \u001b[0;36m<module>\u001b[1;34m()\u001b[0m\n\u001b[0;32m     13\u001b[0m     \u001b[0mseries\u001b[0m \u001b[1;33m=\u001b[0m \u001b[0mchan_whole_sound\u001b[0m\u001b[1;33m.\u001b[0m\u001b[0mget_chunk\u001b[0m\u001b[1;33m(\u001b[0m\u001b[0mmotif_start\u001b[0m\u001b[1;33m,\u001b[0m \u001b[0mmotif_start\u001b[0m \u001b[1;33m+\u001b[0m \u001b[0mpattern_chunk\u001b[0m\u001b[1;33m.\u001b[0m\u001b[0msamples\u001b[0m\u001b[1;33m)\u001b[0m\u001b[1;33m\u001b[0m\u001b[0m\n\u001b[0;32m     14\u001b[0m     \u001b[1;31m# get the histogram\u001b[0m\u001b[1;33m\u001b[0m\u001b[1;33m\u001b[0m\u001b[0m\n\u001b[1;32m---> 15\u001b[1;33m     \u001b[0mf\u001b[0m\u001b[1;33m,\u001b[0m \u001b[0mt\u001b[0m\u001b[1;33m,\u001b[0m \u001b[0msxx\u001b[0m \u001b[1;33m=\u001b[0m \u001b[0mspectrogram\u001b[0m\u001b[1;33m(\u001b[0m\u001b[1;33m(\u001b[0m\u001b[0mseries\u001b[0m\u001b[1;33m[\u001b[0m\u001b[1;36m0\u001b[0m\u001b[1;33m,\u001b[0m\u001b[1;33m:\u001b[0m\u001b[1;33m]\u001b[0m\u001b[1;33m,\u001b[0m \u001b[0ms_f\u001b[0m\u001b[1;33m)\u001b[0m\u001b[1;33m,\u001b[0m \u001b[0ms_f\u001b[0m\u001b[1;33m,\u001b[0m \u001b[1;33m**\u001b[0m\u001b[0mspectrogram_kwargs\u001b[0m\u001b[1;33m)\u001b[0m\u001b[1;33m\u001b[0m\u001b[0m\n\u001b[0m\u001b[0;32m     16\u001b[0m     \u001b[1;31m# get the rms\u001b[0m\u001b[1;33m\u001b[0m\u001b[1;33m\u001b[0m\u001b[0m\n\u001b[0;32m     17\u001b[0m     \u001b[1;31m#print rms(st.bandpass_filter(series[:, 0], s_f))\u001b[0m\u001b[1;33m\u001b[0m\u001b[1;33m\u001b[0m\u001b[0m\n",
      "\u001b[1;32m/usr/local/anaconda/lib/python2.7/site-packages/scipy/signal/spectral.pyc\u001b[0m in \u001b[0;36mspectrogram\u001b[1;34m(x, fs, window, nperseg, noverlap, nfft, detrend, return_onesided, scaling, axis, mode)\u001b[0m\n\u001b[0;32m    514\u001b[0m     freqs, time, Pxy = _spectral_helper(x, x, fs, window, nperseg, noverlap,\n\u001b[0;32m    515\u001b[0m                                         \u001b[0mnfft\u001b[0m\u001b[1;33m,\u001b[0m \u001b[0mdetrend\u001b[0m\u001b[1;33m,\u001b[0m \u001b[0mreturn_onesided\u001b[0m\u001b[1;33m,\u001b[0m \u001b[0mscaling\u001b[0m\u001b[1;33m,\u001b[0m\u001b[1;33m\u001b[0m\u001b[0m\n\u001b[1;32m--> 516\u001b[1;33m                                         axis, mode=mode)\n\u001b[0m\u001b[0;32m    517\u001b[0m \u001b[1;33m\u001b[0m\u001b[0m\n\u001b[0;32m    518\u001b[0m     \u001b[1;32mreturn\u001b[0m \u001b[0mfreqs\u001b[0m\u001b[1;33m,\u001b[0m \u001b[0mtime\u001b[0m\u001b[1;33m,\u001b[0m \u001b[0mPxy\u001b[0m\u001b[1;33m\u001b[0m\u001b[0m\n",
      "\u001b[1;32m/usr/local/anaconda/lib/python2.7/site-packages/scipy/signal/spectral.pyc\u001b[0m in \u001b[0;36m_spectral_helper\u001b[1;34m(x, y, fs, window, nperseg, noverlap, nfft, detrend, return_onesided, scaling, axis, mode)\u001b[0m\n\u001b[0;32m    787\u001b[0m         \u001b[0mnoverlap\u001b[0m \u001b[1;33m=\u001b[0m \u001b[0mnperseg\u001b[0m\u001b[1;33m//\u001b[0m\u001b[1;36m2\u001b[0m\u001b[1;33m\u001b[0m\u001b[0m\n\u001b[0;32m    788\u001b[0m     \u001b[1;32melif\u001b[0m \u001b[0mnoverlap\u001b[0m \u001b[1;33m>=\u001b[0m \u001b[0mnperseg\u001b[0m\u001b[1;33m:\u001b[0m\u001b[1;33m\u001b[0m\u001b[0m\n\u001b[1;32m--> 789\u001b[1;33m         \u001b[1;32mraise\u001b[0m \u001b[0mValueError\u001b[0m\u001b[1;33m(\u001b[0m\u001b[1;34m'noverlap must be less than nperseg.'\u001b[0m\u001b[1;33m)\u001b[0m\u001b[1;33m\u001b[0m\u001b[0m\n\u001b[0m\u001b[0;32m    790\u001b[0m     \u001b[1;32melse\u001b[0m\u001b[1;33m:\u001b[0m\u001b[1;33m\u001b[0m\u001b[0m\n\u001b[0;32m    791\u001b[0m         \u001b[0mnoverlap\u001b[0m \u001b[1;33m=\u001b[0m \u001b[0mint\u001b[0m\u001b[1;33m(\u001b[0m\u001b[0mnoverlap\u001b[0m\u001b[1;33m)\u001b[0m\u001b[1;33m\u001b[0m\u001b[0m\n",
      "\u001b[1;31mValueError\u001b[0m: noverlap must be less than nperseg."
     ]
    }
   ],
   "source": [
    "spectrogram_kwargs = {'nperseg': n_window,\n",
    "                    'noverlap': n_overlap,\n",
    "                    'window': sg.gaussian(n_window, sigma),\n",
    "                    'scaling': 'spectrum'}\n",
    "\n",
    "result = task_find_happy_song.out\n",
    "all_candidates = result[result['bout']==True].sort_values('spectral_diff').reset_index()\n",
    "rms_thresh = 53057.638761;\n",
    "\n",
    "for (i, start) in enumerate(all_candidates['start']):\n",
    "    motif_start = start - pattern_chunk.samples\n",
    "    #print all_candidates[i]\n",
    "    series = chan_whole_sound.get_chunk(motif_start, motif_start + pattern_chunk.samples)\n",
    "    # get the histogram\n",
    "    f, t, sxx = spectrogram((series[0,:], s_f), s_f, **spectrogram_kwargs)\n",
    "    # get the rms\n",
    "    #print rms(st.bandpass_filter(series[:, 0], s_f))\n",
    "    all_candidates.set_value(i, 'rms', rms((series[0,:], s_f)))\n",
    "    plt.figure()\n",
    "    plt.pcolormesh(t, f[f < f_cut], np.log(sxx[f < f_cut, :]))\n",
    "\n",
    "all_candidates = all_candidates[all_candidates['rms'] > rms_thresh].reset_index()"
   ]
  },
  {
   "cell_type": "code",
   "execution_count": 13,
   "metadata": {
    "collapsed": false
   },
   "outputs": [
    {
     "name": "stdout",
     "output_type": "stream",
     "text": [
      "    env_corr  spectral_diff   start   bout\n",
      "0   0.997856       0.160423   24021   True\n",
      "1   0.978228       0.222620   50597   True\n",
      "2   0.975875       0.222090   39286   True\n",
      "3   0.973488       0.219171   92735   True\n",
      "4   0.968290       0.213989  127492   True\n",
      "5   0.964122       0.229650  143049   True\n",
      "6   0.956644       0.456552  118437  False\n",
      "7   0.950104       0.212502   81336   True\n",
      "8   0.948826       0.211816  106939   True\n",
      "9   0.947097       0.483279  161603  False\n",
      "10  0.926635       0.255042   65851   True\n"
     ]
    }
   ],
   "source": [
    "import tf_cluster as tfc\n",
    "def cluster_spectrograms(candidates):\n",
    "    diff_vector = candidates['spectral_diff'].values.reshape([candidates['spectral_diff'].values.shape[0],1])\n",
    "    clustered = tfc.means_cluster(diff_vector, 2)\n",
    "    candidates['bout'] = pd.Series((clustered[1]==np.argmin(clustered[0])))\n",
    "    \n",
    "cluster_spectrograms(candidates)\n",
    "print candidates"
   ]
  },
  {
   "cell_type": "code",
   "execution_count": 68,
   "metadata": {
    "collapsed": false
   },
   "outputs": [
    {
     "data": {
      "text/plain": [
       "env_corr         float64\n",
       "spectral_diff    float64\n",
       "start              int64\n",
       "dtype: object"
      ]
     },
     "execution_count": 68,
     "metadata": {},
     "output_type": "execute_result"
    }
   ],
   "source": [
    "candidates = pd.DataFrame({'start' : envelope_matches['peaks'],\n",
    "                           'env_corr': envelope_matches['corr'][envelope_matches['peaks']],\n",
    "                           'spectral_diff': np.zeros_like(envelope_matches['peaks'], dtype=np.float)})\n",
    "candidates.dtypes"
   ]
  },
  {
   "cell_type": "code",
   "execution_count": 11,
   "metadata": {
    "collapsed": false
   },
   "outputs": [
    {
     "data": {
      "text/plain": [
       "<matplotlib.collections.QuadMesh at 0x7f4ba068d450>"
      ]
     },
     "execution_count": 11,
     "metadata": {},
     "output_type": "execute_result"
    },
    {
     "data": {
      "image/png": "[encoded data removed]",
      "text/plain": [
       "<matplotlib.figure.Figure at 0x7f4c1858af90>"
      ]
     },
     "metadata": {},
     "output_type": "display_data"
    }
   ],
   "source": [
    "s_f = chan_sound.s_f\n",
    "n_window = 256;\n",
    "n_overlap = 192;\n",
    "f_cut = 10000;\n",
    "sigma = 1. / 1000. * s_f\n",
    "spectrogram_pars = {'nperseg': n_window, \n",
    "                    'noverlap': n_overlap, \n",
    "                    'window': sg.gaussian(n_window, sigma),\n",
    "                    'scaling': 'spectrum'}\n",
    "\n",
    "f, t, sxx_pattern = st.spectrogram(pattern_chunk.data[:,0], s_f, **spectrogram_pars)\n",
    "\n",
    "plt.pcolormesh(t, f[f<f_cut], np.log(sxx_pattern[f<f_cut, :]))"
   ]
  },
  {
   "cell_type": "code",
   "execution_count": 14,
   "metadata": {
    "collapsed": false
   },
   "outputs": [],
   "source": [
    "stdf=pd.DataFrame(chan_sound.stream)\n",
    "rc = stdf.rolling(pattern_chunk.data.shape[0]).apply(tuvieja_rms_env_correlation)"
   ]
  },
  {
   "cell_type": "code",
   "execution_count": 12,
   "metadata": {
    "collapsed": false
   },
   "outputs": [
    {
     "data": {
      "text/plain": [
       "<matplotlib.axes._subplots.AxesSubplot at 0x7f5b9431c610>"
      ]
     },
     "execution_count": 12,
     "metadata": {},
     "output_type": "execute_result"
    },
    {
     "data": {
      "image/png": "[encoded data removed]",
      "text/plain": [
       "<matplotlib.figure.Figure at 0x7f5b940e5410>"
      ]
     },
     "metadata": {},
     "output_type": "display_data"
    }
   ],
   "source": [
    "rc.plot()"
   ]
  },
  {
   "cell_type": "code",
   "execution_count": 13,
   "metadata": {
    "collapsed": true
   },
   "outputs": [],
   "source": [
    "def rms(x):\n",
    "    return np.linalg.norm(x)\n",
    "\n",
    "def mad(x):\n",
    "    med = np.median(x)\n",
    "    dev = np.abs(x - np.median(x))\n",
    "    return np.median(dev)\n",
    "\n",
    "def identity(x):\n",
    "    return x\n",
    "\n",
    "def tuvieja_rms_env_correlation(x):\n",
    "    x_filt = st.bandpass_filter(x, s_f)\n",
    "    rms_x = rms(x_filt)\n",
    "    corr_x = 0 if rms_x < 53057.638761 else st.envelope_correlation(x_filt,\n",
    "                                                                 pattern_envelope.shape, \n",
    "                                                                 window=window_env)\n",
    "    return st.envelope_correlation(x_filt,pattern_envelope.shape, window=window_env)"
   ]
  },
  {
   "cell_type": "code",
   "execution_count": null,
   "metadata": {
    "collapsed": true
   },
   "outputs": [],
   "source": []
  }
 ],
 "metadata": {
  "kernelspec": {
   "display_name": "Python 2",
   "language": "python",
   "name": "python2"
  },
  "language_info": {
   "codemirror_mode": {
    "name": "ipython",
    "version": 2
   },
   "file_extension": ".py",
   "mimetype": "text/x-python",
   "name": "python",
   "nbconvert_exporter": "python",
   "pygments_lexer": "ipython2",
   "version": "2.7.11"
  }
 },
 "nbformat": 4,
 "nbformat_minor": 0
}
