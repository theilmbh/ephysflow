{
 "cells": [
  {
   "cell_type": "code",
   "execution_count": 1,
   "metadata": {
    "collapsed": false
   },
   "outputs": [
    {
     "name": "stderr",
     "output_type": "stream",
     "text": [
      "2017-01-11 21:54:36,009 root         INFO     Computer: passaro\n",
      "2017-01-11 21:54:36,131 root         INFO     All modules loaded\n"
     ]
    }
   ],
   "source": [
    "# tampering with the kwd file on passaro\n",
    "# the /experiment folder is on the ssd of passaro (/usr/local/experiment/raw_data)\n",
    "%matplotlib inline\n",
    "from __future__ import division\n",
    "import pdb\n",
    "import sys\n",
    "import pandas as pd\n",
    "import numpy as np\n",
    "import scipy.io as sio\n",
    "import matplotlib.pyplot as plt\n",
    "import matplotlib\n",
    "import scipy.signal as sg\n",
    "import math\n",
    "import scipy as sp\n",
    "import socket\n",
    "import os\n",
    "import wave\n",
    "import struct\n",
    "import h5py\n",
    "from scipy.signal import hilbert\n",
    "import glob\n",
    "import errno    \n",
    "import os\n",
    "import shutil as sh\n",
    "import yaml\n",
    "import logging\n",
    "\n",
    "logger = logging.getLogger()\n",
    "handler = logging.StreamHandler()\n",
    "formatter = logging.Formatter(\n",
    "        '%(asctime)s %(name)-12s %(levelname)-8s %(message)s')\n",
    "handler.setFormatter(formatter)\n",
    "logger.addHandler(handler)\n",
    "logger.setLevel(logging.DEBUG)\n",
    "\n",
    "# Check wihic computer to decide where the things are mounted\n",
    "comp_name=socket.gethostname()\n",
    "logger.info('Computer: ' + comp_name)\n",
    "if  comp_name == 'chim':\n",
    "    #sys.path.append('/Users/zeke/experiment/ephysDataManagement/ephysScripts')\n",
    "    experiment_folder = os.path.join(os.path.abspath('W:') , \"earneodo\", \"bci_zf\")\n",
    "elif  'lookfar' in comp_name:\n",
    "    repos_folder = os.path.abspath('/Users/zeke/reposs')\n",
    "    experiment_folder = os.path.join(os.path.abspath('/Volumes'), \n",
    "                                     'gentner', \n",
    "                                     'earneodo', \n",
    "                                     'bci_zf')\n",
    "\n",
    "elif 'lintu' in comp_name:\n",
    "    repos_folder = os.path.abspath('/mnt/cube/earneodo/repos')\n",
    "    experiment_folder = os.path.join('/mnt/cube/earneodo/bci_zf/')\n",
    "\n",
    "elif 'passaro' in comp_name:\n",
    "    repos_folder = os.path.abspath('/mnt/cube/earneodo/repos')\n",
    "    cube_experiment_folder = os.path.join('/mnt/cube/earneodo/bci_zf/')\n",
    "    store_experiment_folder = os.path.join('/Data/bci_zf/')\n",
    "    experiment_folder = os.path.join('/usr/local/experiment')\n",
    "\n",
    "sys.path.append(os.path.join(repos_folder, 'soundflow', 'sound_tools'))\n",
    "sys.path.append(os.path.join(repos_folder, 'ephysflow'))\n",
    "sys.path.append(os.path.join(repos_folder, 'swissknife'))\n",
    "\n",
    "#import soundtools as st\n",
    "from scipy.io import wavfile\n",
    "from bci.core import expstruct as et\n",
    "from bci import supersession as ss\n",
    "from bci import stimalign as sa\n",
    "\n",
    "\n",
    "def process_supersession(bird_id, sess_day, depth, raw_location):\n",
    "    # make the supersession file\n",
    "    sess_list = ss.make_super_session(bird_id, sess_day, depth=depth, raw_location=raw_location)\n",
    "    # make bkp of the raw data\n",
    "    ss.make_raw_bkp(bird_id, sess_list)\n",
    "    # align the stimuli\n",
    "    super_sess_name = 'day-' + sess_day + '_' + depth\n",
    "    sa.align_stim(bird_id, super_sess_name)\n",
    "    \n",
    "logger.info('All modules loaded')"
   ]
  },
  {
   "cell_type": "code",
   "execution_count": 2,
   "metadata": {
    "collapsed": false
   },
   "outputs": [],
   "source": [
    "bird_id = 'z030'\n",
    "sess_day = 'anesth_deep_2016-12-16'\n",
    "depth = '0'\n",
    "raw_location = 'rw'"
   ]
  },
  {
   "cell_type": "code",
   "execution_count": 11,
   "metadata": {
    "collapsed": false
   },
   "outputs": [
    {
     "name": "stdout",
     "output_type": "stream",
     "text": [
      "['anesth_surface_2016-12-16_13-28-58_1', 'anesth_surface_2016-12-16_16-23-43_4', 'anesth_surface_2016-12-16_12-27-11_0', 'anesth_surface_2016-12-16_15-40-33_3', 'anesth_surface_2016-12-16_12-57-04_1', 'anesth_surface_2016-12-16_16-59-33_5', 'anesth_surface_2016-12-16_13-59-52_2']\n"
     ]
    },
    {
     "data": {
      "text/plain": [
       "['1', '4', '0', '3', '1', '5', '2']"
      ]
     },
     "execution_count": 11,
     "metadata": {},
     "output_type": "execute_result"
    }
   ],
   "source": [
    "reload(et)\n",
    "print all_sessions\n",
    "all_depths"
   ]
  },
  {
   "cell_type": "code",
   "execution_count": 3,
   "metadata": {
    "collapsed": false
   },
   "outputs": [
    {
     "name": "stderr",
     "output_type": "stream",
     "text": [
      "2017-01-11 21:54:48,085 root         INFO     Processing sess anesth_deep_2016-12-16 depth 451\n",
      "2017-01-11 21:54:48,104 supersession INFO     searching *_100.raw.kwd\n",
      "2017-01-11 21:54:48,117 supersession INFO     Making supersession day-anesth_deep_2016-12-16_451\n",
      "2017-01-11 21:54:48,119 supersession INFO     super file path: /mnt/cube/earneodo/bci_zf/ss_data/z030/day-anesth_deep_2016-12-16_451/experiment.raw.kwd\n",
      "2017-01-11 21:54:48,120 supersession INFO     Found 1 experiment files\n",
      "2017-01-11 21:54:48,121 bci.core.expstruct DEBUG    Creating directory /mnt/cube/earneodo/bci_zf/ss_data/z030/day-anesth_deep_2016-12-16_451\n",
      "2017-01-11 21:54:48,124 bci.core.expstruct DEBUG    Directory existed, doing nothing\n",
      "2017-01-11 21:54:48,246 supersession INFO     Inserting file /mnt/cube/earneodo/bci_zf/raw_data/z030/anesth_deep_2016-12-16_18-24-41_451/experiment1_100.raw.kwd\n",
      "2017-01-11 21:54:48,262 root         DEBUG    H5 file: <HDF5 file \"experiment.raw.kwd\" (mode r+)>\n"
     ]
    },
    {
     "name": "stdout",
     "output_type": "stream",
     "text": [
      "['anesth_deep_2016-12-16_18-24-41_451', 'anesth_deep_2016-12-16_17-51-06_450']\n",
      "['451', '450']\n"
     ]
    },
    {
     "name": "stderr",
     "output_type": "stream",
     "text": [
      "2017-01-11 21:55:22,006 supersession INFO     Data is already in experiment folder /mnt/cube/earneodo/bci_zf/raw_data/z030\n",
      "2017-01-11 21:55:22,008 supersession INFO     Data is not in local drive but in /mnt/cube/earneodo/bci_zf/raw_data/z030, doing nothing\n",
      "2017-01-11 21:55:22,013 root         DEBUG    H5 file: <HDF5 file \"experiment.raw.kwd\" (mode r)>\n",
      "2017-01-11 21:55:22,014 root         DEBUG    H5 file: <HDF5 file \"experiment.raw.kwd\" (mode r)>\n",
      "2017-01-11 21:55:22,016 root         DEBUG    Getting group of rec 0\n",
      "2017-01-11 21:55:22,018 stimalign    DEBUG    Rec origin: {'rec': 0, 'sess': 'anesth_deep_2016-12-16_18-24-41_451', 'bird': 'z030', 'structure': 'experiment1_100'}\n",
      "2017-01-11 21:55:22,050 stimalign    INFO     Getting starts of stim bos_rev_tag\n",
      "2017-01-11 21:55:22,052 root         DEBUG    H5 file: <HDF5 file \"experiment1_100.raw.kwd\" (mode r)>\n",
      "2017-01-11 21:55:22,054 root         DEBUG    Getting dataset from rec 0\n",
      "2017-01-11 21:55:23,239 stimalign    INFO     Found 75 starts\n",
      "2017-01-11 21:55:23,242 stimalign    INFO     Stored in /mnt/cube/earneodo/bci_zf/ss_data/z030/day-anesth_deep_2016-12-16_451/experiment.sng.kwe\n",
      "2017-01-11 21:55:23,251 stimalign    INFO     Getting starts of stim bos_tag\n",
      "2017-01-11 21:55:23,253 root         DEBUG    H5 file: <HDF5 file \"experiment1_100.raw.kwd\" (mode r)>\n",
      "2017-01-11 21:55:23,254 root         DEBUG    Getting dataset from rec 0\n",
      "2017-01-11 21:55:26,413 stimalign    INFO     Found 75 starts\n",
      "2017-01-11 21:55:26,416 stimalign    INFO     Stored in /mnt/cube/earneodo/bci_zf/ss_data/z030/day-anesth_deep_2016-12-16_451/experiment.sng.kwe\n",
      "2017-01-11 21:55:26,419 stimalign    INFO     Done\n",
      "2017-01-11 21:55:26,420 root         INFO     Processing sess anesth_deep_2016-12-16 depth 450\n",
      "2017-01-11 21:55:26,427 supersession INFO     searching *_100.raw.kwd\n",
      "2017-01-11 21:55:26,433 supersession INFO     Making supersession day-anesth_deep_2016-12-16_450\n",
      "2017-01-11 21:55:26,434 supersession INFO     super file path: /mnt/cube/earneodo/bci_zf/ss_data/z030/day-anesth_deep_2016-12-16_450/experiment.raw.kwd\n",
      "2017-01-11 21:55:26,436 supersession INFO     Found 1 experiment files\n",
      "2017-01-11 21:55:26,437 bci.core.expstruct DEBUG    Creating directory /mnt/cube/earneodo/bci_zf/ss_data/z030/day-anesth_deep_2016-12-16_450\n",
      "2017-01-11 21:55:26,450 supersession INFO     Inserting file /mnt/cube/earneodo/bci_zf/raw_data/z030/anesth_deep_2016-12-16_17-51-06_450/experiment1_100.raw.kwd\n",
      "2017-01-11 21:55:26,457 root         DEBUG    H5 file: <HDF5 file \"experiment.raw.kwd\" (mode r+)>\n",
      "2017-01-11 21:56:10,796 supersession INFO     Data is already in experiment folder /mnt/cube/earneodo/bci_zf/raw_data/z030\n",
      "2017-01-11 21:56:10,797 supersession INFO     Data is not in local drive but in /mnt/cube/earneodo/bci_zf/raw_data/z030, doing nothing\n",
      "2017-01-11 21:56:10,802 root         DEBUG    H5 file: <HDF5 file \"experiment.raw.kwd\" (mode r)>\n",
      "2017-01-11 21:56:10,803 root         DEBUG    H5 file: <HDF5 file \"experiment.raw.kwd\" (mode r)>\n",
      "2017-01-11 21:56:10,804 root         DEBUG    Getting group of rec 0\n",
      "2017-01-11 21:56:10,806 stimalign    DEBUG    Rec origin: {'rec': 0, 'sess': 'anesth_deep_2016-12-16_17-51-06_450', 'bird': 'z030', 'structure': 'experiment1_100'}\n",
      "2017-01-11 21:56:10,838 stimalign    INFO     Getting starts of stim bos_rev_tag\n",
      "2017-01-11 21:56:10,840 root         DEBUG    H5 file: <HDF5 file \"experiment1_100.raw.kwd\" (mode r)>\n",
      "2017-01-11 21:56:10,841 root         DEBUG    Getting dataset from rec 0\n",
      "2017-01-11 21:56:14,059 stimalign    INFO     Found 75 starts\n",
      "2017-01-11 21:56:14,064 stimalign    INFO     Stored in /mnt/cube/earneodo/bci_zf/ss_data/z030/day-anesth_deep_2016-12-16_450/experiment.sng.kwe\n",
      "2017-01-11 21:56:14,066 stimalign    INFO     Getting starts of stim bos_tag\n",
      "2017-01-11 21:56:14,068 root         DEBUG    H5 file: <HDF5 file \"experiment1_100.raw.kwd\" (mode r)>\n",
      "2017-01-11 21:56:14,070 root         DEBUG    Getting dataset from rec 0\n",
      "2017-01-11 21:56:15,206 stimalign    INFO     Found 75 starts\n",
      "2017-01-11 21:56:15,209 stimalign    INFO     Stored in /mnt/cube/earneodo/bci_zf/ss_data/z030/day-anesth_deep_2016-12-16_450/experiment.sng.kwe\n",
      "2017-01-11 21:56:15,211 stimalign    INFO     Done\n"
     ]
    }
   ],
   "source": [
    "reload(ss)\n",
    "all_sessions, all_depths = et.list_raw_sessions(bird_id, sess_day=sess_day, location=raw_location)\n",
    "print(all_sessions)\n",
    "print(all_depths)\n",
    "\n",
    "for d in all_depths:\n",
    "    logger.info('Processing sess {0} depth {1}'.format(sess_day, d))\n",
    "    process_supersession(bird_id, sess_day, d, raw_location)"
   ]
  }
 ],
 "metadata": {
  "anaconda-cloud": {},
  "kernelspec": {
   "display_name": "Python [default]",
   "language": "python",
   "name": "python2"
  },
  "language_info": {
   "codemirror_mode": {
    "name": "ipython",
    "version": 2
   },
   "file_extension": ".py",
   "mimetype": "text/x-python",
   "name": "python",
   "nbconvert_exporter": "python",
   "pygments_lexer": "ipython2",
   "version": "2.7.12"
  }
 },
 "nbformat": 4,
 "nbformat_minor": 0
}
