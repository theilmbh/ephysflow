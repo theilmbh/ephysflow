{
 "cells": [
  {
   "cell_type": "code",
   "execution_count": 1,
   "metadata": {
    "collapsed": false
   },
   "outputs": [
    {
     "name": "stdout",
     "output_type": "stream",
     "text": [
      "Computer: passaro\n"
     ]
    }
   ],
   "source": [
    "# Definitions and functions\n",
    "import sys\n",
    "import pandas as pd\n",
    "import socket\n",
    "import os\n",
    "import logging\n",
    "from IPython.display import display\n",
    "\n",
    "\n",
    "logger = logging.getLogger()\n",
    "handler = logging.StreamHandler()\n",
    "formatter = logging.Formatter(\n",
    "        '%(asctime)s %(name)-12s %(levelname)-8s %(message)s')\n",
    "handler.setFormatter(formatter)\n",
    "logger.addHandler(handler)\n",
    "logger.setLevel(logging.DEBUG)\n",
    "\n",
    "# Check wich computer to decide where the things are mounted\n",
    "comp_name=socket.gethostname()\n",
    "print 'Computer: ' + comp_name\n",
    "\n",
    "if 'txori' in comp_name or 'passaro' in comp_name or 'lintu' in comp_name:\n",
    "    repos_folder = os.path.abspath('/mnt/cube/earneodo/repos')\n",
    "    experiment_folder = os.path.join('/mnt/cube/earneodo/bci_zf/')\n",
    "\n",
    "sys.path.append(os.path.join(repos_folder, 'soundflow', 'sound_tools'))\n",
    "sys.path.append(os.path.join(repos_folder, 'ephysflow'))\n",
    "sys.path.append(os.path.join(repos_folder, 'analysis-tools'))\n",
    "sys.path.append(os.path.join(repos_folder, 'swissknife'))\n",
    "\n",
    "from bci import stimalign\n",
    "from file_tools import experiment as et"
   ]
  },
  {
   "cell_type": "code",
   "execution_count": 11,
   "metadata": {
    "collapsed": false
   },
   "outputs": [
    {
     "name": "stderr",
     "output_type": "stream",
     "text": [
      "2016-11-17 11:03:21,256 root         INFO     Aligning stim for super session day-anesth_surface_2016-11-14_0\n",
      "2016-11-17 11:03:21,386 root         DEBUG    H5 file: <HDF5 file \"experiment.raw.kwd\" (mode r)>\n",
      "2016-11-17 11:03:21,387 root         DEBUG    H5 file: <HDF5 file \"experiment.raw.kwd\" (mode r)>\n",
      "2016-11-17 11:03:21,389 root         DEBUG    Getting group of rec 0\n",
      "2016-11-17 11:03:21,406 stimalign    DEBUG    Rec origin: {'rec': 0, 'sess': 'anesth_surface_2016-11-14_12-08-25_0', 'base': 'experiment1_100', 'bird': 'z023'}\n",
      "2016-11-17 11:03:21,477 stimalign    INFO     Getting starts of stim bos_rev_tag\n",
      "2016-11-17 11:03:21,499 root         DEBUG    H5 file: <HDF5 file \"experiment1_100.raw.kwd\" (mode r)>\n",
      "2016-11-17 11:03:21,500 root         DEBUG    Getting dataset from rec 0\n",
      "2016-11-17 11:03:42,423 stimalign    INFO     Found 50 starts\n",
      "2016-11-17 11:03:42,439 stimalign    INFO     Stored in /mnt/cube/earneodo/bci_zf/ss_data/z023/day-anesth_surface_2016-11-14_0/experiment.sng.kwe\n",
      "2016-11-17 11:03:42,442 stimalign    INFO     Getting starts of stim bos_tag\n",
      "2016-11-17 11:03:42,443 root         DEBUG    H5 file: <HDF5 file \"experiment1_100.raw.kwd\" (mode r)>\n",
      "2016-11-17 11:03:42,444 root         DEBUG    Getting dataset from rec 0\n",
      "2016-11-17 11:03:42,944 stimalign    INFO     Found 50 starts\n",
      "2016-11-17 11:03:42,947 stimalign    INFO     Stored in /mnt/cube/earneodo/bci_zf/ss_data/z023/day-anesth_surface_2016-11-14_0/experiment.sng.kwe\n",
      "2016-11-17 11:03:42,950 stimalign    INFO     Done\n",
      "2016-11-17 11:03:42,951 root         INFO     Aligning stim for super session day-anesth_surface_2016-11-14_7\n",
      "2016-11-17 11:03:42,997 root         DEBUG    H5 file: <HDF5 file \"experiment.raw.kwd\" (mode r)>\n",
      "2016-11-17 11:03:42,998 root         DEBUG    H5 file: <HDF5 file \"experiment.raw.kwd\" (mode r)>\n",
      "2016-11-17 11:03:42,999 root         DEBUG    Getting group of rec 0\n",
      "2016-11-17 11:03:43,018 stimalign    DEBUG    Rec origin: {'rec': 0, 'sess': 'anesth_surface_2016-11-14_16-49-39_7', 'base': 'experiment1_100', 'bird': 'z023'}\n",
      "2016-11-17 11:03:43,086 stimalign    INFO     Getting starts of stim bos_rev_tag\n",
      "2016-11-17 11:03:43,108 root         DEBUG    H5 file: <HDF5 file \"experiment1_100.raw.kwd\" (mode r)>\n",
      "2016-11-17 11:03:43,109 root         DEBUG    Getting dataset from rec 0\n",
      "2016-11-17 11:03:59,639 stimalign    INFO     Found 50 starts\n",
      "2016-11-17 11:03:59,659 stimalign    INFO     Stored in /mnt/cube/earneodo/bci_zf/ss_data/z023/day-anesth_surface_2016-11-14_7/experiment.sng.kwe\n",
      "2016-11-17 11:03:59,662 stimalign    INFO     Getting starts of stim bos_syn_tag\n",
      "2016-11-17 11:03:59,664 root         DEBUG    H5 file: <HDF5 file \"experiment1_100.raw.kwd\" (mode r)>\n",
      "2016-11-17 11:03:59,665 root         DEBUG    Getting dataset from rec 0\n",
      "2016-11-17 11:04:13,256 stimalign    INFO     Found 50 starts\n",
      "2016-11-17 11:04:13,266 stimalign    INFO     Stored in /mnt/cube/earneodo/bci_zf/ss_data/z023/day-anesth_surface_2016-11-14_7/experiment.sng.kwe\n",
      "2016-11-17 11:04:13,268 stimalign    INFO     Getting starts of stim bos_tag\n",
      "2016-11-17 11:04:13,270 root         DEBUG    H5 file: <HDF5 file \"experiment1_100.raw.kwd\" (mode r)>\n",
      "2016-11-17 11:04:13,272 root         DEBUG    Getting dataset from rec 0\n",
      "2016-11-17 11:04:32,161 stimalign    INFO     Found 50 starts\n",
      "2016-11-17 11:04:32,166 stimalign    INFO     Stored in /mnt/cube/earneodo/bci_zf/ss_data/z023/day-anesth_surface_2016-11-14_7/experiment.sng.kwe\n",
      "2016-11-17 11:04:32,169 stimalign    INFO     Done\n",
      "2016-11-17 11:04:32,169 root         INFO     Aligning stim for super session day-anesth_microwire_2016-11-14_100\n",
      "2016-11-17 11:04:32,172 root         DEBUG    H5 file: <HDF5 file \"experiment.raw.kwd\" (mode r)>\n",
      "2016-11-17 11:04:32,173 root         DEBUG    H5 file: <HDF5 file \"experiment.raw.kwd\" (mode r)>\n",
      "2016-11-17 11:04:32,173 root         DEBUG    Getting group of rec 0\n",
      "2016-11-17 11:04:32,206 stimalign    DEBUG    Rec origin: {'rec': 0, 'sess': 'anesth_microwire_2016-11-14_14-19-53_100', 'base': 'experiment1_100', 'bird': 'z023'}\n",
      "2016-11-17 11:04:32,244 stimalign    INFO     Getting starts of stim bos_rev_tag\n",
      "2016-11-17 11:04:32,274 root         DEBUG    H5 file: <HDF5 file \"experiment1_100.raw.kwd\" (mode r)>\n",
      "2016-11-17 11:04:32,275 root         DEBUG    Getting dataset from rec 0\n",
      "2016-11-17 11:04:44,977 stimalign    INFO     Found 75 starts\n",
      "2016-11-17 11:04:44,984 stimalign    INFO     Stored in /mnt/cube/earneodo/bci_zf/ss_data/z023/day-anesth_microwire_2016-11-14_100/experiment.sng.kwe\n",
      "2016-11-17 11:04:44,987 stimalign    INFO     Getting starts of stim bos_tag\n",
      "2016-11-17 11:04:44,989 root         DEBUG    H5 file: <HDF5 file \"experiment1_100.raw.kwd\" (mode r)>\n",
      "2016-11-17 11:04:44,990 root         DEBUG    Getting dataset from rec 0\n",
      "2016-11-17 11:05:09,835 stimalign    INFO     Found 75 starts\n",
      "2016-11-17 11:05:09,841 stimalign    INFO     Stored in /mnt/cube/earneodo/bci_zf/ss_data/z023/day-anesth_microwire_2016-11-14_100/experiment.sng.kwe\n",
      "2016-11-17 11:05:09,843 stimalign    INFO     Done\n",
      "2016-11-17 11:05:09,844 root         INFO     Aligning stim for super session day-anesth_microwire_2016-11-14_101\n",
      "2016-11-17 11:05:09,878 root         DEBUG    H5 file: <HDF5 file \"experiment.raw.kwd\" (mode r)>\n",
      "2016-11-17 11:05:09,879 root         DEBUG    H5 file: <HDF5 file \"experiment.raw.kwd\" (mode r)>\n",
      "2016-11-17 11:05:09,880 root         DEBUG    Getting group of rec 0\n",
      "2016-11-17 11:05:09,891 stimalign    DEBUG    Rec origin: {'rec': 0, 'sess': 'anesth_microwire_2016-11-14_14-38-37_101', 'base': 'experiment1_100', 'bird': 'z023'}\n",
      "2016-11-17 11:05:09,935 stimalign    INFO     Getting starts of stim bos_rev_tag\n",
      "2016-11-17 11:05:09,962 root         DEBUG    H5 file: <HDF5 file \"experiment1_100.raw.kwd\" (mode r)>\n",
      "2016-11-17 11:05:09,963 root         DEBUG    Getting dataset from rec 0\n",
      "2016-11-17 11:05:26,740 stimalign    INFO     Found 50 starts\n",
      "2016-11-17 11:05:26,759 stimalign    INFO     Stored in /mnt/cube/earneodo/bci_zf/ss_data/z023/day-anesth_microwire_2016-11-14_101/experiment.sng.kwe\n",
      "2016-11-17 11:05:26,762 stimalign    INFO     Getting starts of stim bos_tag\n",
      "2016-11-17 11:05:26,764 root         DEBUG    H5 file: <HDF5 file \"experiment1_100.raw.kwd\" (mode r)>\n",
      "2016-11-17 11:05:26,765 root         DEBUG    Getting dataset from rec 0\n",
      "2016-11-17 11:05:39,397 stimalign    INFO     Found 50 starts\n",
      "2016-11-17 11:05:39,401 stimalign    INFO     Stored in /mnt/cube/earneodo/bci_zf/ss_data/z023/day-anesth_microwire_2016-11-14_101/experiment.sng.kwe\n",
      "2016-11-17 11:05:39,403 stimalign    INFO     Done\n",
      "2016-11-17 11:05:39,404 root         INFO     Aligning stim for super session day-anesth_surface_2016-11-14_6\n",
      "2016-11-17 11:05:39,449 root         DEBUG    H5 file: <HDF5 file \"experiment.raw.kwd\" (mode r)>\n",
      "2016-11-17 11:05:39,450 root         DEBUG    H5 file: <HDF5 file \"experiment.raw.kwd\" (mode r)>\n",
      "2016-11-17 11:05:39,451 root         DEBUG    Getting group of rec 0\n",
      "2016-11-17 11:05:39,471 stimalign    DEBUG    Rec origin: {'rec': 0, 'sess': 'anesth_surface_2016-11-14_16-23-47_6', 'base': 'experiment1_100', 'bird': 'z023'}\n",
      "2016-11-17 11:05:39,533 stimalign    INFO     Getting starts of stim bos_rev_tag\n",
      "2016-11-17 11:05:39,560 root         DEBUG    H5 file: <HDF5 file \"experiment1_100.raw.kwd\" (mode r)>\n",
      "2016-11-17 11:05:39,562 root         DEBUG    Getting dataset from rec 0\n",
      "2016-11-17 11:06:25,655 stimalign    INFO     Found 75 starts\n",
      "2016-11-17 11:06:25,665 stimalign    INFO     Stored in /mnt/cube/earneodo/bci_zf/ss_data/z023/day-anesth_surface_2016-11-14_6/experiment.sng.kwe\n",
      "2016-11-17 11:06:25,668 stimalign    INFO     Getting starts of stim bos_tag\n",
      "2016-11-17 11:06:25,670 root         DEBUG    H5 file: <HDF5 file \"experiment1_100.raw.kwd\" (mode r)>\n",
      "2016-11-17 11:06:25,671 root         DEBUG    Getting dataset from rec 0\n",
      "2016-11-17 11:06:27,582 stimalign    INFO     Found 75 starts\n",
      "2016-11-17 11:06:27,585 stimalign    INFO     Stored in /mnt/cube/earneodo/bci_zf/ss_data/z023/day-anesth_surface_2016-11-14_6/experiment.sng.kwe\n",
      "2016-11-17 11:06:27,587 stimalign    INFO     Done\n",
      "2016-11-17 11:06:27,588 root         INFO     Aligning stim for super session day-anesth_surface_2016-11-14_5\n",
      "2016-11-17 11:06:27,627 root         DEBUG    H5 file: <HDF5 file \"experiment.raw.kwd\" (mode r)>\n",
      "2016-11-17 11:06:27,628 root         DEBUG    H5 file: <HDF5 file \"experiment.raw.kwd\" (mode r)>\n",
      "2016-11-17 11:06:27,629 root         DEBUG    Getting group of rec 0\n",
      "2016-11-17 11:06:27,648 stimalign    DEBUG    Rec origin: {'rec': 0, 'sess': 'anesth_surface_2016-11-14_12-31-56_5', 'base': 'experiment1_100', 'bird': 'z023'}\n",
      "2016-11-17 11:06:27,708 stimalign    INFO     Getting starts of stim bos_rev_tag\n",
      "2016-11-17 11:06:27,741 root         DEBUG    H5 file: <HDF5 file \"experiment1_100.raw.kwd\" (mode r)>\n",
      "2016-11-17 11:06:27,742 root         DEBUG    Getting dataset from rec 0\n",
      "2016-11-17 11:07:15,435 stimalign    INFO     Found 75 starts\n",
      "2016-11-17 11:07:15,445 stimalign    INFO     Stored in /mnt/cube/earneodo/bci_zf/ss_data/z023/day-anesth_surface_2016-11-14_5/experiment.sng.kwe\n",
      "2016-11-17 11:07:15,448 stimalign    INFO     Getting starts of stim bos_tag\n",
      "2016-11-17 11:07:15,451 root         DEBUG    H5 file: <HDF5 file \"experiment1_100.raw.kwd\" (mode r)>\n",
      "2016-11-17 11:07:15,452 root         DEBUG    Getting dataset from rec 0\n",
      "2016-11-17 11:07:17,476 stimalign    INFO     Found 75 starts\n",
      "2016-11-17 11:07:17,479 stimalign    INFO     Stored in /mnt/cube/earneodo/bci_zf/ss_data/z023/day-anesth_surface_2016-11-14_5/experiment.sng.kwe\n",
      "2016-11-17 11:07:17,482 stimalign    INFO     Done\n",
      "2016-11-17 11:07:17,483 root         INFO     Done with all sessions\n"
     ]
    }
   ],
   "source": [
    "# get all the song presentation events for a supersession\n",
    "bird_id = 'z023'\n",
    "super_sess_id = 'day-anesth_microwire_2016-11-14_100'\n",
    "\n",
    "#do it for all the sessions\n",
    "super_sess_list = et.list_sessions(bird_id)\n",
    "\n",
    "for super_sess_id in super_sess_list:\n",
    "    logger.info('Aligning stim for super session {0}'.format(super_sess_id))\n",
    "    stimalign.align_stim(bird_id, super_sess_id)\n",
    "\n",
    "logger.info('Done with all sessions')"
   ]
  },
  {
   "cell_type": "code",
   "execution_count": 9,
   "metadata": {
    "collapsed": true
   },
   "outputs": [],
   "source": [
    "from file_tools import experiment as et"
   ]
  },
  {
   "cell_type": "code",
   "execution_count": 10,
   "metadata": {
    "collapsed": false
   },
   "outputs": [
    {
     "data": {
      "text/plain": [
       "['day-anesth_surface_2016-11-14_0',\n",
       " 'day-anesth_surface_2016-11-14_7',\n",
       " 'day-anesth_microwire_2016-11-14_100',\n",
       " 'day-anesth_microwire_2016-11-14_101',\n",
       " 'day-anesth_surface_2016-11-14_6',\n",
       " 'day-anesth_surface_2016-11-14_5']"
      ]
     },
     "execution_count": 10,
     "metadata": {},
     "output_type": "execute_result"
    }
   ],
   "source": [
    "et.list_sessions(bird_id)"
   ]
  },
  {
   "cell_type": "code",
   "execution_count": null,
   "metadata": {
    "collapsed": true
   },
   "outputs": [],
   "source": []
  }
 ],
 "metadata": {
  "anaconda-cloud": {},
  "kernelspec": {
   "display_name": "Python [default]",
   "language": "python",
   "name": "python2"
  },
  "language_info": {
   "codemirror_mode": {
    "name": "ipython",
    "version": 2
   },
   "file_extension": ".py",
   "mimetype": "text/x-python",
   "name": "python",
   "nbconvert_exporter": "python",
   "pygments_lexer": "ipython2",
   "version": "2.7.12"
  }
 },
 "nbformat": 4,
 "nbformat_minor": 0
}
