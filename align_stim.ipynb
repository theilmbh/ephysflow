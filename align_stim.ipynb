{
 "cells": [
  {
   "cell_type": "code",
   "execution_count": 14,
   "metadata": {
    "collapsed": false
   },
   "outputs": [
    {
     "name": "stdout",
     "output_type": "stream",
     "text": [
      "Computer: passaro\n"
     ]
    }
   ],
   "source": [
    "# Definitions and functions\n",
    "%matplotlib inline\n",
    "import pdb\n",
    "import sys\n",
    "import pandas as pd\n",
    "import numpy as np\n",
    "import scipy.io as sio\n",
    "import matplotlib.pyplot as plt\n",
    "import matplotlib\n",
    "import scipy.signal as sg\n",
    "import math\n",
    "import scipy as sp\n",
    "import socket\n",
    "import os\n",
    "import wave\n",
    "import struct\n",
    "import h5py\n",
    "import yaml\n",
    "from scipy.io import wavfile\n",
    "from scipy.signal import spectrogram\n",
    "import logging\n",
    "from IPython.display import display\n",
    "matplotlib.style.use('ggplot')\n",
    "\n",
    "\n",
    "# Check wich computer to decide where the things are mounted\n",
    "comp_name=socket.gethostname()\n",
    "print 'Computer: ' + comp_name\n",
    "\n",
    "if 'txori' in comp_name or 'passaro' in comp_name or 'lintu' in comp_name:\n",
    "    repos_folder = os.path.abspath('/mnt/cube/earneodo/repos')\n",
    "    experiment_folder = os.path.join('/mnt/cube/earneodo/bci_zf/')\n",
    "\n",
    "sys.path.append(os.path.join(repos_folder, 'soundflow', 'sound_tools'))\n",
    "sys.path.append(os.path.join(repos_folder, 'ephysflow'))\n",
    "sys.path.append(os.path.join(repos_folder, 'analysis-tools'))\n",
    "sys.path.append(os.path.join(repos_folder, 'swissknife'))\n",
    "\n",
    "import soundtools as st\n",
    "import Kwik as oe\n",
    "from basic_viewing import h5_functions as h5\n",
    "\n",
    "from file_tools import experiment as et\n",
    "from h5tools import tables as h5t"
   ]
  },
  {
   "cell_type": "code",
   "execution_count": 15,
   "metadata": {
    "collapsed": true
   },
   "outputs": [],
   "source": [
    "def append_rows(table, new_data):\n",
    "    rows = table.shape[0]\n",
    "    more_rows = new_data.shape[0]\n",
    "    table.resize(rows + more_rows, axis=0)\n",
    "    if table.size == (rows + more_rows):\n",
    "        table[rows:] = new_data\n",
    "    else:\n",
    "        table[rows:,:] = new_data\n",
    "\n",
    "def unlimited_rows_data(group, table_name, data):\n",
    "    try:\n",
    "        table = group.create_dataset(table_name, \n",
    "                                     data=data, \n",
    "                                     dtype=data.dtype, \n",
    "                                     maxshape={None, None})\n",
    "    except RuntimeError as e:\n",
    "        if 'Name already exists' in str(e):\n",
    "            table = group[table_name]\n",
    "            append_rows(table, data)\n",
    "        else:\n",
    "            raise\n",
    "    return table\n",
    "\n",
    "def store_motiff(ev_file, rec, bout_starts, motiff_name):\n",
    "    motiff_group = ev_file.require_group('/event_types/singing/{0}'.format(motiff_name))\n",
    "    t_table = unlimited_rows_data(motiff_group, 'time_samples', bout_starts)\n",
    "    r_table = unlimited_rows_data(motiff_group, 'recording', \n",
    "                                  data=np.ones_like(bout_starts)*int(rec))"
   ]
  },
  {
   "cell_type": "code",
   "execution_count": 16,
   "metadata": {
    "collapsed": false
   },
   "outputs": [],
   "source": [
    "bird_id = 'z009'\n",
    "sess_id = 'anesth_surface_2016-11-04_16-19-47_5'\n",
    "super_sess_id = 'day-anesth_surface_2016-11-04_5'\n",
    "\n",
    "fn = et.file_names(bird_id, sess_id)\n",
    "\n",
    "ev_file_path = os.path.join(fn['folders']['rw'], 'experiment1.kwe')\n",
    "kwd_file_path = os.path.join(fn['folders']['rw'], 'experiment1_100.raw.kwd')\n",
    "\n",
    "new_fn = et.file_names(bird_id, sess_id)\n",
    "new_ev_file_path =  os.path.join(new_fn['folders']['ss'], new_fn['files']['stm'])\n",
    "\n",
    "h5file = h5py.File(ev_file_path, 'r')"
   ]
  },
  {
   "cell_type": "code",
   "execution_count": 17,
   "metadata": {
    "collapsed": false
   },
   "outputs": [],
   "source": [
    "def get_messages(h5file, rec_id=None, node=None):\n",
    "    rec_table = h5file['event_types']['Messages']['events']['recording'][:]\n",
    "    t_table = h5file['event_types']['Messages']['events']['time_samples'][:]\n",
    "    text_table = h5file['event_types']['Messages']['events']['user_data']['Text'][:]\n",
    "    node_table = h5file['event_types']['Messages']['events']['user_data']['nodeID'][:]\n",
    "    \n",
    "    return pd.DataFrame.from_items([('t', t_table),\n",
    "                                    ('text', text_table),\n",
    "                                    ('rec', rec_table),\n",
    "                                    ('node', node_table)])\n",
    "\n",
    "def get_trial_times(kwe_file):\n",
    "    all_msg = get_messages(kwe_file)\n",
    "    trials_df = all_msg[all_msg['text'].str.contains('trial_number')]\n",
    "    trial_times = trials_df.t.values.astype(np.int)\n",
    "    trial_numbers = [int(x.split()[-1]) for x in trials_df.text.values]\n",
    "    return pd.DataFrame.from_items([('t', trial_times - get_start_rec_times(kwe_file)), \n",
    "                                    ('trial', trial_numbers), \n",
    "                                    ('rec', trials_df['rec'].values)])\n",
    "\n",
    "def get_wave_times(kwe_file, wave_file=None):\n",
    "    all_msg = get_messages(kwe_file)\n",
    "    wav_df = all_msg[all_msg['text'].str.contains('play_wav')]\n",
    "    wav_times = wav_df.t.values.astype(np.int)\n",
    "    wav_names = [(x.split()[-1].split('/')[-1].split('.')[0]) for x in wav_df.text.values]\n",
    "    \n",
    "    wav_table =  pd.DataFrame.from_items([('t', wav_times - get_start_rec_times(kwe_file)), \n",
    "                                          ('stim_name', wav_names), \n",
    "                                          ('rec', wav_df['rec'].values)])\n",
    "    \n",
    "    if wave_file is not None:\n",
    "        wav_table = wav_table[wav_table['stim_name']==wave_file]\n",
    "    return wav_table\n",
    "\n",
    "def get_trial_bounds(stamp, tr_df):\n",
    "    trial_n = max(tr_df[tr_df.t<stamp].trial)\n",
    "    t_start = tr_df[tr_df.trial==trial_n].t.values[0]\n",
    "    try:\n",
    "        t_end = tr_df[tr_df.trial==trial_n + 1].t.values[0]\n",
    "    except:\n",
    "        t_end = None\n",
    "    return [t_start, t_end]\n",
    "    \n",
    "def get_start_rec_times(kwe_file):\n",
    "    all_msg = get_messages(kwe_file)\n",
    "    start_rec_df = all_msg[all_msg['text'].str.contains('start time')]\n",
    "    start_times = [long(x.split()[-1].split('@')[0]) for x in start_rec_df.text.values]\n",
    "    assert(len(start_times)==1), \"more or less than one recording start time\"\n",
    "    return start_times[0]\n",
    "\n",
    "def get_stims_list(kwe_file):\n",
    "    stims_table = get_wave_times(kwe_file)\n",
    "    return np.unique(stims_table.stim_name)\n",
    "    \n",
    "def find_first_peak(x, thresh_factor=0.5):\n",
    "    x = x - np.mean(x)\n",
    "    thresh = np.max(x) * thresh_factor\n",
    "    # find the peaks naively\n",
    "    a = x[1:-1] - x[2:]\n",
    "    b = x[1:-1] - x[:-2]\n",
    "    c = x[1:-1]\n",
    "    max_pos = np.where((a > 0) & (b > 0) & (c > thresh))[0]+1\n",
    "    return max_pos[0]\n",
    "\n",
    "def find_wav_onset(dset, chan, stamp, tr_df):\n",
    "    [start, end] = get_trial_bounds(stamp, tr_df)\n",
    "    trial_frame = h5.load_table_slice(dset, np.arange(start, end), [chan])\n",
    "    onset_in_trial = find_first_peak(trial_frame)\n",
    "    return start + onset_in_trial\n",
    "\n",
    "def get_stim_starts(kwe_file, kwd_file, rec, tag_chan, stim_name):\n",
    "    data_set = h5.get_data_set(kwd_file, rec)\n",
    "    trials = get_trial_times(kwe_file)\n",
    "    stim_times = get_wave_times(kwe_file, stim_name)\n",
    "    precise_starts = np.array([find_wav_onset(data_set, tag_chan, stamp, trials) for stamp in stim_times.t.values])\n",
    "    return precise_starts\n"
   ]
  },
  {
   "cell_type": "code",
   "execution_count": 18,
   "metadata": {
    "collapsed": false
   },
   "outputs": [
    {
     "name": "stdout",
     "output_type": "stream",
     "text": [
      "{'rec': 0, 'sess': 'anesth_surface_2016-11-04_16-19-47_5', 'base': 'experiment1_100', 'bird': 'z009'}\n",
      "bos_rev_tag\n",
      "[ 3731893  5524029  7871678 10700714 11763247 12551828 14698095 16674598\n",
      " 17440619 19539098 21346349 21891631 22390158 24287525 24941381 24941381\n",
      " 35558393 38395349 42023325 45124006 47142178]\n",
      "bos_tag\n",
      "[  181627  1361213  1736040  4332230  6175688  9464440 10973913 11235900\n",
      " 13268113 24663894 26360329 27848392 28028205 28897684 30077966 31329450\n",
      " 33361182 33766116 36269309 39545844 41191752 43022980 44801491 45801113\n",
      " 47652727]\n"
     ]
    }
   ],
   "source": [
    "# get all the song presentation events for a supersession\n",
    "bird_id = 'z009'\n",
    "sess_id = 'anesth_surface_2016-11-04_16-19-47_5'\n",
    "super_sess_id = 'day-anesth_surface_2016-11-04_5'\n",
    "\n",
    "ss_fn = et.file_names(bird_id, super_sess_id)\n",
    "mot_file_path = et.file_path(ss_fn, 'ss', 'sng')\n",
    "super_sess_path = et.file_path(ss_fn, 'ss', 'ss_raw')\n",
    "\n",
    "rec_list = et.get_rec_list(bird_id, super_sess_id)\n",
    "for rec in rec_list:\n",
    "    #get the rec events file\n",
    "    rec_origin = h5.get_rec_origin(super_sess_path, rec)\n",
    "    print rec_origin\n",
    "    origin_fn = et.file_names(bird_id, rec_origin['sess'], base=rec_origin['base'])\n",
    "    \n",
    "    rec_ev_file_path = et.file_path(origin_fn, 'rw', 'evt')\n",
    "    rec_kwd_file_path = et.file_path(origin_fn, 'rw', 'ss_raw')\n",
    "    \n",
    "    # read the raw parameters file and get the tag channel\n",
    "    par_file_path = et.file_path(et.file_names(bird_id, rec_origin['sess']), 'rw', 'par')\n",
    "    with open(os.path.join(fn['folders']['rw'], fn['files']['par']), 'r') as f:\n",
    "        pars = yaml.load(f)\n",
    "    tag_chan = int(pars['channel_config']['sts'])\n",
    "    \n",
    "    with h5py.File(rec_ev_file_path, 'r') as rec_ev_file:\n",
    "        for stim_id in get_stims_list(rec_ev_file):\n",
    "            print stim_id\n",
    "            store_starts = get_stim_starts(rec_ev_file, rec_kwd_file_path, \n",
    "                                           rec_origin['rec'], tag_chan, stim_id)\n",
    "            print store_starts\n",
    "            with h5py.File(mot_file_path, 'a') as mot_file:\n",
    "                store_motiff(mot_file, rec, store_starts, stim_id)"
   ]
  },
  {
   "cell_type": "code",
   "execution_count": 19,
   "metadata": {
    "collapsed": false
   },
   "outputs": [
    {
     "data": {
      "text/plain": [
       "'/mnt/cube/earneodo/bci_zf/raw_data/z009/anesth_surface_2016-11-04_16-19-47_5/experiment.par.yml'"
      ]
     },
     "execution_count": 19,
     "metadata": {},
     "output_type": "execute_result"
    }
   ],
   "source": [
    "os.path.join(fn['folders']['rw'], fn['files']['par'])"
   ]
  },
  {
   "cell_type": "code",
   "execution_count": 21,
   "metadata": {
    "collapsed": false
   },
   "outputs": [
    {
     "data": {
      "text/plain": [
       "array([  181627,  1361213,  1736040,  4332230,  6175688,  9464440,\n",
       "       10973913, 11235900, 13268113, 24663894, 26360329, 27848392,\n",
       "       28028205, 28897684, 30077966, 31329450, 33361182, 33766116,\n",
       "       36269309, 39545844, 41191752, 43022980, 44801491, 45801113, 47652727])"
      ]
     },
     "execution_count": 21,
     "metadata": {},
     "output_type": "execute_result"
    }
   ],
   "source": [
    "store_starts"
   ]
  },
  {
   "cell_type": "code",
   "execution_count": 12,
   "metadata": {
    "collapsed": false
   },
   "outputs": [],
   "source": [
    "pars = et.get_parameters(bird_id, rec_origin['sess'], location='rw')"
   ]
  },
  {
   "cell_type": "code",
   "execution_count": 20,
   "metadata": {
    "collapsed": false
   },
   "outputs": [
    {
     "data": {
      "text/plain": [
       "{'channel_config': {'mic': 67,\n",
       "  'neural': [15,\n",
       "   16,\n",
       "   17,\n",
       "   18,\n",
       "   19,\n",
       "   20,\n",
       "   21,\n",
       "   22,\n",
       "   23,\n",
       "   24,\n",
       "   25,\n",
       "   26,\n",
       "   27,\n",
       "   28,\n",
       "   29,\n",
       "   30,\n",
       "   31,\n",
       "   32,\n",
       "   33,\n",
       "   34,\n",
       "   35,\n",
       "   36,\n",
       "   37,\n",
       "   38,\n",
       "   39,\n",
       "   40,\n",
       "   41,\n",
       "   42,\n",
       "   43,\n",
       "   44,\n",
       "   45,\n",
       "   46],\n",
       "  'ser': 69,\n",
       "  'sts': 68},\n",
       " 'probe': {'coord': [2300, 0, 0], 'model': 'None', 'serial': 'lhs2001b2'},\n",
       " 'rec_config': {'processors': {'data': 100, 'evt': 102}},\n",
       " 'search_motiff': {'corr_thresh': 0.85,\n",
       "  'filt_hi': 400,\n",
       "  'filt_lo': 10000,\n",
       "  'motiff_patterns': {'bos_rev_tag': 'bos_rev_tag.wav',\n",
       "   'bos_tag': 'bos_tag.wav'},\n",
       "  'n_overlap': 192,\n",
       "  'n_window': 256,\n",
       "  'onset_resolution': 1,\n",
       "  'rms_threshold': 2.0,\n",
       "  'rolling_method': 'pandas',\n",
       "  'sigma_factor': 0.001,\n",
       "  'window_env': 500}}"
      ]
     },
     "execution_count": 20,
     "metadata": {},
     "output_type": "execute_result"
    }
   ],
   "source": [
    "pars."
   ]
  },
  {
   "cell_type": "code",
   "execution_count": 7,
   "metadata": {
    "collapsed": false
   },
   "outputs": [
    {
     "data": {
      "text/plain": [
       "'/mnt/cube/earneodo/bci_zf/raw_data/z009/anesth_surface_2016-11-04_16-19-47_5/experiment.par.yml'"
      ]
     },
     "execution_count": 7,
     "metadata": {},
     "output_type": "execute_result"
    }
   ],
   "source": [
    "os.path.join(fn['folders']['rw'], fn['files']['par'])"
   ]
  },
  {
   "cell_type": "code",
   "execution_count": 6,
   "metadata": {
    "collapsed": false
   },
   "outputs": [
    {
     "data": {
      "text/plain": [
       "{'files': {'base': 'experiment',\n",
       "  'cand': 'experiment.mot.h5',\n",
       "  'evt': 'experiment.kwe',\n",
       "  'kk_par': 'params.prm',\n",
       "  'kk_prb': '*.prb',\n",
       "  'ks_cfg': 'config.m',\n",
       "  'ks_map': 'chanMap.mat',\n",
       "  'ks_mas': 'master.m',\n",
       "  'ks_par': 'params.py',\n",
       "  'mic': 'experiment-rec_000.mic.wav',\n",
       "  'par': 'experiment.par.yml',\n",
       "  'sng': 'experiment.sng.kwe',\n",
       "  'ss_bin': 'experiment.dat',\n",
       "  'ss_par': 'experiment.par.yml',\n",
       "  'ss_raw': 'experiment.raw.kwd',\n",
       "  'stm': 'experiment.stm.kwe',\n",
       "  'sts': 'experiment-rec_000.sts.wav'},\n",
       " 'folders': {'kai': '/mnt/cube/kai/results/z009/anesth_surface_2016-11-04_16-19-47_5',\n",
       "  'prb': '/mnt/cube/earneodo/bci_zf/probes',\n",
       "  'raw': '/usr/local/experiment/raw_data/z009/anesth_surface_2016-11-04_16-19-47_5',\n",
       "  'rw': '/mnt/cube/earneodo/bci_zf/raw_data/z009/anesth_surface_2016-11-04_16-19-47_5',\n",
       "  'ss': '/mnt/cube/earneodo/bci_zf/ss_data/z009/anesth_surface_2016-11-04_16-19-47_5',\n",
       "  'stim': '/mnt/cube/earneodo/bci_zf/stim_data/z009/anesth_surface_2016-11-04_16-19-47_5',\n",
       "  'templ': '/mnt/cube/earneodo/bci_zf/templates',\n",
       "  'tmp': '/usr/local/experiment/tmp_data/z009/anesth_surface_2016-11-04_16-19-47_5'}}"
      ]
     },
     "execution_count": 6,
     "metadata": {},
     "output_type": "execute_result"
    }
   ],
   "source": [
    "fn"
   ]
  },
  {
   "cell_type": "code",
   "execution_count": 47,
   "metadata": {
    "collapsed": false
   },
   "outputs": [
    {
     "data": {
      "text/plain": [
       "<module 'file_tools.experiment' from 'file_tools/experiment.py'>"
      ]
     },
     "execution_count": 47,
     "metadata": {},
     "output_type": "execute_result"
    }
   ],
   "source": [
    "reload(h5)\n",
    "reload(et)"
   ]
  }
 ],
 "metadata": {
  "kernelspec": {
   "display_name": "Python 2",
   "language": "python",
   "name": "python2"
  },
  "language_info": {
   "codemirror_mode": {
    "name": "ipython",
    "version": 2
   },
   "file_extension": ".py",
   "mimetype": "text/x-python",
   "name": "python",
   "nbconvert_exporter": "python",
   "pygments_lexer": "ipython2",
   "version": "2.7.12"
  }
 },
 "nbformat": 4,
 "nbformat_minor": 0
}
