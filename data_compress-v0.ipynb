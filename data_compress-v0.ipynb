{
 "cells": [
  {
   "cell_type": "code",
   "execution_count": 1,
   "metadata": {
    "collapsed": false
   },
   "outputs": [
    {
     "name": "stdout",
     "output_type": "stream",
     "text": [
      "Computer: passaro\n"
     ]
    },
    {
     "name": "stderr",
     "output_type": "stream",
     "text": [
      "2017-02-08 16:08:39,358 root         DEBUG    All modules loaded\n"
     ]
    }
   ],
   "source": [
    "# Definitions and functions\n",
    "%matplotlib inline\n",
    "from __future__ import division\n",
    "import pdb\n",
    "import sys\n",
    "import pandas as pd\n",
    "import numpy as np\n",
    "import scipy.io as sio\n",
    "import matplotlib.pyplot as plt\n",
    "import matplotlib\n",
    "import scipy.signal as sg\n",
    "import math\n",
    "import scipy as sp\n",
    "import socket\n",
    "import os\n",
    "import wave\n",
    "import struct\n",
    "import h5py\n",
    "from scipy.io import wavfile\n",
    "from scipy.signal import spectrogram\n",
    "import logging\n",
    "from IPython.display import display\n",
    "matplotlib.style.use('ggplot')\n",
    "from ipywidgets import *\n",
    "import yaml\n",
    "import numpy.lib.recfunctions as rfn \n",
    "import numpy.matlib as npm\n",
    "import glob\n",
    "import tarfile as trf\n",
    "from contextlib import closing \n",
    "\n",
    "# Check wich computer to decide where the things are mounted\n",
    "comp_name=socket.gethostname()\n",
    "print('Computer: ' + comp_name)\n",
    "\n",
    "if 'txori' in comp_name or 'passaro' in comp_name or 'lintu' in comp_name:\n",
    "    repos_folder = os.path.abspath('/mnt/cube/earneodo/repos')\n",
    "    experiment_folder = os.path.join('/mnt/cube/earneodo/bci_zf/')\n",
    "\n",
    "sys.path.append(os.path.join(repos_folder, 'ephysflow'))\n",
    "sys.path.append(os.path.join(repos_folder, 'swissknife'))\n",
    "\n",
    "# Careful with these: basic_viewing should be replaced soon\n",
    "from basic_viewing import events as evt\n",
    "# from basic_viewing.structure import kwik_functions as kwkf\n",
    "# from basic_viewing.structure.core import h5_functions as kwdf\n",
    "\n",
    "from bci.core import kwik_functions as kwkf\n",
    "from bci.core.file import h5_functions as kwdf \n",
    "from bci.core import expstruct as et\n",
    "from archivetools import tar as tt\n",
    "\n",
    "\n",
    "logger = logging.getLogger()\n",
    "handler = logging.StreamHandler()\n",
    "formatter = logging.Formatter(\n",
    "        '%(asctime)s %(name)-12s %(levelname)-8s %(message)s')\n",
    "handler.setFormatter(formatter)\n",
    "logger.addHandler(handler)\n",
    "logger.setLevel(logging.DEBUG)\n",
    "\n",
    "\n",
    "\n",
    "logger.debug('All modules loaded')"
   ]
  },
  {
   "cell_type": "code",
   "execution_count": 2,
   "metadata": {
    "collapsed": false
   },
   "outputs": [
    {
     "data": {
      "text/plain": [
       "True"
      ]
     },
     "execution_count": 2,
     "metadata": {},
     "output_type": "execute_result"
    }
   ],
   "source": [
    "sys.version_info[0] >= 3"
   ]
  },
  {
   "cell_type": "code",
   "execution_count": 15,
   "metadata": {
    "collapsed": false
   },
   "outputs": [],
   "source": [
    "# bird and session\n",
    "bird = 'z020'\n",
    "#sess = 'day-anesth_surface_2016-11-14_6'\n",
    "#stim_sess = '001'\n",
    "\n",
    "#exp_par = et.get_parameters(bird, sess)\n",
    "#fn = et.file_names(bird, sess)"
   ]
  },
  {
   "cell_type": "code",
   "execution_count": 37,
   "metadata": {
    "collapsed": false,
    "scrolled": true
   },
   "outputs": [
    {
     "name": "stderr",
     "output_type": "stream",
     "text": [
      "2017-01-29 01:59:38,505 archivetools.tar INFO     Will compress folder 2016-06-16_16-28-28_150 from /Data/bci_zf/raw_data/z017 into /usr/local/experiment/tests/2016-06-16_16-28-28_150.tar.\n",
      "2017-01-29 01:59:38,512 archivetools.tar DEBUG    md5_wrapper: entered /Data/bci_zf/raw_data/z017/2016-06-16_16-28-28_150/experiment1.kwx\n",
      "2017-01-29 01:59:38,513 archivetools.tar DEBUG    Adding /Data/bci_zf/raw_data/z017/2016-06-16_16-28-28_150/experiment1.kwx as experiment1.kwx\n",
      "2017-01-29 01:59:38,664 archivetools.tar DEBUG    md5_wrapper: entered /Data/bci_zf/raw_data/z017/2016-06-16_16-28-28_150/experiment1.kwe\n",
      "2017-01-29 01:59:38,665 archivetools.tar DEBUG    Adding /Data/bci_zf/raw_data/z017/2016-06-16_16-28-28_150/experiment1.kwe as experiment1.kwe\n",
      "2017-01-29 01:59:38,667 archivetools.tar DEBUG    md5_wrapper: entered /Data/bci_zf/raw_data/z017/2016-06-16_16-28-28_150/settings.xml\n",
      "2017-01-29 01:59:38,669 archivetools.tar DEBUG    Adding /Data/bci_zf/raw_data/z017/2016-06-16_16-28-28_150/settings.xml as settings.xml\n",
      "2017-01-29 01:59:38,671 archivetools.tar DEBUG    md5_wrapper: entered /Data/bci_zf/raw_data/z017/2016-06-16_16-28-28_150/20MB.zip\n",
      "2017-01-29 01:59:38,748 archivetools.tar DEBUG    Adding /Data/bci_zf/raw_data/z017/2016-06-16_16-28-28_150/20MB.zip as 20MB.zip\n",
      "2017-01-29 01:59:38,780 archivetools.tar DEBUG    md5_wrapper: entered /Data/bci_zf/raw_data/z017/2016-06-16_16-28-28_150/subfolder/settings_2.xml\n",
      "2017-01-29 01:59:38,781 archivetools.tar DEBUG    Adding /Data/bci_zf/raw_data/z017/2016-06-16_16-28-28_150/subfolder/settings_2.xml as subfolder/settings_2.xml\n",
      "2017-01-29 01:59:38,787 archivetools.tar INFO     done archiving, computing md5 hash of archive\n",
      "2017-01-29 01:59:38,788 archivetools.tar DEBUG    md5_wrapper: entered /usr/local/experiment/tests/2016-06-16_16-28-28_150.tar.\n",
      "2017-01-29 01:59:38,842 archivetools.tar INFO     done\n",
      "2017-01-29 01:59:38,843 archivetools.tar INFO     Getting checksums of files in archive <tarfile.TarFile object at 0x7f5b13e4b6a0>\n",
      "2017-01-29 01:59:38,844 archivetools.tar DEBUG    md5_wrapper: entered <ExFileObject name='/usr/local/experiment/tests/2016-06-16_16-28-28_150.tar.'>\n",
      "2017-01-29 01:59:38,845 archivetools.tar DEBUG    md5_wrapper: enterd a fileobject to an md5 function\n",
      "2017-01-29 01:59:38,845 archivetools.tar DEBUG    experiment1.kwx, md5:8d9eb374b9851a13ba15721073a4d7b2\n",
      "2017-01-29 01:59:38,846 archivetools.tar DEBUG    md5_wrapper: entered <ExFileObject name='/usr/local/experiment/tests/2016-06-16_16-28-28_150.tar.'>\n",
      "2017-01-29 01:59:38,847 archivetools.tar DEBUG    md5_wrapper: enterd a fileobject to an md5 function\n",
      "2017-01-29 01:59:38,848 archivetools.tar DEBUG    experiment1.kwe, md5:dd101d71a082ee620d78c2a33f4c4bca\n",
      "2017-01-29 01:59:38,849 archivetools.tar DEBUG    md5_wrapper: entered <ExFileObject name='/usr/local/experiment/tests/2016-06-16_16-28-28_150.tar.'>\n",
      "2017-01-29 01:59:38,850 archivetools.tar DEBUG    md5_wrapper: enterd a fileobject to an md5 function\n",
      "2017-01-29 01:59:38,851 archivetools.tar DEBUG    settings.xml, md5:843efbe30d8b62b7cf527b09fc7167f6\n",
      "2017-01-29 01:59:38,852 archivetools.tar DEBUG    md5_wrapper: entered <ExFileObject name='/usr/local/experiment/tests/2016-06-16_16-28-28_150.tar.'>\n",
      "2017-01-29 01:59:38,852 archivetools.tar DEBUG    md5_wrapper: enterd a fileobject to an md5 function\n",
      "2017-01-29 01:59:38,951 archivetools.tar DEBUG    20MB.zip, md5:9017804333c820e3b4249130fc989e00\n",
      "2017-01-29 01:59:38,952 archivetools.tar DEBUG    md5_wrapper: entered <ExFileObject name='/usr/local/experiment/tests/2016-06-16_16-28-28_150.tar.'>\n",
      "2017-01-29 01:59:38,953 archivetools.tar DEBUG    md5_wrapper: enterd a fileobject to an md5 function\n",
      "2017-01-29 01:59:38,954 archivetools.tar DEBUG    subfolder/settings_2.xml, md5:fbc693b4b88f59539cf1c235132f7fab\n",
      "2017-01-29 01:59:38,955 archivetools.tar INFO     Done checking\n",
      "2017-01-29 01:59:38,956 archivetools.tar INFO     Getting checksums of files in archive <tarfile.TarFile object at 0x7f5b13e4b518>\n",
      "2017-01-29 01:59:38,957 archivetools.tar DEBUG    md5_wrapper: entered <ExFileObject name='/usr/local/experiment/tests/2016-06-16_16-28-28_150.tar.'>\n",
      "2017-01-29 01:59:38,958 archivetools.tar DEBUG    md5_wrapper: enterd a fileobject to an md5 function\n",
      "2017-01-29 01:59:38,959 archivetools.tar DEBUG    experiment1.kwx, md5:8d9eb374b9851a13ba15721073a4d7b2\n",
      "2017-01-29 01:59:38,960 archivetools.tar DEBUG    md5_wrapper: entered <ExFileObject name='/usr/local/experiment/tests/2016-06-16_16-28-28_150.tar.'>\n",
      "2017-01-29 01:59:38,961 archivetools.tar DEBUG    md5_wrapper: enterd a fileobject to an md5 function\n",
      "2017-01-29 01:59:38,962 archivetools.tar DEBUG    experiment1.kwe, md5:dd101d71a082ee620d78c2a33f4c4bca\n",
      "2017-01-29 01:59:38,963 archivetools.tar DEBUG    md5_wrapper: entered <ExFileObject name='/usr/local/experiment/tests/2016-06-16_16-28-28_150.tar.'>\n",
      "2017-01-29 01:59:38,964 archivetools.tar DEBUG    md5_wrapper: enterd a fileobject to an md5 function\n",
      "2017-01-29 01:59:38,965 archivetools.tar DEBUG    settings.xml, md5:843efbe30d8b62b7cf527b09fc7167f6\n",
      "2017-01-29 01:59:38,966 archivetools.tar DEBUG    md5_wrapper: entered <ExFileObject name='/usr/local/experiment/tests/2016-06-16_16-28-28_150.tar.'>\n",
      "2017-01-29 01:59:38,967 archivetools.tar DEBUG    md5_wrapper: enterd a fileobject to an md5 function\n",
      "2017-01-29 01:59:39,056 archivetools.tar DEBUG    20MB.zip, md5:9017804333c820e3b4249130fc989e00\n",
      "2017-01-29 01:59:39,058 archivetools.tar DEBUG    md5_wrapper: entered <ExFileObject name='/usr/local/experiment/tests/2016-06-16_16-28-28_150.tar.'>\n",
      "2017-01-29 01:59:39,058 archivetools.tar DEBUG    md5_wrapper: enterd a fileobject to an md5 function\n",
      "2017-01-29 01:59:39,060 archivetools.tar DEBUG    subfolder/settings_2.xml, md5:fbc693b4b88f59539cf1c235132f7fab\n",
      "2017-01-29 01:59:39,061 archivetools.tar INFO     Done checking\n"
     ]
    }
   ],
   "source": [
    "import importlib\n",
    "importlib.reload(tt)\n",
    "d_f, md_arch, md_list = tt.compress_folder(os.path.join(arch_fold, arch_sess), '/usr/local/experiment/tests')\n",
    "check_list, _ = tt.check_tar_archive(d_f)\n",
    "checked_list, check_ok = tt.check_tar_archive(d_f, md_checklist=check_list)"
   ]
  },
  {
   "cell_type": "code",
   "execution_count": 62,
   "metadata": {
    "collapsed": false
   },
   "outputs": [
    {
     "name": "stderr",
     "output_type": "stream",
     "text": [
      "2017-01-27 19:27:59,539 root         DEBUG    changing into '/Data/bci_zf/raw_data/z017/2016-06-16_16-28-28_150'\n",
      "2017-01-27 19:27:59,541 root         INFO     Creating tar archive\n",
      "2017-01-27 19:27:59,826 root         DEBUG    changing back to '/mnt/cube/earneodo/repos/ephysflow'\n"
     ]
    }
   ],
   "source": [
    "# A more efficient way, codewise, but not the way I like it\n",
    "import shutil as sh\n",
    "arname = sh.make_archive(os.path.join(arch_fold, arch_sess), 'xztar',\n",
    "                         root_dir=os.path.join(arch_fold, arch_sess),\n",
    "                         base_dir='./',\n",
    "                         logger=logger)"
   ]
  },
  {
   "cell_type": "code",
   "execution_count": 5,
   "metadata": {
    "collapsed": false
   },
   "outputs": [],
   "source": [
    "import shutil\n",
    "\n",
    "import importlib"
   ]
  },
  {
   "cell_type": "code",
   "execution_count": 23,
   "metadata": {
    "collapsed": false
   },
   "outputs": [],
   "source": [
    "from bci.core.file import file_functions as ff\n",
    "importlib.reload(ff)\n",
    "fn_b = et.flex_file_names(bird, location='experiment')\n",
    "l_cube = ff.list_folders(fn_b['folders']['raw'])\n",
    "\n",
    "fn_store = et.flex_file_names(bird, location='store')\n",
    "l_store = ff.list_folders(fn_store['folders']['raw'])\n",
    "\n",
    "fn_store = et.flex_file_names(bird, location='experiment_local')\n",
    "l_local=ff.list_folders(fn_store['folders']['raw'])\n",
    "\n",
    "fn_archive = et.flex_file_names(bird, location='archive')\n",
    "l_archived = ff.list_folders(fn_archive['folders']['raw'])"
   ]
  },
  {
   "cell_type": "code",
   "execution_count": 24,
   "metadata": {
    "collapsed": false
   },
   "outputs": [
    {
     "data": {
      "text/plain": [
       "{'folders': {'prb': '/mnt/cube/earneodo/archive/bci_zf/probes',\n",
       "  'raw': '/mnt/cube/earneodo/archive/bci_zf/raw_data/z020/',\n",
       "  'rw': '/mnt/cube/earneodo/archive/bci_zf/raw_data/z020/',\n",
       "  'ss': '/mnt/cube/earneodo/archive/bci_zf/ss_data/z020/',\n",
       "  'stim': '/mnt/cube/earneodo/archive/bci_zf/stim_data/z020/',\n",
       "  'templ': '/mnt/cube/earneodo/archive/bci_zf/templates',\n",
       "  'tmp': '/mnt/cube/earneodo/archive/bci_zf/tmp_data/z020/'},\n",
       " 'locations': {'archive': '/mnt/cube/earneodo/archive/bci_zf',\n",
       "  'experiment': '/mnt/cube/earneodo/bci_zf',\n",
       "  'experiment_local': '/usr/local/experiment',\n",
       "  'repos': '/mnt/cube/earneodo/repos',\n",
       "  'scratch': '/usr/local/experiment/scratchpad',\n",
       "  'store': '/Data/bci_zf'},\n",
       " 'structure': {'cand': 'experiment.mot.h5',\n",
       "  'evt': 'experiment.kwe',\n",
       "  'kk_par': 'params.prm',\n",
       "  'kk_prb': '*.prb',\n",
       "  'ks_cfg': 'config.m',\n",
       "  'ks_map': 'chanMap.mat',\n",
       "  'ks_mas': 'master.m',\n",
       "  'ks_par': 'params.py',\n",
       "  'mic': 'experiment-rec_000.mic.wav',\n",
       "  'par': 'experiment.par.yml',\n",
       "  'sng': 'experiment.sng.kwe',\n",
       "  'ss_bin': 'experiment.dat',\n",
       "  'ss_par': 'experiment.par.yml',\n",
       "  'ss_raw': 'experiment.raw.kwd',\n",
       "  'stm': 'experiment.stm.kwe',\n",
       "  'structure': 'experiment',\n",
       "  'sts': 'experiment-rec_000.sts.wav'}}"
      ]
     },
     "execution_count": 24,
     "metadata": {},
     "output_type": "execute_result"
    }
   ],
   "source": [
    "fn_archive"
   ]
  },
  {
   "cell_type": "code",
   "execution_count": 18,
   "metadata": {
    "collapsed": false,
    "scrolled": true
   },
   "outputs": [
    {
     "data": {
      "text/plain": [
       "['/mnt/cube/earneodo/bci_zf/raw_data/z020/2016-06-03_10-53-56_100',\n",
       " '/mnt/cube/earneodo/bci_zf/raw_data/z020/001',\n",
       " '/mnt/cube/earneodo/bci_zf/raw_data/z020/2016-06-02_20-22-38_100',\n",
       " '/mnt/cube/earneodo/bci_zf/raw_data/z020/2016-06-02_11-10-42_2100_00',\n",
       " '/mnt/cube/earneodo/bci_zf/raw_data/z020/sleep_remote_2016-06-05_00-54-57_100',\n",
       " '/mnt/cube/earneodo/bci_zf/raw_data/z020/2016-06-06_10-47-28_150',\n",
       " '/mnt/cube/earneodo/bci_zf/raw_data/z020/2016-06-08_15-28-10_150',\n",
       " '/mnt/cube/earneodo/bci_zf/raw_data/z020/2016-06-05_07-51-42_100',\n",
       " '/mnt/cube/earneodo/bci_zf/raw_data/z020/2016-06-03_16-12-39_100',\n",
       " '/mnt/cube/earneodo/bci_zf/raw_data/z020/2016-06-15_14-05-24_150',\n",
       " '/mnt/cube/earneodo/bci_zf/raw_data/z020/2016-06-06_09-15-56_150',\n",
       " '/mnt/cube/earneodo/bci_zf/raw_data/z020/2016-06-27_16-33-20_225',\n",
       " '/mnt/cube/earneodo/bci_zf/raw_data/z020/2016-06-05_11-18-10_150',\n",
       " '/mnt/cube/earneodo/bci_zf/raw_data/z020/2016-06-02_19-16-11_2100',\n",
       " '/mnt/cube/earneodo/bci_zf/raw_data/z020/2016-06-14_17-58-26_150',\n",
       " '/mnt/cube/earneodo/bci_zf/raw_data/z020/2016-06-02_14-15-45_100',\n",
       " '/mnt/cube/earneodo/bci_zf/raw_data/z020/2016-06-02_11-10-42_2100',\n",
       " '/mnt/cube/earneodo/bci_zf/raw_data/z020/sleep_2016-06-05_00-41-24_100']"
      ]
     },
     "execution_count": 18,
     "metadata": {},
     "output_type": "execute_result"
    }
   ],
   "source": [
    "l_cube"
   ]
  },
  {
   "cell_type": "code",
   "execution_count": 22,
   "metadata": {
    "collapsed": false
   },
   "outputs": [
    {
     "name": "stdout",
     "output_type": "stream",
     "text": [
      "/Data/bci_zf/raw_data/z020/2016-06-04_17-46-03_100\n"
     ]
    }
   ],
   "source": [
    "for i in l_local + l_store:\n",
    "    if not os.path.split(i)[-1] in [os.path.split(l)[-1] for l in l_cube]:\n",
    "        print(i)\n",
    "        shutil.copytree(i, os.path.join(fn_b['folders']['raw'], os.path.split(i)[-1]))"
   ]
  },
  {
   "cell_type": "code",
   "execution_count": 30,
   "metadata": {
    "collapsed": false
   },
   "outputs": [],
   "source": [
    "def archive_data(bird, sess, \n",
    "                 fold_type = 'raw', \n",
    "                 locations={'orig': 'store', \n",
    "                            'dest':'archive', \n",
    "                            'scratch':'scratch'}, \n",
    "                 mode='xz',\n",
    "                 use_scratch=False):\n",
    "    # mode options ''(no compression), 'xz','gz', 'bz2' refer to tarfile modes.\n",
    "    # scratch is optional\n",
    "    \n",
    "    logger.info('Will archive {0} data from bird {1}, sess {2}'.format(fold_type, bird, sess))\n",
    "    f_struct = {key : et.flex_file_names(bird, sess, location=item) for key, item in locations.items()}\n",
    "    f_struct['dest'] = et.flex_file_names(bird, location=locations['dest'])\n",
    "    \n",
    "    source_folder = f_struct['orig']['folders'][fold_type]\n",
    "    logger.info('Source folder: {}'.format(source_folder))\n",
    "    \n",
    "    \n",
    "    if use_scratch:\n",
    "        logger.debug('Using scratch')\n",
    "        tmp_folder = f_struct['scratch']['folders']['tmp']\n",
    "        dest_folder = f_struct['scratch']['folders'][fold_type]\n",
    "        logger.info('Will copy source into tmp {0}\\n and use as source_folder'.format(tmp_folder))\n",
    "        logger.info('Cleaning up temp folder')\n",
    "        shutil.rmtree(tmp_folder)\n",
    "        shutil.copytree(source_folder,tmp_folder)\n",
    "        source_folder = tmp_folder\n",
    "        logger.debug('Source folder is now {0}\\n'.format(source_folder))\n",
    "\n",
    "        \n",
    "    else:\n",
    "        dest_folder = f_struct['dest']['folders'][fold_type]\n",
    "    assert(not (source_folder == dest_folder))\n",
    "        \n",
    "    shutil.rmtree(dest_folder)\n",
    "    et.mkdir_p(dest_folder)\n",
    "    logger.info('Dest folder: {}'.format(dest_folder))\n",
    "    d_f, md_arch, md_list = tt.compress_folder(source_folder, dest_folder, mode='w:{}'.format(mode))\n",
    "    check_list, check_ok = tt.check_tar_archive(d_f, md_checklist=md_list)\n",
    "    \n",
    "    if not check_ok:\n",
    "        raise RuntimeError('Archive {} md5 hashes dont match the originals')\n",
    "    \n",
    "    if use_scratch:\n",
    "        logger.debug('Have to move from sctratch to dest')\n",
    "        final_dest_folder = f_struct['dest']['folders'][fold_type]\n",
    "        logger.info('Final dest folder: {}'.format(final_dest_folder))\n",
    "        shutil.move(dest_folder, final_dest_folder)\n",
    "        logger.debug('Cleaning up tmp folder {}'.format(tmp_folder))\n",
    "        shutil.rmtree(tmp_folder)\n",
    "    \n",
    "    return f_struct, check_list\n",
    "\n",
    "#fstru, chk = archive_data(bird, arch_sess, use_scratch=True)"
   ]
  },
  {
   "cell_type": "code",
   "execution_count": 32,
   "metadata": {
    "collapsed": false
   },
   "outputs": [
    {
     "data": {
      "text/plain": [
       "'/usr/local/experiment/scratchpad/tmp_data/z017/2016-07-11_14-49-38_225'"
      ]
     },
     "execution_count": 32,
     "metadata": {},
     "output_type": "execute_result"
    }
   ],
   "source": [
    "fstru['scratch']['folders']['tmp']"
   ]
  },
  {
   "cell_type": "code",
   "execution_count": 34,
   "metadata": {
    "collapsed": false
   },
   "outputs": [
    {
     "data": {
      "text/plain": [
       "'/mnt/cube/earneodo/bci_zf/raw_data/z017/2016-07-11_14-49-38_225'"
      ]
     },
     "execution_count": 34,
     "metadata": {},
     "output_type": "execute_result"
    }
   ],
   "source": [
    "fstru['orig']['folders'][data_folder]"
   ]
  },
  {
   "cell_type": "code",
   "execution_count": 30,
   "metadata": {
    "collapsed": true
   },
   "outputs": [],
   "source": [
    "data_folder = 'raw'\n",
    "log_fn = et.file_names(bird)\n",
    "log_file_path = os.path.join(log_fn['folders']['ss'], \n",
    "                             'archive_all_{}.log'.format(data_folder))\n",
    "fh = logging.FileHandler(log_file_path)\n",
    "formatter = logging.Formatter('%(asctime)s - %(threadName)-10s - %(levelname)s - %(message)s')\n",
    "fh.setFormatter(formatter)\n",
    "# add the handlers to the logger\n",
    "logger.addHandler(fh)"
   ]
  },
  {
   "cell_type": "code",
   "execution_count": null,
   "metadata": {
    "collapsed": false
   },
   "outputs": [
    {
     "name": "stderr",
     "output_type": "stream",
     "text": [
      "2017-02-01 10:22:58,422 root         INFO     Archiving /mnt/cube/earneodo/bci_zf/raw_data/z017/2016-07-11_14-49-38_225\n",
      "2017-02-01 10:22:58,439 root         INFO     Will archive raw data from bird z017, sess 2016-07-11_14-49-38_225\n",
      "2017-02-01 10:22:58,444 root         INFO     Source folder: /mnt/cube/earneodo/bci_zf/raw_data/z017/2016-07-11_14-49-38_225\n",
      "2017-02-01 10:22:58,447 root         DEBUG    Using scratch\n",
      "2017-02-01 10:22:58,451 root         INFO     Will copy source into /usr/local/experiment/scratchpad/tmp_data/z017/2016-07-11_14-49-38_225\n",
      " and use as source_folder\n",
      "2017-02-01 10:23:00,266 root         DEBUG    Source folder is now /usr/local/experiment/scratchpad/tmp_data/z017/2016-07-11_14-49-38_225\n",
      "\n",
      "2017-02-01 10:23:00,269 bci.core.expstruct DEBUG    Creating directory /usr/local/experiment/scratchpad/raw_data/z017/2016-07-11_14-49-38_225\n",
      "2017-02-01 10:23:00,271 root         INFO     Dest folder: /usr/local/experiment/scratchpad/raw_data/z017/2016-07-11_14-49-38_225\n",
      "2017-02-01 10:23:00,273 archivetools.tar INFO     Will compress folder 2016-07-11_14-49-38_225 from /usr/local/experiment/scratchpad/tmp_data/z017 into /usr/local/experiment/scratchpad/raw_data/z017/2016-07-11_14-49-38_225/2016-07-11_14-49-38_225.tar.xz\n",
      "2017-02-01 10:23:00,276 archivetools.tar DEBUG    md5_wrapper: entered /usr/local/experiment/scratchpad/tmp_data/z017/2016-07-11_14-49-38_225/experiment1.kwe\n",
      "2017-02-01 10:23:00,279 archivetools.tar DEBUG    Adding /usr/local/experiment/scratchpad/tmp_data/z017/2016-07-11_14-49-38_225/experiment1.kwe as experiment1.kwe\n",
      "2017-02-01 10:23:00,363 archivetools.tar DEBUG    md5_wrapper: entered /usr/local/experiment/scratchpad/tmp_data/z017/2016-07-11_14-49-38_225/settings.xml\n",
      "2017-02-01 10:23:00,366 archivetools.tar DEBUG    Adding /usr/local/experiment/scratchpad/tmp_data/z017/2016-07-11_14-49-38_225/settings.xml as settings.xml\n",
      "2017-02-01 10:23:00,378 archivetools.tar DEBUG    md5_wrapper: entered /usr/local/experiment/scratchpad/tmp_data/z017/2016-07-11_14-49-38_225/experiment1_100.raw.kwd\n",
      "2017-02-01 10:23:04,172 archivetools.tar DEBUG    Adding /usr/local/experiment/scratchpad/tmp_data/z017/2016-07-11_14-49-38_225/experiment1_100.raw.kwd as experiment1_100.raw.kwd\n",
      "2017-02-01 10:39:43,027 archivetools.tar DEBUG    md5_wrapper: entered /usr/local/experiment/scratchpad/tmp_data/z017/2016-07-11_14-49-38_225/experiment1.kwx\n",
      "2017-02-01 10:39:43,047 archivetools.tar DEBUG    Adding /usr/local/experiment/scratchpad/tmp_data/z017/2016-07-11_14-49-38_225/experiment1.kwx as experiment1.kwx\n",
      "2017-02-01 10:39:43,106 archivetools.tar INFO     done archiving, computing md5 hash of archive\n",
      "2017-02-01 10:39:43,108 archivetools.tar DEBUG    md5_wrapper: entered /usr/local/experiment/scratchpad/raw_data/z017/2016-07-11_14-49-38_225/2016-07-11_14-49-38_225.tar.xz\n",
      "2017-02-01 10:39:45,653 archivetools.tar INFO     done\n",
      "2017-02-01 10:39:45,656 archivetools.tar INFO     Getting checksums of files in archive <tarfile.TarFile object at 0x7fcac8c94b00>\n",
      "2017-02-01 10:39:45,658 archivetools.tar DEBUG    md5_wrapper: entered <ExFileObject name='/usr/local/experiment/scratchpad/raw_data/z017/2016-07-11_14-49-38_225/2016-07-11_14-49-38_225.tar.xz'>\n",
      "2017-02-01 10:39:45,661 archivetools.tar DEBUG    md5_wrapper: enterd a fileobject to an md5 function\n",
      "2017-02-01 10:39:45,663 archivetools.tar DEBUG    experiment1.kwe, md5:bc40b0b22efc1b21ff6b37b54bb75c45\n",
      "2017-02-01 10:39:45,666 archivetools.tar DEBUG    md5_wrapper: entered <ExFileObject name='/usr/local/experiment/scratchpad/raw_data/z017/2016-07-11_14-49-38_225/2016-07-11_14-49-38_225.tar.xz'>\n",
      "2017-02-01 10:39:45,668 archivetools.tar DEBUG    md5_wrapper: enterd a fileobject to an md5 function\n",
      "2017-02-01 10:39:45,670 archivetools.tar DEBUG    settings.xml, md5:2ec9d38994d0477b9ba7171b3204e7a1\n",
      "2017-02-01 10:39:45,673 archivetools.tar DEBUG    md5_wrapper: entered <ExFileObject name='/usr/local/experiment/scratchpad/raw_data/z017/2016-07-11_14-49-38_225/2016-07-11_14-49-38_225.tar.xz'>\n",
      "2017-02-01 10:39:45,675 archivetools.tar DEBUG    md5_wrapper: enterd a fileobject to an md5 function\n",
      "2017-02-01 10:41:49,782 archivetools.tar DEBUG    experiment1_100.raw.kwd, md5:46780ef0a9d2ecf70d8a788e71fece43\n",
      "2017-02-01 10:41:49,792 archivetools.tar DEBUG    md5_wrapper: entered <ExFileObject name='/usr/local/experiment/scratchpad/raw_data/z017/2016-07-11_14-49-38_225/2016-07-11_14-49-38_225.tar.xz'>\n",
      "2017-02-01 10:41:49,794 archivetools.tar DEBUG    md5_wrapper: enterd a fileobject to an md5 function\n",
      "2017-02-01 10:41:49,796 archivetools.tar DEBUG    experiment1.kwx, md5:8d9eb374b9851a13ba15721073a4d7b2\n",
      "2017-02-01 10:41:49,798 archivetools.tar INFO     Done checking\n",
      "2017-02-01 10:41:49,801 root         DEBUG    Have to move from sctratch to dest\n",
      "2017-02-01 10:41:49,803 root         INFO     Final dest folder: /mnt/cube/earneodo/archive/bci_zf/raw_data/z017/\n",
      "2017-02-01 10:42:03,872 root         DEBUG    Cleaning up tmp folder /usr/local/experiment/scratchpad/tmp_data/z017/2016-07-11_14-49-38_225\n",
      "2017-02-01 10:42:04,124 root         INFO     Archiving /mnt/cube/earneodo/bci_zf/raw_data/z017/2016-06-29_09-00-36_225\n",
      "2017-02-01 10:42:04,127 root         INFO     Will archive raw data from bird z017, sess 2016-06-29_09-00-36_225\n",
      "2017-02-01 10:42:04,130 root         INFO     Source folder: /mnt/cube/earneodo/bci_zf/raw_data/z017/2016-06-29_09-00-36_225\n",
      "2017-02-01 10:42:04,133 root         DEBUG    Using scratch\n",
      "2017-02-01 10:42:04,135 root         INFO     Will copy source into /usr/local/experiment/scratchpad/tmp_data/z017/2016-06-29_09-00-36_225\n",
      " and use as source_folder\n",
      "2017-02-01 10:42:33,102 root         DEBUG    Source folder is now /usr/local/experiment/scratchpad/tmp_data/z017/2016-06-29_09-00-36_225\n",
      "\n",
      "2017-02-01 10:42:33,105 bci.core.expstruct DEBUG    Creating directory /usr/local/experiment/scratchpad/raw_data/z017/2016-06-29_09-00-36_225\n",
      "2017-02-01 10:42:33,139 root         INFO     Dest folder: /usr/local/experiment/scratchpad/raw_data/z017/2016-06-29_09-00-36_225\n",
      "2017-02-01 10:42:33,142 archivetools.tar INFO     Will compress folder 2016-06-29_09-00-36_225 from /usr/local/experiment/scratchpad/tmp_data/z017 into /usr/local/experiment/scratchpad/raw_data/z017/2016-06-29_09-00-36_225/2016-06-29_09-00-36_225.tar.xz\n",
      "2017-02-01 10:42:33,155 archivetools.tar DEBUG    md5_wrapper: entered /usr/local/experiment/scratchpad/tmp_data/z017/2016-06-29_09-00-36_225/experiment1.kwe\n",
      "2017-02-01 10:42:33,158 archivetools.tar DEBUG    Adding /usr/local/experiment/scratchpad/tmp_data/z017/2016-06-29_09-00-36_225/experiment1.kwe as experiment1.kwe\n",
      "2017-02-01 10:42:36,476 archivetools.tar DEBUG    md5_wrapper: entered /usr/local/experiment/scratchpad/tmp_data/z017/2016-06-29_09-00-36_225/settings.xml\n",
      "2017-02-01 10:42:36,479 archivetools.tar DEBUG    Adding /usr/local/experiment/scratchpad/tmp_data/z017/2016-06-29_09-00-36_225/settings.xml as settings.xml\n",
      "2017-02-01 10:42:36,498 archivetools.tar DEBUG    md5_wrapper: entered /usr/local/experiment/scratchpad/tmp_data/z017/2016-06-29_09-00-36_225/experiment1_100.raw.kwd\n",
      "2017-02-01 10:43:28,739 archivetools.tar DEBUG    Adding /usr/local/experiment/scratchpad/tmp_data/z017/2016-06-29_09-00-36_225/experiment1_100.raw.kwd as experiment1_100.raw.kwd\n",
      "2017-02-01 13:04:50,553 archivetools.tar DEBUG    md5_wrapper: entered /usr/local/experiment/scratchpad/tmp_data/z017/2016-06-29_09-00-36_225/experiment1.kwx\n",
      "2017-02-01 13:04:50,572 archivetools.tar DEBUG    Adding /usr/local/experiment/scratchpad/tmp_data/z017/2016-06-29_09-00-36_225/experiment1.kwx as experiment1.kwx\n",
      "2017-02-01 13:04:50,652 archivetools.tar INFO     done archiving, computing md5 hash of archive\n",
      "2017-02-01 13:04:50,654 archivetools.tar DEBUG    md5_wrapper: entered /usr/local/experiment/scratchpad/raw_data/z017/2016-06-29_09-00-36_225/2016-06-29_09-00-36_225.tar.xz\n",
      "2017-02-01 13:05:04,142 archivetools.tar INFO     done\n",
      "2017-02-01 13:05:04,165 archivetools.tar INFO     Getting checksums of files in archive <tarfile.TarFile object at 0x7fcac8c94828>\n",
      "2017-02-01 13:05:04,167 archivetools.tar DEBUG    md5_wrapper: entered <ExFileObject name='/usr/local/experiment/scratchpad/raw_data/z017/2016-06-29_09-00-36_225/2016-06-29_09-00-36_225.tar.xz'>\n",
      "2017-02-01 13:05:04,170 archivetools.tar DEBUG    md5_wrapper: enterd a fileobject to an md5 function\n",
      "2017-02-01 13:05:04,173 archivetools.tar DEBUG    experiment1.kwe, md5:87bdd708c6bd608cfb44af57eaa2b455\n",
      "2017-02-01 13:05:04,175 archivetools.tar DEBUG    md5_wrapper: entered <ExFileObject name='/usr/local/experiment/scratchpad/raw_data/z017/2016-06-29_09-00-36_225/2016-06-29_09-00-36_225.tar.xz'>\n",
      "2017-02-01 13:05:04,178 archivetools.tar DEBUG    md5_wrapper: enterd a fileobject to an md5 function\n",
      "2017-02-01 13:05:04,181 archivetools.tar DEBUG    settings.xml, md5:54705f6127b208eac8b474daa8f9e606\n",
      "2017-02-01 13:05:04,184 archivetools.tar DEBUG    md5_wrapper: entered <ExFileObject name='/usr/local/experiment/scratchpad/raw_data/z017/2016-06-29_09-00-36_225/2016-06-29_09-00-36_225.tar.xz'>\n",
      "2017-02-01 13:05:04,187 archivetools.tar DEBUG    md5_wrapper: enterd a fileobject to an md5 function\n",
      "2017-02-01 13:16:54,100 archivetools.tar DEBUG    experiment1_100.raw.kwd, md5:49a599d629f3294764616b353bfbd6b1\n",
      "2017-02-01 13:16:54,111 archivetools.tar DEBUG    md5_wrapper: entered <ExFileObject name='/usr/local/experiment/scratchpad/raw_data/z017/2016-06-29_09-00-36_225/2016-06-29_09-00-36_225.tar.xz'>\n",
      "2017-02-01 13:16:54,112 archivetools.tar DEBUG    md5_wrapper: enterd a fileobject to an md5 function\n",
      "2017-02-01 13:16:54,114 archivetools.tar DEBUG    experiment1.kwx, md5:8d9eb374b9851a13ba15721073a4d7b2\n",
      "2017-02-01 13:16:54,116 archivetools.tar INFO     Done checking\n",
      "2017-02-01 13:16:54,118 root         DEBUG    Have to move from sctratch to dest\n",
      "2017-02-01 13:16:54,120 root         INFO     Final dest folder: /mnt/cube/earneodo/archive/bci_zf/raw_data/z017/\n",
      "2017-02-01 13:18:12,334 root         DEBUG    Cleaning up tmp folder /usr/local/experiment/scratchpad/tmp_data/z017/2016-06-29_09-00-36_225\n",
      "2017-02-01 13:18:13,236 root         INFO     Archiving /mnt/cube/earneodo/bci_zf/raw_data/z017/2016-06-19_11-37-25_150\n",
      "2017-02-01 13:18:13,240 root         INFO     Will archive raw data from bird z017, sess 2016-06-19_11-37-25_150\n",
      "2017-02-01 13:18:13,245 root         INFO     Source folder: /mnt/cube/earneodo/bci_zf/raw_data/z017/2016-06-19_11-37-25_150\n",
      "2017-02-01 13:18:13,247 root         DEBUG    Using scratch\n",
      "2017-02-01 13:18:13,249 root         INFO     Will copy source into /usr/local/experiment/scratchpad/tmp_data/z017/2016-06-19_11-37-25_150\n",
      " and use as source_folder\n",
      "2017-02-01 13:24:19,977 root         DEBUG    Source folder is now /usr/local/experiment/scratchpad/tmp_data/z017/2016-06-19_11-37-25_150\n",
      "\n",
      "2017-02-01 13:24:19,992 bci.core.expstruct DEBUG    Creating directory /usr/local/experiment/scratchpad/raw_data/z017/2016-06-19_11-37-25_150\n",
      "2017-02-01 13:24:19,994 root         INFO     Dest folder: /usr/local/experiment/scratchpad/raw_data/z017/2016-06-19_11-37-25_150\n",
      "2017-02-01 13:24:19,997 archivetools.tar INFO     Will compress folder 2016-06-19_11-37-25_150 from /usr/local/experiment/scratchpad/tmp_data/z017 into /usr/local/experiment/scratchpad/raw_data/z017/2016-06-19_11-37-25_150/2016-06-19_11-37-25_150.tar.xz\n",
      "2017-02-01 13:24:20,003 archivetools.tar DEBUG    md5_wrapper: entered /usr/local/experiment/scratchpad/tmp_data/z017/2016-06-19_11-37-25_150/experiment1.kwe\n",
      "2017-02-01 13:24:20,008 archivetools.tar DEBUG    Adding /usr/local/experiment/scratchpad/tmp_data/z017/2016-06-19_11-37-25_150/experiment1.kwe as experiment1.kwe\n",
      "2017-02-01 13:24:20,078 archivetools.tar DEBUG    md5_wrapper: entered /usr/local/experiment/scratchpad/tmp_data/z017/2016-06-19_11-37-25_150/settings.xml\n",
      "2017-02-01 13:24:20,083 archivetools.tar DEBUG    Adding /usr/local/experiment/scratchpad/tmp_data/z017/2016-06-19_11-37-25_150/settings.xml as settings.xml\n",
      "2017-02-01 13:24:20,102 archivetools.tar DEBUG    md5_wrapper: entered /usr/local/experiment/scratchpad/tmp_data/z017/2016-06-19_11-37-25_150/experiment1_100.raw.kwd\n",
      "2017-02-01 13:25:38,783 archivetools.tar DEBUG    Adding /usr/local/experiment/scratchpad/tmp_data/z017/2016-06-19_11-37-25_150/experiment1_100.raw.kwd as experiment1_100.raw.kwd\n"
     ]
    }
   ],
   "source": [
    "locations={'orig': 'experiment', \n",
    "        'dest':'archive', \n",
    "        'scratch':'scratch'}\n",
    "\n",
    "fn_b = et.flex_file_names(bird, location=locations['orig'])\n",
    "l_cube = ff.list_folders(fn_b['folders'][data_folder])\n",
    "bird_archived = []\n",
    "\n",
    "for s in l_cube:\n",
    "    logger.info('Archiving {}'.format(s))\n",
    "    sess = os.path.split(s)[-1]\n",
    "    fstru, chk = archive_data(bird, sess, fold_type=data_folder, locations=locations, mode='xz', use_scratch=True)\n",
    "    bird_archived.append([s, fstru, chk])"
   ]
  },
  {
   "cell_type": "code",
   "execution_count": 29,
   "metadata": {
    "collapsed": false
   },
   "outputs": [
    {
     "name": "stderr",
     "output_type": "stream",
     "text": [
      "2017-02-02 23:57:57,337 root         INFO     2016-07-11_14-49-38_225 already present in /mnt/cube/earneodo/archive/bci_zf/raw_data/z017/\n",
      "2017-02-02 23:57:57,337 root         WARNING  Will delete /mnt/cube/earneodo/bci_zf/raw_data/z017/2016-07-11_14-49-38_225 to overwrite\n",
      "2017-02-02 23:57:57,338 root         INFO     Archiving /mnt/cube/earneodo/bci_zf/raw_data/z017/2016-07-11_14-49-38_225\n",
      "2017-02-02 23:57:57,339 root         INFO     2016-06-29_09-00-36_225 already present in /mnt/cube/earneodo/archive/bci_zf/raw_data/z017/\n",
      "2017-02-02 23:57:57,339 root         WARNING  Will delete /mnt/cube/earneodo/bci_zf/raw_data/z017/2016-06-29_09-00-36_225 to overwrite\n",
      "2017-02-02 23:57:57,340 root         INFO     Archiving /mnt/cube/earneodo/bci_zf/raw_data/z017/2016-06-29_09-00-36_225\n",
      "2017-02-02 23:57:57,340 root         INFO     2016-06-19_11-37-25_150 already present in /mnt/cube/earneodo/archive/bci_zf/raw_data/z017/\n",
      "2017-02-02 23:57:57,341 root         WARNING  Will delete /mnt/cube/earneodo/bci_zf/raw_data/z017/2016-06-19_11-37-25_150 to overwrite\n",
      "2017-02-02 23:57:57,341 root         INFO     Archiving /mnt/cube/earneodo/bci_zf/raw_data/z017/2016-06-19_11-37-25_150\n",
      "2017-02-02 23:57:57,342 root         INFO     2016-07-11_18-34-32_225 already present in /mnt/cube/earneodo/archive/bci_zf/raw_data/z017/\n",
      "2017-02-02 23:57:57,342 root         WARNING  Will delete /mnt/cube/earneodo/bci_zf/raw_data/z017/2016-07-11_18-34-32_225 to overwrite\n",
      "2017-02-02 23:57:57,342 root         INFO     Archiving /mnt/cube/earneodo/bci_zf/raw_data/z017/2016-07-11_18-34-32_225\n",
      "2017-02-02 23:57:57,343 root         INFO     2016-07-12_09-45-21_225 already present in /mnt/cube/earneodo/archive/bci_zf/raw_data/z017/\n",
      "2017-02-02 23:57:57,343 root         WARNING  Will delete /mnt/cube/earneodo/bci_zf/raw_data/z017/2016-07-12_09-45-21_225 to overwrite\n",
      "2017-02-02 23:57:57,344 root         INFO     Archiving /mnt/cube/earneodo/bci_zf/raw_data/z017/2016-07-12_09-45-21_225\n",
      "2017-02-02 23:57:57,344 root         INFO     2016-06-20_08-52-34_150 already present in /mnt/cube/earneodo/archive/bci_zf/raw_data/z017/\n",
      "2017-02-02 23:57:57,345 root         WARNING  Will delete /mnt/cube/earneodo/bci_zf/raw_data/z017/2016-06-20_08-52-34_150 to overwrite\n",
      "2017-02-02 23:57:57,346 root         INFO     Archiving /mnt/cube/earneodo/bci_zf/raw_data/z017/2016-06-20_08-52-34_150\n",
      "2017-02-02 23:57:57,346 root         INFO     2016-06-20_08-55-34_225 already present in /mnt/cube/earneodo/archive/bci_zf/raw_data/z017/\n",
      "2017-02-02 23:57:57,346 root         WARNING  Will delete /mnt/cube/earneodo/bci_zf/raw_data/z017/2016-06-20_08-55-34_225 to overwrite\n",
      "2017-02-02 23:57:57,347 root         INFO     Archiving /mnt/cube/earneodo/bci_zf/raw_data/z017/2016-06-20_08-55-34_225\n",
      "2017-02-02 23:57:57,348 root         INFO     2016-07-20_18-38-47_300 already present in /mnt/cube/earneodo/archive/bci_zf/raw_data/z017/\n",
      "2017-02-02 23:57:57,348 root         WARNING  Will delete /mnt/cube/earneodo/bci_zf/raw_data/z017/2016-07-20_18-38-47_300 to overwrite\n",
      "2017-02-02 23:57:57,349 root         INFO     Archiving /mnt/cube/earneodo/bci_zf/raw_data/z017/2016-07-20_18-38-47_300\n",
      "2017-02-02 23:57:57,350 root         INFO     2016-06-18_15-14-01_150 already present in /mnt/cube/earneodo/archive/bci_zf/raw_data/z017/\n",
      "2017-02-02 23:57:57,351 root         WARNING  Will delete /mnt/cube/earneodo/bci_zf/raw_data/z017/2016-06-18_15-14-01_150 to overwrite\n",
      "2017-02-02 23:57:57,355 root         INFO     Archiving /mnt/cube/earneodo/bci_zf/raw_data/z017/2016-06-18_15-14-01_150\n",
      "2017-02-02 23:57:57,356 root         INFO     2016-06-18_10-43-39_150 already present in /mnt/cube/earneodo/archive/bci_zf/raw_data/z017/\n",
      "2017-02-02 23:57:57,357 root         WARNING  Will delete /mnt/cube/earneodo/bci_zf/raw_data/z017/2016-06-18_10-43-39_150 to overwrite\n",
      "2017-02-02 23:57:57,359 root         INFO     Archiving /mnt/cube/earneodo/bci_zf/raw_data/z017/2016-06-18_10-43-39_150\n",
      "2017-02-02 23:57:57,361 root         INFO     2016-06-21_08-52-04_225 already present in /mnt/cube/earneodo/archive/bci_zf/raw_data/z017/\n",
      "2017-02-02 23:57:57,362 root         WARNING  Will delete /mnt/cube/earneodo/bci_zf/raw_data/z017/2016-06-21_08-52-04_225 to overwrite\n",
      "2017-02-02 23:57:57,362 root         INFO     Archiving /mnt/cube/earneodo/bci_zf/raw_data/z017/2016-06-21_08-52-04_225\n",
      "2017-02-02 23:57:57,364 root         INFO     2016-06-22_07-56-29_225 already present in /mnt/cube/earneodo/archive/bci_zf/raw_data/z017/\n",
      "2017-02-02 23:57:57,365 root         WARNING  Will delete /mnt/cube/earneodo/bci_zf/raw_data/z017/2016-06-22_07-56-29_225 to overwrite\n",
      "2017-02-02 23:57:57,366 root         INFO     Archiving /mnt/cube/earneodo/bci_zf/raw_data/z017/2016-06-22_07-56-29_225\n",
      "2017-02-02 23:57:57,367 root         INFO     2016-06-22_15-05-45_225 already present in /mnt/cube/earneodo/archive/bci_zf/raw_data/z017/\n",
      "2017-02-02 23:57:57,368 root         WARNING  Will delete /mnt/cube/earneodo/bci_zf/raw_data/z017/2016-06-22_15-05-45_225 to overwrite\n",
      "2017-02-02 23:57:57,369 root         INFO     Archiving /mnt/cube/earneodo/bci_zf/raw_data/z017/2016-06-22_15-05-45_225\n",
      "2017-02-02 23:57:57,370 root         INFO     2016-06-25_12-25-59_225 already present in /mnt/cube/earneodo/archive/bci_zf/raw_data/z017/\n",
      "2017-02-02 23:57:57,371 root         WARNING  Will delete /mnt/cube/earneodo/bci_zf/raw_data/z017/2016-06-25_12-25-59_225 to overwrite\n",
      "2017-02-02 23:57:57,377 root         INFO     Archiving /mnt/cube/earneodo/bci_zf/raw_data/z017/2016-06-25_12-25-59_225\n",
      "2017-02-02 23:57:57,377 root         INFO     2016-06-27_19-35-08_225 already present in /mnt/cube/earneodo/archive/bci_zf/raw_data/z017/\n",
      "2017-02-02 23:57:57,378 root         WARNING  Will delete /mnt/cube/earneodo/bci_zf/raw_data/z017/2016-06-27_19-35-08_225 to overwrite\n",
      "2017-02-02 23:57:57,378 root         INFO     Archiving /mnt/cube/earneodo/bci_zf/raw_data/z017/2016-06-27_19-35-08_225\n",
      "2017-02-02 23:57:57,379 root         INFO     2016-06-28_08-55-34_225 already present in /mnt/cube/earneodo/archive/bci_zf/raw_data/z017/\n",
      "2017-02-02 23:57:57,380 root         WARNING  Will delete /mnt/cube/earneodo/bci_zf/raw_data/z017/2016-06-28_08-55-34_225 to overwrite\n",
      "2017-02-02 23:57:57,380 root         INFO     Archiving /mnt/cube/earneodo/bci_zf/raw_data/z017/2016-06-28_08-55-34_225\n",
      "2017-02-02 23:57:57,381 root         INFO     2016-06-30_09-01-36_225 already present in /mnt/cube/earneodo/archive/bci_zf/raw_data/z017/\n",
      "2017-02-02 23:57:57,381 root         WARNING  Will delete /mnt/cube/earneodo/bci_zf/raw_data/z017/2016-06-30_09-01-36_225 to overwrite\n",
      "2017-02-02 23:57:57,382 root         INFO     Archiving /mnt/cube/earneodo/bci_zf/raw_data/z017/2016-06-30_09-01-36_225\n",
      "2017-02-02 23:57:57,382 root         INFO     Archiving /mnt/cube/earneodo/bci_zf/raw_data/z017/2016-07-08_10-06-16_225\n",
      "2017-02-02 23:57:57,383 root         INFO     Archiving /mnt/cube/earneodo/bci_zf/raw_data/z017/2016-07-11_13-11-17_225\n",
      "2017-02-02 23:57:57,383 root         INFO     Archiving /mnt/cube/earneodo/bci_zf/raw_data/z017/2016-07-15_09-24-13_300\n",
      "2017-02-02 23:57:57,384 root         INFO     Archiving /mnt/cube/earneodo/bci_zf/raw_data/z017/2016-07-01_09-46-31_225\n",
      "2017-02-02 23:57:57,384 root         INFO     Archiving /mnt/cube/earneodo/bci_zf/raw_data/z017/2016-07-12_11-01-09_225\n",
      "2017-02-02 23:57:57,385 root         INFO     Archiving /mnt/cube/earneodo/bci_zf/raw_data/z017/2016-07-07_09-52-29_225\n",
      "2017-02-02 23:57:57,385 root         INFO     Archiving /mnt/cube/earneodo/bci_zf/raw_data/z017/2016-07-07_14-37-35_225\n",
      "2017-02-02 23:57:57,385 root         INFO     Archiving /mnt/cube/earneodo/bci_zf/raw_data/z017/001\n",
      "2017-02-02 23:57:57,386 root         INFO     Archiving /mnt/cube/earneodo/bci_zf/raw_data/z017/2016-06-27_09-22-24_225\n",
      "2017-02-02 23:57:57,386 root         INFO     Archiving /mnt/cube/earneodo/bci_zf/raw_data/z017/2016-06-17_09-47-41_150\n",
      "2017-02-02 23:57:57,387 root         INFO     Archiving /mnt/cube/earneodo/bci_zf/raw_data/z017/2016-07-08_10-38-48_225\n",
      "2017-02-02 23:57:57,387 root         INFO     Archiving /mnt/cube/earneodo/bci_zf/raw_data/z017/2016-07-11_17-19-00_225\n",
      "2017-02-02 23:57:57,387 root         INFO     Archiving /mnt/cube/earneodo/bci_zf/raw_data/z017/sleep_2016-06-22_06-12-00_225\n",
      "2017-02-02 23:57:57,388 root         INFO     Archiving /mnt/cube/earneodo/bci_zf/raw_data/z017/remote_2016-06-18_01-09-11_150\n",
      "2017-02-02 23:57:57,388 root         INFO     Archiving /mnt/cube/earneodo/bci_zf/raw_data/z017/2016-07-06_08-57-54_225\n",
      "2017-02-02 23:57:57,389 root         INFO     Archiving /mnt/cube/earneodo/bci_zf/raw_data/z017/2016-06-24_09-08-21_225\n",
      "2017-02-02 23:57:57,389 root         INFO     Archiving /mnt/cube/earneodo/bci_zf/raw_data/z017/2016-07-12_13-44-59_225\n",
      "2017-02-02 23:57:57,389 root         INFO     Archiving /mnt/cube/earneodo/bci_zf/raw_data/z017/2016-07-06_18-06-52_225\n",
      "2017-02-02 23:57:57,390 root         INFO     Archiving /mnt/cube/earneodo/bci_zf/raw_data/z017/2016-06-23_09-17-03_225\n",
      "2017-02-02 23:57:57,390 root         INFO     Archiving /mnt/cube/earneodo/bci_zf/raw_data/z017/2016-07-13_17-23-17_300\n",
      "2017-02-02 23:57:57,390 root         INFO     Archiving /mnt/cube/earneodo/bci_zf/raw_data/z017/2016-07-11_09-46-54_225\n",
      "2017-02-02 23:57:57,391 root         INFO     Archiving /mnt/cube/earneodo/bci_zf/raw_data/z017/night_2016-06-25_00-30-19_225\n",
      "2017-02-02 23:57:57,391 root         INFO     Archiving /mnt/cube/earneodo/bci_zf/raw_data/z017/2016-07-06_12-57-41_225\n",
      "2017-02-02 23:57:57,392 root         INFO     Archiving /mnt/cube/earneodo/bci_zf/raw_data/z017/2016-07-12_13-12-09_225\n",
      "2017-02-02 23:57:57,392 root         INFO     Archiving /mnt/cube/earneodo/bci_zf/raw_data/z017/2016-07-08_15-45-19_225\n",
      "2017-02-02 23:57:57,393 root         INFO     Archiving /mnt/cube/earneodo/bci_zf/raw_data/z017/2016-07-05_09-00-56_225\n",
      "2017-02-02 23:57:57,393 root         INFO     Archiving /mnt/cube/earneodo/bci_zf/raw_data/z017/2016-07-11_09-36-24_225\n",
      "2017-02-02 23:57:57,393 root         INFO     Archiving /mnt/cube/earneodo/bci_zf/raw_data/z017/2016-06-16_16-28-28_150\n",
      "2017-02-02 23:57:57,394 root         INFO     Archiving /mnt/cube/earneodo/bci_zf/raw_data/z017/2016-07-14_15-01-15_300\n",
      "2017-02-02 23:57:57,394 root         INFO     Archiving /mnt/cube/earneodo/bci_zf/raw_data/z017/2016-07-20_18-12-02_300\n",
      "2017-02-02 23:57:57,395 root         INFO     Archiving /mnt/cube/earneodo/bci_zf/raw_data/z017/2016-07-11_11-49-51_225\n",
      "2017-02-02 23:57:57,395 root         INFO     Archiving /mnt/cube/earneodo/bci_zf/raw_data/z017/debug_2016-06-18_00-57-16_150\n",
      "2017-02-02 23:57:57,395 root         INFO     Archiving /mnt/cube/earneodo/bci_zf/raw_data/z017/2016-07-20_18-10-53_300\n",
      "2017-02-02 23:57:57,396 root         INFO     Done making archive for 0 sessions of bird z017\n"
     ]
    }
   ],
   "source": [
    "locations={'orig': 'experiment', \n",
    "        'dest':'archive', \n",
    "        'scratch':'scratch'}\n",
    "\n",
    "def archive_bird(bird, locations = {'orig': 'experiment',\n",
    "                                    'dest':'archive',\n",
    "                                    'scratch':'scratch'},\n",
    "                 data_folder='raw', \n",
    "                 overwrite=False):\n",
    "    \n",
    "    fn_orig = et.flex_file_names(bird, location=locations['orig'])\n",
    "    fn_dest = et.flex_file_names(bird, location=locations['dest'])\n",
    "    \n",
    "    orig_folders_list = ff.list_folders(fn_orig['folders'][data_folder])\n",
    "    \n",
    "    dest_folder_names_list = [os.path.split(s)[-1] for s in ff.list_folders(fn_dest['folders'][data_folder])]\n",
    "    \n",
    "    bird_archived = []\n",
    "    \n",
    "    for s in orig_folders_list:\n",
    "        sess = os.path.split(s)[-1]\n",
    "        if sess in dest_folder_names_list:\n",
    "            logger.info('{0} already present in {1}'.format(sess, fn_dest['folders'][data_folder]))\n",
    "            if overwrite:\n",
    "                logger.warning('Will delete {} to overwrite'.format(os.path.join(fn_dest['folders'][data_folder], s)))\n",
    "                #shutil.rmtree(os.path.join(fn_dest['folders'][data_folder], s))\n",
    "            else:\n",
    "                logger.info('Skipping')\n",
    "                continue\n",
    "        logger.info('Archiving {}'.format(s))\n",
    "        #fstru, chk = archive_data(bird, sess, fold_type=data_folder, locations=locations, mode='xz', use_scratch=True)\n",
    "        #bird_archived.append([s, fstru, chk])\n",
    "            \n",
    "    logger.info('Done making archive for {0} sessions of bird {1}'.format(len(bird_archived), bird))\n",
    "\n",
    "archive_bird(bird, locations=locations, overwrite=False)"
   ]
  },
  {
   "cell_type": "code",
   "execution_count": 40,
   "metadata": {
    "collapsed": false
   },
   "outputs": [
    {
     "ename": "NameError",
     "evalue": "name 'tuvieja' is not defined",
     "output_type": "error",
     "traceback": [
      "\u001b[0;31m---------------------------------------------------------------------------\u001b[0m",
      "\u001b[0;31mNameError\u001b[0m                                 Traceback (most recent call last)",
      "\u001b[0;32m<ipython-input-40-a22599c6f8d6>\u001b[0m in \u001b[0;36m<module>\u001b[0;34m()\u001b[0m\n\u001b[0;32m----> 1\u001b[0;31m \u001b[0mtuvieja\u001b[0m\u001b[0;34m\u001b[0m\u001b[0m\n\u001b[0m",
      "\u001b[0;31mNameError\u001b[0m: name 'tuvieja' is not defined"
     ]
    }
   ],
   "source": [
    "tuvieja"
   ]
  },
  {
   "cell_type": "code",
   "execution_count": null,
   "metadata": {
    "collapsed": true
   },
   "outputs": [],
   "source": []
  }
 ],
 "metadata": {
  "anaconda-cloud": {},
  "kernelspec": {
   "display_name": "Python [conda env:py35]",
   "language": "python",
   "name": "conda-env-py35-py"
  },
  "language_info": {
   "codemirror_mode": {
    "name": "ipython",
    "version": 3
   },
   "file_extension": ".py",
   "mimetype": "text/x-python",
   "name": "python",
   "nbconvert_exporter": "python",
   "pygments_lexer": "ipython3",
   "version": "3.5.2"
  }
 },
 "nbformat": 4,
 "nbformat_minor": 0
}
