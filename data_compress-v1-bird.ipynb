{
 "cells": [
  {
   "cell_type": "code",
   "execution_count": 1,
   "metadata": {
    "collapsed": false
   },
   "outputs": [
    {
     "name": "stdout",
     "output_type": "stream",
     "text": [
      "Computer: passaro\n"
     ]
    },
    {
     "name": "stderr",
     "output_type": "stream",
     "text": [
      "2017-02-10 11:41:45,606 root         DEBUG    All modules loaded\n"
     ]
    }
   ],
   "source": [
    "# Definitions and functions\n",
    "import sys\n",
    "import socket\n",
    "import os\n",
    "import logging\n",
    "import glob\n",
    "import shutil\n",
    "from contextlib import closing\n",
    "\n",
    "# Check wich computer to decide where the things are mounted\n",
    "comp_name=socket.gethostname()\n",
    "print('Computer: ' + comp_name)\n",
    "\n",
    "if 'txori' in comp_name or 'passaro' in comp_name or 'lintu' in comp_name:\n",
    "    repos_folder = os.path.abspath('/mnt/cube/earneodo/repos')\n",
    "    experiment_folder = os.path.join('/mnt/cube/earneodo/bci_zf/')\n",
    "\n",
    "sys.path.append(os.path.join(repos_folder, 'ephysflow'))\n",
    "sys.path.append(os.path.join(repos_folder, 'swissknife'))\n",
    "\n",
    "from bci.core import expstruct as et\n",
    "from archivetools import tar as tt\n",
    "from bci.core.file import file_functions as ff\n",
    "from threadtools import threadedfunction as td\n",
    "\n",
    "logger = logging.getLogger()\n",
    "handler = logging.StreamHandler()\n",
    "formatter = logging.Formatter(\n",
    "        '%(asctime)s %(name)-12s %(levelname)-8s %(message)s')\n",
    "handler.setFormatter(formatter)\n",
    "logger.addHandler(handler)\n",
    "logger.setLevel(logging.DEBUG)\n",
    "\n",
    "logger.debug('All modules loaded')"
   ]
  },
  {
   "cell_type": "code",
   "execution_count": 2,
   "metadata": {
    "collapsed": false
   },
   "outputs": [
    {
     "data": {
      "text/plain": [
       "True"
      ]
     },
     "execution_count": 2,
     "metadata": {},
     "output_type": "execute_result"
    }
   ],
   "source": [
    "sys.version_info[0] >= 3"
   ]
  },
  {
   "cell_type": "code",
   "execution_count": 3,
   "metadata": {
    "collapsed": false
   },
   "outputs": [],
   "source": [
    "# bird and session\n",
    "bird = 'z020'\n",
    "data_folder = 'raw'"
   ]
  },
  {
   "cell_type": "code",
   "execution_count": 4,
   "metadata": {
    "collapsed": false
   },
   "outputs": [],
   "source": [
    "def archive_data(bird, sess, \n",
    "                 fold_type = 'raw', \n",
    "                 locations={'orig': 'store', \n",
    "                            'dest':'archive', \n",
    "                            'scratch':'scratch'}, \n",
    "                 mode='xz',\n",
    "                 use_scratch=False):\n",
    "    # mode options ''(no compression), 'xz','gz', 'bz2' refer to tarfile modes.\n",
    "    # scratch is optional\n",
    "    \n",
    "    logger.info('Will archive {0} data from bird {1}, sess {2}'.format(fold_type, bird, sess))\n",
    "    f_struct = {key : et.flex_file_names(bird, sess, location=item) for key, item in locations.items()}\n",
    "    f_struct['dest'] = et.flex_file_names(bird, location=locations['dest'])\n",
    "    \n",
    "    source_folder = f_struct['orig']['folders'][fold_type]\n",
    "    logger.info('Source folder: {}'.format(source_folder))\n",
    "    \n",
    "    \n",
    "    if use_scratch:\n",
    "        logger.debug('Using scratch')\n",
    "        tmp_folder = f_struct['scratch']['folders']['tmp']\n",
    "        dest_folder = f_struct['scratch']['folders'][fold_type]\n",
    "        logger.info('Will copy source into tmp {0}\\n and use as source_folder'.format(tmp_folder))\n",
    "        if os.path.exists(tmp_folder):\n",
    "            logger.info('Cleaning up temp folder')\n",
    "            shutil.rmtree(tmp_folder)\n",
    "        shutil.copytree(source_folder,tmp_folder)\n",
    "        source_folder = tmp_folder\n",
    "        logger.debug('Source folder is now {0}\\n'.format(source_folder))\n",
    "\n",
    "        \n",
    "    else:\n",
    "        dest_folder = f_struct['dest']['folders'][fold_type]\n",
    "    assert(not (source_folder == dest_folder))\n",
    "        \n",
    "    if os.path.exists(dest_folder):\n",
    "        logger.warning('Cleaning up pre-existing dest_folder {}'.format(dest_folder))\n",
    "        shutil.rmtree(dest_folder)\n",
    "    et.mkdir_p(dest_folder)\n",
    "    logger.info('Dest folder: {}'.format(dest_folder))\n",
    "    d_f, md_arch, md_list = tt.compress_folder(source_folder, dest_folder, mode='w:{}'.format(mode))\n",
    "    check_list, check_ok = tt.check_tar_archive(d_f, md_checklist=md_list)\n",
    "    \n",
    "    if not check_ok:\n",
    "        raise RuntimeError('Archive {} md5 hashes dont match the originals')\n",
    "    \n",
    "    if use_scratch:\n",
    "        logger.debug('Have to move from sctratch to dest')\n",
    "        final_dest_folder = f_struct['dest']['folders'][fold_type]\n",
    "        logger.info('Final dest folder: {}'.format(final_dest_folder))\n",
    "        shutil.move(dest_folder, final_dest_folder)\n",
    "        logger.debug('Cleaning up tmp folder {}'.format(tmp_folder))\n",
    "        shutil.rmtree(tmp_folder)\n",
    "    \n",
    "    return f_struct, check_list\n",
    "\n",
    "def archive_bird(bird, locations = {'orig': 'experiment',\n",
    "                                    'dest':'archive',\n",
    "                                    'scratch':'scratch'},\n",
    "                 data_folder='raw', \n",
    "                 overwrite=False):\n",
    "    \n",
    "    fn_orig = et.flex_file_names(bird, location=locations['orig'])\n",
    "    fn_dest = et.flex_file_names(bird, location=locations['dest'])\n",
    "    \n",
    "    orig_folders_list = ff.list_folders(fn_orig['folders'][data_folder])\n",
    "    \n",
    "    dest_folder_names_list = [os.path.split(s)[-1] for s in ff.list_folders(fn_dest['folders'][data_folder])]\n",
    "    \n",
    "    bird_archived = []\n",
    "    \n",
    "    for s in orig_folders_list:\n",
    "        sess = os.path.split(s)[-1]\n",
    "        if sess in dest_folder_names_list:\n",
    "            logger.info('{0} already present in {1}'.format(sess, fn_dest['folders'][data_folder]))\n",
    "            if overwrite:\n",
    "                logger.warning('Will delete {} to overwrite'.format(os.path.join(fn_dest['folders'][data_folder], s)))\n",
    "                shutil.rmtree(os.path.join(fn_dest['folders'][data_folder], s))\n",
    "            else:\n",
    "                logger.info('Skipping')\n",
    "                continue\n",
    "        logger.info('Archiving {}'.format(s))\n",
    "        fstru, chk = archive_data(bird, sess, fold_type=data_folder, locations=locations, mode='xz', use_scratch=True)\n",
    "        bird_archived.append([s, fstru, chk])\n",
    "            \n",
    "    logger.info('Done making archive for {0} sessions of bird {1}'.format(len(bird_archived), bird))\n",
    "\n",
    "#fstru, chk = archive_data(bird, arch_sess, use_scratch=True)"
   ]
  },
  {
   "cell_type": "code",
   "execution_count": 5,
   "metadata": {
    "collapsed": true
   },
   "outputs": [],
   "source": [
    "# check that everything is on cube (for instance)\n",
    "fn_b = et.flex_file_names(bird, location='experiment')\n",
    "l_cube = ff.list_folders(fn_b['folders']['raw'])\n",
    "\n",
    "fn_store = et.flex_file_names(bird, location='store')\n",
    "l_store = ff.list_folders(fn_store['folders']['raw'])\n",
    "\n",
    "fn_store = et.flex_file_names(bird, location='experiment_local')\n",
    "l_local=ff.list_folders(fn_store['folders']['raw'])\n",
    "\n",
    "fn_archive = et.flex_file_names(bird, location='archive')\n",
    "l_archived = ff.list_folders(fn_archive['folders']['raw'])\n",
    "\n",
    "\n",
    "for i in l_local + l_store:\n",
    "    if not os.path.split(i)[-1] in [os.path.split(l)[-1] for l in l_cube]:\n",
    "        print(i)\n",
    "        #shutil.copytree(i, os.path.join(fn_b['folders']['raw'], os.path.split(i)[-1]))"
   ]
  },
  {
   "cell_type": "code",
   "execution_count": 6,
   "metadata": {
    "collapsed": false
   },
   "outputs": [
    {
     "data": {
      "text/plain": [
       "['/mnt/cube/earneodo/bci_zf/raw_data/z020/2016-06-03_10-53-56_100',\n",
       " '/mnt/cube/earneodo/bci_zf/raw_data/z020/001',\n",
       " '/mnt/cube/earneodo/bci_zf/raw_data/z020/2016-06-02_20-22-38_100',\n",
       " '/mnt/cube/earneodo/bci_zf/raw_data/z020/2016-06-02_11-10-42_2100_00',\n",
       " '/mnt/cube/earneodo/bci_zf/raw_data/z020/2016-06-04_17-46-03_100',\n",
       " '/mnt/cube/earneodo/bci_zf/raw_data/z020/sleep_remote_2016-06-05_00-54-57_100',\n",
       " '/mnt/cube/earneodo/bci_zf/raw_data/z020/2016-06-06_10-47-28_150',\n",
       " '/mnt/cube/earneodo/bci_zf/raw_data/z020/2016-06-08_15-28-10_150',\n",
       " '/mnt/cube/earneodo/bci_zf/raw_data/z020/2016-06-05_07-51-42_100',\n",
       " '/mnt/cube/earneodo/bci_zf/raw_data/z020/2016-06-03_16-12-39_100',\n",
       " '/mnt/cube/earneodo/bci_zf/raw_data/z020/2016-06-15_14-05-24_150',\n",
       " '/mnt/cube/earneodo/bci_zf/raw_data/z020/2016-06-06_09-15-56_150',\n",
       " '/mnt/cube/earneodo/bci_zf/raw_data/z020/2016-06-27_16-33-20_225',\n",
       " '/mnt/cube/earneodo/bci_zf/raw_data/z020/2016-06-05_11-18-10_150',\n",
       " '/mnt/cube/earneodo/bci_zf/raw_data/z020/2016-06-02_19-16-11_2100',\n",
       " '/mnt/cube/earneodo/bci_zf/raw_data/z020/2016-06-14_17-58-26_150',\n",
       " '/mnt/cube/earneodo/bci_zf/raw_data/z020/2016-06-02_14-15-45_100',\n",
       " '/mnt/cube/earneodo/bci_zf/raw_data/z020/2016-06-02_11-10-42_2100',\n",
       " '/mnt/cube/earneodo/bci_zf/raw_data/z020/sleep_2016-06-05_00-41-24_100']"
      ]
     },
     "execution_count": 6,
     "metadata": {},
     "output_type": "execute_result"
    }
   ],
   "source": [
    "l_cube"
   ]
  },
  {
   "cell_type": "code",
   "execution_count": 7,
   "metadata": {
    "collapsed": true
   },
   "outputs": [],
   "source": [
    "log_fn = et.file_names(bird)\n",
    "log_file_path = os.path.join(log_fn['folders']['ss'], \n",
    "                             'archive_all_{}.log'.format(data_folder))\n",
    "fh = logging.FileHandler(log_file_path)\n",
    "formatter = logging.Formatter('%(asctime)s - %(threadName)-10s - %(levelname)s - %(message)s')\n",
    "fh.setFormatter(formatter)\n",
    "# add the handlers to the logger\n",
    "logger.addHandler(fh)"
   ]
  },
  {
   "cell_type": "code",
   "execution_count": 8,
   "metadata": {
    "collapsed": false,
    "scrolled": true
   },
   "outputs": [
    {
     "name": "stderr",
     "output_type": "stream",
     "text": [
      "2017-02-10 11:42:05,460 threadtools.threadedfunction INFO     Starting function  in thread threadedFunction-1\n",
      "2017-02-10 11:42:05,466 root         INFO     Archiving /mnt/cube/earneodo/bci_zf/raw_data/z020/2016-06-03_10-53-56_100\n",
      "2017-02-10 11:42:05,467 root         INFO     Will archive raw data from bird z020, sess 2016-06-03_10-53-56_100\n",
      "2017-02-10 11:42:05,471 root         INFO     Source folder: /mnt/cube/earneodo/bci_zf/raw_data/z020/2016-06-03_10-53-56_100\n",
      "2017-02-10 11:42:05,472 root         DEBUG    Using scratch\n",
      "2017-02-10 11:42:05,474 root         INFO     Will copy source into tmp /usr/local/experiment/scratchpad/tmp_data/z020/2016-06-03_10-53-56_100\n",
      " and use as source_folder\n",
      "2017-02-10 11:50:11,399 root         DEBUG    Source folder is now /usr/local/experiment/scratchpad/tmp_data/z020/2016-06-03_10-53-56_100\n",
      "\n",
      "2017-02-10 11:50:11,403 bci.core.expstruct DEBUG    Creating directory /usr/local/experiment/scratchpad/raw_data/z020/2016-06-03_10-53-56_100\n",
      "2017-02-10 11:50:11,405 root         INFO     Dest folder: /usr/local/experiment/scratchpad/raw_data/z020/2016-06-03_10-53-56_100\n",
      "2017-02-10 11:50:11,406 archivetools.tar INFO     Will compress folder 2016-06-03_10-53-56_100 from /usr/local/experiment/scratchpad/tmp_data/z020 into /usr/local/experiment/scratchpad/raw_data/z020/2016-06-03_10-53-56_100/2016-06-03_10-53-56_100.tar.xz\n",
      "2017-02-10 11:50:11,419 archivetools.tar DEBUG    md5_wrapper: entered /usr/local/experiment/scratchpad/tmp_data/z020/2016-06-03_10-53-56_100/experiment1.kwe\n",
      "2017-02-10 11:50:11,421 archivetools.tar DEBUG    Adding /usr/local/experiment/scratchpad/tmp_data/z020/2016-06-03_10-53-56_100/experiment1.kwe as experiment1.kwe\n",
      "2017-02-10 11:50:11,536 archivetools.tar DEBUG    md5_wrapper: entered /usr/local/experiment/scratchpad/tmp_data/z020/2016-06-03_10-53-56_100/settings.xml\n",
      "2017-02-10 11:50:11,538 archivetools.tar DEBUG    Adding /usr/local/experiment/scratchpad/tmp_data/z020/2016-06-03_10-53-56_100/settings.xml as settings.xml\n",
      "2017-02-10 11:50:11,551 archivetools.tar DEBUG    md5_wrapper: entered /usr/local/experiment/scratchpad/tmp_data/z020/2016-06-03_10-53-56_100/experiment1_100.raw.kwd\n",
      "2017-02-10 11:52:00,036 archivetools.tar DEBUG    Adding /usr/local/experiment/scratchpad/tmp_data/z020/2016-06-03_10-53-56_100/experiment1_100.raw.kwd as experiment1_100.raw.kwd\n"
     ]
    }
   ],
   "source": [
    "locations={'orig': 'experiment', \n",
    "        'dest':'archive', \n",
    "        'scratch':'scratch'}\n",
    "\n",
    "#archive_bird(bird, locations=locations, overwrite=False)\n",
    "a_archive = td.threadedFunction(args=(archive_bird,\n",
    "                                    bird),\n",
    "                               kwargs={'locations': locations,\n",
    "                                       'data_folder': data_folder})\n",
    "a_archive.start()"
   ]
  },
  {
   "cell_type": "code",
   "execution_count": 18,
   "metadata": {
    "collapsed": false
   },
   "outputs": [],
   "source": [
    "a_archive.terminate()"
   ]
  },
  {
   "cell_type": "code",
   "execution_count": 10,
   "metadata": {
    "collapsed": false
   },
   "outputs": [
    {
     "data": {
      "text/plain": [
       "False"
      ]
     },
     "execution_count": 10,
     "metadata": {},
     "output_type": "execute_result"
    }
   ],
   "source": [
    "a_archive.is_alive()"
   ]
  },
  {
   "cell_type": "code",
   "execution_count": 34,
   "metadata": {
    "collapsed": false
   },
   "outputs": [
    {
     "data": {
      "text/plain": [
       "True"
      ]
     },
     "execution_count": 34,
     "metadata": {},
     "output_type": "execute_result"
    }
   ],
   "source": [
    "os.path.exists('/usr/local/experiment/scratchpad/tmp_data/z017/2016-07-11_13-11-17_225')"
   ]
  },
  {
   "cell_type": "code",
   "execution_count": null,
   "metadata": {
    "collapsed": true
   },
   "outputs": [],
   "source": []
  }
 ],
 "metadata": {
  "anaconda-cloud": {},
  "kernelspec": {
   "display_name": "Python [conda env:py35]",
   "language": "python",
   "name": "conda-env-py35-py"
  },
  "language_info": {
   "codemirror_mode": {
    "name": "ipython",
    "version": 3
   },
   "file_extension": ".py",
   "mimetype": "text/x-python",
   "name": "python",
   "nbconvert_exporter": "python",
   "pygments_lexer": "ipython3",
   "version": "3.5.2"
  }
 },
 "nbformat": 4,
 "nbformat_minor": 0
}
