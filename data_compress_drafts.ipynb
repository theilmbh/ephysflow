{
 "cells": [
  {
   "cell_type": "code",
   "execution_count": 1,
   "metadata": {
    "collapsed": false
   },
   "outputs": [
    {
     "name": "stderr",
     "output_type": "stream",
     "text": [
      "2017-01-27 18:16:13,854 root         DEBUG    All modules loaded\n"
     ]
    },
    {
     "name": "stdout",
     "output_type": "stream",
     "text": [
      "Computer: passaro\n"
     ]
    }
   ],
   "source": [
    "# Definitions and functions\n",
    "%matplotlib inline\n",
    "from __future__ import division\n",
    "import pdb\n",
    "import sys\n",
    "import pandas as pd\n",
    "import numpy as np\n",
    "import scipy.io as sio\n",
    "import matplotlib.pyplot as plt\n",
    "import matplotlib\n",
    "import scipy.signal as sg\n",
    "import math\n",
    "import scipy as sp\n",
    "import socket\n",
    "import os\n",
    "import wave\n",
    "import struct\n",
    "import h5py\n",
    "from scipy.io import wavfile\n",
    "from scipy.signal import spectrogram\n",
    "import logging\n",
    "from IPython.display import display\n",
    "matplotlib.style.use('ggplot')\n",
    "from ipywidgets import *\n",
    "import yaml\n",
    "import numpy.lib.recfunctions as rfn \n",
    "import numpy.matlib as npm\n",
    "import glob\n",
    "import tarfile as trf\n",
    "from contextlib import closing \n",
    "\n",
    "# Check wich computer to decide where the things are mounted\n",
    "comp_name=socket.gethostname()\n",
    "print('Computer: ' + comp_name)\n",
    "\n",
    "if 'txori' in comp_name or 'passaro' in comp_name or 'lintu' in comp_name:\n",
    "    repos_folder = os.path.abspath('/mnt/cube/earneodo/repos')\n",
    "    experiment_folder = os.path.join('/mnt/cube/earneodo/bci_zf/')\n",
    "\n",
    "sys.path.append(os.path.join(repos_folder, 'ephysflow'))\n",
    "sys.path.append(os.path.join(repos_folder, 'swissknife'))\n",
    "\n",
    "# Careful with these: basic_viewing should be replaced soon\n",
    "from basic_viewing import events as evt\n",
    "# from basic_viewing.structure import kwik_functions as kwkf\n",
    "# from basic_viewing.structure.core import h5_functions as kwdf\n",
    "\n",
    "from bci.core import kwik_functions as kwkf\n",
    "from bci.core.file import h5_functions as kwdf \n",
    "from bci.core import expstruct as et\n",
    "\n",
    "\n",
    "logger = logging.getLogger()\n",
    "handler = logging.StreamHandler()\n",
    "formatter = logging.Formatter(\n",
    "        '%(asctime)s %(name)-12s %(levelname)-8s %(message)s')\n",
    "handler.setFormatter(formatter)\n",
    "logger.addHandler(handler)\n",
    "logger.setLevel(logging.DEBUG)\n",
    "\n",
    "\n",
    "\n",
    "logger.debug('All modules loaded')"
   ]
  },
  {
   "cell_type": "code",
   "execution_count": 2,
   "metadata": {
    "collapsed": false
   },
   "outputs": [],
   "source": [
    "# bird and session\n",
    "bird = 'z017'\n",
    "#sess = 'day-anesth_surface_2016-11-14_6'\n",
    "#stim_sess = '001'\n",
    "\n",
    "#exp_par = et.get_parameters(bird, sess)\n",
    "#fn = et.file_names(bird, sess)\n",
    "\n",
    "\n"
   ]
  },
  {
   "cell_type": "code",
   "execution_count": 3,
   "metadata": {
    "collapsed": false
   },
   "outputs": [
    {
     "data": {
      "text/plain": [
       "{'folders': {'kai': '/mnt/cube/kai/results/z017/',\n",
       "  'prb': '/mnt/cube/earneodo/bci_zf/probes',\n",
       "  'raw': '/usr/local/experiment/raw_data/z017/',\n",
       "  'rw': '/mnt/cube/earneodo/bci_zf/raw_data/z017/',\n",
       "  'ss': '/mnt/cube/earneodo/bci_zf/ss_data/z017/',\n",
       "  'stim': '/mnt/cube/earneodo/bci_zf/stim_data/z017/',\n",
       "  'templ': '/mnt/cube/earneodo/bci_zf/templates',\n",
       "  'tmp': '/usr/local/experiment/tmp_data/z017/'},\n",
       " 'locations': {'archive': '/mnt/cube/earneodo/archive/bci_zf',\n",
       "  'experiment': '/mnt/cube/earneodo/bci_zf',\n",
       "  'experiment_local': '/usr/local/experiment',\n",
       "  'repos': '/mnt/cube/earneodo/repos',\n",
       "  'store': '/Data/bci_zf'},\n",
       " 'structure': {'cand': 'experiment.mot.h5',\n",
       "  'evt': 'experiment.kwe',\n",
       "  'kk_par': 'params.prm',\n",
       "  'kk_prb': '*.prb',\n",
       "  'ks_cfg': 'config.m',\n",
       "  'ks_map': 'chanMap.mat',\n",
       "  'ks_mas': 'master.m',\n",
       "  'ks_par': 'params.py',\n",
       "  'mic': 'experiment-rec_000.mic.wav',\n",
       "  'par': 'experiment.par.yml',\n",
       "  'sng': 'experiment.sng.kwe',\n",
       "  'ss_bin': 'experiment.dat',\n",
       "  'ss_par': 'experiment.par.yml',\n",
       "  'ss_raw': 'experiment.raw.kwd',\n",
       "  'stm': 'experiment.stm.kwe',\n",
       "  'structure': 'experiment',\n",
       "  'sts': 'experiment-rec_000.sts.wav'}}"
      ]
     },
     "execution_count": 3,
     "metadata": {},
     "output_type": "execute_result"
    }
   ],
   "source": [
    "fn = et.file_names(bird)\n",
    "fn"
   ]
  },
  {
   "cell_type": "code",
   "execution_count": 4,
   "metadata": {
    "collapsed": false
   },
   "outputs": [
    {
     "data": {
      "text/plain": [
       "{'folders': {'kai': '/mnt/cube/kai/results/z017/',\n",
       "  'prb': '/Data/bci_zf/probes',\n",
       "  'raw': '/Data/bci_zf/raw_data/z017/',\n",
       "  'rw': '/Data/bci_zf/raw_data/z017/',\n",
       "  'ss': '/Data/bci_zf/ss_data/z017/',\n",
       "  'stim': '/Data/bci_zf/stim_data/z017/',\n",
       "  'templ': '/Data/bci_zf/templates',\n",
       "  'tmp': '/Data/bci_zf/tmp_data/z017/'},\n",
       " 'locations': {'archive': '/Data/bci_zf',\n",
       "  'experiment': '/Data/bci_zf',\n",
       "  'experiment_local': '/Data/bci_zf',\n",
       "  'store': '/Data/bci_zf'},\n",
       " 'structure': {'cand': 'experiment.mot.h5',\n",
       "  'evt': 'experiment.kwe',\n",
       "  'kk_par': 'params.prm',\n",
       "  'kk_prb': '*.prb',\n",
       "  'ks_cfg': 'config.m',\n",
       "  'ks_map': 'chanMap.mat',\n",
       "  'ks_mas': 'master.m',\n",
       "  'ks_par': 'params.py',\n",
       "  'mic': 'experiment-rec_000.mic.wav',\n",
       "  'par': 'experiment.par.yml',\n",
       "  'sng': 'experiment.sng.kwe',\n",
       "  'ss_bin': 'experiment.dat',\n",
       "  'ss_par': 'experiment.par.yml',\n",
       "  'ss_raw': 'experiment.raw.kwd',\n",
       "  'stm': 'experiment.stm.kwe',\n",
       "  'structure': 'experiment',\n",
       "  'sts': 'experiment-rec_000.sts.wav'}}"
      ]
     },
     "execution_count": 4,
     "metadata": {},
     "output_type": "execute_result"
    }
   ],
   "source": [
    "fn_data = et.file_names(bird, experiment_folder=fn['locations']['store'])\n",
    "fn_data"
   ]
  },
  {
   "cell_type": "code",
   "execution_count": 155,
   "metadata": {
    "collapsed": false
   },
   "outputs": [],
   "source": [
    "all_sessions = et.list_raw_sessions(bird, experiment_folder=fn['locations']['store'], location='raw')\n"
   ]
  },
  {
   "cell_type": "code",
   "execution_count": 6,
   "metadata": {
    "collapsed": false
   },
   "outputs": [
    {
     "name": "stdout",
     "output_type": "stream",
     "text": [
      "/Data/bci_zf/raw_data/z017\n"
     ]
    }
   ],
   "source": [
    "folder = 'raw_data'\n",
    "all_sessions = et.list_raw_sessions(bird, experiment_folder=fn_data['locations']['store'], location='raw')\n",
    "arch_sess = all_sessions[0][2]\n",
    "\n",
    "arch_fold = os.path.join(fn_data['locations']['archive'], folder, bird)\n",
    "arch_file_base = arch_sess\n",
    "print(arch_fold)"
   ]
  },
  {
   "cell_type": "code",
   "execution_count": 7,
   "metadata": {
    "collapsed": false
   },
   "outputs": [
    {
     "data": {
      "text/plain": [
       "'2016-06-16_16-28-28_150'"
      ]
     },
     "execution_count": 7,
     "metadata": {},
     "output_type": "execute_result"
    }
   ],
   "source": [
    "arch_file_base"
   ]
  },
  {
   "cell_type": "code",
   "execution_count": 8,
   "metadata": {
    "collapsed": false
   },
   "outputs": [
    {
     "data": {
      "text/plain": [
       "'/Data/bci_zf/raw_data/z017'"
      ]
     },
     "execution_count": 8,
     "metadata": {},
     "output_type": "execute_result"
    }
   ],
   "source": [
    "arch_fold"
   ]
  },
  {
   "cell_type": "code",
   "execution_count": 11,
   "metadata": {
    "collapsed": false
   },
   "outputs": [
    {
     "data": {
      "text/plain": [
       "['/Data/bci_zf/raw_data/z017/2016-06-16_16-28-28_150/experiment1.kwx',\n",
       " '/Data/bci_zf/raw_data/z017/2016-06-16_16-28-28_150/experiment1.kwe',\n",
       " '/Data/bci_zf/raw_data/z017/2016-06-16_16-28-28_150/subfolder',\n",
       " '/Data/bci_zf/raw_data/z017/2016-06-16_16-28-28_150/experiment1_100.raw.kwd',\n",
       " '/Data/bci_zf/raw_data/z017/2016-06-16_16-28-28_150/settings.xml']"
      ]
     },
     "execution_count": 11,
     "metadata": {},
     "output_type": "execute_result"
    }
   ],
   "source": [
    "arch_list = glob.glob(os.path.join(arch_fold, arch_sess, '*'))\n",
    "arch_list"
   ]
  },
  {
   "cell_type": "code",
   "execution_count": 14,
   "metadata": {
    "collapsed": false
   },
   "outputs": [
    {
     "name": "stderr",
     "output_type": "stream",
     "text": [
      "2017-01-27 18:24:28,198 root         DEBUG    Adding /Data/bci_zf/raw_data/z017/2016-06-16_16-28-28_150/experiment1.kwx\n",
      "2017-01-27 18:24:28,199 root         DEBUG    Adding /Data/bci_zf/raw_data/z017/2016-06-16_16-28-28_150/experiment1.kwe\n",
      "2017-01-27 18:24:28,200 root         DEBUG    Adding /Data/bci_zf/raw_data/z017/2016-06-16_16-28-28_150/subfolder\n"
     ]
    }
   ],
   "source": [
    "for elem in arch_list[:3]:\n",
    "    logger.debug('Adding {}'.format(elem))\n",
    "    #a.add(elem, arcname=os.path.split(elem)[-1])"
   ]
  },
  {
   "cell_type": "code",
   "execution_count": 25,
   "metadata": {
    "collapsed": false
   },
   "outputs": [
    {
     "name": "stderr",
     "output_type": "stream",
     "text": [
      "2017-01-27 18:31:49,858 bci.core.expstruct DEBUG    Creating directory /Data/bci_zf/raw_data/z017\n",
      "2017-01-27 18:31:49,859 bci.core.expstruct DEBUG    Directory existed, doing nothing\n",
      "2017-01-27 18:31:49,871 root         DEBUG    Adding /Data/bci_zf/raw_data/z017/2016-06-16_16-28-28_150/experiment1.kwx\n",
      "2017-01-27 18:31:50,152 root         DEBUG    Adding /Data/bci_zf/raw_data/z017/2016-06-16_16-28-28_150/experiment1.kwe\n",
      "2017-01-27 18:31:50,161 root         DEBUG    Adding /Data/bci_zf/raw_data/z017/2016-06-16_16-28-28_150/subfolder\n"
     ]
    }
   ],
   "source": [
    "et.mkdir_p(arch_fold)\n",
    "\n",
    "with trf.open(os.path.join(arch_fold, '{}2.tar.xz'.format(arch_file_base)), mode='w:xz') as a:\n",
    "    for elem in arch_list[:3]:\n",
    "        logger.debug('Adding {}'.format(elem))\n",
    "        a.add(elem, arcname=os.path.split(elem)[-1])"
   ]
  },
  {
   "cell_type": "code",
   "execution_count": 23,
   "metadata": {
    "collapsed": false
   },
   "outputs": [
    {
     "name": "stdout",
     "output_type": "stream",
     "text": [
      "experiment1.kwx\n",
      "experiment1.kwe\n",
      "subfolder\n"
     ]
    }
   ],
   "source": [
    "archive = trf.open(os.path.join(arch_fold, '{}.tar.xz'.format(arch_file_base)), mode='w:xz')\n",
    "for elem in arch_list[:3]:\n",
    "    archive.add(elem, arcname=os.path.split(elem)[-1])\n",
    "    print(os.path.split(elem)[-1])"
   ]
  },
  {
   "cell_type": "code",
   "execution_count": 29,
   "metadata": {
    "collapsed": false
   },
   "outputs": [
    {
     "data": {
      "text/plain": [
       "'/Data/bci_zf/raw_data/z017'"
      ]
     },
     "execution_count": 29,
     "metadata": {},
     "output_type": "execute_result"
    }
   ],
   "source": [
    "arch_fold"
   ]
  },
  {
   "cell_type": "code",
   "execution_count": 42,
   "metadata": {
    "collapsed": false
   },
   "outputs": [
    {
     "data": {
      "text/plain": [
       "'2016-06-16_16-28-28_150'"
      ]
     },
     "execution_count": 42,
     "metadata": {},
     "output_type": "execute_result"
    }
   ],
   "source": [
    "arch_file_base"
   ]
  },
  {
   "cell_type": "code",
   "execution_count": 156,
   "metadata": {
    "collapsed": false
   },
   "outputs": [
    {
     "name": "stdout",
     "output_type": "stream",
     "text": [
      "experiment1.kwx\n",
      "/Data/bci_zf/raw_data/z017/2016-06-16_16-28-28_150/experiment1.kwx\n",
      "8d9eb374b9851a13ba15721073a4d7b2\n",
      "experiment1.kwe\n",
      "/Data/bci_zf/raw_data/z017/2016-06-16_16-28-28_150/experiment1.kwe\n",
      "dd101d71a082ee620d78c2a33f4c4bca\n",
      "settings.xml\n",
      "/Data/bci_zf/raw_data/z017/2016-06-16_16-28-28_150/settings.xml\n",
      "843efbe30d8b62b7cf527b09fc7167f6\n",
      "/Data/bci_zf/raw_data/z017/2016-06-16_16-28-28_150/subfolder\n",
      "settings_2.xml\n",
      "/Data/bci_zf/raw_data/z017/2016-06-16_16-28-28_150/subfolder/settings_2.xml\n",
      "fbc693b4b88f59539cf1c235132f7fab\n"
     ]
    }
   ],
   "source": [
    "import os\n",
    "files_list = []\n",
    "for root, dirs, files in os.walk(os.path.join(arch_fold, arch_sess), topdown=True):\n",
    "    for name in files:\n",
    "        print(name)\n",
    "        print(os.path.join(root, name))\n",
    "        print(md5(os.path.join(root, name)))\n",
    "        files_list.append(os.path.join(root, name))\n",
    "        \n",
    "    for name in dirs:\n",
    "        print(os.path.join(root, name))"
   ]
  },
  {
   "cell_type": "code",
   "execution_count": 175,
   "metadata": {
    "collapsed": false
   },
   "outputs": [
    {
     "name": "stdout",
     "output_type": "stream",
     "text": [
      "subfolder/settings_2.xml\n",
      "50MB.zip\n",
      "experiment1.kwx\n",
      "experiment1.kwe\n",
      "settings.xml\n",
      "None\n",
      "subfolder/settings_2.xml\n",
      "<TarInfo 'settings.xml' at 0x7f3df0f1f430>\n"
     ]
    }
   ],
   "source": [
    "print(os.path.normpath(md_list[-1][0]))\n",
    "\n",
    "def find_in_tar(file, name):\n",
    "    found = None\n",
    "    for member in file:\n",
    "        print(os.path.normpath(member.name))\n",
    "        if member.name == name:\n",
    "            print(found)\n",
    "            found = member\n",
    "        else:\n",
    "            pass\n",
    "    if ~found:\n",
    "        raise()\n",
    "    return found\n",
    "\n",
    "print(find_in_tar(b, md_list[-2][0]))"
   ]
  },
  {
   "cell_type": "code",
   "execution_count": 17,
   "metadata": {
    "collapsed": false
   },
   "outputs": [
    {
     "data": {
      "text/plain": [
       "'/Data/bci_zf/raw_data/z017/2016-06-16_16-28-28_1502.tar.xz.'"
      ]
     },
     "execution_count": 17,
     "metadata": {},
     "output_type": "execute_result"
    }
   ],
   "source": [
    "os.path.join(arch_fold, '{}2.tar.xz.'.format(arch_file_base))"
   ]
  },
  {
   "cell_type": "code",
   "execution_count": 173,
   "metadata": {
    "collapsed": false
   },
   "outputs": [
    {
     "name": "stderr",
     "output_type": "stream",
     "text": [
      "2017-01-28 15:50:48,441 root         INFO     Will compress folder 2016-06-16_16-28-28_150 from /Data/bci_zf/raw_data/z017 into /usr/local/experiment/tests/2016-06-16_16-28-28_150.tar.xz\n",
      "2017-01-28 15:50:48,445 root         DEBUG    Adding /Data/bci_zf/raw_data/z017/2016-06-16_16-28-28_150/experiment1.kwx as experiment1.kwx\n"
     ]
    },
    {
     "name": "stdout",
     "output_type": "stream",
     "text": [
      "experiment1.kwx\n",
      "8d9eb374b9851a13ba15721073a4d7b2\n"
     ]
    },
    {
     "name": "stderr",
     "output_type": "stream",
     "text": [
      "2017-01-28 15:50:48,798 root         DEBUG    Adding /Data/bci_zf/raw_data/z017/2016-06-16_16-28-28_150/experiment1.kwe as experiment1.kwe\n",
      "2017-01-28 15:50:48,808 root         DEBUG    Adding /Data/bci_zf/raw_data/z017/2016-06-16_16-28-28_150/settings.xml as settings.xml\n",
      "2017-01-28 15:50:48,826 root         DEBUG    Adding /Data/bci_zf/raw_data/z017/2016-06-16_16-28-28_150/subfolder/settings_2.xml as subfolder/settings_2.xml\n",
      "2017-01-28 15:50:48,838 root         DEBUG    Adding /usr/local/experiment/tests/2016-06-16_16-28-28_150.mdl as 2016-06-16_16-28-28_150.mdl\n",
      "2017-01-28 15:50:48,841 root         INFO     done archiving, computing md5f of archive\n",
      "2017-01-28 15:50:48,843 root         INFO     done\n",
      "2017-01-28 15:50:48,844 root         INFO     Getting checksums of file /usr/local/experiment/tests/2016-06-16_16-28-28_150.tar.xz\n",
      "2017-01-28 15:50:48,846 root         DEBUG    experiment1.kwx, md5:8d9eb374b9851a13ba15721073a4d7b2\n",
      "2017-01-28 15:50:48,848 root         DEBUG    experiment1.kwe, md5:dd101d71a082ee620d78c2a33f4c4bca\n",
      "2017-01-28 15:50:48,849 root         DEBUG    settings.xml, md5:843efbe30d8b62b7cf527b09fc7167f6\n",
      "2017-01-28 15:50:48,851 root         DEBUG    subfolder/settings_2.xml, md5:fbc693b4b88f59539cf1c235132f7fab\n",
      "2017-01-28 15:50:48,852 root         DEBUG    2016-06-16_16-28-28_150.mdl, md5:5079b23eda2d5a97d19f77bcfa526486\n",
      "2017-01-28 15:50:48,853 root         INFO     Done\n"
     ]
    },
    {
     "name": "stdout",
     "output_type": "stream",
     "text": [
      "experiment1.kwe\n",
      "dd101d71a082ee620d78c2a33f4c4bca\n",
      "settings.xml\n",
      "843efbe30d8b62b7cf527b09fc7167f6\n",
      "subfolder/settings_2.xml\n",
      "fbc693b4b88f59539cf1c235132f7fab\n"
     ]
    }
   ],
   "source": [
    "import importlib\n",
    "importlib.reload(tt)"
   ]
  },
  {
   "cell_type": "code",
   "execution_count": 174,
   "metadata": {
    "collapsed": false
   },
   "outputs": [
    {
     "data": {
      "text/plain": [
       "[['experiment1.kwx', '8d9eb374b9851a13ba15721073a4d7b2'],\n",
       " ['experiment1.kwe', 'dd101d71a082ee620d78c2a33f4c4bca'],\n",
       " ['settings.xml', '843efbe30d8b62b7cf527b09fc7167f6'],\n",
       " ['subfolder/settings_2.xml', 'fbc693b4b88f59539cf1c235132f7fab']]"
      ]
     },
     "execution_count": 174,
     "metadata": {},
     "output_type": "execute_result"
    }
   ],
   "source": [
    "md_list"
   ]
  },
  {
   "cell_type": "code",
   "execution_count": 133,
   "metadata": {
    "collapsed": false
   },
   "outputs": [
    {
     "name": "stderr",
     "output_type": "stream",
     "text": [
      "2017-01-28 00:28:56,871 root         DEBUG    Checking experiment1.kwx, hash 8d9eb374b9851a13ba15721073a4d7b2\n",
      "2017-01-28 00:28:56,873 root         DEBUG    Checking experiment1.kwe, hash dd101d71a082ee620d78c2a33f4c4bca\n",
      "2017-01-28 00:28:56,874 root         DEBUG    Checking settings.xml, hash 843efbe30d8b62b7cf527b09fc7167f6\n",
      "2017-01-28 00:28:56,875 root         DEBUG    Checking /subfolder/settings_2.xml, hash fbc693b4b88f59539cf1c235132f7fab\n"
     ]
    }
   ],
   "source": [
    "def check_compressed_folder(archive_path, md_archive, md_list):\n",
    "    for [name, md5hash] in md_list:\n",
    "        logger.debug('Checking {}, hash {}'.format(name, md5hash))\n",
    "        \n",
    "        \n",
    "        \n",
    "check_compressed_folder(d_f, md_arch, md_list)"
   ]
  },
  {
   "cell_type": "code",
   "execution_count": 160,
   "metadata": {
    "collapsed": false
   },
   "outputs": [
    {
     "data": {
      "text/plain": [
       "[['experiment1.kwx', '8d9eb374b9851a13ba15721073a4d7b2'],\n",
       " ['experiment1.kwe', 'dd101d71a082ee620d78c2a33f4c4bca'],\n",
       " ['settings.xml', '843efbe30d8b62b7cf527b09fc7167f6'],\n",
       " ['/subfolder/settings_2.xml', 'fbc693b4b88f59539cf1c235132f7fab']]"
      ]
     },
     "execution_count": 160,
     "metadata": {},
     "output_type": "execute_result"
    }
   ],
   "source": [
    "md_list"
   ]
  },
  {
   "cell_type": "code",
   "execution_count": 62,
   "metadata": {
    "collapsed": false
   },
   "outputs": [
    {
     "name": "stderr",
     "output_type": "stream",
     "text": [
      "2017-01-27 19:27:59,539 root         DEBUG    changing into '/Data/bci_zf/raw_data/z017/2016-06-16_16-28-28_150'\n",
      "2017-01-27 19:27:59,541 root         INFO     Creating tar archive\n",
      "2017-01-27 19:27:59,826 root         DEBUG    changing back to '/mnt/cube/earneodo/repos/ephysflow'\n"
     ]
    }
   ],
   "source": [
    "# A more efficient way, codewise, but not the way I like it\n",
    "import shutil as sh\n",
    "arname = sh.make_archive(os.path.join(arch_fold, arch_sess), 'xztar',\n",
    "                         root_dir=os.path.join(arch_fold, arch_sess),\n",
    "                         base_dir='./',\n",
    "                         logger=logger)"
   ]
  },
  {
   "cell_type": "code",
   "execution_count": 111,
   "metadata": {
    "collapsed": false
   },
   "outputs": [],
   "source": [
    "b = trf.open(d_f, 'r|*')"
   ]
  },
  {
   "cell_type": "code",
   "execution_count": 121,
   "metadata": {
    "collapsed": false
   },
   "outputs": [
    {
     "data": {
      "text/plain": [
       "['/Data/bci_zf/raw_data/z017/2016-06-16_16-28-28_150/experiment1.kwx',\n",
       " '/Data/bci_zf/raw_data/z017/2016-06-16_16-28-28_150/experiment1.kwe',\n",
       " '/Data/bci_zf/raw_data/z017/2016-06-16_16-28-28_150/settings.xml',\n",
       " '/Data/bci_zf/raw_data/z017/2016-06-16_16-28-28_150/subfolder/settings_2.xml']"
      ]
     },
     "execution_count": 121,
     "metadata": {},
     "output_type": "execute_result"
    }
   ],
   "source": [
    "files_list"
   ]
  },
  {
   "cell_type": "code",
   "execution_count": 170,
   "metadata": {
    "collapsed": false
   },
   "outputs": [
    {
     "data": {
      "text/plain": [
       "'2016-06-16_16-28-28_150/subfolder/settings_2.xml'"
      ]
     },
     "execution_count": 170,
     "metadata": {},
     "output_type": "execute_result"
    }
   ],
   "source": [
    "fp = files_list[-1]\n",
    "os.path.relpath(fp, arch_fold)"
   ]
  },
  {
   "cell_type": "code",
   "execution_count": 112,
   "metadata": {
    "collapsed": false
   },
   "outputs": [
    {
     "data": {
      "text/plain": [
       "['experiment1.kwx',\n",
       " 'experiment1.kwe',\n",
       " 'settings.xml',\n",
       " 'subfolder/settings_2.xml']"
      ]
     },
     "execution_count": 112,
     "metadata": {},
     "output_type": "execute_result"
    }
   ],
   "source": [
    "b.getnames()"
   ]
  },
  {
   "cell_type": "code",
   "execution_count": 127,
   "metadata": {
    "collapsed": false
   },
   "outputs": [
    {
     "name": "stderr",
     "output_type": "stream",
     "text": [
      "2017-01-28 00:07:48,311 root         INFO     Getting checksums of file /usr/local/experiment/tests/2016-06-16_16-28-28_150.tar.xz\n",
      "2017-01-28 00:07:48,578 root         DEBUG    50MB.zip, md5:2699c63cb6699b2272f78989b09e88b1\n",
      "2017-01-28 00:07:48,579 root         DEBUG    experiment1.kwx, md5:8d9eb374b9851a13ba15721073a4d7b2\n",
      "2017-01-28 00:07:48,580 root         DEBUG    experiment1.kwe, md5:dd101d71a082ee620d78c2a33f4c4bca\n",
      "2017-01-28 00:07:48,580 root         DEBUG    settings.xml, md5:843efbe30d8b62b7cf527b09fc7167f6\n",
      "2017-01-28 00:07:48,581 root         DEBUG    subfolder/settings_2.xml, md5:fbc693b4b88f59539cf1c235132f7fab\n"
     ]
    }
   ],
   "source": []
  },
  {
   "cell_type": "code",
   "execution_count": 123,
   "metadata": {
    "collapsed": false
   },
   "outputs": [
    {
     "data": {
      "text/plain": [
       "[['50MB.zip', '2699c63cb6699b2272f78989b09e88b1'],\n",
       " ['experiment1.kwx', '8d9eb374b9851a13ba15721073a4d7b2'],\n",
       " ['experiment1.kwe', 'dd101d71a082ee620d78c2a33f4c4bca'],\n",
       " ['settings.xml', '843efbe30d8b62b7cf527b09fc7167f6'],\n",
       " ['/subfolder/settings_2.xml', 'fbc693b4b88f59539cf1c235132f7fab']]"
      ]
     },
     "execution_count": 123,
     "metadata": {},
     "output_type": "execute_result"
    }
   ],
   "source": [
    "md_list"
   ]
  },
  {
   "cell_type": "code",
   "execution_count": 89,
   "metadata": {
    "collapsed": false
   },
   "outputs": [],
   "source": [
    "from bci import expstruct as et\n",
    "import subprocess\n",
    "from subprocess import PIPE, CalledProcessError, check_call, Popen\n",
    "\n",
    "\n",
    "def archive_folder(folder, dest_full_path,\n",
    "                   dest_file_list=None,\n",
    "                   compression_pars='xz'):\n",
    "\n",
    "    logger.info('Archiving folder {0} into {1}'.format(folder, dest_full_path))\n",
    "\n",
    "    [dest_folder, dest_file] = os.path.split(dest_full_path)\n",
    "    et.mkdir_p(dest_folder)\n",
    "\n",
    "    if dest_file_list is None:\n",
    "        dest_file_list = os.path.join(dest_folder, '{0}.{1}'.format(dest_file, 'lst'))\n",
    "    \n",
    "    log_file = os.path.join(dest_folder, '{0}.{1}'.format(dest_file, 'log'))\n",
    "    \n",
    "    logger.info('Log file {}'.format(log_file))\n",
    "    \n",
    "    cmd = ['tar', '-I \\\"{}\\\"'.format(compression_pars), '-cvf',\n",
    "           dest_full_path, \n",
    "           folder,\n",
    "           '> {}'.format(dest_file_list)]\n",
    "    \n",
    "    [root, the_folder] = os.path.split(folder)\n",
    "    \n",
    "    cmd = ['tar', '-C {}'.format(root), '-cvf', dest_full_path, the_folder]\n",
    "    \n",
    "    with open(log_file, 'w') as f:\n",
    "        try:\n",
    "            check_call(cmd, stderr=f)\n",
    "            df = subprocess.Popen(cmd, stdout=PIPE)\n",
    "            output, err = df.communicate()\n",
    "        except CalledProcessError as e:\n",
    "            logger.warn(e)\n",
    "            exit(1)\n",
    "\n",
    "def archive_data(bird, sess, orig, dest=None,\n",
    "                 compression_pars='pxz -9 -T4',\n",
    "                 compression_ext='xz'):\n",
    "    logger.info('Will archive {0} data from bird {1}, sess {2}'.format(orig, bird, sess))\n",
    "    fn = et.file_names(bird, sess)\n",
    "    source_folder = fn['folders'][orig]\n",
    "\n",
    "    logger.info('Source folder: {}'.format(source_folder))\n",
    "    if dest is None:\n",
    "        fb = et.file_names('')\n",
    "        dest_in_archive = os.path.split(os.path.split(fb['folders']['ss'])[0])[1]\n",
    "        dest = os.path.join(fn['locations']['archive'],\n",
    "                            dest_in_archive,\n",
    "                            bird)\n",
    "    logger.info('Dest. folder: {}'.format(dest))\n",
    "\n",
    "    zip_ext = 'tar.{0}'.format(compression_ext)\n",
    "    dest_file = [os.path.join(dest, '{0}.{1}'.format(sess, ext)) for ext in [zip_ext, 'lst']]\n",
    "    \n",
    "    archive_folder(source_folder, dest_file[0],\n",
    "                       dest_file_list=dest_file[1],\n",
    "                       compression_pars=compression_pars)\n",
    "\n",
    "#     try:\n",
    "#         archive_folder(source_folder, dest_file[0],\n",
    "#                        dest_file_list=dest_file[0],\n",
    "#                        compression_pars=compression_pars)\n",
    "#     except:\n",
    "#         logger.warn('Error archiving {}'.format(dest_file[0]))\n"
   ]
  },
  {
   "cell_type": "code",
   "execution_count": 90,
   "metadata": {
    "collapsed": false
   },
   "outputs": [
    {
     "name": "stderr",
     "output_type": "stream",
     "text": [
      "2016-11-23 15:16:02,722 root         INFO     Will archive rw data from bird z009, sess test_2016-11-04_10-11-24_100\n",
      "2016-11-23 15:16:02,724 root         INFO     Source folder: /mnt/cube/earneodo/bci_zf/raw_data/z009/test_2016-11-04_10-11-24_100\n",
      "2016-11-23 15:16:02,725 root         INFO     Dest. folder: /mnt/cube/earneodo/archive/bci_zf/ss_data/z009\n",
      "2016-11-23 15:16:02,725 root         INFO     Archiving folder /mnt/cube/earneodo/bci_zf/raw_data/z009/test_2016-11-04_10-11-24_100 into /mnt/cube/earneodo/archive/bci_zf/ss_data/z009/test_2016-11-04_10-11-24_100.tar.xz\n",
      "2016-11-23 15:16:02,726 expstruct    DEBUG    Creating directory /mnt/cube/earneodo/archive/bci_zf/ss_data/z009\n",
      "2016-11-23 15:16:02,733 expstruct    DEBUG    Directory existed, doing nothing\n",
      "2016-11-23 15:16:02,734 root         INFO     Log file /mnt/cube/earneodo/archive/bci_zf/ss_data/z009/test_2016-11-04_10-11-24_100.tar.xz.log\n",
      "2016-11-23 15:16:02,748 root         WARNING  Command '['tar', '-C /mnt/cube/earneodo/bci_zf/raw_data/z009', '-cvf', '/mnt/cube/earneodo/archive/bci_zf/ss_data/z009/test_2016-11-04_10-11-24_100.tar.xz', 'test_2016-11-04_10-11-24_100']' returned non-zero exit status 2\n"
     ]
    }
   ],
   "source": [
    "archive_data(bird, sess, location)"
   ]
  },
  {
   "cell_type": "code",
   "execution_count": 73,
   "metadata": {
    "collapsed": false
   },
   "outputs": [
    {
     "data": {
      "text/plain": [
       "{'files': {'base': 'experiment',\n",
       "  'cand': 'experiment.mot.h5',\n",
       "  'evt': 'experiment.kwe',\n",
       "  'kk_par': 'params.prm',\n",
       "  'kk_prb': '*.prb',\n",
       "  'ks_cfg': 'config.m',\n",
       "  'ks_map': 'chanMap.mat',\n",
       "  'ks_mas': 'master.m',\n",
       "  'ks_par': 'params.py',\n",
       "  'mic': 'experiment-rec_000.mic.wav',\n",
       "  'par': 'experiment.par.yml',\n",
       "  'sng': 'experiment.sng.kwe',\n",
       "  'ss_bin': 'experiment.dat',\n",
       "  'ss_par': 'experiment.par.yml',\n",
       "  'ss_raw': 'experiment.raw.kwd',\n",
       "  'stm': 'experiment.stm.kwe',\n",
       "  'sts': 'experiment-rec_000.sts.wav'},\n",
       " 'folders': {'kai': '/mnt/cube/kai/results/z009/',\n",
       "  'prb': '/mnt/cube/earneodo/bci_zf/probes',\n",
       "  'raw': '/usr/local/experiment/raw_data/z009/',\n",
       "  'rw': '/mnt/cube/earneodo/bci_zf/raw_data/z009/',\n",
       "  'ss': '/mnt/cube/earneodo/bci_zf/ss_data/z009/',\n",
       "  'stim': '/mnt/cube/earneodo/bci_zf/stim_data/z009/',\n",
       "  'templ': '/mnt/cube/earneodo/bci_zf/templates',\n",
       "  'tmp': '/usr/local/experiment/tmp_data/z009/'},\n",
       " 'locations': {'archive': '/mnt/cube/earneodo/archive/bci_zf',\n",
       "  'experiment': '/mnt/cube/earneodo/bci_zf',\n",
       "  'experiment_local': '/usr/local/experiment',\n",
       "  'repos': '/mnt/cube/earneodo/repos'}}"
      ]
     },
     "execution_count": 73,
     "metadata": {},
     "output_type": "execute_result"
    }
   ],
   "source": [
    "reload(et)\n",
    "bird = 'z009'\n",
    "location = 'rw'\n",
    "sess = 'test_2016-11-04_10-11-24_100'\n",
    "fn = et.file_names(bird)\n",
    "fn"
   ]
  },
  {
   "cell_type": "code",
   "execution_count": 74,
   "metadata": {
    "collapsed": false
   },
   "outputs": [
    {
     "name": "stderr",
     "output_type": "stream",
     "text": [
      "2016-11-23 15:06:57,106 root         INFO     Will archive rw data from bird z009, sess test_2016-11-04_10-11-24_100\n",
      "2016-11-23 15:06:57,109 root         INFO     Source folder: /mnt/cube/earneodo/bci_zf/raw_data/z009/test_2016-11-04_10-11-24_100\n",
      "2016-11-23 15:06:57,111 root         INFO     Dest. folder: /mnt/cube/earneodo/archive/bci_zf/ss_data/z009\n",
      "2016-11-23 15:06:57,113 root         INFO     Archiving folder /mnt/cube/earneodo/bci_zf/raw_data/z009/test_2016-11-04_10-11-24_100 into /mnt/cube/earneodo/archive/bci_zf/ss_data/z009/test_2016-11-04_10-11-24_100.tar.xz\n",
      "2016-11-23 15:06:57,114 expstruct    DEBUG    Creating directory /mnt/cube/earneodo/archive/bci_zf/ss_data/z009\n",
      "2016-11-23 15:06:57,117 expstruct    DEBUG    Directory existed, doing nothing\n",
      "2016-11-23 15:06:57,119 root         INFO     Log file /mnt/cube/earneodo/archive/bci_zf/ss_data/z009/test_2016-11-04_10-11-24_100.tar.xz.log\n"
     ]
    }
   ],
   "source": []
  },
  {
   "cell_type": "code",
   "execution_count": 31,
   "metadata": {
    "collapsed": false
   },
   "outputs": [
    {
     "data": {
      "text/plain": [
       "'/mnt/cube/earneodo/archive/bci_zf'"
      ]
     },
     "execution_count": 31,
     "metadata": {},
     "output_type": "execute_result"
    }
   ],
   "source": [
    "fn['locations']['archive']"
   ]
  },
  {
   "cell_type": "code",
   "execution_count": 34,
   "metadata": {
    "collapsed": false
   },
   "outputs": [
    {
     "name": "stdout",
     "output_type": "stream",
     "text": [
      "Command '['ls', '/home/non']' returned non-zero exit status 2\n"
     ]
    }
   ],
   "source": [
    "from subprocess import PIPE, CalledProcessError, check_call, Popen\n",
    "\n",
    "try:\n",
    "    check_call([\"ls\", \"/home/non\"])\n",
    "    df = subprocess.Popen([\"ls\", \"/home/non\"], stdout=PIPE)\n",
    "    output, err = df.communicate()\n",
    "except CalledProcessError as e:\n",
    "    print(e)\n",
    "    exit(1)"
   ]
  },
  {
   "cell_type": "code",
   "execution_count": null,
   "metadata": {
    "collapsed": true
   },
   "outputs": [],
   "source": []
  }
 ],
 "metadata": {
  "anaconda-cloud": {},
  "kernelspec": {
   "display_name": "Python [conda env:py35]",
   "language": "python",
   "name": "conda-env-py35-py"
  },
  "language_info": {
   "codemirror_mode": {
    "name": "ipython",
    "version": 3
   },
   "file_extension": ".py",
   "mimetype": "text/x-python",
   "name": "python",
   "nbconvert_exporter": "python",
   "pygments_lexer": "ipython3",
   "version": "3.5.2"
  }
 },
 "nbformat": 4,
 "nbformat_minor": 0
}
