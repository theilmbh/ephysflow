{
 "cells": [
  {
   "cell_type": "code",
   "execution_count": 9,
   "metadata": {
    "collapsed": false
   },
   "outputs": [
    {
     "name": "stdout",
     "output_type": "stream",
     "text": [
      "('exp_folder', 'data', 'bird', 'sess', 'epoch', 'run', 'structure')\n"
     ]
    }
   ],
   "source": [
    "import os\n",
    "import glob\n",
    "\n",
    "def file_path(exp_folder, data, bird=None, sess=None, epoch=None, run=None):\n",
    "    \n",
    "    structure = {'root': os.path.abspath(exp_folder)}\n",
    "    \n",
    "    print file_path.__code__.co_varnames\n",
    "    #bird_folder = os.path.join(data_type_folder, bird)\n",
    "    #sess_folder = os.path.join(bird, sess)\n",
    "    \n",
    "    \n",
    "\n",
    "\n",
    "    \n",
    "\n",
    "file_path('/tuvieja', 'raw_data', 'z020')\n",
    "    "
   ]
  },
  {
   "cell_type": "code",
   "execution_count": 2,
   "metadata": {
    "collapsed": false
   },
   "outputs": [
    {
     "ename": "TypeError",
     "evalue": "file_path() takes exactly 6 arguments (3 given)",
     "output_type": "error",
     "traceback": [
      "\u001b[1;31m---------------------------------------------------------------------------\u001b[0m",
      "\u001b[1;31mTypeError\u001b[0m                                 Traceback (most recent call last)",
      "\u001b[1;32m<ipython-input-2-fc24cad033e8>\u001b[0m in \u001b[0;36m<module>\u001b[1;34m()\u001b[0m\n\u001b[1;32m----> 1\u001b[1;33m \u001b[0mfile_path\u001b[0m\u001b[1;33m(\u001b[0m\u001b[1;34m'/tuvieja'\u001b[0m\u001b[1;33m,\u001b[0m \u001b[1;34m'raw_data'\u001b[0m\u001b[1;33m,\u001b[0m \u001b[1;34m'z020'\u001b[0m\u001b[1;33m)\u001b[0m\u001b[1;33m\u001b[0m\u001b[0m\n\u001b[0m",
      "\u001b[1;31mTypeError\u001b[0m: file_path() takes exactly 6 arguments (3 given)"
     ]
    }
   ],
   "source": [
    "file_path('/tuvieja', 'raw_data', 'z020')"
   ]
  },
  {
   "cell_type": "code",
   "execution_count": null,
   "metadata": {
    "collapsed": true
   },
   "outputs": [],
   "source": []
  }
 ],
 "metadata": {
  "kernelspec": {
   "display_name": "Python 2",
   "language": "python",
   "name": "python2"
  },
  "language_info": {
   "codemirror_mode": {
    "name": "ipython",
    "version": 2
   },
   "file_extension": ".py",
   "mimetype": "text/x-python",
   "name": "python",
   "nbconvert_exporter": "python",
   "pygments_lexer": "ipython2",
   "version": "2.7.11"
  }
 },
 "nbformat": 4,
 "nbformat_minor": 0
}
