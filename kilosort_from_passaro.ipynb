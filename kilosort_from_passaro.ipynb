{
 "cells": [
  {
   "cell_type": "code",
   "execution_count": 1,
   "metadata": {
    "collapsed": false
   },
   "outputs": [
    {
     "name": "stdout",
     "output_type": "stream",
     "text": [
      "Computer: passaro\n"
     ]
    }
   ],
   "source": [
    "import sys\n",
    "import subprocess\n",
    "import os\n",
    "import paramiko\n",
    "import select\n",
    "\n",
    "repos_folder = os.path.abspath('/mnt/cube/earneodo/repos')\n",
    "sys.path.append(os.path.join(repos_folder, 'ephysflow'))\n",
    "sys.path.append(os.path.join(repos_folder, 'ephysflow', 'bci_pipeline'))\n",
    "from basic_viewing import h5_functions as h5\n",
    "from basic_viewing import kwik_functions as kwf\n",
    "from file_tools import experiment as et\n",
    "from bci_pipeline import kilosort"
   ]
  },
  {
   "cell_type": "code",
   "execution_count": 2,
   "metadata": {
    "collapsed": true
   },
   "outputs": [],
   "source": [
    "#logger = logging.getLogger('sort_functions')\n",
    "\n",
    "def ssh_run(host, cmd):\n",
    "    #logger.info('Will run ssh command {} on {}'.format(host, cmd))\n",
    "    ssh = subprocess.Popen([\"ssh\", \"%s\" % host, '%s;' % cmd, 'exit;'],\n",
    "                      shell=False,\n",
    "                      stdout=subprocess.PIPE,\n",
    "                      stderr=subprocess.PIPE)\n",
    "\n",
    "    result = ssh.stdout.readlines()\n",
    "    if result == []:\n",
    "        error = ssh.stderr.readlines()\n",
    "        print >>sys.stderr, \"ERROR: %s\" % error\n",
    "        #logger.error('something went wrong')\n",
    "    else:\n",
    "        print result\n",
    "        #logger.info('finished')    \n",
    "    return result\n",
    "\n",
    "def ssh_paramiko(host, cmd):\n",
    "    ssh = paramiko.SSHClient()\n",
    "    ssh.set_missing_host_key_policy(paramiko.AutoAddPolicy())\n",
    "    ssh.connect(host)\n",
    "    print \"Connected to %s\" % host\n",
    "    stdin, stdout, stderr = ssh.exec_command('py_kilosort.sh {0} {1}'.format(bird, sess))\n",
    "    msg = []\n",
    "    while not stdout.channel.exit_status_ready():\n",
    "        # Only print data if there is data to read in the channel\n",
    "        if stdout.channel.recv_ready():\n",
    "            rl, wl, xl = select.select([stdout.channel], [], [], 0.0)\n",
    "            if len(rl) > 0:\n",
    "                # Print data from stdout\n",
    "                print msg.append(stdout.channel.recv(1024))\n",
    "    print \"finished command, returning\"\n",
    "    ssh.close()\n",
    "    return msg\n",
    "\n",
    "# Make one single binary file\n",
    "def make_binary(bird, sess):\n",
    "    print 'Making binary'\n",
    "    fn = et.file_names(bird, sess)\n",
    "    params = et.get_parameters(bird, sess)\n",
    "    kwd_path = et.file_path(fn, 'ss', 'ss_raw')\n",
    "    bin_path = et.file_path(fn, 'ss', 'ss_bin')\n",
    "    chan_list = params['channel_config']['neural']\n",
    "    h5.kwd_to_binary(kwd_path, bin_path, chan_list=chan_list)\n",
    "    print 'done'\n",
    "#make all the parameters for sorting with kilosort\n",
    "\n",
    "# sort with a script in niao (scripts gets the data from cube, puts back in cube)\n",
    "def niao_kilosort(bird, sess):\n",
    "    print 'Sending sort to niao'\n",
    "    return ssh_paramiko('niao', 'py_kilosort.sh {0} {1}'.format(bird, sess))\n",
    "\n",
    "#convert back to kwik file\n"
   ]
  },
  {
   "cell_type": "code",
   "execution_count": 10,
   "metadata": {
    "collapsed": false
   },
   "outputs": [
    {
     "name": "stdout",
     "output_type": "stream",
     "text": [
      "Making binary\n",
      "done\n",
      "sorting in niao\n",
      "Sending sort to niao\n",
      "Connected to niao\n",
      "None\n",
      "finished command, returning\n",
      "[\"Computer: niao\\nwill run bci_pipeline on bird z007 - session day-2016-09-13\\n{'Nchan': 32, 'blockname': 'experiment', 'fs': 30000.0, 'kilodir': '/home/mthielk/github/KiloSort', 'Nfilt': 64, 'datadir': '/home/earneodo/bci_zf/tmp_data/z007/day-2016-09-13', 'npy_matdir': '/home/mthielk/github/npy-matlab'}\\n/mnt/cube/earneodo/bci_zf/templates\\nFinished \\n\"]\n",
      "getting back to kwik format\n"
     ]
    },
    {
     "ename": "KeyError",
     "evalue": "18191160937916267703",
     "output_type": "error",
     "traceback": [
      "\u001b[1;31m---------------------------------------------------------------------------\u001b[0m",
      "\u001b[1;31mKeyError\u001b[0m                                  Traceback (most recent call last)",
      "\u001b[1;32m<ipython-input-10-8504e50f4649>\u001b[0m in \u001b[0;36m<module>\u001b[1;34m()\u001b[0m\n\u001b[0;32m      8\u001b[0m \u001b[1;32mprint\u001b[0m \u001b[0mniao_msg\u001b[0m\u001b[1;33m\u001b[0m\u001b[0m\n\u001b[0;32m      9\u001b[0m \u001b[1;32mprint\u001b[0m \u001b[1;34m'getting back to kwik format'\u001b[0m\u001b[1;33m\u001b[0m\u001b[0m\n\u001b[1;32m---> 10\u001b[1;33m \u001b[0mkwf\u001b[0m\u001b[1;33m.\u001b[0m\u001b[0mkilo_to_kwik\u001b[0m\u001b[1;33m(\u001b[0m\u001b[0mbird\u001b[0m\u001b[1;33m,\u001b[0m \u001b[0msess\u001b[0m\u001b[1;33m)\u001b[0m\u001b[1;33m\u001b[0m\u001b[0m\n\u001b[0m",
      "\u001b[1;32m/mnt/cube/earneodo/repos/ephysflow/basic_viewing/kwik_functions.pyc\u001b[0m in \u001b[0;36mkilo_to_kwik\u001b[1;34m(bird, sess, file_names, location)\u001b[0m\n\u001b[0;32m    397\u001b[0m     \u001b[0mk\u001b[0m\u001b[1;33m.\u001b[0m\u001b[0mmake_spk_tables\u001b[0m\u001b[1;33m(\u001b[0m\u001b[1;33m)\u001b[0m\u001b[1;33m\u001b[0m\u001b[0m\n\u001b[0;32m    398\u001b[0m     \u001b[0mmodule_logger\u001b[0m\u001b[1;33m.\u001b[0m\u001b[0minfo\u001b[0m\u001b[1;33m(\u001b[0m\u001b[1;34m'Making rec tables'\u001b[0m\u001b[1;33m)\u001b[0m\u001b[1;33m\u001b[0m\u001b[0m\n\u001b[1;32m--> 399\u001b[1;33m     \u001b[0mk\u001b[0m\u001b[1;33m.\u001b[0m\u001b[0mmake_rec_groups\u001b[0m\u001b[1;33m(\u001b[0m\u001b[1;33m)\u001b[0m\u001b[1;33m\u001b[0m\u001b[0m\n\u001b[0m\u001b[0;32m    400\u001b[0m     \u001b[0mmodule_logger\u001b[0m\u001b[1;33m.\u001b[0m\u001b[0minfo\u001b[0m\u001b[1;33m(\u001b[0m\u001b[1;34m'Making cluster group tables'\u001b[0m\u001b[1;33m)\u001b[0m\u001b[1;33m\u001b[0m\u001b[0m\n\u001b[0;32m    401\u001b[0m     \u001b[0mk\u001b[0m\u001b[1;33m.\u001b[0m\u001b[0mmake_clu_groups\u001b[0m\u001b[1;33m(\u001b[0m\u001b[1;33m)\u001b[0m\u001b[1;33m\u001b[0m\u001b[0m\n",
      "\u001b[1;32m/mnt/cube/earneodo/repos/ephysflow/basic_viewing/kwik_functions.pyc\u001b[0m in \u001b[0;36mmake_rec_groups\u001b[1;34m(self)\u001b[0m\n\u001b[0;32m    291\u001b[0m                 attribs = [{'name': 'name', 'data': rec_name, 'dtype': 'S{}'.format(len(rec_name))},\n\u001b[0;32m    292\u001b[0m                            \u001b[1;33m{\u001b[0m\u001b[1;34m'name'\u001b[0m\u001b[1;33m:\u001b[0m \u001b[1;34m'sample_rate'\u001b[0m\u001b[1;33m,\u001b[0m \u001b[1;34m'data'\u001b[0m\u001b[1;33m:\u001b[0m \u001b[0mself\u001b[0m\u001b[1;33m.\u001b[0m\u001b[0ms_f\u001b[0m\u001b[1;33m,\u001b[0m \u001b[1;34m'dtype'\u001b[0m\u001b[1;33m:\u001b[0m \u001b[0mnp\u001b[0m\u001b[1;33m.\u001b[0m\u001b[0mdtype\u001b[0m\u001b[1;33m(\u001b[0m\u001b[0mnp\u001b[0m\u001b[1;33m.\u001b[0m\u001b[0mfloat64\u001b[0m\u001b[1;33m)\u001b[0m\u001b[1;33m}\u001b[0m\u001b[1;33m,\u001b[0m\u001b[1;33m\u001b[0m\u001b[0m\n\u001b[1;32m--> 293\u001b[1;33m                            \u001b[1;33m{\u001b[0m\u001b[1;34m'name'\u001b[0m\u001b[1;33m:\u001b[0m \u001b[1;34m'start_sample'\u001b[0m\u001b[1;33m,\u001b[0m \u001b[1;34m'data'\u001b[0m\u001b[1;33m:\u001b[0m \u001b[0mrec_start_samples\u001b[0m\u001b[1;33m[\u001b[0m\u001b[0mrec\u001b[0m\u001b[1;33m]\u001b[0m\u001b[1;33m,\u001b[0m \u001b[1;34m'dtype'\u001b[0m\u001b[1;33m:\u001b[0m \u001b[0mnp\u001b[0m\u001b[1;33m.\u001b[0m\u001b[0mint64\u001b[0m\u001b[1;33m}\u001b[0m\u001b[1;33m,\u001b[0m\u001b[1;33m\u001b[0m\u001b[0m\n\u001b[0m\u001b[0;32m    294\u001b[0m                            {'name': 'start_time', 'data': rec_start_samples[rec] / self.s_f, 'dtype': np.float64}]\n\u001b[0;32m    295\u001b[0m                 \u001b[0minsert_group\u001b[0m\u001b[1;33m(\u001b[0m\u001b[0mrec_group\u001b[0m\u001b[1;33m,\u001b[0m \u001b[0mstr\u001b[0m\u001b[1;33m(\u001b[0m\u001b[0mrec\u001b[0m\u001b[1;33m)\u001b[0m\u001b[1;33m,\u001b[0m \u001b[0mattribs\u001b[0m\u001b[1;33m)\u001b[0m\u001b[1;33m\u001b[0m\u001b[0m\n",
      "\u001b[1;31mKeyError\u001b[0m: 18191160937916267703"
     ]
    }
   ],
   "source": [
    "bird = 'z007'\n",
    "sess = 'day-2016-09-13'\n",
    "\n",
    "#print \"making binary\"\n",
    "make_binary(bird, sess)\n",
    "print 'sorting in niao'\n",
    "niao_msg = niao_kilosort(bird, sess)\n",
    "print niao_msg\n",
    "print 'getting back to kwik format'\n",
    "kwf.kilo_to_kwik(bird, sess)"
   ]
  },
  {
   "cell_type": "code",
   "execution_count": 28,
   "metadata": {
    "collapsed": false
   },
   "outputs": [
    {
     "data": {
      "text/plain": [
       "<module 'basic_viewing.kwik_functions' from 'basic_viewing/kwik_functions.pyc'>"
      ]
     },
     "execution_count": 28,
     "metadata": {},
     "output_type": "execute_result"
    }
   ],
   "source": [
    "reload(kwf)"
   ]
  },
  {
   "cell_type": "code",
   "execution_count": 4,
   "metadata": {
    "collapsed": false
   },
   "outputs": [],
   "source": [
    "kwf.kilo_to_kwik(bird, sess)"
   ]
  },
  {
   "cell_type": "code",
   "execution_count": null,
   "metadata": {
    "collapsed": true
   },
   "outputs": [],
   "source": []
  }
 ],
 "metadata": {
  "kernelspec": {
   "display_name": "Python 2",
   "language": "python",
   "name": "python2"
  },
  "language_info": {
   "codemirror_mode": {
    "name": "ipython",
    "version": 2
   },
   "file_extension": ".py",
   "mimetype": "text/x-python",
   "name": "python",
   "nbconvert_exporter": "python",
   "pygments_lexer": "ipython2",
   "version": "2.7.12"
  }
 },
 "nbformat": 4,
 "nbformat_minor": 0
}
