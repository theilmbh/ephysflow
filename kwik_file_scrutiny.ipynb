{
 "cells": [
  {
   "cell_type": "code",
   "execution_count": 1,
   "metadata": {
    "collapsed": false,
    "scrolled": true
   },
   "outputs": [
    {
     "name": "stderr",
     "output_type": "stream",
     "text": [
      "/usr/local/anaconda/lib/python2.7/site-packages/pytz/__init__.py:29: UserWarning: Module argparse was already imported from /usr/local/anaconda/lib/python2.7/argparse.pyc, but /usr/local/anaconda/lib/python2.7/site-packages is being added to sys.path\n",
      "  from pkg_resources import resource_stream\n",
      "/usr/local/anaconda/lib/python2.7/site-packages/pandas/computation/__init__.py:19: UserWarning: The installed version of numexpr 2.4.4 is not supported in pandas and will be not be used\n",
      "\n",
      "  UserWarning)\n"
     ]
    },
    {
     "name": "stdout",
     "output_type": "stream",
     "text": [
      "Computer: lintu.ucsd.edu\n"
     ]
    },
    {
     "data": {
      "image/png": "[encoded data removed]",
      "text/plain": [
       "<matplotlib.figure.Figure at 0x7fdd697ca5d0>"
      ]
     },
     "metadata": {},
     "output_type": "display_data"
    },
    {
     "data": {
      "image/png": "[encoded data removed]",
      "text/plain": [
       "<matplotlib.figure.Figure at 0x7fdd697caad0>"
      ]
     },
     "metadata": {},
     "output_type": "display_data"
    }
   ],
   "source": [
    "#read a wav file, try to filter it, show spectrogram, find finch-like song\n",
    "%matplotlib inline\n",
    "import h5py\n",
    "\n",
    "import pdb\n",
    "import sys\n",
    "import pandas as pd\n",
    "import numpy as np\n",
    "import scipy.io as sio\n",
    "import matplotlib.pyplot as plt\n",
    "import matplotlib\n",
    "import scipy.signal as sg\n",
    "import math\n",
    "import scipy as sp\n",
    "import socket\n",
    "import os\n",
    "import wave\n",
    "import struct\n",
    "import glob\n",
    "\n",
    "matplotlib.style.use('ggplot')\n",
    "\n",
    "comp_name=socket.gethostname()\n",
    "print 'Computer: ' + comp_name\n",
    "if  comp_name == 'chim':\n",
    "    #sys.path.append('/Users/zeke/experiment/ephysDataManagement/ephysScripts')\n",
    "    experiment_folder = os.path.join(os.path.abspath('W:') , \"earneodo\", \"bci_zf\")\n",
    "elif  'lookfar' in comp_name:\n",
    "    sys.path.append('/Users/zeke/repos/ephysflow/basic_viewing')\n",
    "    sys.path.append('/Users/zeke/repos/soundflow/sound_tools')\n",
    "    experiment_folder = os.path.join(os.path.abspath('/Volumes') , 'gentner', 'earneodo', 'bci_zf')\n",
    "\n",
    "if 'lintu' in comp_name:\n",
    "    sys.path.append('/mnt/cube/earneodo/repos/soundflow/sound_tools')\n",
    "    sys.path.append('/mnt/cube/earneodo/repos/ephysflow/basic_viewing')\n",
    "    sys.path.append('/mnt/cube/earneodo/repos/ephysflow')\n",
    "    experiment_folder = os.path.join('/mnt/cube/earneodo/bci_zf/')\n",
    "    raw_data_folder = os.path.join(experiment_folder, 'raw_data')\n",
    "\n",
    "from phy_tools import kwik_functions as kwik\n",
    "from events import Event, Sound\n",
    "from units import Unit\n",
    "import basic_plot as bp\n",
    "\n",
    "raw_data_folder = os.path.join(experiment_folder, 'raw_data')\n",
    "ss_data_folder = os.path.join(experiment_folder, 'ss_data')\n",
    "\n",
    "\n",
    "\n",
    "#file structure\n",
    "bird_id = 'z003'\n",
    "sess = 1\n",
    "rec = 'a'\n",
    "run = 1\n",
    "sess_name = 'Pen03_Lft_AP500_ML500__Site01_Z2000__z003_cat_P03_S01_1_02'\n",
    "\n",
    "raw_file_folder = os.path.join(raw_data_folder, bird_id, str(sess).zfill(3))\n",
    "raw_file_name = rec + '_' + str(run).zfill(2) + '_song.wav'\n",
    "raw_file_path = os.path.join(raw_file_folder, raw_file_name)\n",
    "ss_file_folder = raw_file_folder = os.path.join(ss_data_folder, bird_id, 'post_stim_merge', sess_name)\n",
    "\n",
    "\n",
    "# open the kwik file for playing\n",
    "kwik_files = [f for f in os.listdir(ss_file_folder) if f.endswith('.kwik')]\n",
    "kwik_file = kwik_files[0]\n",
    "\n",
    "f = h5py.File(os.path.join(ss_file_folder, kwik_file), 'r')\n",
    "f['/event_types/Stimulus'].keys()\n",
    "stim = Sound('sound_001_40000', h5=f)\n",
    "\n",
    "stim.get_col('name')\n",
    "\n",
    "\n",
    "unit = Unit(22, h5=f)\n",
    "unit.get_time_stamps()\n",
    "unit.get_sampling_rate()\n",
    "rs = unit.get_raster(stim.get_col('start')-32500, 4000, span_is_ms=True, return_ms=True)\n",
    "\n",
    "\n",
    "b = np.outer((np.arange(rs.shape[0]) + 1), np.ones(rs.shape[1]))\n",
    "plt.scatter(rs, b, marker='|')\n",
    "\n",
    "bp.plot_raster(bp.sparse_raster(rs))\n",
    "f.close()"
   ]
  },
  {
   "cell_type": "code",
   "execution_count": 2,
   "metadata": {
    "collapsed": false,
    "scrolled": false
   },
   "outputs": [
    {
     "ename": "ValueError",
     "evalue": "Unable to create group (Name already exists)",
     "output_type": "error",
     "traceback": [
      "\u001b[1;31m---------------------------------------------------------------------------\u001b[0m",
      "\u001b[1;31mValueError\u001b[0m                                Traceback (most recent call last)",
      "\u001b[1;32m<ipython-input-2-5b82f96a3d2e>\u001b[0m in \u001b[0;36m<module>\u001b[1;34m()\u001b[0m\n\u001b[0;32m     22\u001b[0m         \u001b[0mmeta\u001b[0m \u001b[1;33m=\u001b[0m \u001b[1;33m{\u001b[0m\u001b[1;34m'type'\u001b[0m \u001b[1;33m:\u001b[0m \u001b[1;34m'cons'\u001b[0m\u001b[1;33m}\u001b[0m\u001b[1;33m\u001b[0m\u001b[0m\n\u001b[0;32m     23\u001b[0m \u001b[1;33m\u001b[0m\u001b[0m\n\u001b[1;32m---> 24\u001b[1;33m     \u001b[0mkwik\u001b[0m\u001b[1;33m.\u001b[0m\u001b[0minsert_sound\u001b[0m\u001b[1;33m(\u001b[0m\u001b[0mf\u001b[0m\u001b[1;33m,\u001b[0m \u001b[0mwav_file\u001b[0m\u001b[1;33m.\u001b[0m\u001b[0msplit\u001b[0m\u001b[1;33m(\u001b[0m\u001b[1;34m'.'\u001b[0m\u001b[1;33m)\u001b[0m\u001b[1;33m[\u001b[0m\u001b[1;36m0\u001b[0m\u001b[1;33m]\u001b[0m\u001b[1;33m,\u001b[0m \u001b[0mos\u001b[0m\u001b[1;33m.\u001b[0m\u001b[0mpath\u001b[0m\u001b[1;33m.\u001b[0m\u001b[0mjoin\u001b[0m\u001b[1;33m(\u001b[0m\u001b[0mstim_files_fold\u001b[0m\u001b[1;33m,\u001b[0m \u001b[0mwav_file\u001b[0m\u001b[1;33m)\u001b[0m\u001b[1;33m,\u001b[0m \u001b[0mstim_meta_data\u001b[0m\u001b[1;33m=\u001b[0m\u001b[0mmeta\u001b[0m\u001b[1;33m)\u001b[0m\u001b[1;33m\u001b[0m\u001b[0m\n\u001b[0m\u001b[0;32m     25\u001b[0m \u001b[1;33m\u001b[0m\u001b[0m\n\u001b[0;32m     26\u001b[0m \u001b[0mf\u001b[0m\u001b[1;33m.\u001b[0m\u001b[0mclose\u001b[0m\u001b[1;33m(\u001b[0m\u001b[1;33m)\u001b[0m\u001b[1;33m\u001b[0m\u001b[0m\n",
      "\u001b[1;32m/mnt/cube/earneodo/repos/ephysflow/phy_tools/kwik_functions.pyc\u001b[0m in \u001b[0;36minsert_sound\u001b[1;34m(kf, sound_name, sound_file_path, parent_group, stim_meta_data, waveform_meta_data)\u001b[0m\n\u001b[0;32m     30\u001b[0m     \u001b[1;33m[\u001b[0m\u001b[0ms_f\u001b[0m\u001b[1;33m,\u001b[0m \u001b[0mdata\u001b[0m\u001b[1;33m]\u001b[0m \u001b[1;33m=\u001b[0m \u001b[0mwavfile\u001b[0m\u001b[1;33m.\u001b[0m\u001b[0mread\u001b[0m\u001b[1;33m(\u001b[0m\u001b[0msound_file_path\u001b[0m\u001b[1;33m)\u001b[0m\u001b[1;33m\u001b[0m\u001b[0m\n\u001b[0;32m     31\u001b[0m     \u001b[1;32massert\u001b[0m\u001b[1;33m(\u001b[0m\u001b[0mkf\u001b[0m\u001b[1;33m[\u001b[0m\u001b[0mparent_group\u001b[0m\u001b[1;33m]\u001b[0m\u001b[1;33m)\u001b[0m\u001b[1;33m\u001b[0m\u001b[0m\n\u001b[1;32m---> 32\u001b[1;33m     \u001b[0msound_group\u001b[0m \u001b[1;33m=\u001b[0m \u001b[0mkf\u001b[0m\u001b[1;33m[\u001b[0m\u001b[0mparent_group\u001b[0m\u001b[1;33m]\u001b[0m\u001b[1;33m.\u001b[0m\u001b[0mcreate_group\u001b[0m\u001b[1;33m(\u001b[0m\u001b[0msound_name\u001b[0m\u001b[1;33m)\u001b[0m\u001b[1;33m\u001b[0m\u001b[0m\n\u001b[0m\u001b[0;32m     33\u001b[0m     \u001b[0mwaveform_group\u001b[0m \u001b[1;33m=\u001b[0m \u001b[0msound_group\u001b[0m\u001b[1;33m.\u001b[0m\u001b[0mcreate_group\u001b[0m\u001b[1;33m(\u001b[0m\u001b[1;34m'waveforms'\u001b[0m\u001b[1;33m)\u001b[0m\u001b[1;33m\u001b[0m\u001b[0m\n\u001b[0;32m     34\u001b[0m     \u001b[0mwaveform_group\u001b[0m\u001b[1;33m.\u001b[0m\u001b[0mattrs\u001b[0m\u001b[1;33m.\u001b[0m\u001b[0mcreate\u001b[0m\u001b[1;33m(\u001b[0m\u001b[1;34m'sampling_rate'\u001b[0m\u001b[1;33m,\u001b[0m \u001b[0ms_f\u001b[0m\u001b[1;33m,\u001b[0m \u001b[0mdtype\u001b[0m\u001b[1;33m=\u001b[0m\u001b[1;34m'f4'\u001b[0m\u001b[1;33m)\u001b[0m\u001b[1;33m\u001b[0m\u001b[0m\n",
      "\u001b[1;32m/usr/local/anaconda/lib/python2.7/site-packages/h5py/_hl/group.pyc\u001b[0m in \u001b[0;36mcreate_group\u001b[1;34m(self, name)\u001b[0m\n\u001b[0;32m     39\u001b[0m         \"\"\"\n\u001b[0;32m     40\u001b[0m         \u001b[0mname\u001b[0m\u001b[1;33m,\u001b[0m \u001b[0mlcpl\u001b[0m \u001b[1;33m=\u001b[0m \u001b[0mself\u001b[0m\u001b[1;33m.\u001b[0m\u001b[0m_e\u001b[0m\u001b[1;33m(\u001b[0m\u001b[0mname\u001b[0m\u001b[1;33m,\u001b[0m \u001b[0mlcpl\u001b[0m\u001b[1;33m=\u001b[0m\u001b[0mTrue\u001b[0m\u001b[1;33m)\u001b[0m\u001b[1;33m\u001b[0m\u001b[0m\n\u001b[1;32m---> 41\u001b[1;33m         \u001b[0mgid\u001b[0m \u001b[1;33m=\u001b[0m \u001b[0mh5g\u001b[0m\u001b[1;33m.\u001b[0m\u001b[0mcreate\u001b[0m\u001b[1;33m(\u001b[0m\u001b[0mself\u001b[0m\u001b[1;33m.\u001b[0m\u001b[0mid\u001b[0m\u001b[1;33m,\u001b[0m \u001b[0mname\u001b[0m\u001b[1;33m,\u001b[0m \u001b[0mlcpl\u001b[0m\u001b[1;33m=\u001b[0m\u001b[0mlcpl\u001b[0m\u001b[1;33m)\u001b[0m\u001b[1;33m\u001b[0m\u001b[0m\n\u001b[0m\u001b[0;32m     42\u001b[0m         \u001b[1;32mreturn\u001b[0m \u001b[0mGroup\u001b[0m\u001b[1;33m(\u001b[0m\u001b[0mgid\u001b[0m\u001b[1;33m)\u001b[0m\u001b[1;33m\u001b[0m\u001b[0m\n\u001b[0;32m     43\u001b[0m \u001b[1;33m\u001b[0m\u001b[0m\n",
      "\u001b[1;32mh5g.pyx\u001b[0m in \u001b[0;36mh5py.h5g.create (h5py/h5g.c:2361)\u001b[1;34m()\u001b[0m\n",
      "\u001b[1;31mValueError\u001b[0m: Unable to create group (Name already exists)"
     ]
    }
   ],
   "source": [
    "# append all the stimuli to a kwik file\n",
    "from phy_tools import kwik_functions as kwik\n",
    "#f.close()\n",
    "from scipy.io import wavfile\n",
    "# add wave stimuli\n",
    "# Insert a wav file with a sound into a group\n",
    "\n",
    "\n",
    "#kwik_file = '/mnt/cube/earneodo/bci_zf/ss_data/z003/post_man_sort/Pen01_Lft_AP1000_ML2000__Site02_Z1000__z003_cat_P01_S02_1/z003_cat_P01_S02_1.kwik'\n",
    "\n",
    "stim_files_fold = '/mnt/cube/earneodo/bci_zf/stim_data/z003/set_001/resampled_sound/'\n",
    "stim_files_list = [f for f in os.listdir(stim_files_fold) if f.endswith('.wav')]\n",
    "\n",
    "f = h5py.File(os.path.join(ss_file_folder, kwik_file), 'r+')\n",
    "\n",
    "for wav_file in stim_files_list:\n",
    "    if wav_file.split('.')[0].split('_')[1] in ['001', '003', '005']:\n",
    "        meta = {'type' : 'bos'}\n",
    "    elif wav_file.split('.')[0].split('_')[1] in ['002', '004', '006']:\n",
    "        meta = {'type' : 'bos_rev'}\n",
    "    else:\n",
    "        meta = {'type' : 'cons'}\n",
    "    \n",
    "    kwik.insert_sound(f, wav_file.split('.')[0], os.path.join(stim_files_fold, wav_file), stim_meta_data=meta)\n",
    "\n",
    "f.close()"
   ]
  },
  {
   "cell_type": "code",
   "execution_count": 2,
   "metadata": {
    "collapsed": false
   },
   "outputs": [
    {
     "data": {
      "text/plain": [
       "[u'codes',\n",
       " u'recording',\n",
       " u'sound_001_40000',\n",
       " u'sound_002_40000',\n",
       " u'sound_003_40000',\n",
       " u'sound_004_40000',\n",
       " u'sound_005_40000',\n",
       " u'sound_006_40000',\n",
       " u'sound_007_40000',\n",
       " u'sound_008_40000',\n",
       " u'text',\n",
       " u'time_samples']"
      ]
     },
     "execution_count": 2,
     "metadata": {},
     "output_type": "execute_result"
    }
   ],
   "source": [
    "f = h5py.File(os.path.join(ss_file_folder, kwik_file), 'r')\n",
    "f['/event_types/Stimulus'].keys()"
   ]
  },
  {
   "cell_type": "code",
   "execution_count": 2,
   "metadata": {
    "collapsed": false
   },
   "outputs": [],
   "source": [
    "# play with the synthesized song\n",
    "from phy_tools import kwik_functions as kwik\n",
    "import scipy.signal as ss\n",
    "sound = 'sound_005'\n",
    "parent_group='/event_types/Stimulus'\n",
    "#get the group of the sound\n",
    "f = h5py.File(os.path.join(ss_file_folder, kwik_file), 'r')\n",
    "sound_key = [g for g in np.array(f[parent_group].keys()) if sound in g]\n",
    "sound_group = f[parent_group + '/' + sound_key[0]]\n",
    "f.close()\n",
    "\n",
    "#get the files:\n",
    "set_folder = os.path.abspath('/mnt/cube/earneodo/bci_zf/stim_data/z003/set_001/')\n",
    "\n",
    "# Make a dictionary of the tables to load\n",
    "to_append = {'synthesized': ['song_synth', 0],\n",
    "            'alpha': ['synth', 2],\n",
    "            'beta': ['synth', 1],\n",
    "            'f0': ['f0_smooth', 2]}\n",
    "\n",
    "f = h5py.File(os.path.join(ss_file_folder, kwik_file), 'r+')\n",
    "for key, val in to_append.iteritems():\n",
    "    file_name = \"{0:s}_{1:s}.dat\".format(val[0], sound)\n",
    "    data = np.loadtxt(os.path.join(set_folder, file_name))\n",
    "    if len(data.shape) == 1:\n",
    "        assert(val[1] == 0)\n",
    "    else:\n",
    "        data = data[:,val[1]]\n",
    "    #plt.plot(ss.resample(data, waveform_size))\n",
    "    kwik.append_stream(f, sound_key[0], data, key, resample=True)\n",
    "    \n",
    "\n",
    "f.close()"
   ]
  },
  {
   "cell_type": "code",
   "execution_count": 3,
   "metadata": {
    "collapsed": true
   },
   "outputs": [],
   "source": [
    "f.close()"
   ]
  },
  {
   "cell_type": "code",
   "execution_count": 4,
   "metadata": {
    "collapsed": false
   },
   "outputs": [
    {
     "ename": "NameError",
     "evalue": "name 'sound' is not defined",
     "output_type": "error",
     "traceback": [
      "\u001b[1;31m---------------------------------------------------------------------------\u001b[0m",
      "\u001b[1;31mNameError\u001b[0m                                 Traceback (most recent call last)",
      "\u001b[1;32m<ipython-input-4-2181f98a051f>\u001b[0m in \u001b[0;36m<module>\u001b[1;34m()\u001b[0m\n\u001b[0;32m      7\u001b[0m \u001b[0mf\u001b[0m \u001b[1;33m=\u001b[0m \u001b[0mh5py\u001b[0m\u001b[1;33m.\u001b[0m\u001b[0mFile\u001b[0m\u001b[1;33m(\u001b[0m\u001b[0mos\u001b[0m\u001b[1;33m.\u001b[0m\u001b[0mpath\u001b[0m\u001b[1;33m.\u001b[0m\u001b[0mjoin\u001b[0m\u001b[1;33m(\u001b[0m\u001b[0mss_file_folder\u001b[0m\u001b[1;33m,\u001b[0m \u001b[0mkwik_file\u001b[0m\u001b[1;33m)\u001b[0m\u001b[1;33m,\u001b[0m \u001b[1;34m'r'\u001b[0m\u001b[1;33m)\u001b[0m\u001b[1;33m\u001b[0m\u001b[0m\n\u001b[0;32m      8\u001b[0m \u001b[1;33m\u001b[0m\u001b[0m\n\u001b[1;32m----> 9\u001b[1;33m \u001b[0msound_key\u001b[0m \u001b[1;33m=\u001b[0m \u001b[1;33m[\u001b[0m\u001b[0mg\u001b[0m \u001b[1;32mfor\u001b[0m \u001b[0mg\u001b[0m \u001b[1;32min\u001b[0m \u001b[0mnp\u001b[0m\u001b[1;33m.\u001b[0m\u001b[0marray\u001b[0m\u001b[1;33m(\u001b[0m\u001b[0mf\u001b[0m\u001b[1;33m[\u001b[0m\u001b[0mparent_group\u001b[0m\u001b[1;33m]\u001b[0m\u001b[1;33m.\u001b[0m\u001b[0mkeys\u001b[0m\u001b[1;33m(\u001b[0m\u001b[1;33m)\u001b[0m\u001b[1;33m)\u001b[0m \u001b[1;32mif\u001b[0m \u001b[0msound\u001b[0m \u001b[1;32min\u001b[0m \u001b[0mg\u001b[0m\u001b[1;33m]\u001b[0m\u001b[1;33m\u001b[0m\u001b[0m\n\u001b[0m\u001b[0;32m     10\u001b[0m \u001b[0msound_group\u001b[0m \u001b[1;33m=\u001b[0m \u001b[0mf\u001b[0m\u001b[1;33m[\u001b[0m\u001b[0mparent_group\u001b[0m \u001b[1;33m+\u001b[0m \u001b[1;34m'/'\u001b[0m \u001b[1;33m+\u001b[0m \u001b[0msound_key\u001b[0m\u001b[1;33m[\u001b[0m\u001b[1;36m0\u001b[0m\u001b[1;33m]\u001b[0m\u001b[1;33m]\u001b[0m\u001b[1;33m\u001b[0m\u001b[0m\n\u001b[0;32m     11\u001b[0m \u001b[0mwaveform_size\u001b[0m \u001b[1;33m=\u001b[0m \u001b[0msound_group\u001b[0m\u001b[1;33m[\u001b[0m\u001b[1;34m'waveform'\u001b[0m\u001b[1;33m]\u001b[0m\u001b[1;33m.\u001b[0m\u001b[0msize\u001b[0m\u001b[1;33m\u001b[0m\u001b[0m\n",
      "\u001b[1;31mNameError\u001b[0m: name 'sound' is not defined"
     ]
    }
   ],
   "source": [
    "#insert synthesized song streams:\n",
    "song = np.loadtxt('/mnt/cube/earneodo/bci_zf/stim_data/z003/set_001/song_synth_sound_001.dat')\n",
    "b=np.loadtxt('/mnt/cube/earneodo/bci_zf/stim_data/z003/set_001/f0_smooth_sound_001.dat')\n",
    "p=np.loadtxt('/mnt/cube/earneodo/bci_zf/stim_data/z003/set_001/synth_sound_001.dat')\n",
    "\n",
    "parent_group='/event_types/Stimulus'\n",
    "f = h5py.File(os.path.join(ss_file_folder, kwik_file), 'r')\n",
    "\n",
    "sound_key = [g for g in np.array(f[parent_group].keys()) if sound in g]\n",
    "sound_group = f[parent_group + '/' + sound_key[0]]\n",
    "waveform_size = sound_group['waveform'].size\n",
    "\n",
    "#resample the input to match the waveform sampling rate (assuming their durations are the same)\n",
    "a_resampled = ss.resample(a, waveform_size)\n",
    "f.close()"
   ]
  },
  {
   "cell_type": "code",
   "execution_count": 3,
   "metadata": {
    "collapsed": false
   },
   "outputs": [
    {
     "ename": "NameError",
     "evalue": "name 'sound_group' is not defined",
     "output_type": "error",
     "traceback": [
      "\u001b[1;31m---------------------------------------------------------------------------\u001b[0m",
      "\u001b[1;31mNameError\u001b[0m                                 Traceback (most recent call last)",
      "\u001b[1;32m<ipython-input-3-c942864bc966>\u001b[0m in \u001b[0;36m<module>\u001b[1;34m()\u001b[0m\n\u001b[1;32m----> 1\u001b[1;33m \u001b[0mplt\u001b[0m\u001b[1;33m.\u001b[0m\u001b[0mplot\u001b[0m\u001b[1;33m(\u001b[0m\u001b[0msound_group\u001b[0m\u001b[1;33m[\u001b[0m\u001b[1;34m'waveform'\u001b[0m\u001b[1;33m]\u001b[0m\u001b[1;33m)\u001b[0m\u001b[1;33m\u001b[0m\u001b[0m\n\u001b[0m\u001b[0;32m      2\u001b[0m \u001b[0mplt\u001b[0m\u001b[1;33m.\u001b[0m\u001b[0mplot\u001b[0m\u001b[1;33m(\u001b[0m\u001b[0ma_resampled\u001b[0m\u001b[1;33m)\u001b[0m\u001b[1;33m\u001b[0m\u001b[0m\n",
      "\u001b[1;31mNameError\u001b[0m: name 'sound_group' is not defined"
     ]
    }
   ],
   "source": [
    "plt.plot(sound_group['waveform'])\n",
    "plt.plot(a_resampled)"
   ]
  },
  {
   "cell_type": "code",
   "execution_count": 4,
   "metadata": {
    "collapsed": true
   },
   "outputs": [],
   "source": [
    "set_folder = os.path.abspath('/mnt/cube/earneodo/bci_zf/stim_data/z003/set_001/')"
   ]
  },
  {
   "cell_type": "code",
   "execution_count": 5,
   "metadata": {
    "collapsed": false
   },
   "outputs": [
    {
     "ename": "NameError",
     "evalue": "name 'sound_key' is not defined",
     "output_type": "error",
     "traceback": [
      "\u001b[1;31m---------------------------------------------------------------------------\u001b[0m",
      "\u001b[1;31mNameError\u001b[0m                                 Traceback (most recent call last)",
      "\u001b[1;32m<ipython-input-5-c29a9c4112f0>\u001b[0m in \u001b[0;36m<module>\u001b[1;34m()\u001b[0m\n\u001b[1;32m----> 1\u001b[1;33m \u001b[0msound_key\u001b[0m\u001b[1;33m\u001b[0m\u001b[0m\n\u001b[0m",
      "\u001b[1;31mNameError\u001b[0m: name 'sound_key' is not defined"
     ]
    }
   ],
   "source": [
    "sound_key"
   ]
  },
  {
   "cell_type": "code",
   "execution_count": 7,
   "metadata": {
    "collapsed": false
   },
   "outputs": [
    {
     "data": {
      "text/plain": [
       "u'sound_001_40000'"
      ]
     },
     "execution_count": 7,
     "metadata": {},
     "output_type": "execute_result"
    }
   ],
   "source": [
    "sound_key[0]"
   ]
  },
  {
   "cell_type": "code",
   "execution_count": 8,
   "metadata": {
    "collapsed": true
   },
   "outputs": [],
   "source": [
    "kwik.append_stream(f, sound_key[0], data, key)"
   ]
  },
  {
   "cell_type": "code",
   "execution_count": 9,
   "metadata": {
    "collapsed": true
   },
   "outputs": [],
   "source": [
    "f.close()"
   ]
  },
  {
   "cell_type": "code",
   "execution_count": 4,
   "metadata": {
    "collapsed": false
   },
   "outputs": [
    {
     "ename": "ValueError",
     "evalue": "Not a location id (Invalid object id)",
     "output_type": "error",
     "traceback": [
      "\u001b[1;31m---------------------------------------------------------------------------\u001b[0m",
      "\u001b[1;31mValueError\u001b[0m                                Traceback (most recent call last)",
      "\u001b[1;32m<ipython-input-4-c8b4a8810f1e>\u001b[0m in \u001b[0;36m<module>\u001b[1;34m()\u001b[0m\n\u001b[1;32m----> 1\u001b[1;33m \u001b[0msound_group\u001b[0m\u001b[1;33m.\u001b[0m\u001b[0mkeys\u001b[0m\u001b[1;33m(\u001b[0m\u001b[1;33m)\u001b[0m\u001b[1;33m\u001b[0m\u001b[0m\n\u001b[0m",
      "\u001b[1;32m/usr/local/anaconda/lib/python2.7/site-packages/h5py/_hl/base.pyc\u001b[0m in \u001b[0;36mkeys\u001b[1;34m(self)\u001b[0m\n\u001b[0;32m    328\u001b[0m         \u001b[1;32mdef\u001b[0m \u001b[0mkeys\u001b[0m\u001b[1;33m(\u001b[0m\u001b[0mself\u001b[0m\u001b[1;33m)\u001b[0m\u001b[1;33m:\u001b[0m\u001b[1;33m\u001b[0m\u001b[0m\n\u001b[0;32m    329\u001b[0m             \u001b[1;34m\"\"\" Get a list containing member names \"\"\"\u001b[0m\u001b[1;33m\u001b[0m\u001b[0m\n\u001b[1;32m--> 330\u001b[1;33m             \u001b[1;32mreturn\u001b[0m \u001b[0mlist\u001b[0m\u001b[1;33m(\u001b[0m\u001b[0mself\u001b[0m\u001b[1;33m)\u001b[0m\u001b[1;33m\u001b[0m\u001b[0m\n\u001b[0m\u001b[0;32m    331\u001b[0m \u001b[1;33m\u001b[0m\u001b[0m\n\u001b[0;32m    332\u001b[0m         \u001b[1;32mdef\u001b[0m \u001b[0miterkeys\u001b[0m\u001b[1;33m(\u001b[0m\u001b[0mself\u001b[0m\u001b[1;33m)\u001b[0m\u001b[1;33m:\u001b[0m\u001b[1;33m\u001b[0m\u001b[0m\n",
      "\u001b[1;32m/usr/local/anaconda/lib/python2.7/site-packages/h5py/_hl/group.pyc\u001b[0m in \u001b[0;36m__len__\u001b[1;34m(self)\u001b[0m\n\u001b[0;32m    277\u001b[0m     \u001b[1;32mdef\u001b[0m \u001b[0m__len__\u001b[0m\u001b[1;33m(\u001b[0m\u001b[0mself\u001b[0m\u001b[1;33m)\u001b[0m\u001b[1;33m:\u001b[0m\u001b[1;33m\u001b[0m\u001b[0m\n\u001b[0;32m    278\u001b[0m         \u001b[1;34m\"\"\" Number of members attached to this group \"\"\"\u001b[0m\u001b[1;33m\u001b[0m\u001b[0m\n\u001b[1;32m--> 279\u001b[1;33m         \u001b[1;32mreturn\u001b[0m \u001b[0mself\u001b[0m\u001b[1;33m.\u001b[0m\u001b[0mid\u001b[0m\u001b[1;33m.\u001b[0m\u001b[0mget_num_objs\u001b[0m\u001b[1;33m(\u001b[0m\u001b[1;33m)\u001b[0m\u001b[1;33m\u001b[0m\u001b[0m\n\u001b[0m\u001b[0;32m    280\u001b[0m \u001b[1;33m\u001b[0m\u001b[0m\n\u001b[0;32m    281\u001b[0m     \u001b[1;32mdef\u001b[0m \u001b[0m__iter__\u001b[0m\u001b[1;33m(\u001b[0m\u001b[0mself\u001b[0m\u001b[1;33m)\u001b[0m\u001b[1;33m:\u001b[0m\u001b[1;33m\u001b[0m\u001b[0m\n",
      "\u001b[1;32mh5g.pyx\u001b[0m in \u001b[0;36mh5py.h5g.GroupID.get_num_objs (h5py/h5g.c:3743)\u001b[1;34m()\u001b[0m\n",
      "\u001b[1;31mValueError\u001b[0m: Not a location id (Invalid object id)"
     ]
    }
   ],
   "source": [
    "sound_group.keys()"
   ]
  },
  {
   "cell_type": "code",
   "execution_count": 8,
   "metadata": {
    "collapsed": false
   },
   "outputs": [
    {
     "ename": "NameError",
     "evalue": "name 'read_stim_groups' is not defined",
     "output_type": "error",
     "traceback": [
      "\u001b[1;31m---------------------------------------------------------------------------\u001b[0m",
      "\u001b[1;31mNameError\u001b[0m                                 Traceback (most recent call last)",
      "\u001b[1;32m<ipython-input-8-9e629ffeb955>\u001b[0m in \u001b[0;36m<module>\u001b[1;34m()\u001b[0m\n\u001b[0;32m     10\u001b[0m \u001b[1;33m\u001b[0m\u001b[0m\n\u001b[0;32m     11\u001b[0m \u001b[0mf\u001b[0m \u001b[1;33m=\u001b[0m \u001b[0mh5py\u001b[0m\u001b[1;33m.\u001b[0m\u001b[0mFile\u001b[0m\u001b[1;33m(\u001b[0m\u001b[0mos\u001b[0m\u001b[1;33m.\u001b[0m\u001b[0mpath\u001b[0m\u001b[1;33m.\u001b[0m\u001b[0mjoin\u001b[0m\u001b[1;33m(\u001b[0m\u001b[0mss_file_folder\u001b[0m\u001b[1;33m,\u001b[0m \u001b[0mkwik_file\u001b[0m\u001b[1;33m)\u001b[0m\u001b[1;33m,\u001b[0m \u001b[1;34m'r'\u001b[0m\u001b[1;33m)\u001b[0m\u001b[1;33m\u001b[0m\u001b[0m\n\u001b[1;32m---> 12\u001b[1;33m \u001b[0mgroups\u001b[0m \u001b[1;33m=\u001b[0m \u001b[0mread_stim_groups\u001b[0m\u001b[1;33m(\u001b[0m\u001b[0mf\u001b[0m\u001b[1;33m)\u001b[0m\u001b[1;33m\u001b[0m\u001b[0m\n\u001b[0m\u001b[0;32m     13\u001b[0m \u001b[1;31m#for group in groups:\u001b[0m\u001b[1;33m\u001b[0m\u001b[1;33m\u001b[0m\u001b[0m\n\u001b[0;32m     14\u001b[0m \u001b[1;32mfor\u001b[0m \u001b[0mgroup_name\u001b[0m\u001b[1;33m,\u001b[0m \u001b[0mgroup\u001b[0m \u001b[1;32min\u001b[0m \u001b[0mgroups\u001b[0m\u001b[1;33m.\u001b[0m\u001b[0miteritems\u001b[0m\u001b[1;33m(\u001b[0m\u001b[1;33m)\u001b[0m\u001b[1;33m:\u001b[0m\u001b[1;33m\u001b[0m\u001b[0m\n",
      "\u001b[1;31mNameError\u001b[0m: name 'read_stim_groups' is not defined"
     ]
    }
   ],
   "source": [
    "# read the stimulus groups from a recording kwik file and put them into a stim.kwik file\n",
    "stim_set = 1;\n",
    "\n",
    "stim_data_folder = os.path.join(experiment_folder, 'stim_data', bird_id, 'set_' + str(stim_set).zfill(3))\n",
    "stim_file = os.path.join(stim_data_folder, 'stim_data.kwik')\n",
    "kf2 = h5py.File(stim_file, 'w')\n",
    "kf2.create_group('event_types')\n",
    "stim_group = kf2['event_types'].create_group('Stimulus')\n",
    "\n",
    "\n",
    "f = h5py.File(os.path.join(ss_file_folder, kwik_file), 'r')\n",
    "groups = read_stim_groups(f)\n",
    "#for group in groups:\n",
    "for group_name, group in groups.iteritems():\n",
    "    if 'sound' in group_name:\n",
    "        print group_name\n",
    "        #f.copy(group, stim_group)\n",
    "\n",
    "kf2.close()\n",
    "f.close()"
   ]
  },
  {
   "cell_type": "code",
   "execution_count": 3,
   "metadata": {
    "collapsed": false
   },
   "outputs": [
    {
     "name": "stdout",
     "output_type": "stream",
     "text": [
      "[u'waveforms']\n",
      "sound_005_40000\n"
     ]
    }
   ],
   "source": [
    "# read the stimulus file and copy the stimulus data to a bunch of kwik files\n",
    "stim_set = 1;\n",
    "stim_data_folder = os.path.join(experiment_folder, 'stim_data', bird_id, 'set_' + str(stim_set).zfill(3))\n",
    "stim_file = os.path.join(stim_data_folder, 'sinatra.kwik')\n",
    "sf = h5py.File(stim_file, 'r')\n",
    "stim_groups = kwik.read_stim_groups(sf)\n",
    "\n",
    "# Now open up a session file in r+ mode and introduce those groups\n",
    "sess_name = 'Pen04_Rgt_AP1500_ML0__Site01_Z1500__z003_cat_P04_S01_1_02'\n",
    "\n",
    "raw_file_folder = os.path.join(raw_data_folder, bird_id, str(sess).zfill(3))\n",
    "raw_file_name = rec + '_' + str(run).zfill(2) + '_song.wav'\n",
    "raw_file_path = os.path.join(raw_file_folder, raw_file_name)\n",
    "ss_file_folder = os.path.join(ss_data_folder, bird_id, 'post_stim_merge', sess_name)\n",
    "\n",
    "kwik_files = [f for f in os.listdir(ss_file_folder) if f.endswith('.kwik')]\n",
    "kwik_file = kwik_files[0]\n",
    "\n",
    "f = h5py.File(os.path.join(ss_file_folder, kwik_file), 'r+')\n",
    "stim_target = f['/event_types/Stimulus/sound_005_40000']\n",
    "print stim_target.keys()\n",
    "\n",
    "for group_name, group in stim_groups.iteritems():\n",
    "    if 'sound_005_40000' in group_name:\n",
    "        print group_name\n",
    "        #f.copy(group, stim_target)\n",
    "\n",
    "f.close()\n",
    "#sf.close()"
   ]
  },
  {
   "cell_type": "code",
   "execution_count": 6,
   "metadata": {
    "collapsed": false
   },
   "outputs": [
    {
     "data": {
      "text/plain": [
       "[u'waveforms']"
      ]
     },
     "execution_count": 6,
     "metadata": {},
     "output_type": "execute_result"
    }
   ],
   "source": [
    "sf['/event_types/Stimulus/sound_005_40000'].keys()"
   ]
  },
  {
   "cell_type": "code",
   "execution_count": 8,
   "metadata": {
    "collapsed": false
   },
   "outputs": [
    {
     "data": {
      "text/plain": [
       "['/mnt/cube/earneodo/bci_zf/ss_data/z003/post_stim_merge/Pen07_Rgt_AP1250_ML2000__Site03_Z1950__z003_cat_P07_S03_1_02',\n",
       " '/mnt/cube/earneodo/bci_zf/ss_data/z003/post_stim_merge/Pen04_Rgt_AP1500_ML0__Site01_Z1500__z003_cat_P04_S01_1_02',\n",
       " '/mnt/cube/earneodo/bci_zf/ss_data/z003/post_stim_merge/Pen03_Lft_AP500_ML500__Site02_Z2300__z003_cat_P03_S02_1_02',\n",
       " '/mnt/cube/earneodo/bci_zf/ss_data/z003/post_stim_merge/Pen05_Rgt_AP1500_ML2000__Site02_Z2550__z003_cat_P05_S02_1_02',\n",
       " '/mnt/cube/earneodo/bci_zf/ss_data/z003/post_stim_merge/Pen03_Lft_AP500_ML500__Site01_Z2000__z003_cat_P03_S01_1_02',\n",
       " '/mnt/cube/earneodo/bci_zf/ss_data/z003/post_stim_merge/Pen07_Rgt_AP1250_ML2000__Site02_Z1680__z003_cat_P07_S02_1_02',\n",
       " '/mnt/cube/earneodo/bci_zf/ss_data/z003/post_stim_merge/Pen06_Rgt_AP1500_ML2000__Site02_Z2175__z003_cat_P06_S02_1_02']"
      ]
     },
     "execution_count": 8,
     "metadata": {},
     "output_type": "execute_result"
    }
   ],
   "source": [
    "export_path=os.path.join(experiment_folder, 'export_data', 'tejaswy',bird_id)\n",
    "all_session_paths = glob.glob(os.path.join(ss_data_folder, bird_id, 'post_stim_merge','*'))\n",
    "all_session_paths"
   ]
  },
  {
   "cell_type": "code",
   "execution_count": 10,
   "metadata": {
    "collapsed": false
   },
   "outputs": [
    {
     "name": "stdout",
     "output_type": "stream",
     "text": [
      "/mnt/cube/earneodo/bci_zf/export_data/tejaswy/z003/S001_Pen07_Rgt_AP1250_ML2000__Site03_Z1950__z003_cat_P07_S03_1_02\n",
      "/mnt/cube/earneodo/bci_zf/export_data/tejaswy/z003/S001_Pen04_Rgt_AP1500_ML0__Site01_Z1500__z003_cat_P04_S01_1_02\n",
      "/mnt/cube/earneodo/bci_zf/export_data/tejaswy/z003/S001_Pen03_Lft_AP500_ML500__Site02_Z2300__z003_cat_P03_S02_1_02\n",
      "/mnt/cube/earneodo/bci_zf/export_data/tejaswy/z003/S001_Pen05_Rgt_AP1500_ML2000__Site02_Z2550__z003_cat_P05_S02_1_02\n",
      "/mnt/cube/earneodo/bci_zf/export_data/tejaswy/z003/S001_Pen03_Lft_AP500_ML500__Site01_Z2000__z003_cat_P03_S01_1_02\n",
      "/mnt/cube/earneodo/bci_zf/export_data/tejaswy/z003/S001_Pen07_Rgt_AP1250_ML2000__Site02_Z1680__z003_cat_P07_S02_1_02\n",
      "/mnt/cube/earneodo/bci_zf/export_data/tejaswy/z003/S001_Pen06_Rgt_AP1500_ML2000__Site02_Z2175__z003_cat_P06_S02_1_02\n"
     ]
    }
   ],
   "source": [
    "import shutil\n",
    "\n",
    "for i, s_path in enumerate(all_session_paths):\n",
    "    s_name = os.path.split(s_path)[-1]\n",
    "    target_path = os.path.join(export_path, \"S{:03d}_{}\".format(sess, s_name))\n",
    "    \n",
    "    # chek for the kiwk file\n",
    "    export_files = glob.glob(os.path.join(s_path, '*.kwik'))\n",
    "    assert(len(export_files) == 1)\n",
    "    \n",
    "    if not os.path.exists(target_path):\n",
    "        os.makedirs(target_path)\n",
    "        \n",
    "    #shutil.copy(export_files[0], target_path)\n",
    "    \n",
    "    print target_path"
   ]
  },
  {
   "cell_type": "code",
   "execution_count": 58,
   "metadata": {
    "collapsed": false
   },
   "outputs": [
    {
     "data": {
      "text/plain": [
       "'/mnt/cube/earneodo/bci_zf/export_data/tejaswy/z003'"
      ]
     },
     "execution_count": 58,
     "metadata": {},
     "output_type": "execute_result"
    }
   ],
   "source": [
    "export_path"
   ]
  },
  {
   "cell_type": "code",
   "execution_count": 25,
   "metadata": {
    "collapsed": true
   },
   "outputs": [],
   "source": [
    "f.close()\n",
    "sf.close()"
   ]
  },
  {
   "cell_type": "code",
   "execution_count": 43,
   "metadata": {
    "collapsed": false
   },
   "outputs": [
    {
     "data": {
      "text/plain": [
       "'/mnt/cube/earneodo/bci_zf/export_data/tejaswy/z003/S001_Pen06_Rgt_AP1500_ML2000__Site02_Z2175__z003_cat_P06_S02_1_02'"
      ]
     },
     "execution_count": 43,
     "metadata": {},
     "output_type": "execute_result"
    }
   ],
   "source": [
    "os.target_path"
   ]
  },
  {
   "cell_type": "code",
   "execution_count": 59,
   "metadata": {
    "collapsed": false
   },
   "outputs": [
    {
     "data": {
      "text/plain": [
       "True"
      ]
     },
     "execution_count": 59,
     "metadata": {},
     "output_type": "execute_result"
    }
   ],
   "source": [
    "os.path.exists(target_path)"
   ]
  },
  {
   "cell_type": "code",
   "execution_count": 60,
   "metadata": {
    "collapsed": false
   },
   "outputs": [],
   "source": [
    "assert(len(glob.glob(os.path.join(all_session_paths[0], '*.kwik')))==1)"
   ]
  },
  {
   "cell_type": "code",
   "execution_count": null,
   "metadata": {
    "collapsed": true
   },
   "outputs": [],
   "source": []
  }
 ],
 "metadata": {
  "kernelspec": {
   "display_name": "Python 2",
   "language": "python",
   "name": "python2"
  },
  "language_info": {
   "codemirror_mode": {
    "name": "ipython",
    "version": 2
   },
   "file_extension": ".py",
   "mimetype": "text/x-python",
   "name": "python",
   "nbconvert_exporter": "python",
   "pygments_lexer": "ipython2",
   "version": "2.7.11"
  }
 },
 "nbformat": 4,
 "nbformat_minor": 0
}
