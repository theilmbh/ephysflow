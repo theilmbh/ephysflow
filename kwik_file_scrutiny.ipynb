{
 "cells": [
  {
   "cell_type": "code",
   "execution_count": 2,
   "metadata": {
    "collapsed": false,
    "scrolled": true
   },
   "outputs": [
    {
     "name": "stdout",
     "output_type": "stream",
     "text": [
      "Computer: lintu.ucsd.edu\n"
     ]
    },
    {
     "data": {
      "text/plain": [
       "(<matplotlib.collections.PathCollection at 0x7f57084a3590>,\n",
       " <matplotlib.axes._axes.Axes at 0x7f57085211d0>)"
      ]
     },
     "execution_count": 2,
     "metadata": {},
     "output_type": "execute_result"
    },
    {
     "data": {
      "image/png": "[encoded data removed]",
      "text/plain": [
       "<matplotlib.figure.Figure at 0x7f570e935e90>"
      ]
     },
     "metadata": {},
     "output_type": "display_data"
    },
    {
     "data": {
      "image/png": "[encoded data removed]",
      "text/plain": [
       "<matplotlib.figure.Figure at 0x7f570e932250>"
      ]
     },
     "metadata": {},
     "output_type": "display_data"
    }
   ],
   "source": [
    "#read a wav file, try to filter it, show spectrogram, find finch-like song\n",
    "%matplotlib inline\n",
    "import h5py\n",
    "\n",
    "import pdb\n",
    "import sys\n",
    "import pandas as pd\n",
    "import numpy as np\n",
    "import scipy.io as sio\n",
    "import matplotlib.pyplot as plt\n",
    "import matplotlib\n",
    "import scipy.signal as sg\n",
    "import math\n",
    "import scipy as sp\n",
    "import socket\n",
    "import os\n",
    "import wave\n",
    "import struct\n",
    "\n",
    "matplotlib.style.use('ggplot')\n",
    "\n",
    "comp_name=socket.gethostname()\n",
    "print 'Computer: ' + comp_name\n",
    "if  comp_name == 'chim':\n",
    "    #sys.path.append('/Users/zeke/experiment/ephysDataManagement/ephysScripts')\n",
    "    experiment_folder = os.path.join(os.path.abspath('W:') , \"earneodo\", \"bci_zf\")\n",
    "elif  'lookfar' in comp_name:\n",
    "    sys.path.append('/Users/zeke/repos/ephysflow/basic_viewing')\n",
    "    sys.path.append('/Users/zeke/repos/soundflow/sound_tools')\n",
    "    experiment_folder = os.path.join(os.path.abspath('/Volumes') , 'gentner', 'earneodo', 'bci_zf')\n",
    "\n",
    "if 'lintu' in comp_name:\n",
    "    sys.path.append('/mnt/cube/earneodo/repos/soundflow/sound_tools')\n",
    "    sys.path.append('/mnt/cube/earneodo/repos/ephysflow/basic_viewing')\n",
    "    experiment_folder = os.path.join('/mnt/cube/earneodo/bci_zf/')\n",
    "    raw_data_folder = os.path.join(experiment_folder, 'raw_data')\n",
    "\n",
    "raw_data_folder = os.path.join(experiment_folder, 'raw_data')\n",
    "ss_data_folder = os.path.join(experiment_folder, 'ss_data')\n",
    "    \n",
    "\n",
    "#file structure\n",
    "bird_id = 'z003'\n",
    "sess = 1\n",
    "rec = 'a'\n",
    "run = 1\n",
    "sess_name = 'Pen03_Lft_AP500_ML500__Site01_Z2000__z003_cat_P03_S01_1_02'\n",
    "\n",
    "raw_file_folder = os.path.join(raw_data_folder, bird_id, str(sess).zfill(3))\n",
    "raw_file_name = rec + '_' + str(run).zfill(2) + '_song.wav'\n",
    "raw_file_path = os.path.join(raw_file_folder, raw_file_name)\n",
    "ss_file_folder = raw_file_folder = os.path.join(ss_data_folder, bird_id, 'post_man_sort', sess_name)\n",
    "\n",
    "from events import Event, Sound\n",
    "# open the kwik file for playing\n",
    "kwik_files = [f for f in os.listdir(ss_file_folder) if f.endswith('.kwik')]\n",
    "kwik_file = kwik_files[0]\n",
    "\n",
    "f = h5py.File(os.path.join(ss_file_folder, kwik_file), 'r')\n",
    "f['/event_types/Stimulus'].keys()\n",
    "stim = Sound('sound_001_40000', h5=f)\n",
    "\n",
    "stim.get_col('name')\n",
    "\n",
    "from units import Unit\n",
    "unit = Unit(22, h5=f)\n",
    "unit.get_time_stamps()\n",
    "unit.get_sampling_frequency()\n",
    "rs = unit.get_raster(stim.get_col('start'), 3000, span_is_ms=True)\n",
    "\n",
    "import basic_plot as bp\n",
    "b = np.outer((np.arange(rs.shape[0]) + 1), np.ones(rs.shape[1]))\n",
    "plt.scatter(rs, b, marker='|')\n",
    "\n",
    "bp.plot_raster(bp.sparse_raster(rs))"
   ]
  },
  {
   "cell_type": "code",
   "execution_count": 5,
   "metadata": {
    "collapsed": false
   },
   "outputs": [
    {
     "data": {
      "text/plain": [
       "array([[  3031.,   8454.,  10285., ...,     nan,     nan,     nan],\n",
       "       [ 24793.,  25806.,  26584., ...,     nan,     nan,     nan],\n",
       "       [  4175.,  11874.,  23401., ...,     nan,     nan,     nan],\n",
       "       ..., \n",
       "       [    47.,  11546.,  11954., ...,     nan,     nan,     nan],\n",
       "       [  5508.,  19135.,  20542., ...,     nan,     nan,     nan],\n",
       "       [ 15791.,  18947.,  27057., ...,     nan,     nan,     nan]])"
      ]
     },
     "execution_count": 5,
     "metadata": {},
     "output_type": "execute_result"
    }
   ],
   "source": [
    "#see the bout\n",
    "raw_file_folder = os.path.join(raw_data_folder, bird_id, str(sess).zfill(3))\n",
    "raw_file_name = rec + '_' + str(run).zfill(2) + '_song.wav'"
   ]
  },
  {
   "cell_type": "code",
   "execution_count": null,
   "metadata": {
    "collapsed": false
   },
   "outputs": [],
   "source": [
    "a = np.ones(rs.shape)\n",
    "b = np.outer((np.arange(rs.shape[0]) + 1), np.ones(rs.shape[1]))\n",
    "plt.scatter(rs, b, marker='|')"
   ]
  },
  {
   "cell_type": "code",
   "execution_count": null,
   "metadata": {
    "collapsed": false
   },
   "outputs": [],
   "source": [
    "row = rs[1, :]\n",
    "row_raster = np.empty_like(row)\n",
    "row_raster[:] = np.nan\n",
    "row[not row[:]==np.nan]"
   ]
  },
  {
   "cell_type": "code",
   "execution_count": null,
   "metadata": {
    "collapsed": false
   },
   "outputs": [],
   "source": [
    "row_goes = np.array((row[~np.isnan(row)]), dtype=np.int)\n",
    "print row_goes\n",
    "row_raster[row_goes]=1\n"
   ]
  },
  {
   "cell_type": "code",
   "execution_count": null,
   "metadata": {
    "collapsed": false
   },
   "outputs": [],
   "source": [
    "import basic_plot as bp\n",
    "#grab a raster in format row=timestamps, col=trials\n",
    "#and turn it into a matrix n_trials x t_samples with a one wherever there is a spike\n",
    "def sparse_raster(x):\n",
    "    n_t = x.shape[0] #n of trials\n",
    "    n_s = x.shape[1] #n of samples\n",
    "    raster = np.empty_like(x)\n",
    "    raster[:] = np.nan\n",
    "    \n",
    "    for trial in np.arange(n_t):\n",
    "        r = x[trial, :]\n",
    "        raster[trial, np.array(r[~np.isnan(r)], dtype=np.int)] = 1\n",
    "    return raster\n",
    "\n",
    "y = plottable_raster(rs)\n",
    "bp.plot_raster(y)"
   ]
  },
  {
   "cell_type": "code",
   "execution_count": null,
   "metadata": {
    "collapsed": false
   },
   "outputs": [],
   "source": []
  },
  {
   "cell_type": "code",
   "execution_count": null,
   "metadata": {
    "collapsed": false
   },
   "outputs": [],
   "source": [
    "np.where(~np.isnan(y))"
   ]
  },
  {
   "cell_type": "code",
   "execution_count": null,
   "metadata": {
    "collapsed": false
   },
   "outputs": [],
   "source": [
    "rs"
   ]
  },
  {
   "cell_type": "code",
   "execution_count": null,
   "metadata": {
    "collapsed": true
   },
   "outputs": [],
   "source": []
  }
 ],
 "metadata": {
  "kernelspec": {
   "display_name": "Python 2",
   "language": "python",
   "name": "python2"
  },
  "language_info": {
   "codemirror_mode": {
    "name": "ipython",
    "version": 2
   },
   "file_extension": ".py",
   "mimetype": "text/x-python",
   "name": "python",
   "nbconvert_exporter": "python",
   "pygments_lexer": "ipython2",
   "version": "2.7.10"
  }
 },
 "nbformat": 4,
 "nbformat_minor": 0
}
