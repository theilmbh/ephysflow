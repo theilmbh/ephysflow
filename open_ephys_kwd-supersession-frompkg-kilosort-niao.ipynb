{
 "cells": [
  {
   "cell_type": "code",
   "execution_count": 1,
   "metadata": {
    "collapsed": false
   },
   "outputs": [
    {
     "name": "stderr",
     "output_type": "stream",
     "text": [
      "2017-03-27 17:41:03,010 root         INFO     Computer: passaro\n",
      "2017-03-27 17:41:03,388 root         INFO     All modules loaded\n"
     ]
    }
   ],
   "source": [
    "# tampering with the kwd file on passaro\n",
    "# the /experiment folder is on the ssd of passaro (/usr/local/experiment/raw_data)\n",
    "%matplotlib inline\n",
    "from __future__ import division\n",
    "import pdb\n",
    "import sys\n",
    "import pandas as pd\n",
    "import numpy as np\n",
    "import scipy.io as sio\n",
    "import matplotlib.pyplot as plt\n",
    "import matplotlib\n",
    "import scipy.signal as sg\n",
    "import math\n",
    "import scipy as sp\n",
    "import socket\n",
    "import os\n",
    "import wave\n",
    "import struct\n",
    "import h5py\n",
    "from scipy.signal import hilbert\n",
    "import glob\n",
    "import errno    \n",
    "import os\n",
    "import shutil as sh\n",
    "import yaml\n",
    "import logging\n",
    "\n",
    "logger = logging.getLogger()\n",
    "handler = logging.StreamHandler()\n",
    "formatter = logging.Formatter(\n",
    "        '%(asctime)s %(name)-12s %(levelname)-8s %(message)s')\n",
    "handler.setFormatter(formatter)\n",
    "logger.addHandler(handler)\n",
    "logger.setLevel(logging.DEBUG)\n",
    "\n",
    "# Check wihic computer to decide where the things are mounted\n",
    "comp_name=socket.gethostname()\n",
    "logger.info('Computer: ' + comp_name)\n",
    "if  comp_name == 'chim':\n",
    "    #sys.path.append('/Users/zeke/experiment/ephysDataManagement/ephysScripts')\n",
    "    experiment_folder = os.path.join(os.path.abspath('W:') , \"earneodo\", \"bci_zf\")\n",
    "elif  'lookfar' in comp_name:\n",
    "    repos_folder = os.path.abspath('/Users/zeke/reposs')\n",
    "    experiment_folder = os.path.join(os.path.abspath('/Volumes'), \n",
    "                                     'gentner', \n",
    "                                     'earneodo', \n",
    "                                     'bci_zf')\n",
    "\n",
    "elif 'lintu' in comp_name:\n",
    "    repos_folder = os.path.abspath('/mnt/cube/earneodo/repos')\n",
    "    experiment_folder = os.path.join('/mnt/cube/earneodo/bci_zf/')\n",
    "\n",
    "elif 'passaro' in comp_name:\n",
    "    repos_folder = os.path.abspath('/mnt/cube/earneodo/repos')\n",
    "    cube_experiment_folder = os.path.join('/mnt/cube/earneodo/bci_zf/')\n",
    "    store_experiment_folder = os.path.join('/Data/bci_zf/')\n",
    "    experiment_folder = os.path.join('/usr/local/experiment')\n",
    "\n",
    "sys.path.append(os.path.join(repos_folder, 'soundflow', 'sound_tools'))\n",
    "sys.path.append(os.path.join(repos_folder, 'ephysflow'))\n",
    "sys.path.append(os.path.join(repos_folder, 'swissknife'))\n",
    "\n",
    "#import soundtools as st\n",
    "from scipy.io import wavfile\n",
    "from bci.core import expstruct as et\n",
    "from bci import supersession as ss\n",
    "from bci import stimalign as sa\n",
    "\n",
    "logger.info('All modules loaded')\n",
    "\n",
    "#for the kilosort\n",
    "import subprocess\n",
    "import paramiko\n",
    "import select\n",
    "\n",
    "\n",
    "sys.path.append(os.path.join(repos_folder, 'ephysflow', 'bci_pipeline'))\n",
    "from bci.core.file import h5_functions as h5f\n",
    "from bci.core import kwik_functions as kwkf\n",
    "from bci.core.pipeline.core import kilosort\n",
    "\n",
    "#logger = logging.getLogger('sort_functions')\n",
    "\n",
    "def ssh_run(host, cmd):\n",
    "    #logger.info('Will run ssh command {} on {}'.format(host, cmd))\n",
    "    ssh = subprocess.Popen([\"ssh\", \"%s\" % host, '%s;' % cmd, 'exit;'],\n",
    "                      shell=False,\n",
    "                      stdout=subprocess.PIPE,\n",
    "                      stderr=subprocess.PIPE)\n",
    "\n",
    "    result = ssh.stdout.readlines()\n",
    "    if result == []:\n",
    "        error = ssh.stderr.readlines()\n",
    "        print >>sys.stderr, \"ERROR: %s\" % error\n",
    "        #logger.error('something went wrong')\n",
    "    else:\n",
    "        print result\n",
    "        #logger.info('finished')    \n",
    "    return result\n",
    "\n",
    "def ssh_paramiko(host, cmd):\n",
    "    ssh = paramiko.SSHClient()\n",
    "    ssh.set_missing_host_key_policy(paramiko.AutoAddPolicy())\n",
    "    ssh.connect(host)\n",
    "    print \"Connected to %s\" % host\n",
    "    stdin, stdout, stderr = ssh.exec_command(cmd)\n",
    "    msg = []\n",
    "    while not stdout.channel.exit_status_ready():\n",
    "        # Only print data if there is data to read in the channel\n",
    "        if stdout.channel.recv_ready():\n",
    "            rl, wl, xl = select.select([stdout.channel], [], [], 0.0)\n",
    "            if len(rl) > 0:\n",
    "                # Print data from stdout\n",
    "                print msg.append(stdout.channel.recv(1024))\n",
    "    print \"finished command, returning\"\n",
    "    ssh.close()\n",
    "    return msg\n",
    "\n",
    "# Make one single binary file\n",
    "def make_binary(bird, sess):\n",
    "    print 'Making binary'\n",
    "    fn = et.file_names(bird, sess)\n",
    "    params = et.get_parameters(bird, sess)\n",
    "    kwd_path = et.file_path(fn, 'ss', 'ss_raw')\n",
    "    bin_path = et.file_path(fn, 'ss', 'ss_bin')\n",
    "    chan_list = params['channel_config']['neural']\n",
    "    h5f.kwd_to_binary(kwd_path, bin_path, chan_list=chan_list)\n",
    "    print 'done'\n",
    "#make all the parameters for sorting with kilosort\n",
    "\n",
    "# sort with a script in niao (scripts gets the data from cube, puts back in cube)\n",
    "def niao_kilosort(bird, sess):\n",
    "    print 'Sending sort to niao'\n",
    "    return ssh_paramiko('niao', 'py_kilosort.sh {0} {1}'.format(bird, sess))\n",
    "\n",
    "def local_kilosort(bird, sess):\n",
    "    logger.info('Will sort using kilosort on local computer')\n",
    "    kilosort.run_kilosort(bird, sess, \n",
    "                          kilo_dir=os.path.abspath('/home/earneodo/repos/KiloSort'),\n",
    "                          npymat_dir=os.path.abspath('/home/earneodo/repos/npy-matlab'))\n",
    "\n",
    "#convert back to kwik file"
   ]
  },
  {
   "cell_type": "code",
   "execution_count": 2,
   "metadata": {
    "collapsed": false
   },
   "outputs": [
    {
     "data": {
      "text/plain": [
       "{'folders': {'kai': '/mnt/cube/kai/results/tuvieja/hoy',\n",
       "  'prb': '/mnt/cube/earneodo/bci_zf/probes',\n",
       "  'raw': '/usr/local/experiment/raw_data/tuvieja/hoy',\n",
       "  'rw': '/mnt/cube/earneodo/bci_zf/raw_data/tuvieja/hoy',\n",
       "  'ss': '/mnt/cube/earneodo/bci_zf/ss_data/tuvieja/hoy',\n",
       "  'stim': '/mnt/cube/earneodo/bci_zf/stim_data/tuvieja/hoy',\n",
       "  'templ': '/mnt/cube/earneodo/bci_zf/templates',\n",
       "  'tmp': '/usr/local/experiment/tmp_data/tuvieja/hoy'},\n",
       " 'locations': {'archive': '/mnt/cube/earneodo/archive/bci_zf',\n",
       "  'experiment': '/mnt/cube/earneodo/bci_zf',\n",
       "  'experiment_local': '/usr/local/experiment',\n",
       "  'repos': '/mnt/cube/earneodo/repos',\n",
       "  'scratch': '/usr/local/experiment/scratchpad',\n",
       "  'store': '/Data/bci_zf'},\n",
       " 'structure': {'cand': 'experiment.mot.h5',\n",
       "  'evt': 'experiment.kwe',\n",
       "  'kk_par': 'params.prm',\n",
       "  'kk_prb': '*.prb',\n",
       "  'ks_cfg': 'config.m',\n",
       "  'ks_map': 'chanMap.mat',\n",
       "  'ks_mas': 'master.m',\n",
       "  'ks_par': 'params.py',\n",
       "  'mic': 'experiment-rec_000.mic.wav',\n",
       "  'par': 'experiment.par.yml',\n",
       "  'sng': 'experiment.sng.kwe',\n",
       "  'ss_bin': 'experiment.dat',\n",
       "  'ss_par': 'experiment.par.yml',\n",
       "  'ss_raw': 'experiment.raw.kwd',\n",
       "  'stm': 'experiment.stm.kwe',\n",
       "  'structure': 'experiment',\n",
       "  'sts': 'experiment-rec_000.sts.wav'}}"
      ]
     },
     "execution_count": 2,
     "metadata": {},
     "output_type": "execute_result"
    }
   ],
   "source": [
    "et.file_names('tuvieja', 'hoy')"
   ]
  },
  {
   "cell_type": "code",
   "execution_count": 5,
   "metadata": {
    "collapsed": false,
    "scrolled": true
   },
   "outputs": [
    {
     "ename": "IndexError",
     "evalue": "list index out of range",
     "output_type": "error",
     "traceback": [
      "\u001b[0;31m\u001b[0m",
      "\u001b[0;31mIndexError\u001b[0mTraceback (most recent call last)",
      "\u001b[0;32m<ipython-input-5-045bb732d541>\u001b[0m in \u001b[0;36m<module>\u001b[0;34m()\u001b[0m\n\u001b[1;32m      7\u001b[0m \u001b[0mraw_data_folder\u001b[0m \u001b[0;34m=\u001b[0m \u001b[0met\u001b[0m\u001b[0;34m.\u001b[0m\u001b[0mfile_names\u001b[0m\u001b[0;34m(\u001b[0m\u001b[0mbird_id\u001b[0m\u001b[0;34m)\u001b[0m\u001b[0;34m[\u001b[0m\u001b[0;34m'folders'\u001b[0m\u001b[0;34m]\u001b[0m\u001b[0;34m[\u001b[0m\u001b[0mraw_location\u001b[0m\u001b[0;34m]\u001b[0m\u001b[0;34m\u001b[0m\u001b[0m\n\u001b[1;32m      8\u001b[0m \u001b[0msessions\u001b[0m \u001b[0;34m=\u001b[0m \u001b[0mglob\u001b[0m\u001b[0;34m.\u001b[0m\u001b[0mglob\u001b[0m\u001b[0;34m(\u001b[0m\u001b[0mos\u001b[0m\u001b[0;34m.\u001b[0m\u001b[0mpath\u001b[0m\u001b[0;34m.\u001b[0m\u001b[0mjoin\u001b[0m\u001b[0;34m(\u001b[0m\u001b[0mraw_data_folder\u001b[0m\u001b[0;34m,\u001b[0m \u001b[0msess_day\u001b[0m \u001b[0;34m+\u001b[0m \u001b[0;34m'*'\u001b[0m \u001b[0;34m+\u001b[0m \u001b[0mstr\u001b[0m\u001b[0;34m(\u001b[0m\u001b[0mdepth\u001b[0m\u001b[0;34m)\u001b[0m\u001b[0;34m)\u001b[0m\u001b[0;34m)\u001b[0m\u001b[0;34m\u001b[0m\u001b[0m\n\u001b[0;32m----> 9\u001b[0;31m \u001b[0mday_par_file_path\u001b[0m \u001b[0;34m=\u001b[0m \u001b[0mos\u001b[0m\u001b[0;34m.\u001b[0m\u001b[0mpath\u001b[0m\u001b[0;34m.\u001b[0m\u001b[0mjoin\u001b[0m\u001b[0;34m(\u001b[0m\u001b[0msessions\u001b[0m\u001b[0;34m[\u001b[0m\u001b[0;36m0\u001b[0m\u001b[0;34m]\u001b[0m\u001b[0;34m,\u001b[0m \u001b[0met\u001b[0m\u001b[0;34m.\u001b[0m\u001b[0mfile_names\u001b[0m\u001b[0;34m(\u001b[0m\u001b[0mbird_id\u001b[0m\u001b[0;34m)\u001b[0m\u001b[0;34m[\u001b[0m\u001b[0;34m'structure'\u001b[0m\u001b[0;34m]\u001b[0m\u001b[0;34m[\u001b[0m\u001b[0;34m'par'\u001b[0m\u001b[0;34m]\u001b[0m\u001b[0;34m)\u001b[0m\u001b[0;34m\u001b[0m\u001b[0m\n\u001b[0m\u001b[1;32m     10\u001b[0m \u001b[0msess_par\u001b[0m \u001b[0;34m=\u001b[0m \u001b[0met\u001b[0m\u001b[0;34m.\u001b[0m\u001b[0mget_parameters\u001b[0m\u001b[0;34m(\u001b[0m\u001b[0mbird_id\u001b[0m\u001b[0;34m,\u001b[0m \u001b[0mos\u001b[0m\u001b[0;34m.\u001b[0m\u001b[0mpath\u001b[0m\u001b[0;34m.\u001b[0m\u001b[0msplit\u001b[0m\u001b[0;34m(\u001b[0m\u001b[0msessions\u001b[0m\u001b[0;34m[\u001b[0m\u001b[0;36m0\u001b[0m\u001b[0;34m]\u001b[0m\u001b[0;34m)\u001b[0m\u001b[0;34m[\u001b[0m\u001b[0;34m-\u001b[0m\u001b[0;36m1\u001b[0m\u001b[0;34m]\u001b[0m\u001b[0;34m,\u001b[0m \u001b[0mlocation\u001b[0m\u001b[0;34m=\u001b[0m\u001b[0mraw_location\u001b[0m\u001b[0;34m)\u001b[0m\u001b[0;34m\u001b[0m\u001b[0m\n\u001b[1;32m     11\u001b[0m \u001b[0msuper_sess_par\u001b[0m \u001b[0;34m=\u001b[0m \u001b[0msess_par\u001b[0m\u001b[0;34m.\u001b[0m\u001b[0mcopy\u001b[0m\u001b[0;34m(\u001b[0m\u001b[0;34m)\u001b[0m\u001b[0;34m\u001b[0m\u001b[0m\n",
      "\u001b[0;31mIndexError\u001b[0m: list index out of range"
     ]
    }
   ],
   "source": [
    "bird_id = 'b1114'\n",
    "sess_day = 'afternoon_2017-02-24'\n",
    "depth = '150'\n",
    "raw_location = 'raw' #raw in local, rw in cube\n",
    "# Make the super session and gather the list of sessions\n",
    "# get the sessions list of files\n",
    "raw_data_folder = et.file_names(bird_id)['folders'][raw_location]\n",
    "sessions = glob.glob(os.path.join(raw_data_folder, sess_day + '*' + str(depth)))\n",
    "day_par_file_path = os.path.join(sessions[0], et.file_names(bird_id)['structure']['par'])\n",
    "sess_par = et.get_parameters(bird_id, os.path.split(sessions[0])[-1], location=raw_location)\n",
    "super_sess_par = sess_par.copy()\n",
    "data_processor = sess_par['rec_config']['processors']['data']\n",
    "experiments = ss.list_flatten([glob.glob(os.path.join(s, '*_{}.raw.kwd'.format(data_processor)))[:] for s in sessions ])\n",
    "experiments.sort()"
   ]
  },
  {
   "cell_type": "code",
   "execution_count": 30,
   "metadata": {
    "collapsed": false,
    "scrolled": true
   },
   "outputs": [
    {
     "name": "stderr",
     "output_type": "stream",
     "text": [
      "2017-03-01 15:53:34,209 supersession INFO     Super session path /mnt/cube/earneodo/bci_zf/ss_data/b1114/day-2017-02-28_350/experiment.raw.kwd\n",
      "2017-03-01 15:53:34,223 supersession INFO     searching *_100.raw.kwd\n",
      "2017-03-01 15:53:34,243 supersession INFO     Making supersession day-2017-02-28_350\n",
      "2017-03-01 15:53:34,244 supersession INFO     super file path: /mnt/cube/earneodo/bci_zf/ss_data/b1114/day-2017-02-28_350/experiment.raw.kwd\n",
      "2017-03-01 15:53:34,246 supersession INFO     Found 6 experiment files\n",
      "2017-03-01 15:53:34,247 bci.core.expstruct DEBUG    Creating directory /mnt/cube/earneodo/bci_zf/ss_data/b1114/day-2017-02-28_350\n",
      "2017-03-01 15:53:34,251 bci.core.expstruct DEBUG    Directory existed, doing nothing\n",
      "2017-03-01 15:53:38,467 supersession INFO     Inserting file /usr/local/experiment/raw_data/b1114/2017-02-28_10-05-27_350/experiment1_100.raw.kwd\n",
      "2017-03-01 15:53:38,487 root         DEBUG    H5 file: <HDF5 file \"experiment.raw.kwd\" (mode r+)>\n",
      "2017-03-01 15:55:50,757 supersession INFO     Inserting file /usr/local/experiment/raw_data/b1114/2017-02-28_11-19-32_350/experiment1_100.raw.kwd\n",
      "2017-03-01 15:55:50,779 root         DEBUG    H5 file: <HDF5 file \"experiment.raw.kwd\" (mode r+)>\n",
      "2017-03-01 15:58:32,669 supersession INFO     Inserting file /usr/local/experiment/raw_data/b1114/2017-02-28_12-48-40_350/experiment1_100.raw.kwd\n",
      "2017-03-01 15:58:32,680 root         DEBUG    H5 file: <HDF5 file \"experiment.raw.kwd\" (mode r+)>\n",
      "2017-03-01 16:05:48,150 supersession INFO     Inserting file /usr/local/experiment/raw_data/b1114/2017-02-28_16-14-57_350/experiment1_100.raw.kwd\n",
      "2017-03-01 16:05:48,179 root         DEBUG    H5 file: <HDF5 file \"experiment.raw.kwd\" (mode r+)>\n",
      "2017-03-01 16:10:05,054 supersession INFO     Inserting file /usr/local/experiment/raw_data/b1114/2017-02-28_18-30-53_350/experiment2_100.raw.kwd\n",
      "2017-03-01 16:10:05,076 root         DEBUG    H5 file: <HDF5 file \"experiment.raw.kwd\" (mode r+)>\n",
      "2017-03-01 16:11:54,738 supersession INFO     Inserting file /usr/local/experiment/raw_data/b1114/2017-02-28_18-30-53_350/experiment3_100.raw.kwd\n",
      "2017-03-01 16:11:54,751 root         DEBUG    H5 file: <HDF5 file \"experiment.raw.kwd\" (mode r+)>\n",
      "2017-03-01 16:11:54,809 supersession INFO     Copying data to experiment folder /mnt/cube/earneodo/bci_zf/raw_data/b1114\n",
      "2017-03-01 16:11:54,810 supersession INFO     Backup of 5 sessions in /mnt/cube/earneodo/bci_zf/raw_data/b1114\n",
      "2017-03-01 16:11:54,812 bci.core.expstruct DEBUG    Creating directory /mnt/cube/earneodo/bci_zf/raw_data/b1114\n",
      "2017-03-01 16:11:54,815 bci.core.expstruct DEBUG    Directory existed, doing nothing\n",
      "2017-03-01 16:11:54,816 supersession DEBUG    Sess 2017-02-28_16-14-57_350\n",
      "2017-03-01 16:14:21,668 supersession DEBUG    Sess 2017-02-28_18-30-53_350\n",
      "2017-03-01 16:15:30,417 supersession DEBUG    Sess 2017-02-28_12-48-40_350\n",
      "2017-03-01 16:19:06,854 supersession DEBUG    Sess 2017-02-28_11-19-32_350\n",
      "2017-03-01 16:20:32,622 supersession DEBUG    Sess 2017-02-28_10-05-27_350\n",
      "2017-03-01 16:22:00,296 supersession INFO     Should be Moving data out of local drive /usr/local/experiment/raw_data/b1114\n",
      "2017-03-01 16:22:00,298 supersession INFO     Backup of 5 sessions in /Data/bci_zf/raw_data/b1114\n",
      "2017-03-01 16:22:00,301 bci.core.expstruct DEBUG    Creating directory /Data/bci_zf/raw_data/b1114\n",
      "2017-03-01 16:22:00,302 bci.core.expstruct DEBUG    Directory existed, doing nothing\n",
      "2017-03-01 16:22:00,304 supersession DEBUG    Sess 2017-02-28_16-14-57_350\n",
      "2017-03-01 16:24:04,504 supersession DEBUG    Sess 2017-02-28_18-30-53_350\n",
      "2017-03-01 16:25:09,443 supersession DEBUG    Sess 2017-02-28_12-48-40_350\n",
      "2017-03-01 16:28:43,654 supersession DEBUG    Sess 2017-02-28_11-19-32_350\n",
      "2017-03-01 16:30:07,525 supersession DEBUG    Sess 2017-02-28_10-05-27_350\n",
      "2017-03-01 16:31:35,740 supersession INFO     Extract mic chan to wav for recs [u'0', u'1', u'2', u'3', u'4', u'5']\n",
      "2017-03-01 16:31:35,877 supersession INFO     Rec 0: /mnt/cube/earneodo/bci_zf/ss_data/b1114/day-2017-02-28_350/experiment-rec_000.mic.wav\n",
      "2017-03-01 16:33:40,072 supersession INFO     Rec 1: /mnt/cube/earneodo/bci_zf/ss_data/b1114/day-2017-02-28_350/experiment-rec_001.mic.wav\n",
      "2017-03-01 16:35:21,908 supersession INFO     Rec 2: /mnt/cube/earneodo/bci_zf/ss_data/b1114/day-2017-02-28_350/experiment-rec_002.mic.wav\n",
      "2017-03-01 16:40:40,160 supersession INFO     Rec 3: /mnt/cube/earneodo/bci_zf/ss_data/b1114/day-2017-02-28_350/experiment-rec_003.mic.wav\n",
      "2017-03-01 16:43:47,704 supersession INFO     Rec 4: /mnt/cube/earneodo/bci_zf/ss_data/b1114/day-2017-02-28_350/experiment-rec_004.mic.wav\n",
      "2017-03-01 16:45:13,299 supersession INFO     Rec 5: /mnt/cube/earneodo/bci_zf/ss_data/b1114/day-2017-02-28_350/experiment-rec_005.mic.wav\n",
      "2017-03-01 16:45:13,322 supersession INFO     Done extracting channels\n",
      "2017-03-01 16:45:13,324 supersession INFO     Done making supersession\n"
     ]
    }
   ],
   "source": [
    "# Do the supersess\n",
    "reload(ss)\n",
    "super_sess_name = 'day-' + sess_day + '_' + depth\n",
    "ss.process_awake_recording(bird_id, sess_day, depth, raw_location=raw_location)"
   ]
  },
  {
   "cell_type": "code",
   "execution_count": 6,
   "metadata": {
    "collapsed": false,
    "scrolled": true
   },
   "outputs": [
    {
     "name": "stderr",
     "output_type": "stream",
     "text": [
      "2017-03-27 18:00:37,099 root         DEBUG    H5 file: <HDF5 file \"experiment.raw.kwd\" (mode r)>\n",
      "2017-03-27 18:00:37,101 root         INFO     Writing kwd_file /mnt/cube/earneodo/bci_zf/ss_data/b1114/day-afternoon_2017-02-24_150/experiment.raw.kwd to binary\n",
      "2017-03-27 18:00:37,103 root         INFO     Channels to extract: [0, 1, 2, 3, 4, 5, 6, 7, 8, 9, 10, 11, 12, 13, 14, 15, 16, 17, 18, 19, 20, 21, 22, 23, 24, 25, 26, 27, 28, 29, 30, 31]\n",
      "2017-03-27 18:00:37,104 root         INFO     Creating binary file /mnt/cube/earneodo/bci_zf/ss_data/b1114/day-afternoon_2017-02-24_150/experiment.dat\n",
      "2017-03-27 18:00:37,105 root         DEBUG    H5 file: <HDF5 file \"experiment.raw.kwd\" (mode r)>\n",
      "2017-03-27 18:00:37,108 root         INFO     Will go through recs [0 1]\n"
     ]
    },
    {
     "name": "stdout",
     "output_type": "stream",
     "text": [
      "Making binary\n"
     ]
    },
    {
     "name": "stderr",
     "output_type": "stream",
     "text": [
      "2017-03-27 18:00:37,433 root         DEBUG    H5 file: <HDF5 file \"experiment.raw.kwd\" (mode r)>\n",
      "2017-03-27 18:00:37,435 root         DEBUG    Getting dataset from rec 0\n",
      "2017-03-27 18:00:37,448 root         INFO     Ripping dataset from /recordings/0\n",
      "2017-03-27 18:00:37,450 root         INFO     Channel list: [0, 1, 2, 3, 4, 5, 6, 7, 8, 9, 10, 11, 12, 13, 14, 15, 16, 17, 18, 19, 20, 21, 22, 23, 24, 25, 26, 27, 28, 29, 30, 31]\n",
      "2017-03-27 18:00:37,451 root         INFO     About to store 5 entire chunks\n",
      "2017-03-27 18:00:37,453 root         INFO     Chunk start: 0\n",
      "2017-03-27 18:00:46,730 root         INFO     Chunk start: 8000000\n",
      "2017-03-27 18:00:54,636 root         INFO     Chunk start: 16000000\n",
      "2017-03-27 18:01:02,347 root         INFO     Chunk start: 24000000\n",
      "2017-03-27 18:01:09,786 root         INFO     Chunk start: 32000000\n",
      "2017-03-27 18:01:17,888 root         INFO     Chunk start: 40000000\n",
      "2017-03-27 18:01:33,284 root         INFO     1721612800 elements written\n",
      "2017-03-27 18:01:33,298 root         DEBUG    H5 file: <HDF5 file \"experiment.raw.kwd\" (mode r)>\n",
      "2017-03-27 18:01:33,300 root         DEBUG    Getting dataset from rec 1\n",
      "2017-03-27 18:01:33,433 root         INFO     Ripping dataset from /recordings/1\n",
      "2017-03-27 18:01:33,435 root         INFO     Channel list: [0, 1, 2, 3, 4, 5, 6, 7, 8, 9, 10, 11, 12, 13, 14, 15, 16, 17, 18, 19, 20, 21, 22, 23, 24, 25, 26, 27, 28, 29, 30, 31]\n",
      "2017-03-27 18:01:33,437 root         INFO     About to store 10 entire chunks\n",
      "2017-03-27 18:01:33,439 root         INFO     Chunk start: 0\n",
      "2017-03-27 18:01:42,848 root         INFO     Chunk start: 8000000\n",
      "2017-03-27 18:01:55,663 root         INFO     Chunk start: 16000000\n",
      "2017-03-27 18:02:09,493 root         INFO     Chunk start: 24000000\n",
      "2017-03-27 18:02:18,185 root         INFO     Chunk start: 32000000\n",
      "2017-03-27 18:02:26,772 root         INFO     Chunk start: 40000000\n",
      "2017-03-27 18:02:35,434 root         INFO     Chunk start: 48000000\n",
      "2017-03-27 18:02:47,782 root         INFO     Chunk start: 56000000\n",
      "2017-03-27 18:03:05,540 root         INFO     Chunk start: 64000000\n",
      "2017-03-27 18:03:13,234 root         INFO     Chunk start: 72000000\n",
      "2017-03-27 18:03:21,208 root         INFO     Chunk start: 80000000\n",
      "2017-03-27 18:03:26,794 root         INFO     3007225600 elements written\n",
      "2017-03-27 18:03:43,301 root         INFO     4728838400 elements written\n",
      "2017-03-27 18:03:43,304 root         INFO     Will sort using kilosort on local computer\n"
     ]
    },
    {
     "name": "stdout",
     "output_type": "stream",
     "text": [
      "done\n",
      "sorting in niao\n"
     ]
    },
    {
     "ename": "TypeError",
     "evalue": "run_kilosort() got an unexpected keyword argument 'kilodir'",
     "output_type": "error",
     "traceback": [
      "\u001b[0;31m\u001b[0m",
      "\u001b[0;31mTypeError\u001b[0mTraceback (most recent call last)",
      "\u001b[0;32m<ipython-input-6-b49e4280e36e>\u001b[0m in \u001b[0;36m<module>\u001b[0;34m()\u001b[0m\n\u001b[1;32m      4\u001b[0m \u001b[0mmake_binary\u001b[0m\u001b[0;34m(\u001b[0m\u001b[0mbird_id\u001b[0m\u001b[0;34m,\u001b[0m \u001b[0msuper_sess_name\u001b[0m\u001b[0;34m)\u001b[0m\u001b[0;34m\u001b[0m\u001b[0m\n\u001b[1;32m      5\u001b[0m \u001b[0;32mprint\u001b[0m \u001b[0;34m'sorting in niao'\u001b[0m\u001b[0;34m\u001b[0m\u001b[0m\n\u001b[0;32m----> 6\u001b[0;31m \u001b[0mniao_msg\u001b[0m \u001b[0;34m=\u001b[0m \u001b[0mlocal_kilosort\u001b[0m\u001b[0;34m(\u001b[0m\u001b[0mbird_id\u001b[0m\u001b[0;34m,\u001b[0m \u001b[0msuper_sess_name\u001b[0m\u001b[0;34m)\u001b[0m\u001b[0;34m\u001b[0m\u001b[0m\n\u001b[0m\u001b[1;32m      7\u001b[0m \u001b[0;32mprint\u001b[0m \u001b[0mniao_msg\u001b[0m\u001b[0;34m\u001b[0m\u001b[0m\n\u001b[1;32m      8\u001b[0m \u001b[0;32mprint\u001b[0m \u001b[0;34m'getting back to kwik format'\u001b[0m\u001b[0;34m\u001b[0m\u001b[0m\n",
      "\u001b[0;32m<ipython-input-1-7c9f8cbcdd76>\u001b[0m in \u001b[0;36mlocal_kilosort\u001b[0;34m(bird, sess)\u001b[0m\n\u001b[1;32m    138\u001b[0m     kilosort.run_kilosort(bird, sess, \n\u001b[1;32m    139\u001b[0m                           \u001b[0mkilodir\u001b[0m\u001b[0;34m=\u001b[0m\u001b[0mos\u001b[0m\u001b[0;34m.\u001b[0m\u001b[0mpath\u001b[0m\u001b[0;34m.\u001b[0m\u001b[0mabspath\u001b[0m\u001b[0;34m(\u001b[0m\u001b[0;34m'/home/earneodo/repos/KiloSort'\u001b[0m\u001b[0;34m)\u001b[0m\u001b[0;34m,\u001b[0m\u001b[0;34m\u001b[0m\u001b[0m\n\u001b[0;32m--> 140\u001b[0;31m                           npymat_dir=os.path.abspath('/home/earneodo/repos/npy-matlab'))\n\u001b[0m\u001b[1;32m    141\u001b[0m \u001b[0;34m\u001b[0m\u001b[0m\n\u001b[1;32m    142\u001b[0m \u001b[0;31m#convert back to kwik file\u001b[0m\u001b[0;34m\u001b[0m\u001b[0;34m\u001b[0m\u001b[0m\n",
      "\u001b[0;31mTypeError\u001b[0m: run_kilosort() got an unexpected keyword argument 'kilodir'"
     ]
    }
   ],
   "source": [
    "# Do the kilosort\n",
    "super_sess_name = 'day-' + sess_day + '_' + depth\n",
    "#print \"making binary\"\n",
    "make_binary(bird_id, super_sess_name)\n",
    "print 'sorting in niao'\n",
    "niao_msg = local_kilosort(bird_id, super_sess_name)\n",
    "print niao_msg\n",
    "print 'getting back to kwik format'\n",
    "kwkf.kilo_to_kwik(bird_id, super_sess_name)\n"
   ]
  },
  {
   "cell_type": "code",
   "execution_count": 20,
   "metadata": {
    "collapsed": false
   },
   "outputs": [
    {
     "name": "stderr",
     "output_type": "stream",
     "text": [
      "2017-03-27 19:09:21,048 root         INFO     Will sort using kilosort on local computer\n",
      "2017-03-27 19:09:21,053 kilosort     INFO     Saving output in log file: /mnt/cube/earneodo/bci_zf/ss_data/b1114/day-afternoon_2017-02-24_150/kilosort_py.log\n",
      "2017-03-27 19:09:21,061 kilosort     INFO     will run bci_pipeline on bird b1114 - session day-afternoon_2017-02-24_150\n",
      "2017-03-27 19:09:21,070 kilosort     INFO     Will not pull data from cube\n",
      "2017-03-27 19:09:21,080 kilosort     INFO     Will create the scripts\n",
      "2017-03-27 19:09:21,109 kilosort     DEBUG    local sort dir: /usr/local/experiment/tmp_data/b1114/day-afternoon_2017-02-24_150\n",
      "2017-03-27 19:09:21,121 root         DEBUG    H5 file: <HDF5 file \"experiment.raw.kwd\" (mode r)>\n",
      "2017-03-27 19:09:21,123 kilosort     DEBUG    n_chan: 32\n",
      "2017-03-27 19:09:21,133 bci.core.expstruct DEBUG    Creating directory /usr/local/experiment/tmp_data/b1114/day-afternoon_2017-02-24_150\n",
      "2017-03-27 19:09:21,134 bci.core.expstruct DEBUG    Directory existed, doing nothing\n",
      "2017-03-27 19:09:21,136 kilosort     INFO     Will do the chanMap for matlab\n",
      "2017-03-27 19:09:21,144 kilosort     DEBUG    Making ChanMap file\n",
      "2017-03-27 19:09:21,165 kilosort     DEBUG    Probe serial specified: 6c89\n",
      "2017-03-27 19:09:21,175 kilosort     DEBUG    Probe rev specified: 1\n",
      "2017-03-27 19:09:21,191 kilosort     DEBUG    Probe should be /mnt/cube/earneodo/bci_zf/probes/6c89_1.prb\n",
      "2017-03-27 19:09:21,199 kilosort     INFO     probe file: /mnt/cube/earneodo/bci_zf/probes/6c89_1.prb\n",
      "2017-03-27 19:09:21,210 kilosort     INFO     Will do the sort\n",
      "2017-03-27 19:09:21,219 kilosort     INFO     Running kilosort on matlab\n",
      "2017-03-27 19:09:21,227 kilosort     INFO     output to /mnt/cube/earneodo/bci_zf/ss_data/b1114/day-afternoon_2017-02-24_150/kilosort_mat.log\n"
     ]
    },
    {
     "name": "stdout",
     "output_type": "stream",
     "text": [
      "will run bci_pipeline on bird b1114 - session day-afternoon_2017-02-24_150\n",
      "{'Nchan': 32, 'blockname': 'experiment', 'fs': 30000.0, 'kilodir': '/home/earneodo/repos/KiloSort', 'Nfilt': 64, 'datadir': '/usr/local/experiment/tmp_data/b1114/day-afternoon_2017-02-24_150', 'npy_matdir': '/home/earneodo/repos/npy-matlab'}\n",
      "/mnt/cube/earneodo/bci_zf/templates\n"
     ]
    },
    {
     "name": "stderr",
     "output_type": "stream",
     "text": [
      "2017-03-27 19:09:24,877 kilosort     INFO     Sorted \n",
      "                            < M A T L A B (R) >\n",
      "                  Copyright 1984-2017 The MathWorks, Inc.\n",
      "                   R2017a (9.2.0.538062) 64-bit (glnxa64)\n",
      "                             February 23, 2017\n",
      "\n",
      " \n",
      "For online documentation, see http://www.mathworks.com/support\n",
      "For product information, visit www.mathworks.com.\n",
      " \n",
      "\n",
      ".               chanMap.mat     experiment.dat  temp_wh.dat     \n",
      "..              config.m        master.m        \n",
      "\n",
      "/home/earneodo/repos/KiloSort\n",
      "\n",
      "fpath =\n",
      "\n",
      "    '/usr/local/experiment/tmp_data/b1114/day-afternoon_2017-02-24_150'\n",
      "\n",
      ">> \n",
      "2017-03-27 19:09:24,886 kilosort     INFO     Pushing back bci_pipeline data\n",
      "2017-03-27 19:09:24,896 kilosort     INFO     Pushed back to cube []\n"
     ]
    },
    {
     "name": "stdout",
     "output_type": "stream",
     "text": [
      "Finished \n"
     ]
    }
   ],
   "source": [
    "reload(kilosort)\n",
    "def local_kilosort(bird, sess):\n",
    "    logger.info('Will sort using kilosort on local computer')\n",
    "    kilosort.run_kilosort(bird, sess, \n",
    "                          kilo_dir=os.path.abspath('/home/earneodo/repos/KiloSort'),\n",
    "                          npymat_dir=os.path.abspath('/home/earneodo/repos/npy-matlab'),\n",
    "                         no_copy=True)\n",
    "    \n",
    "niao_msg = local_kilosort(bird_id, super_sess_name)"
   ]
  },
  {
   "cell_type": "code",
   "execution_count": 5,
   "metadata": {
    "collapsed": false
   },
   "outputs": [
    {
     "name": "stderr",
     "output_type": "stream",
     "text": [
      "2017-02-24 16:35:03,342 kwik_functions INFO     Creating kwik file for bird: b1114 sess: day-afternoon_2017-02-24_150\n",
      "2017-02-24 16:35:03,389 kwik_functions INFO     Clu not found, will assume no manual sorting was done\n",
      "2017-02-24 16:35:03,391 kwik_functions DEBUG    {'par': '/mnt/cube/earneodo/bci_zf/ss_data/b1114/day-afternoon_2017-02-24_150/params.py', 'spk': '/mnt/cube/earneodo/bci_zf/ss_data/b1114/day-afternoon_2017-02-24_150/spike_times.npy', 'kwd': '/mnt/cube/earneodo/bci_zf/ss_data/b1114/day-afternoon_2017-02-24_150/experiment.raw.kwd', 'grp': None, 'clu': None, 'temp': '/mnt/cube/earneodo/bci_zf/ss_data/b1114/day-afternoon_2017-02-24_150/spike_templates.npy', 'kwk': '/mnt/cube/earneodo/bci_zf/ss_data/b1114/day-afternoon_2017-02-24_150/experiment.kwik'}\n"
     ]
    },
    {
     "ename": "IOError",
     "evalue": "[Errno 2] No such file or directory: '/mnt/cube/earneodo/bci_zf/ss_data/b1114/day-afternoon_2017-02-24_150/spike_templates.npy'",
     "output_type": "error",
     "traceback": [
      "\u001b[0;31m\u001b[0m",
      "\u001b[0;31mIOError\u001b[0mTraceback (most recent call last)",
      "\u001b[0;32m<ipython-input-5-9004480bc625>\u001b[0m in \u001b[0;36m<module>\u001b[0;34m()\u001b[0m\n\u001b[1;32m      1\u001b[0m \u001b[0;34m\u001b[0m\u001b[0m\n\u001b[1;32m      2\u001b[0m \u001b[0;34m\u001b[0m\u001b[0m\n\u001b[0;32m----> 3\u001b[0;31m \u001b[0mkwkf\u001b[0m\u001b[0;34m.\u001b[0m\u001b[0mkilo_to_kwik\u001b[0m\u001b[0;34m(\u001b[0m\u001b[0mbird_id\u001b[0m\u001b[0;34m,\u001b[0m \u001b[0msuper_sess_name\u001b[0m\u001b[0;34m)\u001b[0m\u001b[0;34m\u001b[0m\u001b[0m\n\u001b[0m",
      "\u001b[0;32m/mnt/cube/earneodo/repos/swissknife/bci/core/kwik_functions.pyc\u001b[0m in \u001b[0;36mkilo_to_kwik\u001b[0;34m(bird, sess, file_names, location)\u001b[0m\n\u001b[1;32m    394\u001b[0m         \u001b[0mmodule_logger\u001b[0m\u001b[0;34m.\u001b[0m\u001b[0mdebug\u001b[0m\u001b[0;34m(\u001b[0m\u001b[0mfile_names\u001b[0m\u001b[0;34m)\u001b[0m\u001b[0;34m\u001b[0m\u001b[0m\n\u001b[1;32m    395\u001b[0m \u001b[0;34m\u001b[0m\u001b[0m\n\u001b[0;32m--> 396\u001b[0;31m     \u001b[0mk\u001b[0m \u001b[0;34m=\u001b[0m \u001b[0mKwikFile\u001b[0m\u001b[0;34m(\u001b[0m\u001b[0mfile_names\u001b[0m\u001b[0;34m)\u001b[0m\u001b[0;34m\u001b[0m\u001b[0m\n\u001b[0m\u001b[1;32m    397\u001b[0m     \u001b[0mmodule_logger\u001b[0m\u001b[0;34m.\u001b[0m\u001b[0minfo\u001b[0m\u001b[0;34m(\u001b[0m\u001b[0;34m'Making spike tables'\u001b[0m\u001b[0;34m)\u001b[0m\u001b[0;34m\u001b[0m\u001b[0m\n\u001b[1;32m    398\u001b[0m     \u001b[0mk\u001b[0m\u001b[0;34m.\u001b[0m\u001b[0mmake_spk_tables\u001b[0m\u001b[0;34m(\u001b[0m\u001b[0;34m)\u001b[0m\u001b[0;34m\u001b[0m\u001b[0m\n",
      "\u001b[0;32m/mnt/cube/earneodo/repos/swissknife/bci/core/kwik_functions.pyc\u001b[0m in \u001b[0;36m__init__\u001b[0;34m(self, file_names, chan_group)\u001b[0m\n\u001b[1;32m    242\u001b[0m             \u001b[0mself\u001b[0m\u001b[0;34m.\u001b[0m\u001b[0mclu\u001b[0m \u001b[0;34m=\u001b[0m \u001b[0mnp\u001b[0m\u001b[0;34m.\u001b[0m\u001b[0msqueeze\u001b[0m\u001b[0;34m(\u001b[0m\u001b[0mnp\u001b[0m\u001b[0;34m.\u001b[0m\u001b[0mload\u001b[0m\u001b[0;34m(\u001b[0m\u001b[0mfile_names\u001b[0m\u001b[0;34m[\u001b[0m\u001b[0;34m'clu'\u001b[0m\u001b[0;34m]\u001b[0m\u001b[0;34m)\u001b[0m\u001b[0;34m)\u001b[0m\u001b[0;34m\u001b[0m\u001b[0m\n\u001b[1;32m    243\u001b[0m         \u001b[0;32melif\u001b[0m \u001b[0mfile_names\u001b[0m\u001b[0;34m[\u001b[0m\u001b[0;34m'temp'\u001b[0m\u001b[0;34m]\u001b[0m\u001b[0;34m:\u001b[0m\u001b[0;34m\u001b[0m\u001b[0m\n\u001b[0;32m--> 244\u001b[0;31m             \u001b[0mself\u001b[0m\u001b[0;34m.\u001b[0m\u001b[0mclu\u001b[0m \u001b[0;34m=\u001b[0m \u001b[0mnp\u001b[0m\u001b[0;34m.\u001b[0m\u001b[0msqueeze\u001b[0m\u001b[0;34m(\u001b[0m\u001b[0mnp\u001b[0m\u001b[0;34m.\u001b[0m\u001b[0mload\u001b[0m\u001b[0;34m(\u001b[0m\u001b[0mfile_names\u001b[0m\u001b[0;34m[\u001b[0m\u001b[0;34m'temp'\u001b[0m\u001b[0;34m]\u001b[0m\u001b[0;34m)\u001b[0m\u001b[0;34m)\u001b[0m\u001b[0;34m\u001b[0m\u001b[0m\n\u001b[0m\u001b[1;32m    245\u001b[0m         \u001b[0;32melse\u001b[0m\u001b[0;34m:\u001b[0m\u001b[0;34m\u001b[0m\u001b[0m\n\u001b[1;32m    246\u001b[0m             \u001b[0;32mraise\u001b[0m \u001b[0mIOError\u001b[0m\u001b[0;34m(\u001b[0m\u001b[0;34m'both spike_clusters.npy and spike_templates.npy weren\\'t found'\u001b[0m\u001b[0;34m)\u001b[0m\u001b[0;34m\u001b[0m\u001b[0m\n",
      "\u001b[0;32m/usr/local/anaconda/lib/python2.7/site-packages/numpy/lib/npyio.pyc\u001b[0m in \u001b[0;36mload\u001b[0;34m(file, mmap_mode, allow_pickle, fix_imports, encoding)\u001b[0m\n\u001b[1;32m    360\u001b[0m     \u001b[0mown_fid\u001b[0m \u001b[0;34m=\u001b[0m \u001b[0mFalse\u001b[0m\u001b[0;34m\u001b[0m\u001b[0m\n\u001b[1;32m    361\u001b[0m     \u001b[0;32mif\u001b[0m \u001b[0misinstance\u001b[0m\u001b[0;34m(\u001b[0m\u001b[0mfile\u001b[0m\u001b[0;34m,\u001b[0m \u001b[0mbasestring\u001b[0m\u001b[0;34m)\u001b[0m\u001b[0;34m:\u001b[0m\u001b[0;34m\u001b[0m\u001b[0m\n\u001b[0;32m--> 362\u001b[0;31m         \u001b[0mfid\u001b[0m \u001b[0;34m=\u001b[0m \u001b[0mopen\u001b[0m\u001b[0;34m(\u001b[0m\u001b[0mfile\u001b[0m\u001b[0;34m,\u001b[0m \u001b[0;34m\"rb\"\u001b[0m\u001b[0;34m)\u001b[0m\u001b[0;34m\u001b[0m\u001b[0m\n\u001b[0m\u001b[1;32m    363\u001b[0m         \u001b[0mown_fid\u001b[0m \u001b[0;34m=\u001b[0m \u001b[0mTrue\u001b[0m\u001b[0;34m\u001b[0m\u001b[0m\n\u001b[1;32m    364\u001b[0m     \u001b[0;32melse\u001b[0m\u001b[0;34m:\u001b[0m\u001b[0;34m\u001b[0m\u001b[0m\n",
      "\u001b[0;31mIOError\u001b[0m: [Errno 2] No such file or directory: '/mnt/cube/earneodo/bci_zf/ss_data/b1114/day-afternoon_2017-02-24_150/spike_templates.npy'"
     ]
    }
   ],
   "source": [
    "kwkf.kilo_to_kwik(bird_id, super_sess_name)"
   ]
  },
  {
   "cell_type": "code",
   "execution_count": 17,
   "metadata": {
    "collapsed": false
   },
   "outputs": [
    {
     "name": "stderr",
     "output_type": "stream",
     "text": [
      "2017-02-23 17:42:42,936 kwik_functions INFO     Creating kwik file for bird: b1114 sess: day-morning_2017-02-23_50\n"
     ]
    },
    {
     "ename": "AttributeError",
     "evalue": "'module' object has no attribute 'experiment'",
     "output_type": "error",
     "traceback": [
      "\u001b[0;31m\u001b[0m",
      "\u001b[0;31mAttributeError\u001b[0mTraceback (most recent call last)",
      "\u001b[0;32m<ipython-input-17-f1844903d415>\u001b[0m in \u001b[0;36m<module>\u001b[0;34m()\u001b[0m\n\u001b[0;32m----> 1\u001b[0;31m \u001b[0mkwf\u001b[0m\u001b[0;34m.\u001b[0m\u001b[0mkilo_to_kwik\u001b[0m\u001b[0;34m(\u001b[0m\u001b[0mbird_id\u001b[0m\u001b[0;34m,\u001b[0m \u001b[0msuper_sess_name\u001b[0m\u001b[0;34m)\u001b[0m\u001b[0;34m\u001b[0m\u001b[0m\n\u001b[0m",
      "\u001b[0;32m/mnt/cube/earneodo/repos/ephysflow/basic_viewing/structure/kwik_functions.pyc\u001b[0m in \u001b[0;36mkilo_to_kwik\u001b[0;34m(bird, sess, file_names, location)\u001b[0m\n\u001b[1;32m    378\u001b[0m             kwk='experiment.kwik')\n\u001b[1;32m    379\u001b[0m \u001b[0;34m\u001b[0m\u001b[0m\n\u001b[0;32m--> 380\u001b[0;31m     \u001b[0mfn\u001b[0m \u001b[0;34m=\u001b[0m \u001b[0mft\u001b[0m\u001b[0;34m.\u001b[0m\u001b[0mexperiment\u001b[0m\u001b[0;34m.\u001b[0m\u001b[0mfile_names\u001b[0m\u001b[0;34m(\u001b[0m\u001b[0mbird\u001b[0m\u001b[0;34m,\u001b[0m \u001b[0msess\u001b[0m\u001b[0;34m)\u001b[0m\u001b[0;34m\u001b[0m\u001b[0m\n\u001b[0m\u001b[1;32m    381\u001b[0m     \u001b[0;32mfor\u001b[0m \u001b[0mkey\u001b[0m\u001b[0;34m,\u001b[0m \u001b[0mvalue\u001b[0m \u001b[0;32min\u001b[0m \u001b[0mfile_names\u001b[0m\u001b[0;34m.\u001b[0m\u001b[0miteritems\u001b[0m\u001b[0;34m(\u001b[0m\u001b[0;34m)\u001b[0m\u001b[0;34m:\u001b[0m\u001b[0;34m\u001b[0m\u001b[0m\n\u001b[1;32m    382\u001b[0m         \u001b[0mfile_names\u001b[0m\u001b[0;34m[\u001b[0m\u001b[0mkey\u001b[0m\u001b[0;34m]\u001b[0m \u001b[0;34m=\u001b[0m \u001b[0mos\u001b[0m\u001b[0;34m.\u001b[0m\u001b[0mpath\u001b[0m\u001b[0;34m.\u001b[0m\u001b[0mjoin\u001b[0m\u001b[0;34m(\u001b[0m\u001b[0mfn\u001b[0m\u001b[0;34m[\u001b[0m\u001b[0;34m'folders'\u001b[0m\u001b[0;34m]\u001b[0m\u001b[0;34m[\u001b[0m\u001b[0mlocation\u001b[0m\u001b[0;34m]\u001b[0m\u001b[0;34m,\u001b[0m \u001b[0mvalue\u001b[0m\u001b[0;34m)\u001b[0m\u001b[0;34m\u001b[0m\u001b[0m\n",
      "\u001b[0;31mAttributeError\u001b[0m: 'module' object has no attribute 'experiment'"
     ]
    }
   ],
   "source": [
    "kwf.kilo_to_kwik(bird_id, super_sess_name)"
   ]
  },
  {
   "cell_type": "code",
   "execution_count": 73,
   "metadata": {
    "collapsed": false
   },
   "outputs": [],
   "source": [
    "from bci import stimalign as sa"
   ]
  },
  {
   "cell_type": "code",
   "execution_count": 74,
   "metadata": {
    "collapsed": true
   },
   "outputs": [],
   "source": [
    "from bci.core.file import h5_functions as h5f"
   ]
  },
  {
   "cell_type": "code",
   "execution_count": 86,
   "metadata": {
    "collapsed": false
   },
   "outputs": [
    {
     "data": {
      "text/plain": [
       "'/mnt/cube/earneodo/bci_zf/ss_data/b1114/day-singing_2017-02-23_50/experiment.raw.kwd'"
      ]
     },
     "execution_count": 86,
     "metadata": {},
     "output_type": "execute_result"
    }
   ],
   "source": [
    "# make the supersession file\n",
    "super_sess_name = 'day-' + sess_day + '_' + depth\n",
    "fn = et.file_names(bird_id, super_sess_name, 0)\n",
    "super_sess_path = fn['folders']['ss']\n",
    "super_file_path = os.path.join(super_sess_path, fn['structure']['ss_raw'])\n",
    "super_file_path"
   ]
  },
  {
   "cell_type": "code",
   "execution_count": 76,
   "metadata": {
    "collapsed": false
   },
   "outputs": [
    {
     "name": "stderr",
     "output_type": "stream",
     "text": [
      "2017-02-23 09:53:41,735 supersession INFO     searching *_100.raw.kwd\n"
     ]
    }
   ],
   "source": [
    "reload(ss)\n",
    "\n",
    "exp_list = ss.list_experiment_files(bird_id, sess_day, depth, raw_location=raw_location)"
   ]
  },
  {
   "cell_type": "code",
   "execution_count": 16,
   "metadata": {
    "collapsed": false
   },
   "outputs": [
    {
     "data": {
      "text/plain": [
       "<module 'basic_viewing.structure.kwik_functions' from 'basic_viewing/structure/kwik_functions.pyc'>"
      ]
     },
     "execution_count": 16,
     "metadata": {},
     "output_type": "execute_result"
    }
   ],
   "source": [
    "reload(kwf)"
   ]
  },
  {
   "cell_type": "code",
   "execution_count": 77,
   "metadata": {
    "collapsed": false
   },
   "outputs": [
    {
     "name": "stderr",
     "output_type": "stream",
     "text": [
      "2017-02-23 09:53:42,149 supersession INFO     searching *_100.raw.kwd\n",
      "2017-02-23 09:53:42,167 supersession INFO     Making supersession day-morning_2017-02-23_50\n",
      "2017-02-23 09:53:42,170 supersession INFO     super file path: /mnt/cube/earneodo/bci_zf/ss_data/b1114/day-morning_2017-02-23_50/experiment.raw.kwd\n",
      "2017-02-23 09:53:42,172 supersession INFO     Found 1 experiment files\n",
      "2017-02-23 09:53:42,174 bci.core.expstruct DEBUG    Creating directory /mnt/cube/earneodo/bci_zf/ss_data/b1114/day-morning_2017-02-23_50\n",
      "2017-02-23 09:53:42,183 supersession INFO     Inserting file /usr/local/experiment/raw_data/b1114/morning_2017-02-23_09-11-14_50/experiment1_100.raw.kwd\n",
      "2017-02-23 09:53:42,199 root         DEBUG    H5 file: <HDF5 file \"experiment.raw.kwd\" (mode r+)>\n"
     ]
    }
   ],
   "source": [
    "reload(ss)\n",
    "\n",
    "sess_list = ss.make_super_session(bird_id, sess_day, depth, raw_location=raw_location)"
   ]
  },
  {
   "cell_type": "code",
   "execution_count": 78,
   "metadata": {
    "collapsed": false
   },
   "outputs": [
    {
     "data": {
      "text/plain": [
       "{'archive': '/mnt/cube/earneodo/archive/bci_zf',\n",
       " 'experiment': '/mnt/cube/earneodo/bci_zf',\n",
       " 'experiment_local': '/usr/local/experiment',\n",
       " 'repos': '/mnt/cube/earneodo/repos',\n",
       " 'scratch': '/usr/local/experiment/scratchpad',\n",
       " 'store': '/Data/bci_zf'}"
      ]
     },
     "execution_count": 78,
     "metadata": {},
     "output_type": "execute_result"
    }
   ],
   "source": [
    "reload(et)\n",
    "et.get_locations()"
   ]
  },
  {
   "cell_type": "code",
   "execution_count": 79,
   "metadata": {
    "collapsed": false
   },
   "outputs": [
    {
     "name": "stderr",
     "output_type": "stream",
     "text": [
      "2017-02-23 09:54:58,101 supersession INFO     Copying data to experiment folder /mnt/cube/earneodo/bci_zf/raw_data/b1114\n",
      "2017-02-23 09:54:58,103 supersession INFO     Backup of 1 sessions in /mnt/cube/earneodo/bci_zf/raw_data/b1114\n",
      "2017-02-23 09:54:58,104 bci.core.expstruct DEBUG    Creating directory /mnt/cube/earneodo/bci_zf/raw_data/b1114\n",
      "2017-02-23 09:54:58,107 bci.core.expstruct DEBUG    Directory existed, doing nothing\n",
      "2017-02-23 09:54:58,109 supersession DEBUG    Sess morning_2017-02-23_09-11-14_50\n",
      "2017-02-23 09:55:47,174 supersession INFO     Data is not in local drive but in /usr/local/experiment/raw_data/b1114, doing nothing\n"
     ]
    }
   ],
   "source": [
    "reload(ss)\n",
    "ss.make_raw_bkp(bird_id, sess_list)"
   ]
  },
  {
   "cell_type": "code",
   "execution_count": 80,
   "metadata": {
    "collapsed": false
   },
   "outputs": [
    {
     "name": "stderr",
     "output_type": "stream",
     "text": [
      "2017-02-23 10:02:44,867 supersession INFO     Extract mic chan to wav for recs [u'0']\n",
      "2017-02-23 10:02:44,870 supersession INFO     Rec 0: /mnt/cube/earneodo/bci_zf/ss_data/b1114/day-morning_2017-02-23_50/experiment-rec_000.mic.wav\n",
      "2017-02-23 10:03:38,321 supersession INFO     Done extracting channels\n"
     ]
    }
   ],
   "source": [
    "reload(ss)\n",
    "\n",
    "ss.extract_wav_chans(bird_id, super_sess_name)"
   ]
  },
  {
   "cell_type": "code",
   "execution_count": 30,
   "metadata": {
    "collapsed": false
   },
   "outputs": [
    {
     "name": "stderr",
     "output_type": "stream",
     "text": [
      "2017-02-22 18:11:39,662 root         DEBUG    H5 file: <HDF5 file \"experiment.raw.kwd\" (mode r)>\n",
      "2017-02-22 18:11:39,664 root         DEBUG    H5 file: <HDF5 file \"experiment.raw.kwd\" (mode r)>\n",
      "2017-02-22 18:11:39,665 root         DEBUG    Getting group of rec 0\n",
      "2017-02-22 18:11:39,667 stimalign    DEBUG    Rec origin: {'rec': 0, 'sess': 'evening_2017-02-22_18-01-30_50', 'bird': 'b1114', 'structure': 'experiment1_100'}\n",
      "2017-02-22 18:11:39,717 stimalign    INFO     Done\n"
     ]
    }
   ],
   "source": [
    "sa.align_stim(bird_id, super_sess_name)"
   ]
  },
  {
   "cell_type": "code",
   "execution_count": 6,
   "metadata": {
    "collapsed": false
   },
   "outputs": [],
   "source": [
    "bkp_dest_path = os.path.join(cube_experiment_folder, 'raw_data', bird_id)\n",
    "store_dest_path = os.path.join(store_experiment_folder, 'raw_data', bird_id)"
   ]
  },
  {
   "cell_type": "code",
   "execution_count": 12,
   "metadata": {
    "collapsed": false
   },
   "outputs": [
    {
     "data": {
      "text/plain": [
       "True"
      ]
     },
     "execution_count": 12,
     "metadata": {},
     "output_type": "execute_result"
    }
   ],
   "source": [
    "os.path.split(sessions[0])[0]==bkp_dest_path"
   ]
  },
  {
   "cell_type": "code",
   "execution_count": 36,
   "metadata": {
    "collapsed": false
   },
   "outputs": [
    {
     "data": {
      "text/plain": [
       "{'folders': {'kai': '/mnt/cube/kai/results/z030/day-anesth_surface_2016-12-16_0',\n",
       "  'prb': '/mnt/cube/earneodo/bci_zf/probes',\n",
       "  'raw': '/usr/local/experiment/raw_data/z030/day-anesth_surface_2016-12-16_0',\n",
       "  'rw': '/mnt/cube/earneodo/bci_zf/raw_data/z030/day-anesth_surface_2016-12-16_0',\n",
       "  'ss': '/mnt/cube/earneodo/bci_zf/ss_data/z030/day-anesth_surface_2016-12-16_0',\n",
       "  'stim': '/mnt/cube/earneodo/bci_zf/stim_data/z030/day-anesth_surface_2016-12-16_0',\n",
       "  'templ': '/mnt/cube/earneodo/bci_zf/templates',\n",
       "  'tmp': '/usr/local/experiment/tmp_data/z030/day-anesth_surface_2016-12-16_0'},\n",
       " 'locations': {'archive': '/mnt/cube/earneodo/archive/bci_zf',\n",
       "  'experiment': '/mnt/cube/earneodo/bci_zf',\n",
       "  'experiment_local': '/usr/local/experiment',\n",
       "  'local_store': '/Data/bci_zf',\n",
       "  'repos': '/mnt/cube/earneodo/repos'},\n",
       " 'structure': {'cand': 'experiment.mot.h5',\n",
       "  'evt': 'experiment.kwe',\n",
       "  'kk_par': 'params.prm',\n",
       "  'kk_prb': '*.prb',\n",
       "  'ks_cfg': 'config.m',\n",
       "  'ks_map': 'chanMap.mat',\n",
       "  'ks_mas': 'master.m',\n",
       "  'ks_par': 'params.py',\n",
       "  'mic': 'experiment-rec_000.mic.wav',\n",
       "  'par': 'experiment.par.yml',\n",
       "  'sng': 'experiment.sng.kwe',\n",
       "  'ss_bin': 'experiment.dat',\n",
       "  'ss_par': 'experiment.par.yml',\n",
       "  'ss_raw': 'experiment.raw.kwd',\n",
       "  'stm': 'experiment.stm.kwe',\n",
       "  'structure': 'experiment',\n",
       "  'sts': 'experiment-rec_000.sts.wav'}}"
      ]
     },
     "execution_count": 36,
     "metadata": {},
     "output_type": "execute_result"
    }
   ],
   "source": [
    "fn"
   ]
  },
  {
   "cell_type": "code",
   "execution_count": 56,
   "metadata": {
    "collapsed": false
   },
   "outputs": [],
   "source": [
    "evt_fn = et.file_names(bird_id, os.path.split(sessions[0])[-1], base='experiment1')\n",
    "rec_ev_file_path = et.file_path(evt_fn, 'rw', 'evt')\n",
    "with h5py.File(rec_ev_file_path, 'r') as rec_ev_file:\n",
    "    s_l = sa.get_stims_list(rec_ev_file)"
   ]
  },
  {
   "cell_type": "code",
   "execution_count": 57,
   "metadata": {
    "collapsed": false
   },
   "outputs": [
    {
     "data": {
      "text/plain": [
       "array(['bos_rev_tag', 'bos_syn_tag', 'bos_tag'], dtype=object)"
      ]
     },
     "execution_count": 57,
     "metadata": {},
     "output_type": "execute_result"
    }
   ],
   "source": [
    "s_l"
   ]
  },
  {
   "cell_type": "code",
   "execution_count": 51,
   "metadata": {
    "collapsed": false
   },
   "outputs": [
    {
     "data": {
      "text/plain": [
       "{'folders': {'kai': '/mnt/cube/kai/results/z030/anesth_surface_2016-12-16_12-27-11_0',\n",
       "  'prb': '/mnt/cube/earneodo/bci_zf/probes',\n",
       "  'raw': '/usr/local/experiment/raw_data/z030/anesth_surface_2016-12-16_12-27-11_0',\n",
       "  'rw': '/mnt/cube/earneodo/bci_zf/raw_data/z030/anesth_surface_2016-12-16_12-27-11_0',\n",
       "  'ss': '/mnt/cube/earneodo/bci_zf/ss_data/z030/anesth_surface_2016-12-16_12-27-11_0',\n",
       "  'stim': '/mnt/cube/earneodo/bci_zf/stim_data/z030/anesth_surface_2016-12-16_12-27-11_0',\n",
       "  'templ': '/mnt/cube/earneodo/bci_zf/templates',\n",
       "  'tmp': '/usr/local/experiment/tmp_data/z030/anesth_surface_2016-12-16_12-27-11_0'},\n",
       " 'locations': {'archive': '/mnt/cube/earneodo/archive/bci_zf',\n",
       "  'experiment': '/mnt/cube/earneodo/bci_zf',\n",
       "  'experiment_local': '/usr/local/experiment',\n",
       "  'repos': '/mnt/cube/earneodo/repos',\n",
       "  'store': '/Data/bci_zf'},\n",
       " 'structure': {'cand': 'experiment1.mot.h5',\n",
       "  'evt': 'experiment1.kwe',\n",
       "  'kk_par': 'params.prm',\n",
       "  'kk_prb': '*.prb',\n",
       "  'ks_cfg': 'config.m',\n",
       "  'ks_map': 'chanMap.mat',\n",
       "  'ks_mas': 'master.m',\n",
       "  'ks_par': 'params.py',\n",
       "  'mic': 'experiment1-rec_000.mic.wav',\n",
       "  'par': 'experiment1.par.yml',\n",
       "  'sng': 'experiment1.sng.kwe',\n",
       "  'ss_bin': 'experiment1.dat',\n",
       "  'ss_par': 'experiment1.par.yml',\n",
       "  'ss_raw': 'experiment1.raw.kwd',\n",
       "  'stm': 'experiment1.stm.kwe',\n",
       "  'structure': 'experiment1',\n",
       "  'sts': 'experiment1-rec_000.sts.wav'}}"
      ]
     },
     "execution_count": 51,
     "metadata": {},
     "output_type": "execute_result"
    }
   ],
   "source": [
    "et.file_names(bird_id, os.path.split(sessions[0])[-1], base='experiment1')"
   ]
  },
  {
   "cell_type": "code",
   "execution_count": 53,
   "metadata": {
    "collapsed": false
   },
   "outputs": [
    {
     "ename": "IOError",
     "evalue": "Unable to open file (Unable to open file: name = '/mnt/cube/earneodo/bci_zf/raw_data/z030/day-anesth_surface_2016-12-16_0/experiment.kwe', errno = 2, error message = 'no such file or directory', flags = 0, o_flags = 0)",
     "output_type": "error",
     "traceback": [
      "\u001b[0;31m\u001b[0m",
      "\u001b[0;31mIOError\u001b[0mTraceback (most recent call last)",
      "\u001b[0;32m<ipython-input-53-ddd1db5d44f7>\u001b[0m in \u001b[0;36m<module>\u001b[0;34m()\u001b[0m\n\u001b[0;32m----> 1\u001b[0;31m \u001b[0;32mwith\u001b[0m \u001b[0mh5py\u001b[0m\u001b[0;34m.\u001b[0m\u001b[0mFile\u001b[0m\u001b[0;34m(\u001b[0m\u001b[0mrec_ev_file_path\u001b[0m\u001b[0;34m,\u001b[0m \u001b[0;34m'r'\u001b[0m\u001b[0;34m)\u001b[0m \u001b[0;32mas\u001b[0m \u001b[0mrec_ev_file\u001b[0m\u001b[0;34m:\u001b[0m\u001b[0;34m\u001b[0m\u001b[0m\n\u001b[0m\u001b[1;32m      2\u001b[0m     \u001b[0msa\u001b[0m\u001b[0;34m.\u001b[0m\u001b[0mget_messages\u001b[0m\u001b[0;34m(\u001b[0m\u001b[0mrec_ev_file\u001b[0m\u001b[0;34m)\u001b[0m\u001b[0;34m\u001b[0m\u001b[0m\n",
      "\u001b[0;32m/usr/local/anaconda/lib/python2.7/site-packages/h5py-2.6.0-py2.7-linux-x86_64.egg/h5py/_hl/files.pyc\u001b[0m in \u001b[0;36m__init__\u001b[0;34m(self, name, mode, driver, libver, userblock_size, swmr, **kwds)\u001b[0m\n\u001b[1;32m    269\u001b[0m \u001b[0;34m\u001b[0m\u001b[0m\n\u001b[1;32m    270\u001b[0m                 \u001b[0mfapl\u001b[0m \u001b[0;34m=\u001b[0m \u001b[0mmake_fapl\u001b[0m\u001b[0;34m(\u001b[0m\u001b[0mdriver\u001b[0m\u001b[0;34m,\u001b[0m \u001b[0mlibver\u001b[0m\u001b[0;34m,\u001b[0m \u001b[0;34m**\u001b[0m\u001b[0mkwds\u001b[0m\u001b[0;34m)\u001b[0m\u001b[0;34m\u001b[0m\u001b[0m\n\u001b[0;32m--> 271\u001b[0;31m                 \u001b[0mfid\u001b[0m \u001b[0;34m=\u001b[0m \u001b[0mmake_fid\u001b[0m\u001b[0;34m(\u001b[0m\u001b[0mname\u001b[0m\u001b[0;34m,\u001b[0m \u001b[0mmode\u001b[0m\u001b[0;34m,\u001b[0m \u001b[0muserblock_size\u001b[0m\u001b[0;34m,\u001b[0m \u001b[0mfapl\u001b[0m\u001b[0;34m,\u001b[0m \u001b[0mswmr\u001b[0m\u001b[0;34m=\u001b[0m\u001b[0mswmr\u001b[0m\u001b[0;34m)\u001b[0m\u001b[0;34m\u001b[0m\u001b[0m\n\u001b[0m\u001b[1;32m    272\u001b[0m \u001b[0;34m\u001b[0m\u001b[0m\n\u001b[1;32m    273\u001b[0m                 \u001b[0;32mif\u001b[0m \u001b[0mswmr_support\u001b[0m\u001b[0;34m:\u001b[0m\u001b[0;34m\u001b[0m\u001b[0m\n",
      "\u001b[0;32m/usr/local/anaconda/lib/python2.7/site-packages/h5py-2.6.0-py2.7-linux-x86_64.egg/h5py/_hl/files.pyc\u001b[0m in \u001b[0;36mmake_fid\u001b[0;34m(name, mode, userblock_size, fapl, fcpl, swmr)\u001b[0m\n\u001b[1;32m     99\u001b[0m         \u001b[0;32mif\u001b[0m \u001b[0mswmr\u001b[0m \u001b[0;32mand\u001b[0m \u001b[0mswmr_support\u001b[0m\u001b[0;34m:\u001b[0m\u001b[0;34m\u001b[0m\u001b[0m\n\u001b[1;32m    100\u001b[0m             \u001b[0mflags\u001b[0m \u001b[0;34m|=\u001b[0m \u001b[0mh5f\u001b[0m\u001b[0;34m.\u001b[0m\u001b[0mACC_SWMR_READ\u001b[0m\u001b[0;34m\u001b[0m\u001b[0m\n\u001b[0;32m--> 101\u001b[0;31m         \u001b[0mfid\u001b[0m \u001b[0;34m=\u001b[0m \u001b[0mh5f\u001b[0m\u001b[0;34m.\u001b[0m\u001b[0mopen\u001b[0m\u001b[0;34m(\u001b[0m\u001b[0mname\u001b[0m\u001b[0;34m,\u001b[0m \u001b[0mflags\u001b[0m\u001b[0;34m,\u001b[0m \u001b[0mfapl\u001b[0m\u001b[0;34m=\u001b[0m\u001b[0mfapl\u001b[0m\u001b[0;34m)\u001b[0m\u001b[0;34m\u001b[0m\u001b[0m\n\u001b[0m\u001b[1;32m    102\u001b[0m     \u001b[0;32melif\u001b[0m \u001b[0mmode\u001b[0m \u001b[0;34m==\u001b[0m \u001b[0;34m'r+'\u001b[0m\u001b[0;34m:\u001b[0m\u001b[0;34m\u001b[0m\u001b[0m\n\u001b[1;32m    103\u001b[0m         \u001b[0mfid\u001b[0m \u001b[0;34m=\u001b[0m \u001b[0mh5f\u001b[0m\u001b[0;34m.\u001b[0m\u001b[0mopen\u001b[0m\u001b[0;34m(\u001b[0m\u001b[0mname\u001b[0m\u001b[0;34m,\u001b[0m \u001b[0mh5f\u001b[0m\u001b[0;34m.\u001b[0m\u001b[0mACC_RDWR\u001b[0m\u001b[0;34m,\u001b[0m \u001b[0mfapl\u001b[0m\u001b[0;34m=\u001b[0m\u001b[0mfapl\u001b[0m\u001b[0;34m)\u001b[0m\u001b[0;34m\u001b[0m\u001b[0m\n",
      "\u001b[0;32mh5py/_objects.pyx\u001b[0m in \u001b[0;36mh5py._objects.with_phil.wrapper (/usr/local/src/h5py/h5py/_objects.c:2845)\u001b[0;34m()\u001b[0m\n",
      "\u001b[0;32mh5py/_objects.pyx\u001b[0m in \u001b[0;36mh5py._objects.with_phil.wrapper (/usr/local/src/h5py/h5py/_objects.c:2803)\u001b[0;34m()\u001b[0m\n",
      "\u001b[0;32mh5py/h5f.pyx\u001b[0m in \u001b[0;36mh5py.h5f.open (/usr/local/src/h5py/h5py/h5f.c:2116)\u001b[0;34m()\u001b[0m\n",
      "\u001b[0;31mIOError\u001b[0m: Unable to open file (Unable to open file: name = '/mnt/cube/earneodo/bci_zf/raw_data/z030/day-anesth_surface_2016-12-16_0/experiment.kwe', errno = 2, error message = 'no such file or directory', flags = 0, o_flags = 0)"
     ]
    }
   ],
   "source": [
    "with h5py.File(rec_ev_file_path, 'r') as rec_ev_file:\n",
    "    sa.get_messages(rec_ev_file)"
   ]
  },
  {
   "cell_type": "code",
   "execution_count": null,
   "metadata": {
    "collapsed": true
   },
   "outputs": [],
   "source": []
  }
 ],
 "metadata": {
  "anaconda-cloud": {},
  "kernelspec": {
   "display_name": "Python [default]",
   "language": "python",
   "name": "python2"
  },
  "language_info": {
   "codemirror_mode": {
    "name": "ipython",
    "version": 2
   },
   "file_extension": ".py",
   "mimetype": "text/x-python",
   "name": "python",
   "nbconvert_exporter": "python",
   "pygments_lexer": "ipython2",
   "version": "2.7.12"
  }
 },
 "nbformat": 4,
 "nbformat_minor": 0
}
