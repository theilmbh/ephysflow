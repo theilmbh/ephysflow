{
 "cells": [
  {
   "cell_type": "code",
   "execution_count": 1,
   "metadata": {
    "collapsed": false
   },
   "outputs": [
    {
     "name": "stderr",
     "output_type": "stream",
     "text": [
      "2017-03-12 12:31:36,258 root         INFO     Computer: passaro\n",
      "2017-03-12 12:31:36,682 root         INFO     All modules loaded\n"
     ]
    }
   ],
   "source": [
    "# tampering with the kwd file on passaro\n",
    "# the /experiment folder is on the ssd of passaro (/usr/local/experiment/raw_data)\n",
    "%matplotlib inline\n",
    "from __future__ import division\n",
    "import pdb\n",
    "import sys\n",
    "import pandas as pd\n",
    "import numpy as np\n",
    "import scipy.io as sio\n",
    "import matplotlib.pyplot as plt\n",
    "import matplotlib\n",
    "import scipy.signal as sg\n",
    "import math\n",
    "import scipy as sp\n",
    "import socket\n",
    "import os\n",
    "import wave\n",
    "import struct\n",
    "import h5py\n",
    "from scipy.signal import hilbert\n",
    "import glob\n",
    "import errno    \n",
    "import os\n",
    "import shutil as sh\n",
    "import yaml\n",
    "import logging\n",
    "\n",
    "logger = logging.getLogger()\n",
    "handler = logging.StreamHandler()\n",
    "formatter = logging.Formatter(\n",
    "        '%(asctime)s %(name)-12s %(levelname)-8s %(message)s')\n",
    "handler.setFormatter(formatter)\n",
    "logger.addHandler(handler)\n",
    "logger.setLevel(logging.DEBUG)\n",
    "\n",
    "# Check wihic computer to decide where the things are mounted\n",
    "comp_name=socket.gethostname()\n",
    "logger.info('Computer: ' + comp_name)\n",
    "if  comp_name == 'chim':\n",
    "    #sys.path.append('/Users/zeke/experiment/ephysDataManagement/ephysScripts')\n",
    "    experiment_folder = os.path.join(os.path.abspath('W:') , \"earneodo\", \"bci_zf\")\n",
    "elif  'lookfar' in comp_name:\n",
    "    repos_folder = os.path.abspath('/Users/zeke/reposs')\n",
    "    experiment_folder = os.path.join(os.path.abspath('/Volumes'), \n",
    "                                     'gentner', \n",
    "                                     'earneodo', \n",
    "                                     'bci_zf')\n",
    "\n",
    "elif 'lintu' in comp_name:\n",
    "    repos_folder = os.path.abspath('/mnt/cube/earneodo/repos')\n",
    "    experiment_folder = os.path.join('/mnt/cube/earneodo/bci_zf/')\n",
    "\n",
    "elif 'passaro' in comp_name:\n",
    "    repos_folder = os.path.abspath('/mnt/cube/earneodo/repos')\n",
    "    cube_experiment_folder = os.path.join('/mnt/cube/earneodo/bci_zf/')\n",
    "    store_experiment_folder = os.path.join('/Data/bci_zf/')\n",
    "    experiment_folder = os.path.join('/usr/local/experiment')\n",
    "\n",
    "sys.path.append(os.path.join(repos_folder, 'soundflow', 'sound_tools'))\n",
    "sys.path.append(os.path.join(repos_folder, 'ephysflow'))\n",
    "sys.path.append(os.path.join(repos_folder, 'swissknife'))\n",
    "\n",
    "#import soundtools as st\n",
    "from scipy.io import wavfile\n",
    "from bci.core import expstruct as et\n",
    "from bci import supersession as ss\n",
    "from bci import stimalign as sa\n",
    "\n",
    "logger.info('All modules loaded')\n",
    "\n",
    "\n",
    "\n"
   ]
  },
  {
   "cell_type": "code",
   "execution_count": 53,
   "metadata": {
    "collapsed": false,
    "scrolled": true
   },
   "outputs": [],
   "source": [
    "bird_id = 'b1114'\n",
    "sess_day = 'anesth_surface_depth_2017-03-10_16-30-53'\n",
    "depth = '450'\n",
    "raw_location = 'rw'\n",
    "# Make the super session and gather the list of sessions\n",
    "# get the sessions list of files\n",
    "raw_data_folder = et.file_names(bird_id)['folders'][raw_location]\n",
    "sessions = glob.glob(os.path.join(raw_data_folder, sess_day + '*' + str(depth)))\n",
    "day_par_file_path = os.path.join(sessions[0], et.file_names(bird_id)['structure']['par'])\n",
    "sess_par = et.get_parameters(bird_id, os.path.split(sessions[0])[-1], location=raw_location)\n",
    "super_sess_par = sess_par.copy()\n",
    "data_processor = sess_par['rec_config']['processors']['data']\n",
    "experiments = ss.list_flatten([glob.glob(os.path.join(s, '*_{}.raw.kwd'.format(data_processor)))[:] for s in sessions ])\n",
    "experiments.sort()"
   ]
  },
  {
   "cell_type": "code",
   "execution_count": 45,
   "metadata": {
    "collapsed": false
   },
   "outputs": [
    {
     "ename": "IOError",
     "evalue": "[Errno 2] No such file or directory: '/mnt/cube/earneodo/bci_zf/raw_data/b1114/anesth_surface_2017-03-10_15-02-38_1/experiment.par.yml'",
     "output_type": "error",
     "traceback": [
      "\u001b[0;31m\u001b[0m",
      "\u001b[0;31mIOError\u001b[0mTraceback (most recent call last)",
      "\u001b[0;32m<ipython-input-45-97e3bb2e9a83>\u001b[0m in \u001b[0;36m<module>\u001b[0;34m()\u001b[0m\n\u001b[1;32m      1\u001b[0m \u001b[0mreload\u001b[0m\u001b[0;34m(\u001b[0m\u001b[0mss\u001b[0m\u001b[0;34m)\u001b[0m\u001b[0;34m\u001b[0m\u001b[0m\n\u001b[0;32m----> 2\u001b[0;31m \u001b[0mss\u001b[0m\u001b[0;34m.\u001b[0m\u001b[0mprocess_awake_recording\u001b[0m\u001b[0;34m(\u001b[0m\u001b[0mbird_id\u001b[0m\u001b[0;34m,\u001b[0m \u001b[0msess_day\u001b[0m\u001b[0;34m,\u001b[0m \u001b[0mdepth\u001b[0m\u001b[0;34m,\u001b[0m \u001b[0mraw_location\u001b[0m\u001b[0;34m=\u001b[0m\u001b[0mraw_location\u001b[0m\u001b[0;34m)\u001b[0m\u001b[0;34m\u001b[0m\u001b[0m\n\u001b[0m",
      "\u001b[0;32m/mnt/cube/earneodo/repos/swissknife/bci/supersession.pyc\u001b[0m in \u001b[0;36mprocess_awake_recording\u001b[0;34m(bird_id, sess_day_id, depth, raw_location)\u001b[0m\n\u001b[1;32m    371\u001b[0m     \u001b[0mraw_data_folder\u001b[0m \u001b[0;34m=\u001b[0m \u001b[0met\u001b[0m\u001b[0;34m.\u001b[0m\u001b[0mfile_names\u001b[0m\u001b[0;34m(\u001b[0m\u001b[0mbird_id\u001b[0m\u001b[0;34m)\u001b[0m\u001b[0;34m[\u001b[0m\u001b[0;34m'folders'\u001b[0m\u001b[0;34m]\u001b[0m\u001b[0;34m[\u001b[0m\u001b[0mraw_location\u001b[0m\u001b[0;34m]\u001b[0m\u001b[0;34m\u001b[0m\u001b[0m\n\u001b[1;32m    372\u001b[0m     \u001b[0msessions\u001b[0m \u001b[0;34m=\u001b[0m \u001b[0mglob\u001b[0m\u001b[0;34m.\u001b[0m\u001b[0mglob\u001b[0m\u001b[0;34m(\u001b[0m\u001b[0mos\u001b[0m\u001b[0;34m.\u001b[0m\u001b[0mpath\u001b[0m\u001b[0;34m.\u001b[0m\u001b[0mjoin\u001b[0m\u001b[0;34m(\u001b[0m\u001b[0mraw_data_folder\u001b[0m\u001b[0;34m,\u001b[0m \u001b[0msess_day_id\u001b[0m \u001b[0;34m+\u001b[0m \u001b[0;34m'*'\u001b[0m \u001b[0;34m+\u001b[0m \u001b[0mstr\u001b[0m\u001b[0;34m(\u001b[0m\u001b[0mdepth\u001b[0m\u001b[0;34m)\u001b[0m\u001b[0;34m)\u001b[0m\u001b[0;34m)\u001b[0m\u001b[0;34m\u001b[0m\u001b[0m\n\u001b[0;32m--> 373\u001b[0;31m     \u001b[0msess_par\u001b[0m \u001b[0;34m=\u001b[0m \u001b[0met\u001b[0m\u001b[0;34m.\u001b[0m\u001b[0mget_parameters\u001b[0m\u001b[0;34m(\u001b[0m\u001b[0mbird_id\u001b[0m\u001b[0;34m,\u001b[0m \u001b[0mos\u001b[0m\u001b[0;34m.\u001b[0m\u001b[0mpath\u001b[0m\u001b[0;34m.\u001b[0m\u001b[0msplit\u001b[0m\u001b[0;34m(\u001b[0m\u001b[0msessions\u001b[0m\u001b[0;34m[\u001b[0m\u001b[0;36m0\u001b[0m\u001b[0;34m]\u001b[0m\u001b[0;34m)\u001b[0m\u001b[0;34m[\u001b[0m\u001b[0;34m-\u001b[0m\u001b[0;36m1\u001b[0m\u001b[0;34m]\u001b[0m\u001b[0;34m,\u001b[0m \u001b[0mlocation\u001b[0m\u001b[0;34m=\u001b[0m\u001b[0mraw_location\u001b[0m\u001b[0;34m)\u001b[0m\u001b[0;34m\u001b[0m\u001b[0m\n\u001b[0m\u001b[1;32m    374\u001b[0m     \u001b[0mdata_processor\u001b[0m \u001b[0;34m=\u001b[0m \u001b[0msess_par\u001b[0m\u001b[0;34m[\u001b[0m\u001b[0;34m'rec_config'\u001b[0m\u001b[0;34m]\u001b[0m\u001b[0;34m[\u001b[0m\u001b[0;34m'processors'\u001b[0m\u001b[0;34m]\u001b[0m\u001b[0;34m[\u001b[0m\u001b[0;34m'data'\u001b[0m\u001b[0;34m]\u001b[0m\u001b[0;34m\u001b[0m\u001b[0m\n\u001b[1;32m    375\u001b[0m     experiments = list_flatten(\n",
      "\u001b[0;32m/mnt/cube/earneodo/repos/swissknife/bci/core/expstruct.pyc\u001b[0m in \u001b[0;36mget_parameters\u001b[0;34m(bird, sess, rec, experiment_folder, location)\u001b[0m\n\u001b[1;32m    183\u001b[0m \u001b[0;32mdef\u001b[0m \u001b[0mget_parameters\u001b[0m\u001b[0;34m(\u001b[0m\u001b[0mbird\u001b[0m\u001b[0;34m,\u001b[0m \u001b[0msess\u001b[0m\u001b[0;34m,\u001b[0m \u001b[0mrec\u001b[0m\u001b[0;34m=\u001b[0m\u001b[0;36m0\u001b[0m\u001b[0;34m,\u001b[0m \u001b[0mexperiment_folder\u001b[0m\u001b[0;34m=\u001b[0m\u001b[0mNone\u001b[0m\u001b[0;34m,\u001b[0m \u001b[0mlocation\u001b[0m\u001b[0;34m=\u001b[0m\u001b[0;34m'ss'\u001b[0m\u001b[0;34m)\u001b[0m\u001b[0;34m:\u001b[0m\u001b[0;34m\u001b[0m\u001b[0m\n\u001b[1;32m    184\u001b[0m     \u001b[0mfn\u001b[0m \u001b[0;34m=\u001b[0m \u001b[0mfile_names\u001b[0m\u001b[0;34m(\u001b[0m\u001b[0mbird\u001b[0m\u001b[0;34m,\u001b[0m \u001b[0msess\u001b[0m\u001b[0;34m,\u001b[0m \u001b[0mrec\u001b[0m\u001b[0;34m,\u001b[0m \u001b[0mexperiment_folder\u001b[0m\u001b[0;34m=\u001b[0m\u001b[0mexperiment_folder\u001b[0m\u001b[0;34m)\u001b[0m\u001b[0;34m\u001b[0m\u001b[0m\n\u001b[0;32m--> 185\u001b[0;31m     \u001b[0;32mwith\u001b[0m \u001b[0mopen\u001b[0m\u001b[0;34m(\u001b[0m\u001b[0mos\u001b[0m\u001b[0;34m.\u001b[0m\u001b[0mpath\u001b[0m\u001b[0;34m.\u001b[0m\u001b[0mjoin\u001b[0m\u001b[0;34m(\u001b[0m\u001b[0mfn\u001b[0m\u001b[0;34m[\u001b[0m\u001b[0;34m'folders'\u001b[0m\u001b[0;34m]\u001b[0m\u001b[0;34m[\u001b[0m\u001b[0mlocation\u001b[0m\u001b[0;34m]\u001b[0m\u001b[0;34m,\u001b[0m \u001b[0mfn\u001b[0m\u001b[0;34m[\u001b[0m\u001b[0;34m'structure'\u001b[0m\u001b[0;34m]\u001b[0m\u001b[0;34m[\u001b[0m\u001b[0;34m'par'\u001b[0m\u001b[0;34m]\u001b[0m\u001b[0;34m)\u001b[0m\u001b[0;34m,\u001b[0m \u001b[0;34m'r'\u001b[0m\u001b[0;34m)\u001b[0m \u001b[0;32mas\u001b[0m \u001b[0mf\u001b[0m\u001b[0;34m:\u001b[0m\u001b[0;34m\u001b[0m\u001b[0m\n\u001b[0m\u001b[1;32m    186\u001b[0m         \u001b[0mpars\u001b[0m \u001b[0;34m=\u001b[0m \u001b[0myaml\u001b[0m\u001b[0;34m.\u001b[0m\u001b[0mload\u001b[0m\u001b[0;34m(\u001b[0m\u001b[0mf\u001b[0m\u001b[0;34m)\u001b[0m\u001b[0;34m\u001b[0m\u001b[0m\n\u001b[1;32m    187\u001b[0m     \u001b[0;32mreturn\u001b[0m \u001b[0mpars\u001b[0m\u001b[0;34m\u001b[0m\u001b[0m\n",
      "\u001b[0;31mIOError\u001b[0m: [Errno 2] No such file or directory: '/mnt/cube/earneodo/bci_zf/raw_data/b1114/anesth_surface_2017-03-10_15-02-38_1/experiment.par.yml'"
     ]
    }
   ],
   "source": [
    "reload(ss)\n",
    "ss.process_awake_recording(bird_id, sess_day, depth, raw_location=raw_location)"
   ]
  },
  {
   "cell_type": "code",
   "execution_count": 92,
   "metadata": {
    "collapsed": false
   },
   "outputs": [
    {
     "data": {
      "text/plain": [
       "True"
      ]
     },
     "execution_count": 92,
     "metadata": {},
     "output_type": "execute_result"
    }
   ],
   "source": [
    "raw_location == 'raw'"
   ]
  },
  {
   "cell_type": "code",
   "execution_count": 73,
   "metadata": {
    "collapsed": false
   },
   "outputs": [],
   "source": [
    "from bci import stimalign as sa"
   ]
  },
  {
   "cell_type": "code",
   "execution_count": 74,
   "metadata": {
    "collapsed": true
   },
   "outputs": [],
   "source": [
    "from bci.core.file import h5_functions as h5f"
   ]
  },
  {
   "cell_type": "code",
   "execution_count": 54,
   "metadata": {
    "collapsed": false
   },
   "outputs": [
    {
     "data": {
      "text/plain": [
       "'/mnt/cube/earneodo/bci_zf/ss_data/b1114/day-anesth_surface_depth_2017-03-10_16-30-53_450/experiment.raw.kwd'"
      ]
     },
     "execution_count": 54,
     "metadata": {},
     "output_type": "execute_result"
    }
   ],
   "source": [
    "# make the supersession file\n",
    "super_sess_name = 'day-' + sess_day + '_' + depth\n",
    "fn = et.file_names(bird_id, super_sess_name, 0)\n",
    "super_sess_path = fn['folders']['ss']\n",
    "super_file_path = os.path.join(super_sess_path, fn['structure']['ss_raw'])\n",
    "super_file_path"
   ]
  },
  {
   "cell_type": "code",
   "execution_count": 55,
   "metadata": {
    "collapsed": false
   },
   "outputs": [
    {
     "name": "stderr",
     "output_type": "stream",
     "text": [
      "2017-03-12 21:10:58,788 supersession INFO     searching *_100.raw.kwd\n"
     ]
    }
   ],
   "source": [
    "reload(ss)\n",
    "exp_list = ss.list_experiment_files(bird_id, sess_day, depth, raw_location=raw_location)"
   ]
  },
  {
   "cell_type": "code",
   "execution_count": 56,
   "metadata": {
    "collapsed": false
   },
   "outputs": [
    {
     "name": "stderr",
     "output_type": "stream",
     "text": [
      "2017-03-12 21:11:01,698 supersession INFO     searching *_100.raw.kwd\n",
      "2017-03-12 21:11:01,721 supersession INFO     Making supersession day-anesth_surface_depth_2017-03-10_16-30-53_450\n",
      "2017-03-12 21:11:01,722 supersession INFO     super file path: /mnt/cube/earneodo/bci_zf/ss_data/b1114/day-anesth_surface_depth_2017-03-10_16-30-53_450/experiment.raw.kwd\n",
      "2017-03-12 21:11:01,724 supersession INFO     Found 1 experiment files\n",
      "2017-03-12 21:11:01,725 bci.core.expstruct DEBUG    Creating directory /mnt/cube/earneodo/bci_zf/ss_data/b1114/day-anesth_surface_depth_2017-03-10_16-30-53_450\n",
      "2017-03-12 21:11:01,748 supersession INFO     Inserting file /mnt/cube/earneodo/bci_zf/raw_data/b1114/anesth_surface_depth_2017-03-10_16-30-53_450/experiment1_100.raw.kwd\n",
      "2017-03-12 21:11:01,773 root         DEBUG    H5 file: <HDF5 file \"experiment.raw.kwd\" (mode r+)>\n"
     ]
    }
   ],
   "source": [
    "reload(ss)\n",
    "\n",
    "sess_list = ss.make_super_session(bird_id, sess_day, depth, raw_location=raw_location)"
   ]
  },
  {
   "cell_type": "code",
   "execution_count": 57,
   "metadata": {
    "collapsed": false
   },
   "outputs": [
    {
     "data": {
      "text/plain": [
       "{'archive': '/mnt/cube/earneodo/archive/bci_zf',\n",
       " 'experiment': '/mnt/cube/earneodo/bci_zf',\n",
       " 'experiment_local': '/usr/local/experiment',\n",
       " 'repos': '/mnt/cube/earneodo/repos',\n",
       " 'scratch': '/usr/local/experiment/scratchpad',\n",
       " 'store': '/Data/bci_zf'}"
      ]
     },
     "execution_count": 57,
     "metadata": {},
     "output_type": "execute_result"
    }
   ],
   "source": [
    "reload(et)\n",
    "et.get_locations()"
   ]
  },
  {
   "cell_type": "code",
   "execution_count": 58,
   "metadata": {
    "collapsed": false
   },
   "outputs": [
    {
     "name": "stderr",
     "output_type": "stream",
     "text": [
      "2017-03-12 21:22:11,095 supersession INFO     Data is already in experiment folder /mnt/cube/earneodo/bci_zf/raw_data/b1114\n",
      "2017-03-12 21:22:11,098 supersession INFO     Data is not in local drive but in /mnt/cube/earneodo/bci_zf/raw_data/b1114, doing nothing\n"
     ]
    }
   ],
   "source": [
    "reload(ss)\n",
    "ss.make_raw_bkp(bird_id, sess_list)"
   ]
  },
  {
   "cell_type": "code",
   "execution_count": 59,
   "metadata": {
    "collapsed": false
   },
   "outputs": [
    {
     "name": "stderr",
     "output_type": "stream",
     "text": [
      "2017-03-12 21:22:11,131 supersession INFO     Extract mic chan to wav for recs [u'0']\n",
      "2017-03-12 21:22:11,134 supersession INFO     Rec 0: /mnt/cube/earneodo/bci_zf/ss_data/b1114/day-anesth_surface_depth_2017-03-10_16-30-53_450/experiment-rec_000.mic.wav\n",
      "2017-03-12 21:25:25,145 supersession INFO     Done extracting channels\n"
     ]
    }
   ],
   "source": [
    "reload(ss)\n",
    "\n",
    "ss.extract_wav_chans(bird_id, super_sess_name)"
   ]
  },
  {
   "cell_type": "code",
   "execution_count": 60,
   "metadata": {
    "collapsed": false
   },
   "outputs": [
    {
     "name": "stderr",
     "output_type": "stream",
     "text": [
      "2017-03-12 21:25:25,161 root         DEBUG    H5 file: <HDF5 file \"experiment.raw.kwd\" (mode r)>\n",
      "2017-03-12 21:25:25,163 root         DEBUG    H5 file: <HDF5 file \"experiment.raw.kwd\" (mode r)>\n",
      "2017-03-12 21:25:25,164 root         DEBUG    Getting group of rec 0\n",
      "2017-03-12 21:25:25,167 stimalign    DEBUG    Rec origin: {'rec': 0, 'sess': 'anesth_surface_depth_2017-03-10_16-30-53_450', 'bird': 'b1114', 'structure': 'experiment1_100'}\n",
      "2017-03-12 21:25:25,263 stimalign    INFO     Getting starts of stim bos01-rev_tag\n",
      "2017-03-12 21:25:25,266 root         DEBUG    H5 file: <HDF5 file \"experiment1_100.raw.kwd\" (mode r)>\n",
      "2017-03-12 21:25:25,267 root         DEBUG    Getting dataset from rec 0\n",
      "2017-03-12 21:36:49,250 stimalign    INFO     Found 75 starts\n",
      "2017-03-12 21:36:49,273 stimalign    INFO     Stored in /mnt/cube/earneodo/bci_zf/ss_data/b1114/day-anesth_surface_depth_2017-03-10_16-30-53_450/experiment.sng.kwe\n",
      "2017-03-12 21:36:49,275 stimalign    INFO     Getting starts of stim bos01_tag\n",
      "2017-03-12 21:36:49,277 root         DEBUG    H5 file: <HDF5 file \"experiment1_100.raw.kwd\" (mode r)>\n",
      "2017-03-12 21:36:49,278 root         DEBUG    Getting dataset from rec 0\n",
      "2017-03-12 21:38:41,140 stimalign    INFO     Found 75 starts\n",
      "2017-03-12 21:38:41,146 stimalign    INFO     Stored in /mnt/cube/earneodo/bci_zf/ss_data/b1114/day-anesth_surface_depth_2017-03-10_16-30-53_450/experiment.sng.kwe\n",
      "2017-03-12 21:38:41,150 stimalign    INFO     Done\n"
     ]
    }
   ],
   "source": [
    "sa.align_stim(bird_id, super_sess_name)"
   ]
  },
  {
   "cell_type": "code",
   "execution_count": 6,
   "metadata": {
    "collapsed": false
   },
   "outputs": [],
   "source": [
    "bkp_dest_path = os.path.join(cube_experiment_folder, 'raw_data', bird_id)\n",
    "store_dest_path = os.path.join(store_experiment_folder, 'raw_data', bird_id)"
   ]
  },
  {
   "cell_type": "code",
   "execution_count": 12,
   "metadata": {
    "collapsed": false
   },
   "outputs": [
    {
     "data": {
      "text/plain": [
       "True"
      ]
     },
     "execution_count": 12,
     "metadata": {},
     "output_type": "execute_result"
    }
   ],
   "source": [
    "os.path.split(sessions[0])[0]==bkp_dest_path"
   ]
  },
  {
   "cell_type": "code",
   "execution_count": 36,
   "metadata": {
    "collapsed": false
   },
   "outputs": [
    {
     "data": {
      "text/plain": [
       "{'folders': {'kai': '/mnt/cube/kai/results/z030/day-anesth_surface_2016-12-16_0',\n",
       "  'prb': '/mnt/cube/earneodo/bci_zf/probes',\n",
       "  'raw': '/usr/local/experiment/raw_data/z030/day-anesth_surface_2016-12-16_0',\n",
       "  'rw': '/mnt/cube/earneodo/bci_zf/raw_data/z030/day-anesth_surface_2016-12-16_0',\n",
       "  'ss': '/mnt/cube/earneodo/bci_zf/ss_data/z030/day-anesth_surface_2016-12-16_0',\n",
       "  'stim': '/mnt/cube/earneodo/bci_zf/stim_data/z030/day-anesth_surface_2016-12-16_0',\n",
       "  'templ': '/mnt/cube/earneodo/bci_zf/templates',\n",
       "  'tmp': '/usr/local/experiment/tmp_data/z030/day-anesth_surface_2016-12-16_0'},\n",
       " 'locations': {'archive': '/mnt/cube/earneodo/archive/bci_zf',\n",
       "  'experiment': '/mnt/cube/earneodo/bci_zf',\n",
       "  'experiment_local': '/usr/local/experiment',\n",
       "  'local_store': '/Data/bci_zf',\n",
       "  'repos': '/mnt/cube/earneodo/repos'},\n",
       " 'structure': {'cand': 'experiment.mot.h5',\n",
       "  'evt': 'experiment.kwe',\n",
       "  'kk_par': 'params.prm',\n",
       "  'kk_prb': '*.prb',\n",
       "  'ks_cfg': 'config.m',\n",
       "  'ks_map': 'chanMap.mat',\n",
       "  'ks_mas': 'master.m',\n",
       "  'ks_par': 'params.py',\n",
       "  'mic': 'experiment-rec_000.mic.wav',\n",
       "  'par': 'experiment.par.yml',\n",
       "  'sng': 'experiment.sng.kwe',\n",
       "  'ss_bin': 'experiment.dat',\n",
       "  'ss_par': 'experiment.par.yml',\n",
       "  'ss_raw': 'experiment.raw.kwd',\n",
       "  'stm': 'experiment.stm.kwe',\n",
       "  'structure': 'experiment',\n",
       "  'sts': 'experiment-rec_000.sts.wav'}}"
      ]
     },
     "execution_count": 36,
     "metadata": {},
     "output_type": "execute_result"
    }
   ],
   "source": [
    "fn"
   ]
  },
  {
   "cell_type": "code",
   "execution_count": 56,
   "metadata": {
    "collapsed": false
   },
   "outputs": [],
   "source": [
    "evt_fn = et.file_names(bird_id, os.path.split(sessions[0])[-1], base='experiment1')\n",
    "rec_ev_file_path = et.file_path(evt_fn, 'rw', 'evt')\n",
    "with h5py.File(rec_ev_file_path, 'r') as rec_ev_file:\n",
    "    s_l = sa.get_stims_list(rec_ev_file)"
   ]
  },
  {
   "cell_type": "code",
   "execution_count": 57,
   "metadata": {
    "collapsed": false
   },
   "outputs": [
    {
     "data": {
      "text/plain": [
       "array(['bos_rev_tag', 'bos_syn_tag', 'bos_tag'], dtype=object)"
      ]
     },
     "execution_count": 57,
     "metadata": {},
     "output_type": "execute_result"
    }
   ],
   "source": [
    "s_l"
   ]
  },
  {
   "cell_type": "code",
   "execution_count": 51,
   "metadata": {
    "collapsed": false
   },
   "outputs": [
    {
     "data": {
      "text/plain": [
       "{'folders': {'kai': '/mnt/cube/kai/results/z030/anesth_surface_2016-12-16_12-27-11_0',\n",
       "  'prb': '/mnt/cube/earneodo/bci_zf/probes',\n",
       "  'raw': '/usr/local/experiment/raw_data/z030/anesth_surface_2016-12-16_12-27-11_0',\n",
       "  'rw': '/mnt/cube/earneodo/bci_zf/raw_data/z030/anesth_surface_2016-12-16_12-27-11_0',\n",
       "  'ss': '/mnt/cube/earneodo/bci_zf/ss_data/z030/anesth_surface_2016-12-16_12-27-11_0',\n",
       "  'stim': '/mnt/cube/earneodo/bci_zf/stim_data/z030/anesth_surface_2016-12-16_12-27-11_0',\n",
       "  'templ': '/mnt/cube/earneodo/bci_zf/templates',\n",
       "  'tmp': '/usr/local/experiment/tmp_data/z030/anesth_surface_2016-12-16_12-27-11_0'},\n",
       " 'locations': {'archive': '/mnt/cube/earneodo/archive/bci_zf',\n",
       "  'experiment': '/mnt/cube/earneodo/bci_zf',\n",
       "  'experiment_local': '/usr/local/experiment',\n",
       "  'repos': '/mnt/cube/earneodo/repos',\n",
       "  'store': '/Data/bci_zf'},\n",
       " 'structure': {'cand': 'experiment1.mot.h5',\n",
       "  'evt': 'experiment1.kwe',\n",
       "  'kk_par': 'params.prm',\n",
       "  'kk_prb': '*.prb',\n",
       "  'ks_cfg': 'config.m',\n",
       "  'ks_map': 'chanMap.mat',\n",
       "  'ks_mas': 'master.m',\n",
       "  'ks_par': 'params.py',\n",
       "  'mic': 'experiment1-rec_000.mic.wav',\n",
       "  'par': 'experiment1.par.yml',\n",
       "  'sng': 'experiment1.sng.kwe',\n",
       "  'ss_bin': 'experiment1.dat',\n",
       "  'ss_par': 'experiment1.par.yml',\n",
       "  'ss_raw': 'experiment1.raw.kwd',\n",
       "  'stm': 'experiment1.stm.kwe',\n",
       "  'structure': 'experiment1',\n",
       "  'sts': 'experiment1-rec_000.sts.wav'}}"
      ]
     },
     "execution_count": 51,
     "metadata": {},
     "output_type": "execute_result"
    }
   ],
   "source": [
    "et.file_names(bird_id, os.path.split(sessions[0])[-1], base='experiment1')"
   ]
  },
  {
   "cell_type": "code",
   "execution_count": 53,
   "metadata": {
    "collapsed": false
   },
   "outputs": [
    {
     "ename": "IOError",
     "evalue": "Unable to open file (Unable to open file: name = '/mnt/cube/earneodo/bci_zf/raw_data/z030/day-anesth_surface_2016-12-16_0/experiment.kwe', errno = 2, error message = 'no such file or directory', flags = 0, o_flags = 0)",
     "output_type": "error",
     "traceback": [
      "\u001b[0;31m\u001b[0m",
      "\u001b[0;31mIOError\u001b[0mTraceback (most recent call last)",
      "\u001b[0;32m<ipython-input-53-ddd1db5d44f7>\u001b[0m in \u001b[0;36m<module>\u001b[0;34m()\u001b[0m\n\u001b[0;32m----> 1\u001b[0;31m \u001b[0;32mwith\u001b[0m \u001b[0mh5py\u001b[0m\u001b[0;34m.\u001b[0m\u001b[0mFile\u001b[0m\u001b[0;34m(\u001b[0m\u001b[0mrec_ev_file_path\u001b[0m\u001b[0;34m,\u001b[0m \u001b[0;34m'r'\u001b[0m\u001b[0;34m)\u001b[0m \u001b[0;32mas\u001b[0m \u001b[0mrec_ev_file\u001b[0m\u001b[0;34m:\u001b[0m\u001b[0;34m\u001b[0m\u001b[0m\n\u001b[0m\u001b[1;32m      2\u001b[0m     \u001b[0msa\u001b[0m\u001b[0;34m.\u001b[0m\u001b[0mget_messages\u001b[0m\u001b[0;34m(\u001b[0m\u001b[0mrec_ev_file\u001b[0m\u001b[0;34m)\u001b[0m\u001b[0;34m\u001b[0m\u001b[0m\n",
      "\u001b[0;32m/usr/local/anaconda/lib/python2.7/site-packages/h5py-2.6.0-py2.7-linux-x86_64.egg/h5py/_hl/files.pyc\u001b[0m in \u001b[0;36m__init__\u001b[0;34m(self, name, mode, driver, libver, userblock_size, swmr, **kwds)\u001b[0m\n\u001b[1;32m    269\u001b[0m \u001b[0;34m\u001b[0m\u001b[0m\n\u001b[1;32m    270\u001b[0m                 \u001b[0mfapl\u001b[0m \u001b[0;34m=\u001b[0m \u001b[0mmake_fapl\u001b[0m\u001b[0;34m(\u001b[0m\u001b[0mdriver\u001b[0m\u001b[0;34m,\u001b[0m \u001b[0mlibver\u001b[0m\u001b[0;34m,\u001b[0m \u001b[0;34m**\u001b[0m\u001b[0mkwds\u001b[0m\u001b[0;34m)\u001b[0m\u001b[0;34m\u001b[0m\u001b[0m\n\u001b[0;32m--> 271\u001b[0;31m                 \u001b[0mfid\u001b[0m \u001b[0;34m=\u001b[0m \u001b[0mmake_fid\u001b[0m\u001b[0;34m(\u001b[0m\u001b[0mname\u001b[0m\u001b[0;34m,\u001b[0m \u001b[0mmode\u001b[0m\u001b[0;34m,\u001b[0m \u001b[0muserblock_size\u001b[0m\u001b[0;34m,\u001b[0m \u001b[0mfapl\u001b[0m\u001b[0;34m,\u001b[0m \u001b[0mswmr\u001b[0m\u001b[0;34m=\u001b[0m\u001b[0mswmr\u001b[0m\u001b[0;34m)\u001b[0m\u001b[0;34m\u001b[0m\u001b[0m\n\u001b[0m\u001b[1;32m    272\u001b[0m \u001b[0;34m\u001b[0m\u001b[0m\n\u001b[1;32m    273\u001b[0m                 \u001b[0;32mif\u001b[0m \u001b[0mswmr_support\u001b[0m\u001b[0;34m:\u001b[0m\u001b[0;34m\u001b[0m\u001b[0m\n",
      "\u001b[0;32m/usr/local/anaconda/lib/python2.7/site-packages/h5py-2.6.0-py2.7-linux-x86_64.egg/h5py/_hl/files.pyc\u001b[0m in \u001b[0;36mmake_fid\u001b[0;34m(name, mode, userblock_size, fapl, fcpl, swmr)\u001b[0m\n\u001b[1;32m     99\u001b[0m         \u001b[0;32mif\u001b[0m \u001b[0mswmr\u001b[0m \u001b[0;32mand\u001b[0m \u001b[0mswmr_support\u001b[0m\u001b[0;34m:\u001b[0m\u001b[0;34m\u001b[0m\u001b[0m\n\u001b[1;32m    100\u001b[0m             \u001b[0mflags\u001b[0m \u001b[0;34m|=\u001b[0m \u001b[0mh5f\u001b[0m\u001b[0;34m.\u001b[0m\u001b[0mACC_SWMR_READ\u001b[0m\u001b[0;34m\u001b[0m\u001b[0m\n\u001b[0;32m--> 101\u001b[0;31m         \u001b[0mfid\u001b[0m \u001b[0;34m=\u001b[0m \u001b[0mh5f\u001b[0m\u001b[0;34m.\u001b[0m\u001b[0mopen\u001b[0m\u001b[0;34m(\u001b[0m\u001b[0mname\u001b[0m\u001b[0;34m,\u001b[0m \u001b[0mflags\u001b[0m\u001b[0;34m,\u001b[0m \u001b[0mfapl\u001b[0m\u001b[0;34m=\u001b[0m\u001b[0mfapl\u001b[0m\u001b[0;34m)\u001b[0m\u001b[0;34m\u001b[0m\u001b[0m\n\u001b[0m\u001b[1;32m    102\u001b[0m     \u001b[0;32melif\u001b[0m \u001b[0mmode\u001b[0m \u001b[0;34m==\u001b[0m \u001b[0;34m'r+'\u001b[0m\u001b[0;34m:\u001b[0m\u001b[0;34m\u001b[0m\u001b[0m\n\u001b[1;32m    103\u001b[0m         \u001b[0mfid\u001b[0m \u001b[0;34m=\u001b[0m \u001b[0mh5f\u001b[0m\u001b[0;34m.\u001b[0m\u001b[0mopen\u001b[0m\u001b[0;34m(\u001b[0m\u001b[0mname\u001b[0m\u001b[0;34m,\u001b[0m \u001b[0mh5f\u001b[0m\u001b[0;34m.\u001b[0m\u001b[0mACC_RDWR\u001b[0m\u001b[0;34m,\u001b[0m \u001b[0mfapl\u001b[0m\u001b[0;34m=\u001b[0m\u001b[0mfapl\u001b[0m\u001b[0;34m)\u001b[0m\u001b[0;34m\u001b[0m\u001b[0m\n",
      "\u001b[0;32mh5py/_objects.pyx\u001b[0m in \u001b[0;36mh5py._objects.with_phil.wrapper (/usr/local/src/h5py/h5py/_objects.c:2845)\u001b[0;34m()\u001b[0m\n",
      "\u001b[0;32mh5py/_objects.pyx\u001b[0m in \u001b[0;36mh5py._objects.with_phil.wrapper (/usr/local/src/h5py/h5py/_objects.c:2803)\u001b[0;34m()\u001b[0m\n",
      "\u001b[0;32mh5py/h5f.pyx\u001b[0m in \u001b[0;36mh5py.h5f.open (/usr/local/src/h5py/h5py/h5f.c:2116)\u001b[0;34m()\u001b[0m\n",
      "\u001b[0;31mIOError\u001b[0m: Unable to open file (Unable to open file: name = '/mnt/cube/earneodo/bci_zf/raw_data/z030/day-anesth_surface_2016-12-16_0/experiment.kwe', errno = 2, error message = 'no such file or directory', flags = 0, o_flags = 0)"
     ]
    }
   ],
   "source": [
    "with h5py.File(rec_ev_file_path, 'r') as rec_ev_file:\n",
    "    sa.get_messages(rec_ev_file)"
   ]
  },
  {
   "cell_type": "code",
   "execution_count": null,
   "metadata": {
    "collapsed": true
   },
   "outputs": [],
   "source": []
  }
 ],
 "metadata": {
  "anaconda-cloud": {},
  "kernelspec": {
   "display_name": "Python [default]",
   "language": "python",
   "name": "python2"
  },
  "language_info": {
   "codemirror_mode": {
    "name": "ipython",
    "version": 2
   },
   "file_extension": ".py",
   "mimetype": "text/x-python",
   "name": "python",
   "nbconvert_exporter": "python",
   "pygments_lexer": "ipython2",
   "version": "2.7.12"
  }
 },
 "nbformat": 4,
 "nbformat_minor": 0
}
