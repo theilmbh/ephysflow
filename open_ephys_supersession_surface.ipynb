{
 "cells": [
  {
   "cell_type": "code",
   "execution_count": 1,
   "metadata": {},
   "outputs": [
    {
     "name": "stderr",
     "output_type": "stream",
     "text": [
      "2017-05-26 10:38:18,555 root         INFO     Computer: passaro\n",
      "2017-05-26 10:38:18,584 root         INFO     All modules loaded\n"
     ]
    }
   ],
   "source": [
    "# tampering with the kwd file on passaro\n",
    "# the /experiment folder is on the ssd of passaro (/usr/local/experiment/raw_data)\n",
    "%matplotlib inline\n",
    "from __future__ import division\n",
    "import pdb\n",
    "import sys\n",
    "import pandas as pd\n",
    "import numpy as np\n",
    "import scipy.io as sio\n",
    "import matplotlib.pyplot as plt\n",
    "import matplotlib\n",
    "import scipy.signal as sg\n",
    "import math\n",
    "import scipy as sp\n",
    "import socket\n",
    "import os\n",
    "import wave\n",
    "import struct\n",
    "import h5py\n",
    "from scipy.signal import hilbert\n",
    "import glob\n",
    "import errno    \n",
    "import os\n",
    "import shutil as sh\n",
    "import yaml\n",
    "import logging\n",
    "\n",
    "logger = logging.getLogger()\n",
    "handler = logging.StreamHandler()\n",
    "formatter = logging.Formatter(\n",
    "        '%(asctime)s %(name)-12s %(levelname)-8s %(message)s')\n",
    "handler.setFormatter(formatter)\n",
    "logger.addHandler(handler)\n",
    "logger.setLevel(logging.DEBUG)\n",
    "\n",
    "# Check wihic computer to decide where the things are mounted\n",
    "comp_name=socket.gethostname()\n",
    "logger.info('Computer: ' + comp_name)\n",
    "if  comp_name == 'chim':\n",
    "    #sys.path.append('/Users/zeke/experiment/ephysDataManagement/ephysScripts')\n",
    "    experiment_folder = os.path.join(os.path.abspath('W:') , \"earneodo\", \"bci_zf\")\n",
    "elif  'lookfar' in comp_name:\n",
    "    repos_folder = os.path.abspath('/Users/zeke/reposs')\n",
    "    experiment_folder = os.path.join(os.path.abspath('/Volumes'), \n",
    "                                     'gentner', \n",
    "                                     'earneodo', \n",
    "                                     'bci_zf')\n",
    "\n",
    "elif 'lintu' in comp_name:\n",
    "    repos_folder = os.path.abspath('/mnt/cube/earneodo/repos')\n",
    "    experiment_folder = os.path.join('/mnt/cube/earneodo/bci_zf/')\n",
    "\n",
    "elif 'passaro' in comp_name:\n",
    "    repos_folder = os.path.abspath('/mnt/cube/earneodo/repos')\n",
    "    cube_experiment_folder = os.path.join('/mnt/cube/earneodo/bci_zf/')\n",
    "    store_experiment_folder = os.path.join('/Data/bci_zf/')\n",
    "    experiment_folder = os.path.join('/usr/local/experiment')\n",
    "\n",
    "sys.path.append(os.path.join(repos_folder, 'soundflow', 'sound_tools'))\n",
    "sys.path.append(os.path.join(repos_folder, 'ephysflow'))\n",
    "sys.path.append(os.path.join(repos_folder, 'swissknife'))\n",
    "\n",
    "#import soundtools as st\n",
    "from scipy.io import wavfile\n",
    "from swissknife.bci.core import expstruct as et\n",
    "from swissknife.bci import supersession as ss\n",
    "from swissknife.bci import stimalign as sa\n",
    "\n",
    "\n",
    "def process_supersession(bird_id, sess_day, depth, raw_location):\n",
    "    # make the supersession file\n",
    "    sess_list = ss.make_super_session(bird_id, sess_day, depth=depth, raw_location=raw_location)\n",
    "    # make bkp of the raw data\n",
    "    ss.make_raw_bkp(bird_id, sess_list)\n",
    "    # align the stimuli\n",
    "    super_sess_name = 'day-' + sess_day + '_' + depth\n",
    "    sa.align_stim(bird_id, super_sess_name)\n",
    "    \n",
    "logger.info('All modules loaded')"
   ]
  },
  {
   "cell_type": "code",
   "execution_count": 6,
   "metadata": {},
   "outputs": [],
   "source": [
    "bird_id = 'z034'\n",
    "sess_day = 'anesth_surface_2017-04-21'\n",
    "depth = '1'\n",
    "raw_location = 'rw'"
   ]
  },
  {
   "cell_type": "code",
   "execution_count": 7,
   "metadata": {},
   "outputs": [
    {
     "ename": "SyntaxError",
     "evalue": "invalid syntax (<ipython-input-7-19f72a69edc0>, line 1)",
     "output_type": "error",
     "traceback": [
      "\u001b[0;36m  File \u001b[0;32m\"<ipython-input-7-19f72a69edc0>\"\u001b[0;36m, line \u001b[0;32m1\u001b[0m\n\u001b[0;31m    sess_name =\u001b[0m\n\u001b[0m                ^\u001b[0m\n\u001b[0;31mSyntaxError\u001b[0m\u001b[0;31m:\u001b[0m invalid syntax\n"
     ]
    }
   ],
   "source": [
    "sess_name = "
   ]
  },
  {
   "cell_type": "code",
   "execution_count": 8,
   "metadata": {},
   "outputs": [
    {
     "name": "stdout",
     "output_type": "stream",
     "text": [
      "['anesth_surface_2017-04-21_14-50-15_1', 'anesth_surface_2017-04-21_14-07-50_0', 'anesth_surface_2017-04-21_19-00-19_5']\n",
      "['1', '0', '5']\n"
     ]
    }
   ],
   "source": [
    "all_sessions, all_depths = et.list_raw_sessions(bird_id, sess_day=sess_day, location=raw_location)\n",
    "print(all_sessions)\n",
    "print(all_depths)"
   ]
  },
  {
   "cell_type": "code",
   "execution_count": 10,
   "metadata": {},
   "outputs": [
    {
     "name": "stderr",
     "output_type": "stream",
     "text": [
      "2017-05-26 10:40:58,287 root         INFO     Processing sess anesth_surface_2017-04-21 depth 1\n",
      "2017-05-26 10:40:58,314 supersession INFO     searching *_100.raw.kwd\n",
      "2017-05-26 10:40:58,332 supersession INFO     Making supersession day-anesth_surface_2017-04-21_1\n",
      "2017-05-26 10:40:58,334 supersession INFO     super file path: /mnt/cube/earneodo/bci_zf/ss_data/z034/day-anesth_surface_2017-04-21_1/experiment.raw.kwd\n",
      "2017-05-26 10:40:58,335 supersession INFO     Found 1 experiment files\n",
      "2017-05-26 10:40:58,337 bci.core.expstruct DEBUG    Creating directory /mnt/cube/earneodo/bci_zf/ss_data/z034/day-anesth_surface_2017-04-21_1\n",
      "2017-05-26 10:40:58,349 supersession INFO     Inserting file /mnt/cube/earneodo/bci_zf/raw_data/z034/anesth_surface_2017-04-21_14-50-15_1/experiment1_100.raw.kwd\n",
      "2017-05-26 10:40:58,462 root         DEBUG    H5 file: <HDF5 file \"experiment.raw.kwd\" (mode r+)>\n"
     ]
    },
    {
     "name": "stdout",
     "output_type": "stream",
     "text": [
      "['anesth_surface_2017-04-21_14-50-15_1', 'anesth_surface_2017-04-21_14-07-50_0', 'anesth_surface_2017-04-21_19-00-19_5']\n",
      "['1', '0', '5']\n"
     ]
    },
    {
     "name": "stderr",
     "output_type": "stream",
     "text": [
      "2017-05-26 10:42:25,629 root         DEBUG    H5 file: <HDF5 file \"experiment.lfp.kwd\" (mode r+)>\n",
      "2017-05-26 10:42:25,637 supersession DEBUG    frame size 19200\n",
      "/usr/local/anaconda/lib/python2.7/site-packages/scipy/signal/signaltools.py:3398: FutureWarning:  Note: Decimate's zero_phase keyword argument will default to True in a future release. Until then, decimate defaults to one-way filtering for backwards compatibility. Ideally, always set this argument explicitly.\n",
      "  \"explicitly.\", FutureWarning)\n",
      "2017-05-26 10:42:56,681 supersession INFO     Data is already in experiment folder /mnt/cube/earneodo/bci_zf/raw_data/z034\n",
      "2017-05-26 10:42:56,683 supersession INFO     Data is not in local drive but in /mnt/cube/earneodo/bci_zf/raw_data/z034, doing nothing\n",
      "2017-05-26 10:42:56,687 root         DEBUG    H5 file: <HDF5 file \"experiment.raw.kwd\" (mode r)>\n",
      "2017-05-26 10:42:56,689 root         DEBUG    H5 file: <HDF5 file \"experiment.raw.kwd\" (mode r)>\n",
      "2017-05-26 10:42:56,690 root         DEBUG    Getting group of rec 0\n",
      "2017-05-26 10:42:56,692 stimalign    DEBUG    Rec origin: {'rec': 0, 'sess': 'anesth_surface_2017-04-21_14-50-15_1', 'bird': 'z034', 'structure': 'experiment1_100'}\n",
      "2017-05-26 10:42:56,873 stimalign    DEBUG    Stim_names: ['bos_tag' 'con_tag']\n",
      "2017-05-26 10:42:56,874 stimalign    INFO     Getting starts of stim bos_tag\n",
      "2017-05-26 10:42:56,877 root         DEBUG    H5 file: <HDF5 file \"experiment1_100.raw.kwd\" (mode r)>\n",
      "2017-05-26 10:42:56,879 root         DEBUG    Getting dataset from rec 0\n",
      "2017-05-26 10:43:00,927 stimalign    INFO     Found 75 starts\n",
      "2017-05-26 10:43:00,932 stimalign    INFO     Stored in /mnt/cube/earneodo/bci_zf/ss_data/z034/day-anesth_surface_2017-04-21_1/experiment.sng.kwe\n",
      "2017-05-26 10:43:00,936 stimalign    INFO     Getting starts of stim con_tag\n",
      "2017-05-26 10:43:00,938 root         DEBUG    H5 file: <HDF5 file \"experiment1_100.raw.kwd\" (mode r)>\n",
      "2017-05-26 10:43:00,939 root         DEBUG    Getting dataset from rec 0\n",
      "2017-05-26 10:43:02,219 stimalign    INFO     Found 75 starts\n",
      "2017-05-26 10:43:02,222 stimalign    INFO     Stored in /mnt/cube/earneodo/bci_zf/ss_data/z034/day-anesth_surface_2017-04-21_1/experiment.sng.kwe\n",
      "2017-05-26 10:43:02,225 stimalign    INFO     Done\n",
      "2017-05-26 10:43:02,226 root         INFO     Processing sess anesth_surface_2017-04-21 depth 0\n",
      "2017-05-26 10:43:02,237 supersession INFO     searching *_100.raw.kwd\n",
      "2017-05-26 10:43:02,244 supersession INFO     Making supersession day-anesth_surface_2017-04-21_0\n",
      "2017-05-26 10:43:02,245 supersession INFO     super file path: /mnt/cube/earneodo/bci_zf/ss_data/z034/day-anesth_surface_2017-04-21_0/experiment.raw.kwd\n",
      "2017-05-26 10:43:02,246 supersession INFO     Found 1 experiment files\n",
      "2017-05-26 10:43:02,247 bci.core.expstruct DEBUG    Creating directory /mnt/cube/earneodo/bci_zf/ss_data/z034/day-anesth_surface_2017-04-21_0\n",
      "2017-05-26 10:43:02,255 supersession INFO     Inserting file /mnt/cube/earneodo/bci_zf/raw_data/z034/anesth_surface_2017-04-21_14-07-50_0/experiment1_100.raw.kwd\n",
      "2017-05-26 10:43:02,360 root         DEBUG    H5 file: <HDF5 file \"experiment.raw.kwd\" (mode r+)>\n",
      "2017-05-26 10:44:55,229 root         DEBUG    H5 file: <HDF5 file \"experiment.lfp.kwd\" (mode r+)>\n",
      "2017-05-26 10:44:55,234 supersession DEBUG    frame size 19200\n",
      "2017-05-26 10:45:33,091 supersession INFO     Data is already in experiment folder /mnt/cube/earneodo/bci_zf/raw_data/z034\n",
      "2017-05-26 10:45:33,093 supersession INFO     Data is not in local drive but in /mnt/cube/earneodo/bci_zf/raw_data/z034, doing nothing\n",
      "2017-05-26 10:45:33,098 root         DEBUG    H5 file: <HDF5 file \"experiment.raw.kwd\" (mode r)>\n",
      "2017-05-26 10:45:33,099 root         DEBUG    H5 file: <HDF5 file \"experiment.raw.kwd\" (mode r)>\n",
      "2017-05-26 10:45:33,100 root         DEBUG    Getting group of rec 0\n",
      "2017-05-26 10:45:33,102 stimalign    DEBUG    Rec origin: {'rec': 0, 'sess': 'anesth_surface_2017-04-21_14-07-50_0', 'bird': 'z034', 'structure': 'experiment1_100'}\n",
      "2017-05-26 10:45:33,294 stimalign    DEBUG    Stim_names: ['bos_rev_tag' 'bos_tag']\n",
      "2017-05-26 10:45:33,295 stimalign    INFO     Getting starts of stim bos_rev_tag\n",
      "2017-05-26 10:45:33,298 root         DEBUG    H5 file: <HDF5 file \"experiment1_100.raw.kwd\" (mode r)>\n",
      "2017-05-26 10:45:33,299 root         DEBUG    Getting dataset from rec 0\n",
      "2017-05-26 10:45:35,005 stimalign    INFO     Found 100 starts\n",
      "2017-05-26 10:45:35,008 stimalign    INFO     Stored in /mnt/cube/earneodo/bci_zf/ss_data/z034/day-anesth_surface_2017-04-21_0/experiment.sng.kwe\n",
      "2017-05-26 10:45:35,011 stimalign    INFO     Getting starts of stim bos_tag\n",
      "2017-05-26 10:45:35,013 root         DEBUG    H5 file: <HDF5 file \"experiment1_100.raw.kwd\" (mode r)>\n",
      "2017-05-26 10:45:35,015 root         DEBUG    Getting dataset from rec 0\n",
      "2017-05-26 10:45:40,265 stimalign    INFO     Found 100 starts\n",
      "2017-05-26 10:45:40,267 stimalign    INFO     Stored in /mnt/cube/earneodo/bci_zf/ss_data/z034/day-anesth_surface_2017-04-21_0/experiment.sng.kwe\n",
      "2017-05-26 10:45:40,270 stimalign    INFO     Done\n",
      "2017-05-26 10:45:40,271 root         INFO     Processing sess anesth_surface_2017-04-21 depth 5\n",
      "2017-05-26 10:45:40,300 supersession INFO     searching *_100.raw.kwd\n",
      "2017-05-26 10:45:40,318 supersession INFO     Making supersession day-anesth_surface_2017-04-21_5\n",
      "2017-05-26 10:45:40,320 supersession INFO     super file path: /mnt/cube/earneodo/bci_zf/ss_data/z034/day-anesth_surface_2017-04-21_5/experiment.raw.kwd\n",
      "2017-05-26 10:45:40,321 supersession INFO     Found 1 experiment files\n",
      "2017-05-26 10:45:40,322 bci.core.expstruct DEBUG    Creating directory /mnt/cube/earneodo/bci_zf/ss_data/z034/day-anesth_surface_2017-04-21_5\n",
      "2017-05-26 10:45:40,332 supersession INFO     Inserting file /mnt/cube/earneodo/bci_zf/raw_data/z034/anesth_surface_2017-04-21_19-00-19_5/experiment1_100.raw.kwd\n",
      "2017-05-26 10:45:40,415 root         DEBUG    H5 file: <HDF5 file \"experiment.raw.kwd\" (mode r+)>\n",
      "2017-05-26 10:47:02,861 root         DEBUG    H5 file: <HDF5 file \"experiment.lfp.kwd\" (mode r+)>\n",
      "2017-05-26 10:47:02,867 supersession DEBUG    frame size 19200\n",
      "2017-05-26 10:47:30,585 supersession INFO     Data is already in experiment folder /mnt/cube/earneodo/bci_zf/raw_data/z034\n",
      "2017-05-26 10:47:30,586 supersession INFO     Data is not in local drive but in /mnt/cube/earneodo/bci_zf/raw_data/z034, doing nothing\n",
      "2017-05-26 10:47:30,591 root         DEBUG    H5 file: <HDF5 file \"experiment.raw.kwd\" (mode r)>\n",
      "2017-05-26 10:47:30,592 root         DEBUG    H5 file: <HDF5 file \"experiment.raw.kwd\" (mode r)>\n",
      "2017-05-26 10:47:30,594 root         DEBUG    Getting group of rec 0\n",
      "2017-05-26 10:47:30,595 stimalign    DEBUG    Rec origin: {'rec': 0, 'sess': 'anesth_surface_2017-04-21_19-00-19_5', 'bird': 'z034', 'structure': 'experiment1_100'}\n",
      "2017-05-26 10:47:30,697 stimalign    DEBUG    Stim_names: ['bos_rev_tag' 'bos_tag']\n",
      "2017-05-26 10:47:30,699 stimalign    INFO     Getting starts of stim bos_rev_tag\n",
      "2017-05-26 10:47:30,702 root         DEBUG    H5 file: <HDF5 file \"experiment1_100.raw.kwd\" (mode r)>\n",
      "2017-05-26 10:47:30,703 root         DEBUG    Getting dataset from rec 0\n",
      "2017-05-26 10:47:32,084 stimalign    INFO     Found 75 starts\n",
      "2017-05-26 10:47:32,089 stimalign    INFO     Stored in /mnt/cube/earneodo/bci_zf/ss_data/z034/day-anesth_surface_2017-04-21_5/experiment.sng.kwe\n",
      "2017-05-26 10:47:32,092 stimalign    INFO     Getting starts of stim bos_tag\n",
      "2017-05-26 10:47:32,094 root         DEBUG    H5 file: <HDF5 file \"experiment1_100.raw.kwd\" (mode r)>\n",
      "2017-05-26 10:47:32,094 root         DEBUG    Getting dataset from rec 0\n",
      "2017-05-26 10:47:35,925 stimalign    INFO     Found 75 starts\n",
      "2017-05-26 10:47:35,929 stimalign    INFO     Stored in /mnt/cube/earneodo/bci_zf/ss_data/z034/day-anesth_surface_2017-04-21_5/experiment.sng.kwe\n",
      "2017-05-26 10:47:35,932 stimalign    INFO     Done\n"
     ]
    }
   ],
   "source": [
    "reload(ss)\n",
    "all_sessions, all_depths = et.list_raw_sessions(bird_id, sess_day=sess_day, location=raw_location)\n",
    "print(all_sessions)\n",
    "print(all_depths)\n",
    "\n",
    "for d in all_depths:\n",
    "    logger.info('Processing sess {0} depth {1}'.format(sess_day, d))\n",
    "    process_supersession(bird_id, sess_day, d, raw_location)"
   ]
  },
  {
   "cell_type": "code",
   "execution_count": null,
   "metadata": {
    "collapsed": true
   },
   "outputs": [],
   "source": []
  }
 ],
 "metadata": {
  "anaconda-cloud": {},
  "kernelspec": {
   "display_name": "Python [default]",
   "language": "python",
   "name": "python2"
  },
  "language_info": {
   "codemirror_mode": {
    "name": "ipython",
    "version": 2
   },
   "file_extension": ".py",
   "mimetype": "text/x-python",
   "name": "python",
   "nbconvert_exporter": "python",
   "pygments_lexer": "ipython2",
   "version": "2.7.13"
  }
 },
 "nbformat": 4,
 "nbformat_minor": 1
}
