{
 "metadata": {
  "name": "state_machine-Copy1"
 },
 "nbformat": 3,
 "nbformat_minor": 0,
 "worksheets": [
  {
   "cells": [
    {
     "cell_type": "code",
     "collapsed": false,
     "input": [
      "\"\"\"PyAudio Example: Play a wave file (callback version)\"\"\"\n",
      "import pyaudio\n",
      "import wave\n",
      "import time\n",
      "import sys\n",
      "import os\n",
      "import zmq\n",
      "import serial\n",
      "import struct\n",
      "import Adafruit_BBIO.GPIO as GPIO\n",
      "import Adafruit_BBIO.UART as UART\n"
     ],
     "language": "python",
     "metadata": {},
     "outputs": [],
     "prompt_number": 1
    },
    {
     "cell_type": "code",
     "collapsed": false,
     "input": [
      "# Classes and functions\n",
      "\n",
      "class WavPlayer():\n",
      "    def __init__(self, pin = \"P8_10\"):\n",
      "        \n",
      "        self.pin = pin\n",
      "        self.pa = pyaudio.PyAudio()\n",
      "        self.wf = None\n",
      "        self.played = False\n",
      "    \n",
      "        # init the pins\n",
      "        GPIO.setup(self.pin, GPIO.OUT)\n",
      "        GPIO.output(self.pin, GPIO.LOW)\n",
      "    \n",
      "    \n",
      "    def play_callback(self, in_data, frame_count, time_info, status):\n",
      "        data = self.wf.readframes(frame_count)\n",
      "        #if not self.played:\n",
      "        #    self.played = True\n",
      "        #    GPIO.output(self.pin, GPIO.HIGH)\n",
      "        return (data, pyaudio.paContinue)\n",
      "        \n",
      "    \n",
      "    def play_file(self, wave_file_path):\n",
      "        self.wf = wave.open(wave_file_path, 'rb')\n",
      "        stream = self.pa.open(format=self.pa.get_format_from_width(self.wf.getsampwidth()),\n",
      "                channels=self.wf.getnchannels(),\n",
      "                rate=self.wf.getframerate(),\n",
      "                output=True,\n",
      "                stream_callback=self.play_callback)\n",
      "        \n",
      "        GPIO.output(self.pin, GPIO.HIGH)\n",
      "        stream.start_stream()\n",
      "        \n",
      "        while stream.is_active():\n",
      "            #time.sleep(0.1)\n",
      "            pass\n",
      "        GPIO.output(self.pin, GPIO.LOW)\n",
      "        time.sleep(0.1)\n",
      "        stream.stop_stream()\n",
      "        stream.close()\n",
      "        self.flush_file()\n",
      "    \n",
      "    \n",
      "    def flush_file(self):\n",
      "        self.wf = None\n",
      "        self.played = False\n",
      "        \n",
      "class SerialOutput():\n",
      "    def __init__(self, uart=\"UART1\", port=\"/dev/ttyO1\", baudrate=300):\n",
      "        self.uart = uart\n",
      "        self.port = port\n",
      "        self.baudrate = baudrate\n",
      "        UART.setup(uart)\n",
      "        self.serial = serial.Serial(port=port, baudrate=self.baudrate)\n",
      "    \n",
      "    def open_out(self):\n",
      "        self.serial.close()\n",
      "        self.serial.open()\n",
      "        if self.serial.isOpen():\n",
      "            print \"Serial is open!\"\n",
      "    \n",
      "    def close(self):\n",
      "        self.serial.close()\n",
      "    \n",
      "    def write_number(self, number, dtype='L'):\n",
      "        self.serial.write(struct.pack(dtype, number))\n",
      "    \n",
      "\n",
      "# receives a line and turns it into a dictionary\n",
      "# the line has one word for the command and n pairs that go to key, value (separator is space)\n",
      "def parse_command(cmd_str):\n",
      "    split_cmd = cmd_str.split(' ')\n",
      "    assert(len(split_cmd)%2)\n",
      "    cmd_par = {split_cmd[i] : split_cmd[i+1] for i in range(1, len(split_cmd), 2)}\n",
      "    cmd = split_cmd[0]\n",
      "    return cmd, cmd_par\n",
      "\n",
      "def execute_command(cmd, pars):\n",
      "    command = command_functions[cmd]\n",
      "    response = command(pars)\n",
      "    return response\n",
      "    \n",
      "\n",
      "    \n",
      "\n",
      "    "
     ],
     "language": "python",
     "metadata": {},
     "outputs": [],
     "prompt_number": 2
    },
    {
     "cell_type": "code",
     "collapsed": false,
     "input": [
      "# tryout\n",
      "# start the wave player\n",
      "wp = WavPlayer()\n",
      "so = SerialOutput()\n",
      "\n",
      "def run_trial(trial_pars):\n",
      "    #for now the trial is just playing a sound file\n",
      "    # read the parameters\n",
      "    wavefile_path = trial_pars['stim_file']\n",
      "    trial_number = int(float(trial_pars['number']))\n",
      "    \n",
      "    # do the deed\n",
      "    so.write_number(trial_number)\n",
      "    time.sleep(0.5)\n",
      "    wp.play_file(wavefile_path)\n",
      "    return 'played'\n",
      "\n",
      "def init_board(init_pars):\n",
      "    # init the board, the pins, and everything\n",
      "    #GPIO.setup(self.pin, GPIO.OUT)\n",
      "    return 'ok'\n",
      "\n",
      "command_functions = {'trial' : run_trial, 'init' : init_board}\n",
      "\n",
      "wave_file = os.path.abspath('/root/experiment/stim/audiocheck.net_sin_1000Hz_-3dBFS_3s.wav')\n",
      "\n",
      "cmd_line = 'trial type passive number 3 stim_file ' + wave_file\n",
      "p_cmd, p_cmd_par = parse_command(cmd_line)\n",
      "\n",
      "response = execute_command(p_cmd, p_cmd_par)"
     ],
     "language": "python",
     "metadata": {},
     "outputs": [],
     "prompt_number": 3
    },
    {
     "cell_type": "code",
     "collapsed": false,
     "input": [
      "command_functions = {'trial' : run_trial, 'init' : init_board}\n",
      "\n",
      "# Configuration of Pins\n",
      "pin_audio = \"P8_10\"\n",
      "port = \"5556\"\n",
      "wave_file = os.path.abspath('/root/experiment/stim/audiocheck.net_sin_1000Hz_-3dBFS_3s.wav')\n",
      "\n",
      "# start the wave player\n",
      "wp = WavPlayer(pin = pin_audio)\n",
      "\n",
      "# a very simple server that waits for commands\n",
      "context = zmq.Context()\n",
      "socket = context.socket(zmq.REP)\n",
      "socket.bind(\"tcp://*:%s\" % port)\n",
      "\n",
      "while True:\n",
      "    # Wait for next request from client\n",
      "    command = socket.recv()\n",
      "    print \"Received request: \" + command\n",
      "    \n",
      "    cmd, cmd_par = parse_command(command)\n",
      "    response = execute_command(cmd, cmd_par)\n",
      "    time.sleep(1) \n",
      "    socket.send(\"%s from %s\" % (response, port))\n",
      "    \n"
     ],
     "language": "python",
     "metadata": {},
     "outputs": [
      {
       "output_type": "stream",
       "stream": "stdout",
       "text": [
        "Received request: trial type passive number 0 stim_file /root/experiment/stim/audiocheck.net_sin_1000Hz_-3dBFS_3s.wav\n",
        "Received request: trial type passive number 1 stim_file /root/experiment/stim/audiocheck.net_sin_1000Hz_-3dBFS_3s.wav"
       ]
      },
      {
       "output_type": "stream",
       "stream": "stdout",
       "text": [
        "\n",
        "Received request: trial type passive number 2 stim_file /root/experiment/stim/audiocheck.net_sin_1000Hz_-3dBFS_3s.wav"
       ]
      },
      {
       "output_type": "stream",
       "stream": "stdout",
       "text": [
        "\n",
        "Received request: trial type passive number 3 stim_file /root/experiment/stim/audiocheck.net_sin_1000Hz_-3dBFS_3s.wav"
       ]
      },
      {
       "output_type": "stream",
       "stream": "stdout",
       "text": [
        "\n",
        "Received request: trial type passive number 4 stim_file /root/experiment/stim/audiocheck.net_sin_1000Hz_-3dBFS_3s.wav"
       ]
      },
      {
       "output_type": "stream",
       "stream": "stdout",
       "text": [
        "\n",
        "Received request: trial type passive number 0 stim_file /root/experiment/stim/audiocheck.net_sin_1000Hz_-3dBFS_3s.wav"
       ]
      },
      {
       "output_type": "stream",
       "stream": "stdout",
       "text": [
        "\n",
        "Received request: trial type passive number 1 stim_file /root/experiment/stim/audiocheck.net_sin_1000Hz_-3dBFS_3s.wav"
       ]
      },
      {
       "output_type": "stream",
       "stream": "stdout",
       "text": [
        "\n",
        "Received request: trial type passive number 2 stim_file /root/experiment/stim/audiocheck.net_sin_1000Hz_-3dBFS_3s.wav"
       ]
      },
      {
       "output_type": "stream",
       "stream": "stdout",
       "text": [
        "\n",
        "Received request: trial type passive number 3 stim_file /root/experiment/stim/audiocheck.net_sin_1000Hz_-3dBFS_3s.wav"
       ]
      },
      {
       "output_type": "stream",
       "stream": "stdout",
       "text": [
        "\n",
        "Received request: trial type passive number 4 stim_file /root/experiment/stim/audiocheck.net_sin_1000Hz_-3dBFS_3s.wav"
       ]
      },
      {
       "output_type": "stream",
       "stream": "stdout",
       "text": [
        "\n",
        "Received request: trial type passive number 0 stim_file /root/experiment/stim/audiocheck.net_sin_1000Hz_-3dBFS_3s.wav"
       ]
      },
      {
       "output_type": "stream",
       "stream": "stdout",
       "text": [
        "\n",
        "Received request: trial type passive number 1 stim_file /root/experiment/stim/audiocheck.net_sin_1000Hz_-3dBFS_3s.wav"
       ]
      },
      {
       "output_type": "stream",
       "stream": "stdout",
       "text": [
        "\n",
        "Received request: trial type passive number 2 stim_file /root/experiment/stim/audiocheck.net_sin_1000Hz_-3dBFS_3s.wav"
       ]
      },
      {
       "output_type": "stream",
       "stream": "stdout",
       "text": [
        "\n",
        "Received request: trial type passive number 3 stim_file /root/experiment/stim/audiocheck.net_sin_1000Hz_-3dBFS_3s.wav"
       ]
      },
      {
       "output_type": "stream",
       "stream": "stdout",
       "text": [
        "\n",
        "Received request: trial type passive number 4 stim_file /root/experiment/stim/audiocheck.net_sin_1000Hz_-3dBFS_3s.wav"
       ]
      },
      {
       "output_type": "stream",
       "stream": "stdout",
       "text": [
        "\n",
        "Received request: trial type passive number 0 stim_file /root/experiment/stim/audiocheck.net_sin_1000Hz_-3dBFS_3s.wav"
       ]
      },
      {
       "output_type": "stream",
       "stream": "stdout",
       "text": [
        "\n",
        "Received request: trial type passive number 1 stim_file /root/experiment/stim/audiocheck.net_sin_1000Hz_-3dBFS_3s.wav"
       ]
      },
      {
       "output_type": "stream",
       "stream": "stdout",
       "text": [
        "\n",
        "Received request: trial type passive number 2 stim_file /root/experiment/stim/audiocheck.net_sin_1000Hz_-3dBFS_3s.wav"
       ]
      },
      {
       "output_type": "stream",
       "stream": "stdout",
       "text": [
        "\n",
        "Received request: trial type passive number 3 stim_file /root/experiment/stim/audiocheck.net_sin_1000Hz_-3dBFS_3s.wav"
       ]
      },
      {
       "output_type": "stream",
       "stream": "stdout",
       "text": [
        "\n",
        "Received request: trial type passive number 4 stim_file /root/experiment/stim/audiocheck.net_sin_1000Hz_-3dBFS_3s.wav"
       ]
      },
      {
       "output_type": "stream",
       "stream": "stdout",
       "text": [
        "\n",
        "Received request: trial type passive number 0 stim_file /root/experiment/stim/audiocheck.net_sin_1000Hz_-3dBFS_3s.wav"
       ]
      },
      {
       "output_type": "stream",
       "stream": "stdout",
       "text": [
        "\n",
        "Received request: trial type passive number 1 stim_file /root/experiment/stim/audiocheck.net_sin_1000Hz_-3dBFS_3s.wav"
       ]
      },
      {
       "output_type": "stream",
       "stream": "stdout",
       "text": [
        "\n",
        "Received request: trial type passive number 2 stim_file /root/experiment/stim/audiocheck.net_sin_1000Hz_-3dBFS_3s.wav"
       ]
      },
      {
       "output_type": "stream",
       "stream": "stdout",
       "text": [
        "\n",
        "Received request: trial type passive number 3 stim_file /root/experiment/stim/audiocheck.net_sin_1000Hz_-3dBFS_3s.wav"
       ]
      },
      {
       "output_type": "stream",
       "stream": "stdout",
       "text": [
        "\n",
        "Received request: trial type passive number 4 stim_file /root/experiment/stim/audiocheck.net_sin_1000Hz_-3dBFS_3s.wav"
       ]
      },
      {
       "output_type": "stream",
       "stream": "stdout",
       "text": [
        "\n",
        "Received request: trial type passive number 5 stim_file /root/experiment/stim/audiocheck.net_sin_1000Hz_-3dBFS_3s.wav"
       ]
      },
      {
       "output_type": "stream",
       "stream": "stdout",
       "text": [
        "\n",
        "Received request: trial type passive number 6 stim_file /root/experiment/stim/audiocheck.net_sin_1000Hz_-3dBFS_3s.wav"
       ]
      },
      {
       "output_type": "stream",
       "stream": "stdout",
       "text": [
        "\n",
        "Received request: trial type passive number 7 stim_file /root/experiment/stim/audiocheck.net_sin_1000Hz_-3dBFS_3s.wav"
       ]
      },
      {
       "output_type": "stream",
       "stream": "stdout",
       "text": [
        "\n",
        "Received request: trial type passive number 8 stim_file /root/experiment/stim/audiocheck.net_sin_1000Hz_-3dBFS_3s.wav"
       ]
      },
      {
       "output_type": "stream",
       "stream": "stdout",
       "text": [
        "\n",
        "Received request: trial type passive number 9 stim_file /root/experiment/stim/audiocheck.net_sin_1000Hz_-3dBFS_3s.wav"
       ]
      },
      {
       "output_type": "stream",
       "stream": "stdout",
       "text": [
        "\n",
        "Received request: trial type passive number 10 stim_file /root/experiment/stim/audiocheck.net_sin_1000Hz_-3dBFS_3s.wav"
       ]
      },
      {
       "output_type": "stream",
       "stream": "stdout",
       "text": [
        "\n",
        "Received request: trial type passive number 11 stim_file /root/experiment/stim/audiocheck.net_sin_1000Hz_-3dBFS_3s.wav"
       ]
      },
      {
       "output_type": "stream",
       "stream": "stdout",
       "text": [
        "\n",
        "Received request: trial type passive number 12 stim_file /root/experiment/stim/audiocheck.net_sin_1000Hz_-3dBFS_3s.wav"
       ]
      },
      {
       "output_type": "stream",
       "stream": "stdout",
       "text": [
        "\n",
        "Received request: trial type passive number 13 stim_file /root/experiment/stim/audiocheck.net_sin_1000Hz_-3dBFS_3s.wav"
       ]
      },
      {
       "output_type": "stream",
       "stream": "stdout",
       "text": [
        "\n",
        "Received request: trial type passive number 14 stim_file /root/experiment/stim/audiocheck.net_sin_1000Hz_-3dBFS_3s.wav"
       ]
      },
      {
       "output_type": "stream",
       "stream": "stdout",
       "text": [
        "\n",
        "Received request: trial type passive number 15 stim_file /root/experiment/stim/audiocheck.net_sin_1000Hz_-3dBFS_3s.wav"
       ]
      },
      {
       "output_type": "stream",
       "stream": "stdout",
       "text": [
        "\n",
        "Received request: trial type passive number 16 stim_file /root/experiment/stim/audiocheck.net_sin_1000Hz_-3dBFS_3s.wav"
       ]
      },
      {
       "output_type": "stream",
       "stream": "stdout",
       "text": [
        "\n",
        "Received request: trial type passive number 17 stim_file /root/experiment/stim/audiocheck.net_sin_1000Hz_-3dBFS_3s.wav"
       ]
      },
      {
       "output_type": "stream",
       "stream": "stdout",
       "text": [
        "\n",
        "Received request: trial type passive number 18 stim_file /root/experiment/stim/audiocheck.net_sin_1000Hz_-3dBFS_3s.wav"
       ]
      },
      {
       "output_type": "stream",
       "stream": "stdout",
       "text": [
        "\n",
        "Received request: trial type passive number 19 stim_file /root/experiment/stim/audiocheck.net_sin_1000Hz_-3dBFS_3s.wav"
       ]
      },
      {
       "output_type": "stream",
       "stream": "stdout",
       "text": [
        "\n",
        "Received request: trial type passive number 20 stim_file /root/experiment/stim/audiocheck.net_sin_1000Hz_-3dBFS_3s.wav"
       ]
      },
      {
       "output_type": "stream",
       "stream": "stdout",
       "text": [
        "\n",
        "Received request: trial type passive number 21 stim_file /root/experiment/stim/audiocheck.net_sin_1000Hz_-3dBFS_3s.wav"
       ]
      },
      {
       "output_type": "stream",
       "stream": "stdout",
       "text": [
        "\n",
        "Received request: trial type passive number 22 stim_file /root/experiment/stim/audiocheck.net_sin_1000Hz_-3dBFS_3s.wav"
       ]
      },
      {
       "output_type": "stream",
       "stream": "stdout",
       "text": [
        "\n",
        "Received request: trial type passive number 23 stim_file /root/experiment/stim/audiocheck.net_sin_1000Hz_-3dBFS_3s.wav"
       ]
      },
      {
       "output_type": "stream",
       "stream": "stdout",
       "text": [
        "\n",
        "Received request: trial type passive number 24 stim_file /root/experiment/stim/audiocheck.net_sin_1000Hz_-3dBFS_3s.wav"
       ]
      },
      {
       "output_type": "stream",
       "stream": "stdout",
       "text": [
        "\n",
        "Received request: trial type passive number 25 stim_file /root/experiment/stim/audiocheck.net_sin_1000Hz_-3dBFS_3s.wav"
       ]
      },
      {
       "output_type": "stream",
       "stream": "stdout",
       "text": [
        "\n",
        "Received request: trial type passive number 26 stim_file /root/experiment/stim/audiocheck.net_sin_1000Hz_-3dBFS_3s.wav"
       ]
      },
      {
       "output_type": "stream",
       "stream": "stdout",
       "text": [
        "\n",
        "Received request: trial type passive number 27 stim_file /root/experiment/stim/audiocheck.net_sin_1000Hz_-3dBFS_3s.wav"
       ]
      },
      {
       "output_type": "stream",
       "stream": "stdout",
       "text": [
        "\n",
        "Received request: trial type passive number 28 stim_file /root/experiment/stim/audiocheck.net_sin_1000Hz_-3dBFS_3s.wav"
       ]
      },
      {
       "output_type": "stream",
       "stream": "stdout",
       "text": [
        "\n",
        "Received request: trial type passive number 29 stim_file /root/experiment/stim/audiocheck.net_sin_1000Hz_-3dBFS_3s.wav"
       ]
      },
      {
       "output_type": "stream",
       "stream": "stdout",
       "text": [
        "\n",
        "Received request: trial type passive number 30 stim_file /root/experiment/stim/audiocheck.net_sin_1000Hz_-3dBFS_3s.wav"
       ]
      },
      {
       "output_type": "stream",
       "stream": "stdout",
       "text": [
        "\n",
        "Received request: trial type passive number 31 stim_file /root/experiment/stim/audiocheck.net_sin_1000Hz_-3dBFS_3s.wav"
       ]
      },
      {
       "output_type": "stream",
       "stream": "stdout",
       "text": [
        "\n",
        "Received request: trial type passive number 32 stim_file /root/experiment/stim/audiocheck.net_sin_1000Hz_-3dBFS_3s.wav"
       ]
      },
      {
       "output_type": "stream",
       "stream": "stdout",
       "text": [
        "\n",
        "Received request: trial type passive number 33 stim_file /root/experiment/stim/audiocheck.net_sin_1000Hz_-3dBFS_3s.wav"
       ]
      },
      {
       "output_type": "stream",
       "stream": "stdout",
       "text": [
        "\n",
        "Received request: trial type passive number 34 stim_file /root/experiment/stim/audiocheck.net_sin_1000Hz_-3dBFS_3s.wav"
       ]
      },
      {
       "output_type": "stream",
       "stream": "stdout",
       "text": [
        "\n",
        "Received request: trial type passive number 35 stim_file /root/experiment/stim/audiocheck.net_sin_1000Hz_-3dBFS_3s.wav"
       ]
      },
      {
       "output_type": "stream",
       "stream": "stdout",
       "text": [
        "\n",
        "Received request: trial type passive number 36 stim_file /root/experiment/stim/audiocheck.net_sin_1000Hz_-3dBFS_3s.wav"
       ]
      },
      {
       "output_type": "stream",
       "stream": "stdout",
       "text": [
        "\n",
        "Received request: trial type passive number 37 stim_file /root/experiment/stim/audiocheck.net_sin_1000Hz_-3dBFS_3s.wav"
       ]
      },
      {
       "output_type": "stream",
       "stream": "stdout",
       "text": [
        "\n",
        "Received request: trial type passive number 38 stim_file /root/experiment/stim/audiocheck.net_sin_1000Hz_-3dBFS_3s.wav"
       ]
      },
      {
       "output_type": "stream",
       "stream": "stdout",
       "text": [
        "\n",
        "Received request: trial type passive number 39 stim_file /root/experiment/stim/audiocheck.net_sin_1000Hz_-3dBFS_3s.wav"
       ]
      },
      {
       "output_type": "stream",
       "stream": "stdout",
       "text": [
        "\n",
        "Received request: trial type passive number 40 stim_file /root/experiment/stim/audiocheck.net_sin_1000Hz_-3dBFS_3s.wav"
       ]
      },
      {
       "output_type": "stream",
       "stream": "stdout",
       "text": [
        "\n",
        "Received request: trial type passive number 41 stim_file /root/experiment/stim/audiocheck.net_sin_1000Hz_-3dBFS_3s.wav"
       ]
      },
      {
       "output_type": "stream",
       "stream": "stdout",
       "text": [
        "\n",
        "Received request: trial type passive number 42 stim_file /root/experiment/stim/audiocheck.net_sin_1000Hz_-3dBFS_3s.wav"
       ]
      },
      {
       "output_type": "stream",
       "stream": "stdout",
       "text": [
        "\n",
        "Received request: trial type passive number 43 stim_file /root/experiment/stim/audiocheck.net_sin_1000Hz_-3dBFS_3s.wav"
       ]
      },
      {
       "output_type": "stream",
       "stream": "stdout",
       "text": [
        "\n",
        "Received request: trial type passive number 44 stim_file /root/experiment/stim/audiocheck.net_sin_1000Hz_-3dBFS_3s.wav"
       ]
      },
      {
       "output_type": "stream",
       "stream": "stdout",
       "text": [
        "\n",
        "Received request: trial type passive number 45 stim_file /root/experiment/stim/audiocheck.net_sin_1000Hz_-3dBFS_3s.wav"
       ]
      },
      {
       "output_type": "stream",
       "stream": "stdout",
       "text": [
        "\n",
        "Received request: trial type passive number 46 stim_file /root/experiment/stim/audiocheck.net_sin_1000Hz_-3dBFS_3s.wav"
       ]
      },
      {
       "output_type": "stream",
       "stream": "stdout",
       "text": [
        "\n",
        "Received request: trial type passive number 47 stim_file /root/experiment/stim/audiocheck.net_sin_1000Hz_-3dBFS_3s.wav"
       ]
      },
      {
       "output_type": "stream",
       "stream": "stdout",
       "text": [
        "\n",
        "Received request: trial type passive number 48 stim_file /root/experiment/stim/audiocheck.net_sin_1000Hz_-3dBFS_3s.wav"
       ]
      },
      {
       "output_type": "stream",
       "stream": "stdout",
       "text": [
        "\n",
        "Received request: trial type passive number 49 stim_file /root/experiment/stim/audiocheck.net_sin_1000Hz_-3dBFS_3s.wav"
       ]
      },
      {
       "output_type": "stream",
       "stream": "stdout",
       "text": [
        "\n",
        "Received request: trial type passive number 0 stim_file /root/experiment/stim/audiocheck.net_sin_1000Hz_-3dBFS_3s.wav"
       ]
      },
      {
       "output_type": "stream",
       "stream": "stdout",
       "text": [
        "\n",
        "Received request: trial type passive number 1 stim_file /root/experiment/stim/audiocheck.net_sin_1000Hz_-3dBFS_3s.wav"
       ]
      },
      {
       "output_type": "stream",
       "stream": "stdout",
       "text": [
        "\n",
        "Received request: trial type passive number 2 stim_file /root/experiment/stim/audiocheck.net_sin_1000Hz_-3dBFS_3s.wav"
       ]
      },
      {
       "output_type": "stream",
       "stream": "stdout",
       "text": [
        "\n",
        "Received request: trial type passive number 3 stim_file /root/experiment/stim/audiocheck.net_sin_1000Hz_-3dBFS_3s.wav"
       ]
      },
      {
       "output_type": "stream",
       "stream": "stdout",
       "text": [
        "\n",
        "Received request: trial type passive number 4 stim_file /root/experiment/stim/audiocheck.net_sin_1000Hz_-3dBFS_3s.wav"
       ]
      }
     ],
     "prompt_number": "*"
    },
    {
     "cell_type": "code",
     "collapsed": false,
     "input": [
      "pin = \"P8_10\"\n",
      "GPIO.setup(pin, GPIO.OUT)\n"
     ],
     "language": "python",
     "metadata": {},
     "outputs": [],
     "prompt_number": 23
    },
    {
     "cell_type": "code",
     "collapsed": false,
     "input": [
      "print response"
     ],
     "language": "python",
     "metadata": {},
     "outputs": [
      {
       "output_type": "stream",
       "stream": "stdout",
       "text": [
        "played\n"
       ]
      }
     ],
     "prompt_number": 4
    },
    {
     "cell_type": "code",
     "collapsed": false,
     "input": [
      "GPIO.output(pin, GPIO.HIGH)"
     ],
     "language": "python",
     "metadata": {},
     "outputs": [],
     "prompt_number": 24
    },
    {
     "cell_type": "code",
     "collapsed": false,
     "input": [],
     "language": "python",
     "metadata": {},
     "outputs": []
    }
   ],
   "metadata": {}
  }
 ]
}